{
  "nbformat": 4,
  "nbformat_minor": 0,
  "metadata": {
    "colab": {
      "name": "03pandas_api.ipynb",
      "provenance": [],
      "collapsed_sections": []
    },
    "kernelspec": {
      "name": "python3",
      "display_name": "Python 3"
    },
    "language_info": {
      "name": "python"
    }
  },
  "cells": [
    {
      "cell_type": "markdown",
      "metadata": {
        "id": "w9M6HnAlM4iR"
      },
      "source": [
        "# Using APIs for data\n",
        "\n",
        "An API is one way of getting data from a web resource. Typically you get data by forming a URL - the URL is basically your 'question' (**query** or **request**), and the webpage that is delivered to you (the **endpoint**) contains the 'response' with the data, often in JSON format.\n",
        "\n",
        "The [postcodes API](http://api.postcodes.io/), for example, can be queried by putting a postcode (without spaces) at the *end* of this URL:\n",
        "\n",
        "`http://api.postcodes.io/postcodes/`\n",
        "\n",
        "To ask about the postcode B42 2SU, then, you would add it to the end to form the URL:\n",
        "\n",
        "`http://api.postcodes.io/postcodes/b422su`\n",
        "\n",
        "If you go to that URL you will get a bunch of code in **JSON** - this is the data for that postcode. If you want it to look a bit easier to understand use the browser extension [JSONView](https://chrome.google.com/webstore/detail/jsonview/chklaanhfefbnpoihckbnefhakgolnmc?hl=en).\n",
        "\n"
      ]
    },
    {
      "cell_type": "markdown",
      "metadata": {
        "id": "tPCxnOl9aT3Z"
      },
      "source": [
        "## Importing `pandas` to fetch the data from the API\n",
        "\n",
        "To import JSON files we need to import the `pandas` library. This can load data directly from a URL which we will generate to query the API for JSON data."
      ]
    },
    {
      "cell_type": "code",
      "metadata": {
        "id": "uHoTZvQEM1Sz"
      },
      "source": [
        "#import the pandas library and call it 'pd' for the rest of the notebook\n",
        "import pandas as pd"
      ],
      "execution_count": 1,
      "outputs": []
    },
    {
      "cell_type": "markdown",
      "metadata": {
        "id": "79HzyY3zXnyz"
      },
      "source": [
        "## Reading data from an online source\n",
        "\n",
        "The `.read_json()` function from the `pandas` library can be used to import JSON an online source - you just need to use the URL of the file. \n",
        "\n",
        "Below we import JSON [from data.police.uk](https://data.police.uk/docs/method/forces/)"
      ]
    },
    {
      "cell_type": "code",
      "metadata": {
        "colab": {
          "base_uri": "https://localhost:8080/"
        },
        "id": "CAy1PMctXlqx",
        "outputId": "3a8243ca-aa15-4492-f5fe-7731d448ae85"
      },
      "source": [
        "policedata = pd.read_json(\"https://data.police.uk/api/forces\")\n",
        "print(policedata.head())"
      ],
      "execution_count": null,
      "outputs": [
        {
          "output_type": "stream",
          "name": "stdout",
          "text": [
            "                  id                            name\n",
            "0  avon-and-somerset  Avon and Somerset Constabulary\n",
            "1       bedfordshire             Bedfordshire Police\n",
            "2     cambridgeshire     Cambridgeshire Constabulary\n",
            "3           cheshire           Cheshire Constabulary\n",
            "4     city-of-london           City of London Police\n"
          ]
        }
      ]
    },
    {
      "cell_type": "markdown",
      "metadata": {
        "id": "nwUJFEL4c1lY"
      },
      "source": [
        "This particular data 'request' is very simple: the police API [describes it](https://data.police.uk/docs/method/forces/) as:\n",
        "\n",
        "> \"A list of all the police forces available via the API except the British Transport Police, which is excluded from the list returned. Unique force identifiers obtained here are used in requests for force-specific data via other methods.\"\n",
        "\n",
        "The request doesn't require any particularly specific information - just one URL fetches all the data. That's quite unusual, however - you'll notice most APIs require information about the data you want."
      ]
    },
    {
      "cell_type": "markdown",
      "metadata": {
        "id": "pOUIZP7ode-F"
      },
      "source": [
        "## Querying the postcodes API\n",
        "\n",
        "Back to the postcodes API we introduced at the beginning. \n",
        "\n",
        "Let's store the URL that we mentioned in an object in Python - we'll call it `url`:"
      ]
    },
    {
      "cell_type": "code",
      "metadata": {
        "id": "PJXH84KSaSvN"
      },
      "source": [
        "url = \"http://api.postcodes.io/postcodes/b47ap\""
      ],
      "execution_count": 2,
      "outputs": []
    },
    {
      "cell_type": "markdown",
      "metadata": {
        "id": "_0l6_5jMd1lq"
      },
      "source": [
        "Note that this is only a string of characters - it is *not* the contents that can be found *at* that URL. But now that we've stored that URL address, we are going to grab some data from it."
      ]
    },
    {
      "cell_type": "code",
      "metadata": {
        "colab": {
          "base_uri": "https://localhost:8080/"
        },
        "id": "dzTQXWded_mS",
        "outputId": "191a2d62-b621-4c8a-fa70-d60ff5a83388"
      },
      "source": [
        "json = pd.read_json(url)\n",
        "print(json)"
      ],
      "execution_count": 3,
      "outputs": [
        {
          "output_type": "stream",
          "name": "stdout",
          "text": [
            "                            status                                             result\n",
            "admin_county                   200                                               None\n",
            "admin_district                 200                                         Birmingham\n",
            "admin_ward                     200                                           Nechells\n",
            "ccg                            200                        NHS Birmingham and Solihull\n",
            "ced                            200                                               None\n",
            "codes                          200  {'admin_district': 'E08000025', 'admin_county'...\n",
            "country                        200                                            England\n",
            "eastings                       200                                             407842\n",
            "european_electoral_region      200                                      West Midlands\n",
            "incode                         200                                                7AP\n",
            "latitude                       200                                            52.4828\n",
            "longitude                      200                                           -1.88596\n",
            "lsoa                           200                                    Birmingham 050E\n",
            "msoa                           200                                     Birmingham 050\n",
            "nhs_ha                         200                                      West Midlands\n",
            "northings                      200                                             287214\n",
            "nuts                           200                                         Birmingham\n",
            "outcode                        200                                                 B4\n",
            "parish                         200                        Birmingham, unparished area\n",
            "parliamentary_constituency     200                               Birmingham, Ladywood\n",
            "postcode                       200                                             B4 7AP\n",
            "primary_care_trust             200                       Heart of Birmingham Teaching\n",
            "quality                        200                                                  1\n",
            "region                         200                                      West Midlands\n"
          ]
        }
      ]
    },
    {
      "cell_type": "markdown",
      "metadata": {
        "id": "YKkVgy26ePd_"
      },
      "source": [
        "## Drilling into the JSON\n",
        "\n",
        "It's a good idea to have the URL open in a browser at the same time so you can see the structure and work out how to access the bit you're after. Again, you should use Chrome or Firefox with the extension [JSONView](https://chrome.google.com/webstore/detail/jsonview/chklaanhfefbnpoihckbnefhakgolnmc?hl=en) installed, as this makes it a lot easier to understand. (*Tip: hover over any element to see the 'path' to that element in the bottom left corner of the browser*).\n",
        "\n",
        "The JSON itself has a tree-like structure with many different branches. Some parts are actually branches-of-branches. \n",
        "\n",
        "Those branches-of-branches are handled by `pandas` in a couple of different ways by storing them as dictionaries. \n",
        "\n",
        "If we print the contents of that object, you can see those by looking for curly brackets: the `codes` branch, for example, contains the data `{'admin_district': 'E08000025', 'admin_county'...}`\n",
        "\n",
        "Let's try drilling down into the 'codes' part of the data frame to look further:\n"
      ]
    },
    {
      "cell_type": "code",
      "metadata": {
        "colab": {
          "base_uri": "https://localhost:8080/",
          "height": 599
        },
        "id": "NxKTqbarlcE7",
        "outputId": "9d87c276-d3b1-4111-d22c-78aef17e92da"
      },
      "source": [
        "json['codes']"
      ],
      "execution_count": null,
      "outputs": [
        {
          "output_type": "error",
          "ename": "KeyError",
          "evalue": "ignored",
          "traceback": [
            "\u001b[0;31m---------------------------------------------------------------------------\u001b[0m",
            "\u001b[0;31mKeyError\u001b[0m                                  Traceback (most recent call last)",
            "\u001b[0;32m/usr/local/lib/python3.7/dist-packages/pandas/core/indexes/base.py\u001b[0m in \u001b[0;36mget_loc\u001b[0;34m(self, key, method, tolerance)\u001b[0m\n\u001b[1;32m   2897\u001b[0m             \u001b[0;32mtry\u001b[0m\u001b[0;34m:\u001b[0m\u001b[0;34m\u001b[0m\u001b[0;34m\u001b[0m\u001b[0m\n\u001b[0;32m-> 2898\u001b[0;31m                 \u001b[0;32mreturn\u001b[0m \u001b[0mself\u001b[0m\u001b[0;34m.\u001b[0m\u001b[0m_engine\u001b[0m\u001b[0;34m.\u001b[0m\u001b[0mget_loc\u001b[0m\u001b[0;34m(\u001b[0m\u001b[0mcasted_key\u001b[0m\u001b[0;34m)\u001b[0m\u001b[0;34m\u001b[0m\u001b[0;34m\u001b[0m\u001b[0m\n\u001b[0m\u001b[1;32m   2899\u001b[0m             \u001b[0;32mexcept\u001b[0m \u001b[0mKeyError\u001b[0m \u001b[0;32mas\u001b[0m \u001b[0merr\u001b[0m\u001b[0;34m:\u001b[0m\u001b[0;34m\u001b[0m\u001b[0;34m\u001b[0m\u001b[0m\n",
            "\u001b[0;32mpandas/_libs/index.pyx\u001b[0m in \u001b[0;36mpandas._libs.index.IndexEngine.get_loc\u001b[0;34m()\u001b[0m\n",
            "\u001b[0;32mpandas/_libs/index.pyx\u001b[0m in \u001b[0;36mpandas._libs.index.IndexEngine.get_loc\u001b[0;34m()\u001b[0m\n",
            "\u001b[0;32mpandas/_libs/hashtable_class_helper.pxi\u001b[0m in \u001b[0;36mpandas._libs.hashtable.PyObjectHashTable.get_item\u001b[0;34m()\u001b[0m\n",
            "\u001b[0;32mpandas/_libs/hashtable_class_helper.pxi\u001b[0m in \u001b[0;36mpandas._libs.hashtable.PyObjectHashTable.get_item\u001b[0;34m()\u001b[0m\n",
            "\u001b[0;31mKeyError\u001b[0m: 'codes'",
            "\nThe above exception was the direct cause of the following exception:\n",
            "\u001b[0;31mKeyError\u001b[0m                                  Traceback (most recent call last)",
            "\u001b[0;32m<ipython-input-27-b58fcf0a85b6>\u001b[0m in \u001b[0;36m<module>\u001b[0;34m()\u001b[0m\n\u001b[0;32m----> 1\u001b[0;31m \u001b[0mjson\u001b[0m\u001b[0;34m[\u001b[0m\u001b[0;34m'codes'\u001b[0m\u001b[0;34m]\u001b[0m\u001b[0;34m\u001b[0m\u001b[0;34m\u001b[0m\u001b[0m\n\u001b[0m",
            "\u001b[0;32m/usr/local/lib/python3.7/dist-packages/pandas/core/frame.py\u001b[0m in \u001b[0;36m__getitem__\u001b[0;34m(self, key)\u001b[0m\n\u001b[1;32m   2904\u001b[0m             \u001b[0;32mif\u001b[0m \u001b[0mself\u001b[0m\u001b[0;34m.\u001b[0m\u001b[0mcolumns\u001b[0m\u001b[0;34m.\u001b[0m\u001b[0mnlevels\u001b[0m \u001b[0;34m>\u001b[0m \u001b[0;36m1\u001b[0m\u001b[0;34m:\u001b[0m\u001b[0;34m\u001b[0m\u001b[0;34m\u001b[0m\u001b[0m\n\u001b[1;32m   2905\u001b[0m                 \u001b[0;32mreturn\u001b[0m \u001b[0mself\u001b[0m\u001b[0;34m.\u001b[0m\u001b[0m_getitem_multilevel\u001b[0m\u001b[0;34m(\u001b[0m\u001b[0mkey\u001b[0m\u001b[0;34m)\u001b[0m\u001b[0;34m\u001b[0m\u001b[0;34m\u001b[0m\u001b[0m\n\u001b[0;32m-> 2906\u001b[0;31m             \u001b[0mindexer\u001b[0m \u001b[0;34m=\u001b[0m \u001b[0mself\u001b[0m\u001b[0;34m.\u001b[0m\u001b[0mcolumns\u001b[0m\u001b[0;34m.\u001b[0m\u001b[0mget_loc\u001b[0m\u001b[0;34m(\u001b[0m\u001b[0mkey\u001b[0m\u001b[0;34m)\u001b[0m\u001b[0;34m\u001b[0m\u001b[0;34m\u001b[0m\u001b[0m\n\u001b[0m\u001b[1;32m   2907\u001b[0m             \u001b[0;32mif\u001b[0m \u001b[0mis_integer\u001b[0m\u001b[0;34m(\u001b[0m\u001b[0mindexer\u001b[0m\u001b[0;34m)\u001b[0m\u001b[0;34m:\u001b[0m\u001b[0;34m\u001b[0m\u001b[0;34m\u001b[0m\u001b[0m\n\u001b[1;32m   2908\u001b[0m                 \u001b[0mindexer\u001b[0m \u001b[0;34m=\u001b[0m \u001b[0;34m[\u001b[0m\u001b[0mindexer\u001b[0m\u001b[0;34m]\u001b[0m\u001b[0;34m\u001b[0m\u001b[0;34m\u001b[0m\u001b[0m\n",
            "\u001b[0;32m/usr/local/lib/python3.7/dist-packages/pandas/core/indexes/base.py\u001b[0m in \u001b[0;36mget_loc\u001b[0;34m(self, key, method, tolerance)\u001b[0m\n\u001b[1;32m   2898\u001b[0m                 \u001b[0;32mreturn\u001b[0m \u001b[0mself\u001b[0m\u001b[0;34m.\u001b[0m\u001b[0m_engine\u001b[0m\u001b[0;34m.\u001b[0m\u001b[0mget_loc\u001b[0m\u001b[0;34m(\u001b[0m\u001b[0mcasted_key\u001b[0m\u001b[0;34m)\u001b[0m\u001b[0;34m\u001b[0m\u001b[0;34m\u001b[0m\u001b[0m\n\u001b[1;32m   2899\u001b[0m             \u001b[0;32mexcept\u001b[0m \u001b[0mKeyError\u001b[0m \u001b[0;32mas\u001b[0m \u001b[0merr\u001b[0m\u001b[0;34m:\u001b[0m\u001b[0;34m\u001b[0m\u001b[0;34m\u001b[0m\u001b[0m\n\u001b[0;32m-> 2900\u001b[0;31m                 \u001b[0;32mraise\u001b[0m \u001b[0mKeyError\u001b[0m\u001b[0;34m(\u001b[0m\u001b[0mkey\u001b[0m\u001b[0;34m)\u001b[0m \u001b[0;32mfrom\u001b[0m \u001b[0merr\u001b[0m\u001b[0;34m\u001b[0m\u001b[0;34m\u001b[0m\u001b[0m\n\u001b[0m\u001b[1;32m   2901\u001b[0m \u001b[0;34m\u001b[0m\u001b[0m\n\u001b[1;32m   2902\u001b[0m         \u001b[0;32mif\u001b[0m \u001b[0mtolerance\u001b[0m \u001b[0;32mis\u001b[0m \u001b[0;32mnot\u001b[0m \u001b[0;32mNone\u001b[0m\u001b[0;34m:\u001b[0m\u001b[0;34m\u001b[0m\u001b[0;34m\u001b[0m\u001b[0m\n",
            "\u001b[0;31mKeyError\u001b[0m: 'codes'"
          ]
        }
      ]
    },
    {
      "cell_type": "markdown",
      "metadata": {
        "id": "uCUsH3nZlbMT"
      },
      "source": [
        "We get an error, specifically a `KeyError` for 'codes', meaning that it cannot find a key with that name. Why?\n",
        "\n",
        "If you check the page of JSON we grabbed this data from, you will see that actually the first two branches of the JSON data are 'status' and 'result' - the 'codes' branch doesn't come until *within* the 'result' branch.\n",
        "\n",
        "What has happened is that `pandas` has treated those first two branches as the two columns of data. That's why our data has two problems: first, a column full of `200` which we don't need; and secondly, a data structure which is not ideal: what we would like to be column headings are actually at the start of each row.\n",
        "\n",
        "Let's try to drill down into the 'result' branch instead:"
      ]
    },
    {
      "cell_type": "code",
      "metadata": {
        "colab": {
          "base_uri": "https://localhost:8080/"
        },
        "id": "y3u22G7jmR73",
        "outputId": "52be10cd-d35a-4e71-cb11-818650c3a104"
      },
      "source": [
        "print(json['result'])"
      ],
      "execution_count": null,
      "outputs": [
        {
          "output_type": "stream",
          "name": "stdout",
          "text": [
            "admin_county                                                               None\n",
            "admin_district                                                       Birmingham\n",
            "admin_ward                                                             Nechells\n",
            "ccg                                                 NHS Birmingham and Solihull\n",
            "ced                                                                        None\n",
            "codes                         {'admin_district': 'E08000025', 'admin_county'...\n",
            "country                                                                 England\n",
            "eastings                                                                 407842\n",
            "european_electoral_region                                         West Midlands\n",
            "incode                                                                      7AP\n",
            "latitude                                                                52.4828\n",
            "longitude                                                              -1.88596\n",
            "lsoa                                                            Birmingham 050E\n",
            "msoa                                                             Birmingham 050\n",
            "nhs_ha                                                            West Midlands\n",
            "northings                                                                287214\n",
            "nuts                                                                 Birmingham\n",
            "outcode                                                                      B4\n",
            "parish                                              Birmingham, unparished area\n",
            "parliamentary_constituency                                 Birmingham, Ladywood\n",
            "postcode                                                                 B4 7AP\n",
            "primary_care_trust                                 Heart of Birmingham Teaching\n",
            "quality                                                                       1\n",
            "region                                                            West Midlands\n",
            "Name: result, dtype: object\n"
          ]
        }
      ]
    },
    {
      "cell_type": "markdown",
      "metadata": {
        "id": "WxYFW-QrmbAy"
      },
      "source": [
        "Then let's try to go from there to 'codes':"
      ]
    },
    {
      "cell_type": "code",
      "metadata": {
        "colab": {
          "base_uri": "https://localhost:8080/"
        },
        "id": "w4nL4HR0mfFq",
        "outputId": "42f6c950-d9d9-45cf-8c80-63212f499b71"
      },
      "source": [
        "json['result']['codes']"
      ],
      "execution_count": null,
      "outputs": [
        {
          "output_type": "execute_result",
          "data": {
            "text/plain": [
              "{'admin_county': 'E99999999',\n",
              " 'admin_district': 'E08000025',\n",
              " 'admin_ward': 'E05011155',\n",
              " 'ccg': 'E38000220',\n",
              " 'ccg_id': '15E',\n",
              " 'ced': 'E99999999',\n",
              " 'lau2': 'E08000025',\n",
              " 'lsoa': 'E01033561',\n",
              " 'msoa': 'E02001876',\n",
              " 'nuts': 'TLG31',\n",
              " 'parish': 'E43000250',\n",
              " 'parliamentary_constituency': 'E14000564'}"
            ]
          },
          "metadata": {},
          "execution_count": 30
        }
      ]
    },
    {
      "cell_type": "markdown",
      "metadata": {
        "id": "AyE2Jbn8mgHQ"
      },
      "source": [
        "And further still into the CCG code stored in 'ccg':"
      ]
    },
    {
      "cell_type": "code",
      "metadata": {
        "colab": {
          "base_uri": "https://localhost:8080/",
          "height": 36
        },
        "id": "8iJjc1j-e53B",
        "outputId": "fd9f2272-3cd9-4618-92cf-61644f5501db"
      },
      "source": [
        "json['result']['codes']['ccg']"
      ],
      "execution_count": null,
      "outputs": [
        {
          "output_type": "execute_result",
          "data": {
            "application/vnd.google.colaboratory.intrinsic+json": {
              "type": "string"
            },
            "text/plain": [
              "'E38000220'"
            ]
          },
          "metadata": {},
          "execution_count": 15
        }
      ]
    },
    {
      "cell_type": "markdown",
      "metadata": {
        "id": "wDttTKA4mn8j"
      },
      "source": [
        "If we wanted to grab the CCG code for a bunch of postcodes, this is how we might do it:\n",
        "\n",
        "* Loop through the postcodes\n",
        "* Generate a URL by adding that postcode to the end of the 'base' API query\n",
        "* Fetch the JSON generated at that URL\n",
        "* Drill down into the 'results > codes > ccg' branch of that JSON to get the data we need\n",
        "* Add it to a data frame alongside the postcode\n",
        "* Repeat!"
      ]
    },
    {
      "cell_type": "markdown",
      "metadata": {
        "id": "uXpMDU_Bgi6B"
      },
      "source": [
        "## Forming a 'request' for the police data API\n",
        "\n",
        "The [Police API documentation](https://data.police.uk/docs/) has a number of 'methods' that you can use to request data from their API. \n",
        "\n",
        "The '[crimes at location](https://data.police.uk/docs/method/crimes-at-location/)' method allows you to ask for data on crimes based on the location ID, or a latitude and longitude. An example is given for data from February 2017:\n",
        "\n",
        "`https://data.police.uk/api/crimes-at-location?date=2017-02&lat=52.629729&lng=-1.131592`\n",
        "\n",
        "However, that date is now so long ago that the URL doesn't actually work. Instead, change the year to 2021 to see a working example:\n",
        "\n",
        "`https://data.police.uk/api/crimes-at-location?date=2021-02&lat=52.629729&lng=-1.131592`\n",
        "\n",
        "Let's fetch that data."
      ]
    },
    {
      "cell_type": "code",
      "metadata": {
        "colab": {
          "base_uri": "https://localhost:8080/"
        },
        "id": "MJhCvdqrkRoP",
        "outputId": "a93ac659-c39e-4fce-c819-643d0fe23e3f"
      },
      "source": [
        "crimedata = pd.read_json(\"https://data.police.uk/api/crimes-at-location?date=2021-02&lat=52.629729&lng=-1.131592\")\n",
        "print(crimedata)"
      ],
      "execution_count": null,
      "outputs": [
        {
          "output_type": "stream",
          "name": "stdout",
          "text": [
            "        category location_type  ... location_subtype    month\n",
            "0          drugs         Force  ...                   2021-02\n",
            "1  violent-crime         Force  ...                   2021-02\n",
            "\n",
            "[2 rows x 9 columns]\n"
          ]
        }
      ]
    },
    {
      "cell_type": "markdown",
      "metadata": {
        "id": "Q31mbQeknHkN"
      },
      "source": [
        "Now let's try to drill down into it to see the 'location' branch, because we know from the webpage at that URL it contains further sub-branches."
      ]
    },
    {
      "cell_type": "code",
      "metadata": {
        "colab": {
          "base_uri": "https://localhost:8080/"
        },
        "id": "AP9d9vaXkaQV",
        "outputId": "c070ac51-7eb9-478f-e712-e16db756e7ff"
      },
      "source": [
        "print(crimedata['location'])"
      ],
      "execution_count": null,
      "outputs": [
        {
          "output_type": "stream",
          "name": "stdout",
          "text": [
            "0    {'latitude': '52.629909', 'street': {'id': 883...\n",
            "1    {'latitude': '52.629909', 'street': {'id': 883...\n",
            "Name: location, dtype: object\n"
          ]
        }
      ]
    },
    {
      "cell_type": "markdown",
      "metadata": {
        "id": "c7EAWZ4-nPPB"
      },
      "source": [
        "Then we try to drill down further..."
      ]
    },
    {
      "cell_type": "code",
      "metadata": {
        "colab": {
          "base_uri": "https://localhost:8080/",
          "height": 323
        },
        "id": "C451c0Gkk8JN",
        "outputId": "a2b7866b-c07e-4f97-9567-04800c531269"
      },
      "source": [
        "print(crimedata['location']['street'])"
      ],
      "execution_count": null,
      "outputs": [
        {
          "output_type": "error",
          "ename": "KeyError",
          "evalue": "ignored",
          "traceback": [
            "\u001b[0;31m---------------------------------------------------------------------------\u001b[0m",
            "\u001b[0;31mKeyError\u001b[0m                                  Traceback (most recent call last)",
            "\u001b[0;32m<ipython-input-26-971e8b99dbbc>\u001b[0m in \u001b[0;36m<module>\u001b[0;34m()\u001b[0m\n\u001b[0;32m----> 1\u001b[0;31m \u001b[0mprint\u001b[0m\u001b[0;34m(\u001b[0m\u001b[0mcrimedata\u001b[0m\u001b[0;34m[\u001b[0m\u001b[0;34m'location'\u001b[0m\u001b[0;34m]\u001b[0m\u001b[0;34m[\u001b[0m\u001b[0;34m'street'\u001b[0m\u001b[0;34m]\u001b[0m\u001b[0;34m)\u001b[0m\u001b[0;34m\u001b[0m\u001b[0;34m\u001b[0m\u001b[0m\n\u001b[0m",
            "\u001b[0;32m/usr/local/lib/python3.7/dist-packages/pandas/core/series.py\u001b[0m in \u001b[0;36m__getitem__\u001b[0;34m(self, key)\u001b[0m\n\u001b[1;32m    880\u001b[0m \u001b[0;34m\u001b[0m\u001b[0m\n\u001b[1;32m    881\u001b[0m         \u001b[0;32melif\u001b[0m \u001b[0mkey_is_scalar\u001b[0m\u001b[0;34m:\u001b[0m\u001b[0;34m\u001b[0m\u001b[0;34m\u001b[0m\u001b[0m\n\u001b[0;32m--> 882\u001b[0;31m             \u001b[0;32mreturn\u001b[0m \u001b[0mself\u001b[0m\u001b[0;34m.\u001b[0m\u001b[0m_get_value\u001b[0m\u001b[0;34m(\u001b[0m\u001b[0mkey\u001b[0m\u001b[0;34m)\u001b[0m\u001b[0;34m\u001b[0m\u001b[0;34m\u001b[0m\u001b[0m\n\u001b[0m\u001b[1;32m    883\u001b[0m \u001b[0;34m\u001b[0m\u001b[0m\n\u001b[1;32m    884\u001b[0m         \u001b[0;32mif\u001b[0m \u001b[0mis_hashable\u001b[0m\u001b[0;34m(\u001b[0m\u001b[0mkey\u001b[0m\u001b[0;34m)\u001b[0m\u001b[0;34m:\u001b[0m\u001b[0;34m\u001b[0m\u001b[0;34m\u001b[0m\u001b[0m\n",
            "\u001b[0;32m/usr/local/lib/python3.7/dist-packages/pandas/core/series.py\u001b[0m in \u001b[0;36m_get_value\u001b[0;34m(self, label, takeable)\u001b[0m\n\u001b[1;32m    988\u001b[0m \u001b[0;34m\u001b[0m\u001b[0m\n\u001b[1;32m    989\u001b[0m         \u001b[0;31m# Similar to Index.get_value, but we do not fall back to positional\u001b[0m\u001b[0;34m\u001b[0m\u001b[0;34m\u001b[0m\u001b[0;34m\u001b[0m\u001b[0m\n\u001b[0;32m--> 990\u001b[0;31m         \u001b[0mloc\u001b[0m \u001b[0;34m=\u001b[0m \u001b[0mself\u001b[0m\u001b[0;34m.\u001b[0m\u001b[0mindex\u001b[0m\u001b[0;34m.\u001b[0m\u001b[0mget_loc\u001b[0m\u001b[0;34m(\u001b[0m\u001b[0mlabel\u001b[0m\u001b[0;34m)\u001b[0m\u001b[0;34m\u001b[0m\u001b[0;34m\u001b[0m\u001b[0m\n\u001b[0m\u001b[1;32m    991\u001b[0m         \u001b[0;32mreturn\u001b[0m \u001b[0mself\u001b[0m\u001b[0;34m.\u001b[0m\u001b[0mindex\u001b[0m\u001b[0;34m.\u001b[0m\u001b[0m_get_values_for_loc\u001b[0m\u001b[0;34m(\u001b[0m\u001b[0mself\u001b[0m\u001b[0;34m,\u001b[0m \u001b[0mloc\u001b[0m\u001b[0;34m,\u001b[0m \u001b[0mlabel\u001b[0m\u001b[0;34m)\u001b[0m\u001b[0;34m\u001b[0m\u001b[0;34m\u001b[0m\u001b[0m\n\u001b[1;32m    992\u001b[0m \u001b[0;34m\u001b[0m\u001b[0m\n",
            "\u001b[0;32m/usr/local/lib/python3.7/dist-packages/pandas/core/indexes/range.py\u001b[0m in \u001b[0;36mget_loc\u001b[0;34m(self, key, method, tolerance)\u001b[0m\n\u001b[1;32m    356\u001b[0m                 \u001b[0;32mexcept\u001b[0m \u001b[0mValueError\u001b[0m \u001b[0;32mas\u001b[0m \u001b[0merr\u001b[0m\u001b[0;34m:\u001b[0m\u001b[0;34m\u001b[0m\u001b[0;34m\u001b[0m\u001b[0m\n\u001b[1;32m    357\u001b[0m                     \u001b[0;32mraise\u001b[0m \u001b[0mKeyError\u001b[0m\u001b[0;34m(\u001b[0m\u001b[0mkey\u001b[0m\u001b[0;34m)\u001b[0m \u001b[0;32mfrom\u001b[0m \u001b[0merr\u001b[0m\u001b[0;34m\u001b[0m\u001b[0;34m\u001b[0m\u001b[0m\n\u001b[0;32m--> 358\u001b[0;31m             \u001b[0;32mraise\u001b[0m \u001b[0mKeyError\u001b[0m\u001b[0;34m(\u001b[0m\u001b[0mkey\u001b[0m\u001b[0;34m)\u001b[0m\u001b[0;34m\u001b[0m\u001b[0;34m\u001b[0m\u001b[0m\n\u001b[0m\u001b[1;32m    359\u001b[0m         \u001b[0;32mreturn\u001b[0m \u001b[0msuper\u001b[0m\u001b[0;34m(\u001b[0m\u001b[0;34m)\u001b[0m\u001b[0;34m.\u001b[0m\u001b[0mget_loc\u001b[0m\u001b[0;34m(\u001b[0m\u001b[0mkey\u001b[0m\u001b[0;34m,\u001b[0m \u001b[0mmethod\u001b[0m\u001b[0;34m=\u001b[0m\u001b[0mmethod\u001b[0m\u001b[0;34m,\u001b[0m \u001b[0mtolerance\u001b[0m\u001b[0;34m=\u001b[0m\u001b[0mtolerance\u001b[0m\u001b[0;34m)\u001b[0m\u001b[0;34m\u001b[0m\u001b[0;34m\u001b[0m\u001b[0m\n\u001b[1;32m    360\u001b[0m \u001b[0;34m\u001b[0m\u001b[0m\n",
            "\u001b[0;31mKeyError\u001b[0m: 'street'"
          ]
        }
      ]
    },
    {
      "cell_type": "markdown",
      "metadata": {
        "id": "l-DY8zdyk-35"
      },
      "source": [
        "We get an error here - a `KeyError`. Why? Look at the output of `print(crimedata['location'])` - it was two rows, one starting with 0 and another with 1 before the keys appeared. Perhaps we should try an index instead?"
      ]
    },
    {
      "cell_type": "code",
      "metadata": {
        "colab": {
          "base_uri": "https://localhost:8080/"
        },
        "id": "mX7anq-ykfLX",
        "outputId": "0bc75245-185e-455b-f10d-d0d80b40fe74"
      },
      "source": [
        "print(crimedata['location'][0])"
      ],
      "execution_count": null,
      "outputs": [
        {
          "output_type": "stream",
          "name": "stdout",
          "text": [
            "{'latitude': '52.629909', 'street': {'id': 883345, 'name': 'On or near Marquis Street'}, 'longitude': '-1.132073'}\n"
          ]
        }
      ]
    },
    {
      "cell_type": "markdown",
      "metadata": {
        "id": "JFcDA0GanTUf"
      },
      "source": [
        "That seems to work. Now instead of seeing two rows of data we just see the first one, and there are no indices at the start of each line.\n",
        "\n",
        "Can we drill down further into that 'street' branch *for that row* now?"
      ]
    },
    {
      "cell_type": "code",
      "metadata": {
        "colab": {
          "base_uri": "https://localhost:8080/"
        },
        "id": "E4MNxeS5kxQW",
        "outputId": "41118aae-a6f1-44ce-d2c1-60ced0438793"
      },
      "source": [
        "print(crimedata['location'][0]['street'])"
      ],
      "execution_count": null,
      "outputs": [
        {
          "output_type": "stream",
          "name": "stdout",
          "text": [
            "{'id': 883345, 'name': 'On or near Marquis Street'}\n"
          ]
        }
      ]
    },
    {
      "cell_type": "markdown",
      "metadata": {
        "id": "Nj25HCsIncvG"
      },
      "source": [
        "Yes. And drill down once more into the final level of data?"
      ]
    },
    {
      "cell_type": "code",
      "metadata": {
        "colab": {
          "base_uri": "https://localhost:8080/"
        },
        "id": "M5YPbhKyk44J",
        "outputId": "f098b3fb-b2a8-4f40-a119-c96850562dd1"
      },
      "source": [
        "print(crimedata['location'][0]['street']['name'])"
      ],
      "execution_count": null,
      "outputs": [
        {
          "output_type": "stream",
          "name": "stdout",
          "text": [
            "On or near Marquis Street\n"
          ]
        }
      ]
    }
  ]
}