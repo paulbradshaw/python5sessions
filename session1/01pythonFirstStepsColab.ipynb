{
  "nbformat": 4,
  "nbformat_minor": 0,
  "metadata": {
    "anaconda-cloud": {},
    "kernelspec": {
      "display_name": "Python [default]",
      "language": "python",
      "name": "python3"
    },
    "language_info": {
      "codemirror_mode": {
        "name": "ipython",
        "version": 3
      },
      "file_extension": ".py",
      "mimetype": "text/x-python",
      "name": "python",
      "nbconvert_exporter": "python",
      "pygments_lexer": "ipython3",
      "version": "3.5.4"
    },
    "colab": {
      "name": "01pythonFirstStepsColab.ipynb",
      "provenance": [],
      "collapsed_sections": []
    }
  },
  "cells": [
    {
      "cell_type": "markdown",
      "metadata": {
        "id": "VD6F6XSYlQMC"
      },
      "source": [
        "# Introduction to Python \n",
        "\n",
        "This tutorial is intended to get you started with coding in Python. By the end you should:\n",
        "\n",
        "* Be able to use basic commands like `print` to see what the code is doing\n",
        "* Explain coding concepts like variables, loops and if/else tests - and explain how those can be used in journalistic applications like scraping\n",
        "* Identify different types of data: numerical (integers and floats), text (strings), lists and dictionaries\n",
        "\n",
        "Let's get started.\n"
      ]
    },
    {
      "cell_type": "markdown",
      "metadata": {
        "id": "wgg0S1okI49g"
      },
      "source": [
        "## Programming environments\n",
        "\n",
        "To use Python you need to be using a computer on which Python has been installed. There are two ways of doing this:\n",
        "\n",
        "* Use a **web-based environment** which allows you to run Python on a remote computer where it is already installed (also called **server-based**)\n",
        "* Install Python on your own computer (what's called **client-based**). \n",
        "\n",
        "Web-based environments include:\n",
        "\n",
        "* [Google's Colab notebooks](http://colab.research.google.com/), which you can access and share through your own Google Drive account\n",
        "* [Execute Python Online](https://github.com/paulbradshaw/python_demo/blob/master/executepythononline.md)\n",
        "* [Try Jupyter](https://github.com/paulbradshaw/python_demo/blob/master/tryjupyter.md) (a good way to get used to notebooks - but code is stored only temporarily)\n",
        "* [PythonAnywhere](https://github.com/paulbradshaw/python_demo/blob/master/pythonanywhere.md)\n",
        "* [Trinket](https://trinket.io/) (which could be a way to allow people to play with your code as you can embed both code and results in an iframe), and \n",
        "* [Repl.it](https://repl.it/).\n",
        "\n",
        "If you want to run Python \"locally\" (i.e. on your own computer) the easiest way to install Python is to [install Anaconda](https://www.anaconda.com/download/#macos). This not only installs Python but also useful tools like **Jupyter Notebook** (a way of making your code accessible to others - you are reading a notebook right now) and **Spyder** (a coding 'environment' that allows you to see what you're working with, similar to RStudio). [You can find a video tutorial on installing Python and Jupyter Notebook here](https://www.lynda.com/Software-Development-tutorials/Installing-Python-Jupyter-Notebook/576698/605448-4.html). \n",
        "\n"
      ]
    },
    {
      "cell_type": "markdown",
      "metadata": {
        "id": "ySsE-RTFI7a3"
      },
      "source": [
        "# A brief introduction to Google Colab\n",
        "\n",
        "[Google's Colab notebooks](http://colab.research.google.com/) allow you to use Python inside Google Drive. Start there.\n",
        "\n",
        "If you are logged into your Google account when you go to [colab.research.google.com](https://colab.research.google.com) a window will open showing any notebooks, with a **NEW NOTEBOOK** option in the bottom right corner. Click that.\n",
        "\n",
        "A new notebook will be created, with the name 'Untitled0.ipynb'\n",
        "\n",
        "Click on that to rename it. Keep the `.ipynb` extension - this means a Python notebook.\n",
        "\n",
        "A Colab notebook has, broadly, 3 sections:\n",
        "\n",
        "* The top of the screen has your menus: File, Edit, View and so on. \n",
        "* The main part of the screen is the notebook itself: to start with it has an empty code block at the top; and above that you should see a **+ Code** and a **+ Text** button that can be clicked on to create new blocks of code or text. \n",
        "* The left area has three icons: a table of contents button; a 'code snippets' button; and a Files button. Clicking on any of these expands that left hand area to show you more. These will become more useful as you start to edit your notebook and run code.\n",
        "\n",
        "Click inside the empty code block and start typing. Try typing this code:"
      ]
    },
    {
      "cell_type": "code",
      "metadata": {
        "id": "jaxzfIJ4Kzg7",
        "colab": {
          "base_uri": "https://localhost:8080/",
          "height": 34
        },
        "outputId": "0d5b4768-2d61-46e4-aa1d-bacf7d13e1f4"
      },
      "source": [
        "#This is a print statement\n",
        "print(\"Hello World!\")"
      ],
      "execution_count": null,
      "outputs": [
        {
          "output_type": "stream",
          "text": [
            "Hello World!\n"
          ],
          "name": "stdout"
        }
      ]
    },
    {
      "cell_type": "markdown",
      "metadata": {
        "id": "xTWdg0PoK2FD"
      },
      "source": [
        "\n",
        "The first line is a **comment**. Comments start with a hash symbol (`#`) and do not do anything, apart from describe what comes after. They are useful for explaining what the code is doing, both for others and for yourself when you return to it later. \n",
        "\n",
        "They can also be used to turn code 'off' temporarily by 'commenting out' a line of code (the line can then be turned back 'on' by removing the comment, or 'uncommenting').\n",
        "\n",
        "The second line is a **print** command. The word `print` tells Python to *display* anything that comes after it. In this case, a **string** of text: `\"Hello World!\"`\n",
        "\n",
        "If you click the play button (to \"execute\" the code), those two lines of code will run, and that string of text displayed in the output window below."
      ]
    },
    {
      "cell_type": "markdown",
      "metadata": {
        "id": "srQ1vXCtlQMZ"
      },
      "source": [
        "## 'Printing'\n",
        "\n",
        "When a computer runs code, you cannot see what it is doing unless you ask it to show you. \n",
        "\n",
        "In Python, you ask it to show you by using the `print` command. This doesn't actually print things to a physical printer, but instead *displays* information in an area (normally called the **console**: in a notebook that area is immediately under the code block). \n",
        "\n",
        "*Note: some online Python services, such as Execute Python Online, use an earlier version of Python which doesn't require parentheses after `print` but from version 3.0 onwards they need to be included.*"
      ]
    },
    {
      "cell_type": "markdown",
      "metadata": {
        "id": "7Tt4zyoTlQMb"
      },
      "source": [
        "## Variables: storing and manipulating information\n",
        "\n",
        "A variable is a way of storing and manipulating information in programming. In journalism, for example, you will need to store any URLs that you want to scrape, or page numbers that you want to cycle through, or numbers that you want to calculate, or text that you want to search.\n",
        "\n",
        "If you've ever written a spreadsheet formula that uses a cell reference like A2 or C10 then you've already used a form of variable: a formula like `=A2*10` or `=FIND(\"Smith\",A2)` can produce different results depending on the value in A2 - and is more flexible: instead of having to type a new formula each time you want to multiply a number by 10 or find a word, you only have to change one thing: the value in A2.\n",
        "\n",
        "In Python you create a variable by specifying a name for the variable, followed by the `=` operator, and the value that you want to store in that variable.\n",
        "\n",
        "Type two lines to create two different variables:"
      ]
    },
    {
      "cell_type": "code",
      "metadata": {
        "id": "V9PFkcL5lQMc"
      },
      "source": [
        "mynewvariable = \"Paul\"\n",
        "myage = 18"
      ],
      "execution_count": null,
      "outputs": []
    },
    {
      "cell_type": "markdown",
      "metadata": {
        "id": "zJugxcWGlQMh"
      },
      "source": [
        "Now test that the variables have been created by using the `print` command to show the variable in the next line:"
      ]
    },
    {
      "cell_type": "code",
      "metadata": {
        "id": "Eu7FV05elQMj",
        "colab": {
          "base_uri": "https://localhost:8080/",
          "height": 34
        },
        "outputId": "660de734-9c42-450a-e1f5-39e3d5546361"
      },
      "source": [
        "print(mynewvariable)"
      ],
      "execution_count": null,
      "outputs": [
        {
          "output_type": "stream",
          "text": [
            "Paul\n"
          ],
          "name": "stdout"
        }
      ]
    },
    {
      "cell_type": "markdown",
      "metadata": {
        "id": "KsXTH2m5lQMo"
      },
      "source": [
        "The name of the variable can be almost anything - the only exceptions are a few special words which already exist as commands (`print` for example) but if you try to use any of these you will get a warning anyway. \n",
        "\n",
        "A variable name cannot have spaces (use underscores instead).\n",
        "\n",
        "There are different *types* of variable in Python. The main ones to know are:\n",
        "\n",
        "* **Strings** (any text, like \"Hello World\")\n",
        "* **Integers** (whole numbers, like 15)\n",
        "* **Floats** (numbers with decimal places, like 13.0)\n",
        "* **Booleans** (`True`/`False` values)\n",
        "* **Lists** (a series of items. Those items can be numbers, strings, or any of the other types - including dictionaries and lists)\n",
        "* **Dictionaries** (key-value pairs, like \"name\":\"paul\" - typically more than one)\n",
        "\n",
        "Create one of each yourself, like so:"
      ]
    },
    {
      "cell_type": "code",
      "metadata": {
        "id": "CJG7uSuhlQMp"
      },
      "source": [
        "hername = \"Jane\"\n",
        "herage = 18\n",
        "hertemp = 37.5\n",
        "isfemale = True\n",
        "herfriends = [\"Paul\",\"Sarah\",\"Raneem\",\"Alf\"]\n",
        "herassets = {\"house\":90000,\"car\":10000,\"computer\":1000,\"phone\":300}"
      ],
      "execution_count": null,
      "outputs": []
    },
    {
      "cell_type": "markdown",
      "metadata": {
        "id": "vYXuTGS2yeAz"
      },
      "source": [
        "Note the differences between each type of variable: numbers don't use quotation marks, but **strings** do use quotation marks (you can use single or double quotes). **Booleans** must use the word `True` or `False` with the first letter capitalised (`TRUE` or `true` will not work). Colour coding often helps indicate the type of data you have created.\n",
        "\n",
        "**Lists** use square brackets, with a comma between each item. And **dictionaries** use curly brackets, with a comma between each *key-value pair*, and a colon to separate the key and value themselves.\n",
        "\n",
        "## Checking a variable type\n",
        "\n",
        "You can check a variable type by putting the name of the variable inside `type()` like so:"
      ]
    },
    {
      "cell_type": "code",
      "metadata": {
        "colab": {
          "base_uri": "https://localhost:8080/"
        },
        "id": "TcUXZ0GPyemB",
        "outputId": "0936017e-1e85-4ea1-debc-ef126b682754"
      },
      "source": [
        "type(hername)"
      ],
      "execution_count": null,
      "outputs": [
        {
          "output_type": "execute_result",
          "data": {
            "text/plain": [
              "str"
            ]
          },
          "metadata": {
            "tags": []
          },
          "execution_count": 5
        }
      ]
    },
    {
      "cell_type": "code",
      "metadata": {
        "colab": {
          "base_uri": "https://localhost:8080/"
        },
        "id": "wLw41HNCyzYK",
        "outputId": "f4dc9dfb-9530-4fa3-f15e-61984837ee7a"
      },
      "source": [
        "type(herage)"
      ],
      "execution_count": null,
      "outputs": [
        {
          "output_type": "execute_result",
          "data": {
            "text/plain": [
              "int"
            ]
          },
          "metadata": {
            "tags": []
          },
          "execution_count": 6
        }
      ]
    },
    {
      "cell_type": "code",
      "metadata": {
        "colab": {
          "base_uri": "https://localhost:8080/"
        },
        "id": "j_m48WUKyzg_",
        "outputId": "67f2b797-ed6d-4606-e524-8ab0d8bc881f"
      },
      "source": [
        "type(hertemp)"
      ],
      "execution_count": null,
      "outputs": [
        {
          "output_type": "execute_result",
          "data": {
            "text/plain": [
              "float"
            ]
          },
          "metadata": {
            "tags": []
          },
          "execution_count": 7
        }
      ]
    },
    {
      "cell_type": "code",
      "metadata": {
        "colab": {
          "base_uri": "https://localhost:8080/"
        },
        "id": "hqK2mybOyzqP",
        "outputId": "94d2d23d-7780-4a61-83bb-b0fd98e0c118"
      },
      "source": [
        "type(isfemale)"
      ],
      "execution_count": null,
      "outputs": [
        {
          "output_type": "execute_result",
          "data": {
            "text/plain": [
              "bool"
            ]
          },
          "metadata": {
            "tags": []
          },
          "execution_count": 8
        }
      ]
    },
    {
      "cell_type": "code",
      "metadata": {
        "colab": {
          "base_uri": "https://localhost:8080/"
        },
        "id": "YNNRoMkEyz7H",
        "outputId": "00e465b9-5965-4b96-988c-b6b17b6f7a28"
      },
      "source": [
        "type(herfriends)"
      ],
      "execution_count": null,
      "outputs": [
        {
          "output_type": "execute_result",
          "data": {
            "text/plain": [
              "list"
            ]
          },
          "metadata": {
            "tags": []
          },
          "execution_count": 9
        }
      ]
    },
    {
      "cell_type": "code",
      "metadata": {
        "id": "QPuZJ-Cty7t1",
        "colab": {
          "base_uri": "https://localhost:8080/"
        },
        "outputId": "1485c3fe-32cb-4b05-9d69-f7425a486ef1"
      },
      "source": [
        "type(herassets)"
      ],
      "execution_count": null,
      "outputs": [
        {
          "output_type": "execute_result",
          "data": {
            "text/plain": [
              "dict"
            ]
          },
          "metadata": {
            "tags": []
          },
          "execution_count": 10
        }
      ]
    },
    {
      "cell_type": "markdown",
      "metadata": {
        "collapsed": false,
        "scrolled": true,
        "id": "Q039VOswlQMu"
      },
      "source": [
        "\n",
        "\n",
        "### Key-value pairs\n",
        "\n",
        "I should explain what this key-value business is about. The *key* is like a column heading in a spreadsheet: name, age, hometown. The *value* is like the cells underneath that column heading: \"Paul\", 18, \"Birmingham\". \n",
        "\n",
        "Dictionaries are useful in storing data. In a scraper, for example, you might grab one piece of information from a webpage and store it in a dictionary variable against a relevant key, then grab a different piece of information and store that against another key, and so on. If you get into scraping you'll get more experience with this.\n",
        "\n",
        "Note that the list and dictionary can contain either strings or numbers, or both. For example:\n",
        "\n",
        "```python\n",
        "herlastfivescores = [10,20,6,9,14]\n",
        "herbirthdate = {\"year\":2000, \"month\":\"July\", \"date\":27}\n",
        "```\n",
        "\n",
        "You can also have *empty* lists, dictionaries, or strings, like so:\n",
        "\n",
        "```python\n",
        "nothingtoseehere = \"\"\n",
        "fillme = []\n",
        "waitingforsomethingtohappen = {}\n",
        "```\n",
        "\n",
        "Lists and dictionaries can also contain their own lists or dictionaries. When you get lists within lists or dictionaries within dictionaries it can look a bit confusing at first, but you get used to it."
      ]
    },
    {
      "cell_type": "markdown",
      "metadata": {
        "id": "vmMzihLqlQMv"
      },
      "source": [
        "## Changing variables\n",
        "\n",
        "Once created variables can then be used - and changed - by using the name again, like so:"
      ]
    },
    {
      "cell_type": "code",
      "metadata": {
        "id": "aDXC1ErKlQMw",
        "outputId": "db1db727-a197-42a4-85d9-0e1a8febf285"
      },
      "source": [
        "mynewvariable = \"Sarah\"\n",
        "print(mynewvariable)"
      ],
      "execution_count": null,
      "outputs": [
        {
          "output_type": "stream",
          "text": [
            "Sarah\n"
          ],
          "name": "stdout"
        }
      ]
    },
    {
      "cell_type": "markdown",
      "metadata": {
        "id": "fiZP5LRUlQM0"
      },
      "source": [
        "You can change a variable by assigning a new value in the same way:"
      ]
    },
    {
      "cell_type": "markdown",
      "metadata": {
        "id": "fG9jpdMClQM1"
      },
      "source": [
        "And you can even use a variable to update itself:"
      ]
    },
    {
      "cell_type": "code",
      "metadata": {
        "id": "1gZ8ev09lQM3",
        "outputId": "a3e92ac4-0c5b-4033-eae2-6e92b8b0c08f"
      },
      "source": [
        "print(myage)\n",
        "myage = myage+1\n",
        "print(myage)"
      ],
      "execution_count": null,
      "outputs": [
        {
          "output_type": "stream",
          "text": [
            "18\n",
            "19\n"
          ],
          "name": "stdout"
        }
      ]
    },
    {
      "cell_type": "markdown",
      "metadata": {
        "id": "-xo3a86RlQM6"
      },
      "source": [
        "Note that the code to the right of the `=` operator is executed *first*, so in the part `myage+1`, the variable `myage` is 18. 18+1 is 19, and that value is then **assigned** to the `myage` variable, overwriting its previous value of 18."
      ]
    },
    {
      "cell_type": "markdown",
      "metadata": {
        "id": "Rth3zHAylQM7"
      },
      "source": [
        "## Errors and data types\n",
        "\n",
        "Errors are part and parcel of coding. It is a rare piece of code which doesn't generate some sort of error at some point - and solving those errors becomes part of the fun of coding.\n",
        "\n",
        "Typically when you get an error you will also get information that helps you solve it. Here are some that you might get when creating variables...\n",
        "\n",
        "First, if you try to use a word *without* quotation marks, the code will assume that it has a special meaning, like a variable, function or library (more on those below).\n",
        "\n",
        "See what happens, for example, if we try to assign the value `Paula` *without* quotation marks to a variable:"
      ]
    },
    {
      "cell_type": "code",
      "metadata": {
        "id": "gbsKkpbalQM8",
        "outputId": "cd6a6ac4-e506-4c2c-d61f-b46fa8778cdc"
      },
      "source": [
        "hername = Paula"
      ],
      "execution_count": null,
      "outputs": [
        {
          "output_type": "error",
          "ename": "NameError",
          "evalue": "name 'Paula' is not defined",
          "traceback": [
            "\u001b[0;31m---------------------------------------------------------------------------\u001b[0m",
            "\u001b[0;31mNameError\u001b[0m                                 Traceback (most recent call last)",
            "\u001b[0;32m<ipython-input-8-80f239cb018e>\u001b[0m in \u001b[0;36m<module>\u001b[0;34m()\u001b[0m\n\u001b[0;32m----> 1\u001b[0;31m \u001b[0mhername\u001b[0m \u001b[0;34m=\u001b[0m \u001b[0mPaula\u001b[0m\u001b[0;34m\u001b[0m\u001b[0m\n\u001b[0m",
            "\u001b[0;31mNameError\u001b[0m: name 'Paula' is not defined"
          ]
        }
      ]
    },
    {
      "cell_type": "markdown",
      "metadata": {
        "id": "hUJ9xY0BlQNA"
      },
      "source": [
        "The error tells us that `'Paula' is not defined`. In other words, we have not *defined* a function or variable called Paula. That's because it's not a function or variable - it's a string, but we forgot to indicate that by putting it inside quotation marks.\n",
        "\n",
        "Numbers do not need quotation marks because they are, well, numerical. And we want to treat them that way. Sometimes we *might* want to treat numbers as strings - for example if we are putting them into a URL, or adding them to a postcode or similar code. In those cases we would put them in quotation marks. But if want to perform calculations like adding, multiplying, and so on, we don't use quotation marks.\n",
        "\n",
        "If you try to combine a string with a number you will get an error like so:"
      ]
    },
    {
      "cell_type": "code",
      "metadata": {
        "id": "dEYuoNOulQNB",
        "outputId": "aa352179-f9b9-4b57-a4aa-b1dfbbce5038"
      },
      "source": [
        "combiningstuff = hername+herage"
      ],
      "execution_count": null,
      "outputs": [
        {
          "output_type": "error",
          "ename": "TypeError",
          "evalue": "Can't convert 'int' object to str implicitly",
          "traceback": [
            "\u001b[0;31m---------------------------------------------------------------------------\u001b[0m",
            "\u001b[0;31mTypeError\u001b[0m                                 Traceback (most recent call last)",
            "\u001b[0;32m<ipython-input-9-c22129f5b479>\u001b[0m in \u001b[0;36m<module>\u001b[0;34m()\u001b[0m\n\u001b[0;32m----> 1\u001b[0;31m \u001b[0mcombiningstuff\u001b[0m \u001b[0;34m=\u001b[0m \u001b[0mhername\u001b[0m\u001b[0;34m+\u001b[0m\u001b[0mherage\u001b[0m\u001b[0;34m\u001b[0m\u001b[0m\n\u001b[0m",
            "\u001b[0;31mTypeError\u001b[0m: Can't convert 'int' object to str implicitly"
          ]
        }
      ]
    },
    {
      "cell_type": "markdown",
      "metadata": {
        "id": "VodjbEZKlQNF"
      },
      "source": [
        "That error tells you that it cannot convert an `'int'` (integer) to `str` (string) *implicitly*. In other words, without us being *explicit* that we want it to do so. \n",
        "\n",
        "To be explicit, we would have to add an extra instruction to convert that number into a string. That instruction is `str()`: a function that converts numbers to strings. Here it is in action:"
      ]
    },
    {
      "cell_type": "code",
      "metadata": {
        "id": "-ksoRKZElQNF",
        "outputId": "8717dc2e-c658-4427-e82e-da085baa155d"
      },
      "source": [
        "combiningstuff = hername+str(herage)\n",
        "print combiningstuff"
      ],
      "execution_count": null,
      "outputs": [
        {
          "output_type": "stream",
          "text": [
            "Jane18\n"
          ],
          "name": "stdout"
        }
      ]
    },
    {
      "cell_type": "markdown",
      "metadata": {
        "id": "Gu6v3h7WlQNJ"
      },
      "source": [
        "## Loops\n",
        "\n",
        "Loops are a way to perform repetitive actions in code. They are extremely useful for situations involving lists or ranges of numbers: for example you might loop through a list of items and check each one, or save it in a datastore; or loop through a range of numbers and add them to a URL to create a page number.\n",
        "\n",
        "Here is an example:"
      ]
    },
    {
      "cell_type": "code",
      "metadata": {
        "id": "TS-pG4sDlQNK",
        "outputId": "c0cb98dc-56c0-410d-efb1-85ba71e480d8"
      },
      "source": [
        "for i in herfriends:\n",
        "    print(i)"
      ],
      "execution_count": null,
      "outputs": [
        {
          "output_type": "stream",
          "text": [
            "Paul\n",
            "Sarah\n",
            "Raneem\n",
            "Alf\n"
          ],
          "name": "stdout"
        }
      ]
    },
    {
      "cell_type": "markdown",
      "metadata": {
        "id": "FxlHJaB8lQNN"
      },
      "source": [
        "A loop has a number of parts which are worth breaking down:\n",
        "\n",
        "* `for` and `in`\n",
        "* the variable here called `i`\n",
        "* the colon\n",
        "* the indented code after the colon\n",
        "\n",
        "The word `for` indicates that we want to begin looping. What we want to loop *through* is indicated by `in`. So in this case we want to loop through items in the list variable `mynewlist`. I'll come back to `i` in a minute.\n",
        "\n",
        "At the end of this line comes a colon, and that begins an indented section which contains the code we want to be executed for *each* item in that list. In this case the command `print(i)` will run 3 times - once for each of the 3 items in the list.\n",
        "\n",
        "Now what about that `i`?\n",
        "\n",
        "When we loop through a list we need some way to store each item while we're working with it. The word between `for` and `in` is a way of assigning that item to a variable - so `i` is a name for the item the loop is currently working with. The first time the loop runs, `i` is `10` (the first item in the list); the second time, `i` is `20`, and so on. \n",
        "\n",
        "Within the indented code, then, we can use that `i` variable and do things with it, each time the loop runs. In other words, we can do things with *each item* in a list.\n",
        "\n",
        "The choice of `i` is entirely arbitrary: we can use any name we want. It's quite common for people to use `i` in loops because it's short and also represents an 'item' in a 'list', but we can make other choices which are more meaningful. For example, if we wanted to loop through a list of names we might write code like this:"
      ]
    },
    {
      "cell_type": "code",
      "metadata": {
        "id": "TfJzmyjJlQNP",
        "outputId": "dcf033fa-dee7-4bba-9b4a-21a4db04cc8e"
      },
      "source": [
        "usernames = [\"Paul\", \"Sarah\", \"Diane\"]\n",
        "for username in usernames:\n",
        "    print(\"The user is \"+username)"
      ],
      "execution_count": null,
      "outputs": [
        {
          "output_type": "stream",
          "text": [
            "The user is Paul\n",
            "The user is Sarah\n",
            "The user is Diane\n"
          ],
          "name": "stdout"
        }
      ]
    },
    {
      "cell_type": "markdown",
      "metadata": {
        "id": "LaDaJ-7BlQNT"
      },
      "source": [
        "## If/else tests\n",
        "\n",
        "An if/else test in programming allows us to test if something is true or false, and then do different things depending on the answer. Here's an example:"
      ]
    },
    {
      "cell_type": "code",
      "metadata": {
        "id": "QILwjhwVlQNT",
        "outputId": "87c2beda-ce0b-47f9-83a6-46e6ab635bd7"
      },
      "source": [
        "userage = 30\n",
        "if userage > 25:\n",
        "    print(\"The user is over 25\")\n",
        "else:\n",
        "    print(\"The user is 25 or younger\")"
      ],
      "execution_count": null,
      "outputs": [
        {
          "output_type": "stream",
          "text": [
            "The user is over 25\n"
          ],
          "name": "stdout"
        }
      ]
    },
    {
      "cell_type": "markdown",
      "metadata": {
        "id": "Tu0Ick3tlQNX"
      },
      "source": [
        "In the example above we store the number 30 in the variable `userage`. The first `if` test asks if that variable is above 25. Note that it ends in a colon and the indented code after that colon will only run if that test returns `True`.\n",
        "\n",
        "If it does not return `True`, then it ignores the indented code and moves to the next line that begins `else`. Again, this ends in a colon and some indented code, which will now run."
      ]
    },
    {
      "cell_type": "code",
      "metadata": {
        "id": "oTHGqm80lQNY",
        "outputId": "22c2e21f-22ea-46e8-8375-489a06732e92"
      },
      "source": [
        "userage = 21\n",
        "if userage > 25:\n",
        "    print(\"The user is over 25\")\n",
        "else:\n",
        "    print(\"The user is 25 or younger\")"
      ],
      "execution_count": null,
      "outputs": [
        {
          "output_type": "stream",
          "text": [
            "The user is 25 or younger\n"
          ],
          "name": "stdout"
        }
      ]
    },
    {
      "cell_type": "markdown",
      "metadata": {
        "id": "hWrrswoPlQNc"
      },
      "source": [
        "These tests can be very useful in all sorts of contexts. For example you can use it to only run certain code if you know it is going to work (asking for the 5th item in a list, for example, means you may need to test that there are at least 5 items in that list).\n",
        "\n",
        "In addition to `if` and `else` you can insert extra conditions using `elif` (else if) like so:"
      ]
    },
    {
      "cell_type": "code",
      "metadata": {
        "id": "-xMWLwsClQNd",
        "outputId": "43217c3d-f12f-4929-d3ca-cae93e3d2947"
      },
      "source": [
        "userage = 21\n",
        "if userage > 25:\n",
        "    print(\"The user is over 25\")\n",
        "elif userage <18:\n",
        "    print(\"The user is below 18\")\n",
        "else:\n",
        "    print(\"The user is between 18 and 25\")"
      ],
      "execution_count": null,
      "outputs": [
        {
          "output_type": "stream",
          "text": [
            "The user is between 18 and 25\n"
          ],
          "name": "stdout"
        }
      ]
    },
    {
      "cell_type": "markdown",
      "metadata": {
        "id": "0K54a09ilQNh"
      },
      "source": [
        "Because these tests are likely to be used more than once, you may want to store them as a **function** so you don't have to write the same code over and over again."
      ]
    },
    {
      "cell_type": "markdown",
      "metadata": {
        "id": "mcCpBN3XlQNi"
      },
      "source": [
        "## Functions\n",
        "\n",
        "In order to do things with variables, it's likely that we will need **functions** of some sort. These are special words which perform some sort of action, such as calculating an average from a collection of numbers, or the biggest number in that collection, or measuring the numbers of characters in a string, or replacing certain characters.\n",
        "\n",
        "We've already come across one function: `str`. This function converts a number to a string.\n",
        "\n",
        "The function `str` is followed by parentheses containing what it needs to work properly: the object you want it to convert.\n",
        "\n",
        "This is a defining feature of functions: they are always followed by parentheses, and those parentheses contain any *ingredients* that are needed for it to work. Some functions have 1 ingredient, some have 2 or more. A few have none, but they still need the parentheses.\n",
        "\n",
        "The function `len`, for example, will tell you the length of a string. Here we use it to find out how long our variable is:"
      ]
    },
    {
      "cell_type": "code",
      "metadata": {
        "id": "2cJrszWdlQNj",
        "outputId": "25c33025-3e0d-4141-e9c7-5c1d375f12db"
      },
      "source": [
        "len(mynewvariable)"
      ],
      "execution_count": null,
      "outputs": [
        {
          "output_type": "execute_result",
          "data": {
            "text/plain": [
              "5"
            ]
          },
          "metadata": {
            "tags": []
          },
          "execution_count": 10
        }
      ]
    },
    {
      "cell_type": "markdown",
      "metadata": {
        "id": "pkfaXDB-lQNn"
      },
      "source": [
        "Some functions work in different ways with different types of variable. Use `len` with a list, for example, and it will tell you how many *items* are in that list.\n",
        "\n",
        "The function `sum` will add up all numbers in a list. Below we first create a list variable, and then use the function on it:"
      ]
    },
    {
      "cell_type": "code",
      "metadata": {
        "id": "IPHgm5q5lQNo",
        "outputId": "ca201df1-0ce3-4218-e59f-3cc005cfcbe4"
      },
      "source": [
        "mylist = [1,3]\n",
        "sum(mylist)"
      ],
      "execution_count": null,
      "outputs": [
        {
          "output_type": "execute_result",
          "data": {
            "text/plain": [
              "4"
            ]
          },
          "metadata": {
            "tags": []
          },
          "execution_count": 16
        }
      ]
    },
    {
      "cell_type": "markdown",
      "metadata": {
        "id": "d2cZauoClQNu"
      },
      "source": [
        "A list can also refer to variables. Here for example we store the area for a number of countries in appropriately named variables. Then we store those in a *list*. Finally we use `sum` to calculate the total of that list, and print it."
      ]
    },
    {
      "cell_type": "code",
      "metadata": {
        "id": "dnlpPi5FlQNv",
        "outputId": "939d8d25-4396-45a4-81c7-f050f6ea6507"
      },
      "source": [
        "#Is Africa really as big as this: https://twitter.com/simongerman600/status/944535955867881472\n",
        "africa = 30.37\n",
        "#Here are the rest based on quick Google searches\n",
        "usa = 9.834\n",
        "india = 3.287\n",
        "china = 9.597\n",
        "europe = 10.18\n",
        "mexico = 1.964\n",
        "japan = 0.377\n",
        "countrieslist = [usa,india,china,europe,mexico,japan]\n",
        "print(countrieslist)\n",
        "allcountries = sum(countrieslist)\n",
        "print(allcountries)\n",
        "print(africa<allcountries)"
      ],
      "execution_count": null,
      "outputs": [
        {
          "output_type": "stream",
          "text": [
            "[9.834, 3.287, 9.597, 10.18, 1.964, 0.377]\n",
            "35.239\n",
            "True\n"
          ],
          "name": "stdout"
        }
      ]
    },
    {
      "cell_type": "markdown",
      "metadata": {
        "collapsed": true,
        "id": "Ahk0H8iOlQNy"
      },
      "source": [
        "### Creating your own functions\n",
        "\n",
        "Earlier I mentioned how if/else tests might be used over and over again, in which case you may want to save it as a user-defined function. These are functions created by you - the user - and they are created with the command `def` like so:"
      ]
    },
    {
      "cell_type": "code",
      "metadata": {
        "id": "aDiiiMhvlQNz"
      },
      "source": [
        "def myagetest(userage):\n",
        "    if userage > 25:\n",
        "        print(\"The user is over 25\")\n",
        "    elif userage <18:\n",
        "        print(\"The user is below 18\")\n",
        "    else:\n",
        "        print(\"The user is between 18 and 25\")"
      ],
      "execution_count": null,
      "outputs": []
    },
    {
      "cell_type": "markdown",
      "metadata": {
        "id": "c1ywzDhPlQN3"
      },
      "source": [
        "The `def` is short for *define*. It is followed by:\n",
        "\n",
        "* a *name* for your new function so that it can be used later. (When a function is used we talk about **calling** a function)\n",
        "* some *parentheses* inside which... \n",
        "* you name the ingredients it needs to work. Basically you are creating variables. When someone calls the function and specifies any ingredients in the parentheses, those ingredients are assigned to these variables.\n",
        "* a *colon* then, indented after that...\n",
        "* the code that you want to run when the function is *called*\n",
        "\n",
        "If you've specified any ingedients then chances are the code is going to do something with that variable.\n",
        "\n",
        "Once you've **defined** a function like this you call it by using its name like so:"
      ]
    },
    {
      "cell_type": "code",
      "metadata": {
        "id": "LidO2xB5lQN4",
        "outputId": "5c046c2c-d430-47c7-da95-8786b496472b"
      },
      "source": [
        "myagetest(22)"
      ],
      "execution_count": null,
      "outputs": [
        {
          "output_type": "stream",
          "text": [
            "The user is between 18 and 25\n"
          ],
          "name": "stdout"
        }
      ]
    },
    {
      "cell_type": "markdown",
      "metadata": {
        "id": "FnF5yK7nlQN7"
      },
      "source": [
        "What happens here is worth breaking down a little. \n",
        "\n",
        "Firstly, the code looks for a function called `myagetest` - it needs to have been defined *before* this line runs. \n",
        "\n",
        "Secondly, it **passes** the value `22` to that function, as an ingredient - an **argument**.\n",
        "\n",
        "Now we look at the function as we defined it above. In the line `def myagetest(userage):` that ingredient is given the name `userage`. In other words, `22` is stored in a variable called `userage`, which can then be used by the code inside the function. \n",
        "\n",
        "This is what's called a **local variable**. In other words, it only exists within the scope of the function itself. Once the function is finished, the variable no longer exists. \n",
        "\n",
        "That variable is then tested by the code that comes next, and the relevant `print` command is executed.\n",
        "\n",
        "*Note: Python comes with a number of built-in functions, but you can access more functions by importing **libraries**.*"
      ]
    },
    {
      "cell_type": "markdown",
      "metadata": {
        "id": "6qCX13_MlQN8"
      },
      "source": [
        "## Saving your code\n",
        "\n",
        "Try to save your code regularly by pressing CTRL+S or CMD+S. You can also export your notebook by selecting **File > Download .ipynb**. This can then be shared with others on GitHub etc."
      ]
    }
  ]
}