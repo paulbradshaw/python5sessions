{
  "nbformat": 4,
  "nbformat_minor": 0,
  "metadata": {
    "colab": {
      "name": "DatetimeMPexes.ipynb",
      "provenance": [],
      "collapsed_sections": [],
      "toc_visible": true
    },
    "kernelspec": {
      "name": "python3",
      "display_name": "Python 3"
    },
    "language_info": {
      "name": "python"
    }
  },
  "cells": [
    {
      "cell_type": "markdown",
      "metadata": {
        "id": "IoWI7yU8UsJg"
      },
      "source": [
        "# Analysing MPs' expenses data with Python\n",
        "\n",
        "This notebook details a number of techniques for using Python to analyse a dataset. Firstly, we import the `pandas` library to be able to read the CSV of data."
      ]
    },
    {
      "cell_type": "code",
      "metadata": {
        "id": "Am-juxtZ4KXV"
      },
      "source": [
        "#import the pandas library, rename it as pd\n",
        "import pandas as pd"
      ],
      "execution_count": null,
      "outputs": []
    },
    {
      "cell_type": "code",
      "metadata": {
        "id": "c2BBj9lF4d6w"
      },
      "source": [
        "#store the URL - this suggests that it uses an API and we can generate other URLs for other years\n",
        "exes2122 = \"https://www.theipsa.org.uk/api/download?type=individualExpenses&year=21_22\"\n",
        "#read a CSV from that URL\n",
        "exes2122df = pd.read_csv(exes2122)\n",
        "#or you can combine both lines into one, as in this example for the previous year's data\n",
        "exes2021df = pd.read_csv(\"https://www.theipsa.org.uk/api/download?type=individualExpenses&year=20_21\")\n",
        "#or export it all at the\n",
        "pd.read_csv(\"https://www.theipsa.org.uk/api/download?type=individualExpenses&year=18_19\").to_csv(\"exes1819.csv\")"
      ],
      "execution_count": null,
      "outputs": []
    },
    {
      "cell_type": "code",
      "metadata": {
        "id": "tqHhNwMaOvTu"
      },
      "source": [
        "#export second as csv\n",
        "exes2021df.to_csv(\"exes2021df.csv\")"
      ],
      "execution_count": null,
      "outputs": []
    },
    {
      "cell_type": "code",
      "metadata": {
        "id": "KAgFYXnH4p-W",
        "colab": {
          "base_uri": "https://localhost:8080/",
          "height": 233
        },
        "outputId": "d1358f4a-5120-46c9-ec29-a73899246c18"
      },
      "source": [
        "#show the first few rows\n",
        "exes2122df.head(3)"
      ],
      "execution_count": null,
      "outputs": [
        {
          "output_type": "execute_result",
          "data": {
            "text/html": [
              "<div>\n",
              "<style scoped>\n",
              "    .dataframe tbody tr th:only-of-type {\n",
              "        vertical-align: middle;\n",
              "    }\n",
              "\n",
              "    .dataframe tbody tr th {\n",
              "        vertical-align: top;\n",
              "    }\n",
              "\n",
              "    .dataframe thead th {\n",
              "        text-align: right;\n",
              "    }\n",
              "</style>\n",
              "<table border=\"1\" class=\"dataframe\">\n",
              "  <thead>\n",
              "    <tr style=\"text-align: right;\">\n",
              "      <th></th>\n",
              "      <th>memberId</th>\n",
              "      <th>year</th>\n",
              "      <th>date</th>\n",
              "      <th>claimNumber</th>\n",
              "      <th>mpName</th>\n",
              "      <th>mpConstituency</th>\n",
              "      <th>category</th>\n",
              "      <th>expenseType</th>\n",
              "      <th>shortDescription</th>\n",
              "      <th>details</th>\n",
              "      <th>journeyType</th>\n",
              "      <th>journeyFrom</th>\n",
              "      <th>journeyTo</th>\n",
              "      <th>travel</th>\n",
              "      <th>nights</th>\n",
              "      <th>mileage</th>\n",
              "      <th>amountClaimed</th>\n",
              "      <th>amountPaid</th>\n",
              "      <th>amountNotPaid</th>\n",
              "      <th>amountRepaid</th>\n",
              "      <th>status</th>\n",
              "      <th>reasonIfNotPaid</th>\n",
              "      <th>supplyMonth</th>\n",
              "      <th>supplyPeriod</th>\n",
              "    </tr>\n",
              "  </thead>\n",
              "  <tbody>\n",
              "    <tr>\n",
              "      <th>0</th>\n",
              "      <td>4671</td>\n",
              "      <td>21_22</td>\n",
              "      <td>25/02/2021</td>\n",
              "      <td>60077153-1</td>\n",
              "      <td>Afzal Khan</td>\n",
              "      <td>Manchester, Gorton BC</td>\n",
              "      <td>Office Costs</td>\n",
              "      <td>Software &amp; applications</td>\n",
              "      <td>NaN</td>\n",
              "      <td>NaN</td>\n",
              "      <td>NaN</td>\n",
              "      <td>NaN</td>\n",
              "      <td>NaN</td>\n",
              "      <td>NaN</td>\n",
              "      <td>0</td>\n",
              "      <td>0.0</td>\n",
              "      <td>2.79</td>\n",
              "      <td>2.79</td>\n",
              "      <td>0.0</td>\n",
              "      <td>0.0</td>\n",
              "      <td>paid</td>\n",
              "      <td>NaN</td>\n",
              "      <td>NaN</td>\n",
              "      <td>0</td>\n",
              "    </tr>\n",
              "    <tr>\n",
              "      <th>1</th>\n",
              "      <td>4671</td>\n",
              "      <td>21_22</td>\n",
              "      <td>04/03/2021</td>\n",
              "      <td>60079789-16</td>\n",
              "      <td>Afzal Khan</td>\n",
              "      <td>Manchester, Gorton BC</td>\n",
              "      <td>Office Costs</td>\n",
              "      <td>Software &amp; applications</td>\n",
              "      <td>NaN</td>\n",
              "      <td>NaN</td>\n",
              "      <td>NaN</td>\n",
              "      <td>NaN</td>\n",
              "      <td>NaN</td>\n",
              "      <td>NaN</td>\n",
              "      <td>0</td>\n",
              "      <td>0.0</td>\n",
              "      <td>2.79</td>\n",
              "      <td>2.79</td>\n",
              "      <td>0.0</td>\n",
              "      <td>0.0</td>\n",
              "      <td>paid</td>\n",
              "      <td>NaN</td>\n",
              "      <td>NaN</td>\n",
              "      <td>0</td>\n",
              "    </tr>\n",
              "    <tr>\n",
              "      <th>2</th>\n",
              "      <td>1522</td>\n",
              "      <td>21_22</td>\n",
              "      <td>11/05/2021</td>\n",
              "      <td>60085075-2</td>\n",
              "      <td>Adam Holloway</td>\n",
              "      <td>Gravesham CC</td>\n",
              "      <td>MP Travel</td>\n",
              "      <td>Rail</td>\n",
              "      <td>NaN</td>\n",
              "      <td>NaN</td>\n",
              "      <td>London-constituency MP &amp; Staff</td>\n",
              "      <td>NaN</td>\n",
              "      <td>NaN</td>\n",
              "      <td>Standard Return</td>\n",
              "      <td>0</td>\n",
              "      <td>0.0</td>\n",
              "      <td>29.00</td>\n",
              "      <td>29.00</td>\n",
              "      <td>0.0</td>\n",
              "      <td>0.0</td>\n",
              "      <td>paid</td>\n",
              "      <td>NaN</td>\n",
              "      <td>NaN</td>\n",
              "      <td>0</td>\n",
              "    </tr>\n",
              "  </tbody>\n",
              "</table>\n",
              "</div>"
            ],
            "text/plain": [
              "   memberId   year        date  ... reasonIfNotPaid supplyMonth supplyPeriod\n",
              "0      4671  21_22  25/02/2021  ...             NaN         NaN            0\n",
              "1      4671  21_22  04/03/2021  ...             NaN         NaN            0\n",
              "2      1522  21_22  11/05/2021  ...             NaN         NaN            0\n",
              "\n",
              "[3 rows x 24 columns]"
            ]
          },
          "metadata": {},
          "execution_count": 3
        }
      ]
    },
    {
      "cell_type": "markdown",
      "metadata": {
        "id": "FBNLcBTIVFbX"
      },
      "source": [
        "When we check the data types you can see that the 'year' and 'date' columns are not numeric or datetime columns, but just text (`object`)."
      ]
    },
    {
      "cell_type": "code",
      "metadata": {
        "colab": {
          "base_uri": "https://localhost:8080/"
        },
        "id": "FiMkNMkbTlVY",
        "outputId": "638ed081-b212-4251-b860-440694121f9c"
      },
      "source": [
        "#show the data types\n",
        "exes2122df.dtypes"
      ],
      "execution_count": null,
      "outputs": [
        {
          "output_type": "execute_result",
          "data": {
            "text/plain": [
              "memberId              int64\n",
              "year                 object\n",
              "date                 object\n",
              "claimNumber          object\n",
              "mpName               object\n",
              "mpConstituency       object\n",
              "category             object\n",
              "expenseType          object\n",
              "shortDescription     object\n",
              "details             float64\n",
              "journeyType          object\n",
              "journeyFrom         float64\n",
              "journeyTo           float64\n",
              "travel               object\n",
              "nights                int64\n",
              "mileage             float64\n",
              "amountClaimed       float64\n",
              "amountPaid          float64\n",
              "amountNotPaid       float64\n",
              "amountRepaid        float64\n",
              "status               object\n",
              "reasonIfNotPaid      object\n",
              "supplyMonth         float64\n",
              "supplyPeriod          int64\n",
              "dtype: object"
            ]
          },
          "metadata": {},
          "execution_count": 4
        }
      ]
    },
    {
      "cell_type": "markdown",
      "metadata": {
        "id": "q3Rj19JYVOBV"
      },
      "source": [
        "## Dealing with the dates\n",
        "\n",
        "Let's take a look at the first few dates."
      ]
    },
    {
      "cell_type": "code",
      "metadata": {
        "colab": {
          "base_uri": "https://localhost:8080/"
        },
        "id": "utJN6lC7TtP0",
        "outputId": "c100017d-72aa-426c-bf0b-5076a235bb07"
      },
      "source": [
        "#show the first 5 items in the 'date' column\n",
        "exes2122df['date'][:5]"
      ],
      "execution_count": null,
      "outputs": [
        {
          "output_type": "execute_result",
          "data": {
            "text/plain": [
              "0    25/02/2021\n",
              "1    04/03/2021\n",
              "2    11/05/2021\n",
              "3    08/03/2021\n",
              "4    24/03/2021\n",
              "Name: date, dtype: object"
            ]
          },
          "metadata": {},
          "execution_count": 8
        }
      ]
    },
    {
      "cell_type": "markdown",
      "metadata": {
        "id": "vNh0nyWWVZQ0"
      },
      "source": [
        "To convert this into something we can work with *as* dates, we need a library of functions for that - and `datetime` is the best known."
      ]
    },
    {
      "cell_type": "code",
      "metadata": {
        "id": "3NgxDr5nT3gD"
      },
      "source": [
        "#import the datetime class from the datetime module\n",
        "from datetime import datetime"
      ],
      "execution_count": null,
      "outputs": []
    },
    {
      "cell_type": "markdown",
      "metadata": {
        "id": "3-Qo677gVzSy"
      },
      "source": [
        "By way of illustration of what a datetime **object** looks like, we can use the `now()` function to show the current time. Note that this is an array of different values representing the year, month, day, hour, minute, seconds, and microsecond."
      ]
    },
    {
      "cell_type": "code",
      "metadata": {
        "colab": {
          "base_uri": "https://localhost:8080/"
        },
        "id": "NzpHSN2oURuS",
        "outputId": "5592f630-e4bf-470f-e1ce-15bdb6fe360d"
      },
      "source": [
        "#show the current time\n",
        "datetime.now()"
      ],
      "execution_count": null,
      "outputs": [
        {
          "output_type": "execute_result",
          "data": {
            "text/plain": [
              "datetime.datetime(2021, 11, 11, 15, 37, 11, 647962)"
            ]
          },
          "metadata": {},
          "execution_count": 7
        }
      ]
    },
    {
      "cell_type": "markdown",
      "metadata": {
        "id": "Tnl9DGlPWLyn"
      },
      "source": [
        "## Converting a string to a date\n",
        "\n",
        "Our first problem is that the dates are stored as strings. \n",
        "\n",
        "The function `strptime()` converts strings to dates - it needs two ingredients:\n",
        "\n",
        "* The string that you want to convert\n",
        "* A string indicating the *pattern* of the date in question.\n",
        "\n",
        "Here's an example:"
      ]
    },
    {
      "cell_type": "code",
      "metadata": {
        "colab": {
          "base_uri": "https://localhost:8080/"
        },
        "id": "ivwY0r73WXW7",
        "outputId": "886bbc49-af5b-4d91-ddce-f8775375be14"
      },
      "source": [
        "#convert the given string into a date, based on the pattern supplied\n",
        "datetime.strptime('24/03/2021', '%d/%m/%Y')"
      ],
      "execution_count": null,
      "outputs": [
        {
          "output_type": "execute_result",
          "data": {
            "text/plain": [
              "datetime.datetime(2021, 3, 24, 0, 0)"
            ]
          },
          "metadata": {},
          "execution_count": 11
        }
      ]
    },
    {
      "cell_type": "markdown",
      "metadata": {
        "id": "5GPZy2uVY3b8"
      },
      "source": [
        "You can see that the pattern is written in a particular way. The slashes are literal (they literally represent the slashes between the day, month and year) but between those are these letters with the `%` symbol:\n",
        "\n",
        "* `%d` means a two-character 'day'\n",
        "* `%m` means a two-character 'month'\n",
        "* `%Y` means a **four**-character 'year'\n",
        "\n",
        "You can [find a full list of codes in the documentation for datetime](https://docs.python.org/2/library/datetime.html#strftime-and-strptime-behavior) including ways to indicate time zone and microsenconds. \n",
        "\n",
        "Broadly speaking, lowercase letters mean 'short' and uppercase letters mean 'long' - so you would use `%y` to indicate a date string where the year takes up two characters.\n",
        "\n",
        "As well as day, month and year, you can also have `%w` for weekday as a number (from 0-6), `%a` or `%A` for weekday as a name (e.g. Mon or Monday); and `%b` or `%B` for the month as a name (e.g. Jan or January). Hours and seconds are indicated by `%H` and `%S` but a capital `%M` distinguishes 'minutes' from month (`%m`).\n",
        "\n",
        "Here's a more complex example:\n"
      ]
    },
    {
      "cell_type": "code",
      "metadata": {
        "colab": {
          "base_uri": "https://localhost:8080/"
        },
        "id": "M-Mjqm5i2hTl",
        "outputId": "76cc10af-66a2-49b1-e87d-3da7449f3db7"
      },
      "source": [
        "#Here's a complex example, based on how a Twitter scraper records timestamps\n",
        "datetime.strptime('September 18, 2020 at 11:05AM','%B %d, %Y at %I:%M%p')"
      ],
      "execution_count": null,
      "outputs": [
        {
          "output_type": "execute_result",
          "data": {
            "text/plain": [
              "datetime.datetime(2020, 9, 18, 11, 5)"
            ]
          },
          "metadata": {},
          "execution_count": 75
        }
      ]
    },
    {
      "cell_type": "markdown",
      "metadata": {
        "id": "9BYv9MNx_v5L"
      },
      "source": [
        "\n",
        "Note also that in the absence of any information on time, the resulting datetime object simply sets hours and minutes to zero by default - but doesn't specify seconds or microseconds. "
      ]
    },
    {
      "cell_type": "markdown",
      "metadata": {
        "id": "9qUM4vBX_2w8"
      },
      "source": [
        "## Parsing dates rather than describing them\n",
        "\n",
        "Instead of using special characters to describe the pattern of the date, you can use a **parser**"
      ]
    },
    {
      "cell_type": "code",
      "metadata": {
        "id": "3dECI6Xl__o6"
      },
      "source": [
        "#import parse\n",
        "from dateutil.parser import parse"
      ],
      "execution_count": null,
      "outputs": []
    },
    {
      "cell_type": "markdown",
      "metadata": {
        "id": "5Et9bOc9AOOv"
      },
      "source": [
        "The `parse` function from `dateutil` takes one ingredient - a string - and will 'parse' it (guess the pattern based on certain algorithms) to return a datetime."
      ]
    },
    {
      "cell_type": "code",
      "metadata": {
        "colab": {
          "base_uri": "https://localhost:8080/"
        },
        "id": "3WuSH2ZnAELH",
        "outputId": "53b10514-7ebc-4276-e3e4-c2f4c17af08e"
      },
      "source": [
        "#use the parse function to interpret a string as a datetime object\n",
        "parse('September 18, 2020 at 11:05AM')"
      ],
      "execution_count": null,
      "outputs": [
        {
          "output_type": "execute_result",
          "data": {
            "text/plain": [
              "datetime.datetime(2020, 9, 18, 11, 5)"
            ]
          },
          "metadata": {},
          "execution_count": 2
        }
      ]
    },
    {
      "cell_type": "markdown",
      "metadata": {
        "id": "6Ri2CMppbH3e"
      },
      "source": [
        "## Applying to a whole column\n",
        "\n",
        "Converting a single string is straightforward - but what if we want to convert a whole column?"
      ]
    },
    {
      "cell_type": "code",
      "metadata": {
        "colab": {
          "base_uri": "https://localhost:8080/",
          "height": 189
        },
        "id": "eGKgMFHqbEA8",
        "outputId": "dfd15230-9149-4ee2-e90a-a075be16192d"
      },
      "source": [
        "#try to convert the 'date' column\n",
        "datetime.strptime(exes2122df['date'], '%d/%m/%Y')"
      ],
      "execution_count": null,
      "outputs": [
        {
          "output_type": "error",
          "ename": "TypeError",
          "evalue": "ignored",
          "traceback": [
            "\u001b[0;31m---------------------------------------------------------------------------\u001b[0m",
            "\u001b[0;31mTypeError\u001b[0m                                 Traceback (most recent call last)",
            "\u001b[0;32m<ipython-input-12-11b9864a1073>\u001b[0m in \u001b[0;36m<module>\u001b[0;34m()\u001b[0m\n\u001b[1;32m      1\u001b[0m \u001b[0;31m#show the first 5 items in the 'date' column\u001b[0m\u001b[0;34m\u001b[0m\u001b[0;34m\u001b[0m\u001b[0;34m\u001b[0m\u001b[0m\n\u001b[0;32m----> 2\u001b[0;31m \u001b[0mdatetime\u001b[0m\u001b[0;34m.\u001b[0m\u001b[0mstrptime\u001b[0m\u001b[0;34m(\u001b[0m\u001b[0mexes2122df\u001b[0m\u001b[0;34m[\u001b[0m\u001b[0;34m'date'\u001b[0m\u001b[0;34m]\u001b[0m\u001b[0;34m,\u001b[0m \u001b[0;34m'%d/%m/%Y'\u001b[0m\u001b[0;34m)\u001b[0m\u001b[0;34m\u001b[0m\u001b[0;34m\u001b[0m\u001b[0m\n\u001b[0m",
            "\u001b[0;31mTypeError\u001b[0m: strptime() argument 1 must be str, not Series"
          ]
        }
      ]
    },
    {
      "cell_type": "markdown",
      "metadata": {
        "id": "0LoFtDEZbeYc"
      },
      "source": [
        "Nope - we get an error telling us that 'argument 1' (the first item in brackets) must be a string (`str`), not Series, which is what a dataframe column is.\n",
        "\n",
        "Instead, then, we'll need to loop through them, which we can do with a `for` loop in a line of code like this:"
      ]
    },
    {
      "cell_type": "code",
      "metadata": {
        "id": "iRoO6OhtrcPC"
      },
      "source": [
        "#create list to store our clean dates\n",
        "datesclean = []\n",
        "\n",
        "#loop through the dirty dates\n",
        "for i in exes2021df['date']:\n",
        "  print(i)\n",
        "  #clean the date\n",
        "  cleandate = datetime.strptime(i, '%d/%m/%Y')\n",
        "  #add it to the list\n",
        "  datesclean.append(cleandate)\n",
        "\n",
        "datesclean"
      ],
      "execution_count": null,
      "outputs": []
    },
    {
      "cell_type": "code",
      "metadata": {
        "id": "Y0Kt713MsAys"
      },
      "source": [
        "exes2021df['datesclean'] = datesclean"
      ],
      "execution_count": null,
      "outputs": []
    },
    {
      "cell_type": "markdown",
      "metadata": {
        "id": "N37zMmtj6RW3"
      },
      "source": [
        "Here's another way of writing that code but in fewer lines. "
      ]
    },
    {
      "cell_type": "code",
      "metadata": {
        "colab": {
          "base_uri": "https://localhost:8080/"
        },
        "id": "RleoFCrMbnhc",
        "outputId": "2eb72391-fcd6-4e2d-c216-340ba1743b4f"
      },
      "source": [
        "#apply the same code as before, but to each item in the column when looped through\n",
        "datesclean = [datetime.strptime(i, '%d/%m/%Y') for i in exes2122df['date']]\n",
        "#show the first 5\n",
        "datesclean[:5]"
      ],
      "execution_count": null,
      "outputs": [
        {
          "output_type": "execute_result",
          "data": {
            "text/plain": [
              "[datetime.datetime(2021, 2, 25, 0, 0),\n",
              " datetime.datetime(2021, 3, 4, 0, 0),\n",
              " datetime.datetime(2021, 5, 11, 0, 0),\n",
              " datetime.datetime(2021, 3, 8, 0, 0),\n",
              " datetime.datetime(2021, 3, 24, 0, 0)]"
            ]
          },
          "metadata": {},
          "execution_count": 8
        }
      ]
    },
    {
      "cell_type": "markdown",
      "metadata": {
        "id": "qmL6IllBcOjP"
      },
      "source": [
        "And then add back into the dataframe."
      ]
    },
    {
      "cell_type": "code",
      "metadata": {
        "id": "1cHfG3jzcRE_"
      },
      "source": [
        "exes2122df['dateclean'] = datesclean"
      ],
      "execution_count": null,
      "outputs": []
    },
    {
      "cell_type": "markdown",
      "metadata": {
        "id": "AVbATNgjuJYO"
      },
      "source": [
        "## Extracting months or years\n",
        "\n",
        "Now that we have the dates stored as datetime objects, it is easy to extract months or years, etc."
      ]
    },
    {
      "cell_type": "code",
      "metadata": {
        "colab": {
          "base_uri": "https://localhost:8080/"
        },
        "id": "YkrKWW0dsZ47",
        "outputId": "d0f2d376-505e-4ec5-8326-f3a7f110c978"
      },
      "source": [
        "datetime.now().month"
      ],
      "execution_count": null,
      "outputs": [
        {
          "output_type": "execute_result",
          "data": {
            "text/plain": [
              "11"
            ]
          },
          "metadata": {},
          "execution_count": 19
        }
      ]
    },
    {
      "cell_type": "code",
      "metadata": {
        "colab": {
          "base_uri": "https://localhost:8080/"
        },
        "id": "ypG0rcu1uTdN",
        "outputId": "e8febcca-5942-4fd2-c950-f47703120336"
      },
      "source": [
        "#show the first date\n",
        "print(exes2122df['dateclean'][0])\n",
        "#show the month of the first date in the 'dateclean' column\n",
        "print(exes2122df['dateclean'][0].month)\n",
        "#and year\n",
        "print(exes2122df['dateclean'][0].year)\n",
        "#and day\n",
        "print(exes2122df['dateclean'][0].day)"
      ],
      "execution_count": null,
      "outputs": [
        {
          "output_type": "stream",
          "name": "stdout",
          "text": [
            "2021-02-25 00:00:00\n",
            "2\n",
            "2021\n",
            "25\n"
          ]
        }
      ]
    },
    {
      "cell_type": "markdown",
      "metadata": {
        "id": "DnRDpU7PuovZ"
      },
      "source": [
        "Again we can create new columns with those."
      ]
    },
    {
      "cell_type": "code",
      "metadata": {
        "id": "FjWDuH4tuqTW"
      },
      "source": [
        "#create a column and fill it with the years extracted from each date\n",
        "exes2122df['dateyear'] = [i.year for i in exes2122df['dateclean']]\n",
        "#create a column and fill with months\n",
        "exes2122df['datemonth'] = [i.month for i in exes2122df['dateclean']]\n",
        "#and repeat with days\n",
        "exes2122df['dateday'] = [i.day for i in exes2122df['dateclean']]"
      ],
      "execution_count": null,
      "outputs": []
    },
    {
      "cell_type": "markdown",
      "metadata": {
        "id": "x8YjRH1TvIM1"
      },
      "source": [
        "Note that these are integers, not datetime objects."
      ]
    },
    {
      "cell_type": "code",
      "metadata": {
        "colab": {
          "base_uri": "https://localhost:8080/"
        },
        "id": "ERczeSMavDQI",
        "outputId": "480d10d1-a6b4-4be9-8232-7ba656d15e8a"
      },
      "source": [
        "#show last 5 columns\n",
        "exes2122df.dtypes[-5:]"
      ],
      "execution_count": null,
      "outputs": [
        {
          "output_type": "execute_result",
          "data": {
            "text/plain": [
              "dateclean      datetime64[ns]\n",
              "dateyear                int64\n",
              "datemonth               int64\n",
              "dateday                 int64\n",
              "dateweekday             int64\n",
              "dtype: object"
            ]
          },
          "metadata": {},
          "execution_count": 35
        }
      ]
    },
    {
      "cell_type": "markdown",
      "metadata": {
        "id": "c9h-KM7pvruo"
      },
      "source": [
        "The `.weekday()` function is similar but it needs some parentheses. It [returns the weekday as a number between 0 and 6](https://pythontic.com/datetime/date/weekday)."
      ]
    },
    {
      "cell_type": "code",
      "metadata": {
        "id": "NMN-kCIfv1Bo"
      },
      "source": [
        "#create a column of weekdays - note the brackets\n",
        "exes2122df['dateweekday'] = [i.weekday() for i in exes2122df['dateclean']]"
      ],
      "execution_count": null,
      "outputs": []
    },
    {
      "cell_type": "code",
      "metadata": {
        "colab": {
          "base_uri": "https://localhost:8080/"
        },
        "id": "e2otrTCovdzL",
        "outputId": "a16f4485-9c6c-4abb-a5ba-5afc616457f3"
      },
      "source": [
        "#show the first 5\n",
        "exes2122df['dateweekday'][:5]"
      ],
      "execution_count": null,
      "outputs": [
        {
          "output_type": "execute_result",
          "data": {
            "text/plain": [
              "0    3\n",
              "1    3\n",
              "2    1\n",
              "3    0\n",
              "4    2\n",
              "Name: dateweekday, dtype: int64"
            ]
          },
          "metadata": {},
          "execution_count": 38
        }
      ]
    },
    {
      "cell_type": "markdown",
      "metadata": {
        "id": "ch1fP0LcvRus"
      },
      "source": [
        "## Extracting days of the week\n",
        "\n",
        "To extract those days as words, we need [the `calendar` library](https://docs.python.org/3/library/calendar.html)."
      ]
    },
    {
      "cell_type": "code",
      "metadata": {
        "id": "CbZthoacwbit"
      },
      "source": [
        "#bring in the calendar library to convert numbers to strings\n",
        "import calendar"
      ],
      "execution_count": null,
      "outputs": []
    },
    {
      "cell_type": "markdown",
      "metadata": {
        "id": "1-j-fJMMxLB5"
      },
      "source": [
        "...specifically `day_name`, which is a sort-of-list, that corresponds to the numbers used to indicate weekdays by `datetime`."
      ]
    },
    {
      "cell_type": "code",
      "metadata": {
        "colab": {
          "base_uri": "https://localhost:8080/"
        },
        "id": "5L7ODl7SwdOj",
        "outputId": "f90313dc-14b5-427b-8112-9eba621638b2"
      },
      "source": [
        "#Monday is represented by a zero\n",
        "calendar.day_name[0:]"
      ],
      "execution_count": null,
      "outputs": [
        {
          "output_type": "execute_result",
          "data": {
            "text/plain": [
              "['Monday', 'Tuesday', 'Wednesday', 'Thursday', 'Friday', 'Saturday', 'Sunday']"
            ]
          },
          "metadata": {},
          "execution_count": 49
        }
      ]
    },
    {
      "cell_type": "markdown",
      "metadata": {
        "id": "9VguaKChxsv5"
      },
      "source": [
        "So if we use the output of the `weekday()` function as the *index* for `day_name` you get:"
      ]
    },
    {
      "cell_type": "code",
      "metadata": {
        "colab": {
          "base_uri": "https://localhost:8080/",
          "height": 54
        },
        "id": "1a6QJNLfxRY2",
        "outputId": "5c041ea6-64cb-4d70-eecc-a348018283f0"
      },
      "source": [
        "#store the first date\n",
        "firstdate = exes2122df['dateclean'][0]\n",
        "#print it\n",
        "print(firstdate)\n",
        "#extract the weekday, and then convert that to the day name\n",
        "calendar.day_name[datetime.weekday(firstdate)]"
      ],
      "execution_count": null,
      "outputs": [
        {
          "output_type": "stream",
          "name": "stdout",
          "text": [
            "2021-02-25 00:00:00\n"
          ]
        },
        {
          "output_type": "execute_result",
          "data": {
            "application/vnd.google.colaboratory.intrinsic+json": {
              "type": "string"
            },
            "text/plain": [
              "'Thursday'"
            ]
          },
          "metadata": {},
          "execution_count": 51
        }
      ]
    },
    {
      "cell_type": "markdown",
      "metadata": {
        "id": "ZMsOYLtKyGnF"
      },
      "source": [
        "We've already got a column of weekday integers, which we can use to create another column"
      ]
    },
    {
      "cell_type": "code",
      "metadata": {
        "colab": {
          "base_uri": "https://localhost:8080/"
        },
        "id": "EQREC4KOyLFL",
        "outputId": "40a7a6fb-4894-430d-8865-9ed68d0f8914"
      },
      "source": [
        "#create a column to store the results of using day_name on the dateweekday column\n",
        "exes2122df['weekdayname'] = [calendar.day_name[i] for i in exes2122df['dateweekday']]\n",
        "#show the first 5\n",
        "exes2122df['weekdayname'][:5]"
      ],
      "execution_count": null,
      "outputs": [
        {
          "output_type": "execute_result",
          "data": {
            "text/plain": [
              "0     Thursday\n",
              "1     Thursday\n",
              "2      Tuesday\n",
              "3       Monday\n",
              "4    Wednesday\n",
              "Name: weekdayname, dtype: object"
            ]
          },
          "metadata": {},
          "execution_count": 52
        }
      ]
    },
    {
      "cell_type": "markdown",
      "metadata": {
        "id": "bphALkkZyo4t"
      },
      "source": [
        "Turns out Tuesday is the most popular day for submitting expenses."
      ]
    },
    {
      "cell_type": "code",
      "metadata": {
        "colab": {
          "base_uri": "https://localhost:8080/"
        },
        "id": "cPEyjkqvycRE",
        "outputId": "018ad436-16f4-49f6-d04d-f633ac458c72"
      },
      "source": [
        "exes2122df['weekdayname'].value_counts()"
      ],
      "execution_count": null,
      "outputs": [
        {
          "output_type": "execute_result",
          "data": {
            "text/plain": [
              "Tuesday      3716\n",
              "Thursday     3158\n",
              "Wednesday    3152\n",
              "Monday       2941\n",
              "Friday       2464\n",
              "Sunday        870\n",
              "Saturday      757\n",
              "Name: weekdayname, dtype: int64"
            ]
          },
          "metadata": {},
          "execution_count": 58
        }
      ]
    },
    {
      "cell_type": "markdown",
      "metadata": {
        "id": "AETA1pEHy0Gh"
      },
      "source": [
        "## Extracting week of the year\n",
        "\n",
        "What about the most common time of the year for submitting expenses?\n",
        "\n",
        "We can use the `.isocalendar()` function to extract that. "
      ]
    },
    {
      "cell_type": "code",
      "metadata": {
        "colab": {
          "base_uri": "https://localhost:8080/"
        },
        "id": "Xal9yZWSy5Qt",
        "outputId": "7879e455-a97f-4058-e73b-ff401569777c"
      },
      "source": [
        "#print the first date\n",
        "print(exes2122df['dateclean'][0])\n",
        "#now print the result of using the isocalendar function on it\n",
        "print(exes2122df['dateclean'][0].isocalendar())"
      ],
      "execution_count": null,
      "outputs": [
        {
          "output_type": "stream",
          "name": "stdout",
          "text": [
            "2021-02-25 00:00:00\n",
            "(2021, 8, 4)\n"
          ]
        }
      ]
    },
    {
      "cell_type": "markdown",
      "metadata": {
        "id": "93j2ZPiOzP_B"
      },
      "source": [
        "The output here contains 3 pieces of information: the year, the week of the year, and the day (`isocalendar()` starts counting from 1, so 4 means Thursday here)\n",
        "\n",
        "We can access the week by specifying an index after `isocalendar()` like so:"
      ]
    },
    {
      "cell_type": "code",
      "metadata": {
        "colab": {
          "base_uri": "https://localhost:8080/"
        },
        "id": "7XHxUHtSzc54",
        "outputId": "32b6dcc1-f9f7-44d0-9459-25a8afeebcb2"
      },
      "source": [
        "#print just the second - index 1 - item from isocalendar's output\n",
        "print(exes2122df['dateclean'][0].isocalendar()[1])"
      ],
      "execution_count": null,
      "outputs": [
        {
          "output_type": "stream",
          "name": "stdout",
          "text": [
            "8\n"
          ]
        }
      ]
    },
    {
      "cell_type": "code",
      "metadata": {
        "colab": {
          "base_uri": "https://localhost:8080/"
        },
        "id": "n10K2vQyzrlH",
        "outputId": "b5afc5ee-a756-42bf-adec-108e744880f6"
      },
      "source": [
        "#extract the week numbers and create a new column with it\n",
        "exes2122df['weeknum'] = [i.isocalendar()[1] for i in exes2122df['dateclean']]\n",
        "#show the first 5\n",
        "exes2122df['weeknum'][:5]"
      ],
      "execution_count": null,
      "outputs": [
        {
          "output_type": "execute_result",
          "data": {
            "text/plain": [
              "0     8\n",
              "1     9\n",
              "2    19\n",
              "3    10\n",
              "4    12\n",
              "Name: weeknum, dtype: int64"
            ]
          },
          "metadata": {},
          "execution_count": 64
        }
      ]
    },
    {
      "cell_type": "code",
      "metadata": {
        "colab": {
          "base_uri": "https://localhost:8080/"
        },
        "id": "jdUHdkGQz65s",
        "outputId": "91cc6541-c125-42f0-98ae-ed2603d0f713"
      },
      "source": [
        "#count how many times each value appears and show the first few results\n",
        "exes2122df['weeknum'].value_counts().head()"
      ],
      "execution_count": null,
      "outputs": [
        {
          "output_type": "execute_result",
          "data": {
            "text/plain": [
              "15    1877\n",
              "17    1783\n",
              "16    1780\n",
              "14    1693\n",
              "13    1501\n",
              "Name: weeknum, dtype: int64"
            ]
          },
          "metadata": {},
          "execution_count": 66
        }
      ]
    },
    {
      "cell_type": "markdown",
      "metadata": {
        "id": "mYd2_eIt0AYL"
      },
      "source": [
        "Week 15 was the most popular week - not by much, but all the top five are from the same time of the year: the end of the financial year.\n",
        "\n",
        "What about the least popular weeks? Perhaps these are when Parliament is in recess?"
      ]
    },
    {
      "cell_type": "code",
      "metadata": {
        "colab": {
          "base_uri": "https://localhost:8080/"
        },
        "id": "TwmoKUYi0fBT",
        "outputId": "e8b3e418-a15a-43c2-b105-3cdbc8dcf513"
      },
      "source": [
        "#count how many times each value appears and show the first few results\n",
        "exes2122df['weeknum'].value_counts().tail(10)"
      ],
      "execution_count": null,
      "outputs": [
        {
          "output_type": "execute_result",
          "data": {
            "text/plain": [
              "46    2\n",
              "25    2\n",
              "37    1\n",
              "28    1\n",
              "31    1\n",
              "35    1\n",
              "23    1\n",
              "27    1\n",
              "40    1\n",
              "26    1\n",
              "Name: weeknum, dtype: int64"
            ]
          },
          "metadata": {},
          "execution_count": 69
        }
      ]
    },
    {
      "cell_type": "code",
      "metadata": {
        "colab": {
          "base_uri": "https://localhost:8080/"
        },
        "id": "Ek7D1ySE4eJf",
        "outputId": "872bd3c1-f791-4148-c592-21bf83ccf7db"
      },
      "source": [
        "#Get an overview of one column\n",
        "exes2122df['category'].value_counts()"
      ],
      "execution_count": null,
      "outputs": [
        {
          "output_type": "execute_result",
          "data": {
            "text/plain": [
              "Office Costs        9217\n",
              "MP Travel           4432\n",
              "Accommodation       1723\n",
              "Staff Travel        1038\n",
              "Staffing             498\n",
              "Dependant Travel     112\n",
              "Winding Up            22\n",
              "Miscellaneous         16\n",
              "Name: category, dtype: int64"
            ]
          },
          "metadata": {},
          "execution_count": 87
        }
      ]
    },
    {
      "cell_type": "code",
      "metadata": {
        "colab": {
          "base_uri": "https://localhost:8080/",
          "height": 1000
        },
        "id": "YCQRYNJl3KBf",
        "outputId": "b995bdd3-6d5f-4774-df74-9f01fc15908e"
      },
      "source": [
        "#filter to one category in that column\n",
        "#https://stackoverflow.com/questions/41119623/pandas-pivot-table-sort-values-by-columns\n",
        "exes2122df[exes2122df['category']=='MP Travel'].pivot_table(index='weeknum', \n",
        "                       values='memberId', \n",
        "                       aggfunc='count').sort_values(by='memberId', \n",
        "                                                    ascending=False)"
      ],
      "execution_count": null,
      "outputs": [
        {
          "output_type": "execute_result",
          "data": {
            "text/html": [
              "<div>\n",
              "<style scoped>\n",
              "    .dataframe tbody tr th:only-of-type {\n",
              "        vertical-align: middle;\n",
              "    }\n",
              "\n",
              "    .dataframe tbody tr th {\n",
              "        vertical-align: top;\n",
              "    }\n",
              "\n",
              "    .dataframe thead th {\n",
              "        text-align: right;\n",
              "    }\n",
              "</style>\n",
              "<table border=\"1\" class=\"dataframe\">\n",
              "  <thead>\n",
              "    <tr style=\"text-align: right;\">\n",
              "      <th></th>\n",
              "      <th>memberId</th>\n",
              "    </tr>\n",
              "    <tr>\n",
              "      <th>weeknum</th>\n",
              "      <th></th>\n",
              "    </tr>\n",
              "  </thead>\n",
              "  <tbody>\n",
              "    <tr>\n",
              "      <th>15</th>\n",
              "      <td>628</td>\n",
              "    </tr>\n",
              "    <tr>\n",
              "      <th>16</th>\n",
              "      <td>626</td>\n",
              "    </tr>\n",
              "    <tr>\n",
              "      <th>17</th>\n",
              "      <td>494</td>\n",
              "    </tr>\n",
              "    <tr>\n",
              "      <th>19</th>\n",
              "      <td>393</td>\n",
              "    </tr>\n",
              "    <tr>\n",
              "      <th>20</th>\n",
              "      <td>325</td>\n",
              "    </tr>\n",
              "    <tr>\n",
              "      <th>12</th>\n",
              "      <td>285</td>\n",
              "    </tr>\n",
              "    <tr>\n",
              "      <th>11</th>\n",
              "      <td>270</td>\n",
              "    </tr>\n",
              "    <tr>\n",
              "      <th>14</th>\n",
              "      <td>253</td>\n",
              "    </tr>\n",
              "    <tr>\n",
              "      <th>10</th>\n",
              "      <td>227</td>\n",
              "    </tr>\n",
              "    <tr>\n",
              "      <th>9</th>\n",
              "      <td>208</td>\n",
              "    </tr>\n",
              "    <tr>\n",
              "      <th>13</th>\n",
              "      <td>178</td>\n",
              "    </tr>\n",
              "    <tr>\n",
              "      <th>18</th>\n",
              "      <td>169</td>\n",
              "    </tr>\n",
              "    <tr>\n",
              "      <th>21</th>\n",
              "      <td>139</td>\n",
              "    </tr>\n",
              "    <tr>\n",
              "      <th>8</th>\n",
              "      <td>59</td>\n",
              "    </tr>\n",
              "    <tr>\n",
              "      <th>6</th>\n",
              "      <td>30</td>\n",
              "    </tr>\n",
              "    <tr>\n",
              "      <th>7</th>\n",
              "      <td>28</td>\n",
              "    </tr>\n",
              "    <tr>\n",
              "      <th>5</th>\n",
              "      <td>26</td>\n",
              "    </tr>\n",
              "    <tr>\n",
              "      <th>2</th>\n",
              "      <td>14</td>\n",
              "    </tr>\n",
              "    <tr>\n",
              "      <th>1</th>\n",
              "      <td>12</td>\n",
              "    </tr>\n",
              "    <tr>\n",
              "      <th>4</th>\n",
              "      <td>11</td>\n",
              "    </tr>\n",
              "    <tr>\n",
              "      <th>3</th>\n",
              "      <td>11</td>\n",
              "    </tr>\n",
              "    <tr>\n",
              "      <th>49</th>\n",
              "      <td>7</td>\n",
              "    </tr>\n",
              "    <tr>\n",
              "      <th>50</th>\n",
              "      <td>6</td>\n",
              "    </tr>\n",
              "    <tr>\n",
              "      <th>51</th>\n",
              "      <td>6</td>\n",
              "    </tr>\n",
              "    <tr>\n",
              "      <th>22</th>\n",
              "      <td>4</td>\n",
              "    </tr>\n",
              "    <tr>\n",
              "      <th>42</th>\n",
              "      <td>4</td>\n",
              "    </tr>\n",
              "    <tr>\n",
              "      <th>43</th>\n",
              "      <td>4</td>\n",
              "    </tr>\n",
              "    <tr>\n",
              "      <th>47</th>\n",
              "      <td>4</td>\n",
              "    </tr>\n",
              "    <tr>\n",
              "      <th>36</th>\n",
              "      <td>2</td>\n",
              "    </tr>\n",
              "    <tr>\n",
              "      <th>38</th>\n",
              "      <td>2</td>\n",
              "    </tr>\n",
              "    <tr>\n",
              "      <th>41</th>\n",
              "      <td>2</td>\n",
              "    </tr>\n",
              "    <tr>\n",
              "      <th>53</th>\n",
              "      <td>2</td>\n",
              "    </tr>\n",
              "    <tr>\n",
              "      <th>27</th>\n",
              "      <td>1</td>\n",
              "    </tr>\n",
              "    <tr>\n",
              "      <th>37</th>\n",
              "      <td>1</td>\n",
              "    </tr>\n",
              "    <tr>\n",
              "      <th>45</th>\n",
              "      <td>1</td>\n",
              "    </tr>\n",
              "  </tbody>\n",
              "</table>\n",
              "</div>"
            ],
            "text/plain": [
              "         memberId\n",
              "weeknum          \n",
              "15            628\n",
              "16            626\n",
              "17            494\n",
              "19            393\n",
              "20            325\n",
              "12            285\n",
              "11            270\n",
              "14            253\n",
              "10            227\n",
              "9             208\n",
              "13            178\n",
              "18            169\n",
              "21            139\n",
              "8              59\n",
              "6              30\n",
              "7              28\n",
              "5              26\n",
              "2              14\n",
              "1              12\n",
              "4              11\n",
              "3              11\n",
              "49              7\n",
              "50              6\n",
              "51              6\n",
              "22              4\n",
              "42              4\n",
              "43              4\n",
              "47              4\n",
              "36              2\n",
              "38              2\n",
              "41              2\n",
              "53              2\n",
              "27              1\n",
              "37              1\n",
              "45              1"
            ]
          },
          "metadata": {},
          "execution_count": 86
        }
      ]
    },
    {
      "cell_type": "markdown",
      "metadata": {
        "id": "eCRxmL1eAnGN"
      },
      "source": [
        "## Calculating time elapsed with `timedelta`\n",
        "\n",
        "One of the reasons we want dates to be stored as dates rather than strings is to be able to perform calculations with them, like calculating the time elapsed between two dates. \n",
        "\n",
        "Let's create a column for that. First, let's test the idea with one date and today's date."
      ]
    },
    {
      "cell_type": "code",
      "metadata": {
        "id": "2BqSucnT3bda",
        "colab": {
          "base_uri": "https://localhost:8080/"
        },
        "outputId": "85b7c10b-8e55-41cc-8d42-72dc0661c1cc"
      },
      "source": [
        "#print today's date\n",
        "print(datetime.now())\n",
        "#print the first date in the column\n",
        "print(exes2122df['dateclean'][0])\n",
        "#subtract one from the other\n",
        "timesincethen = datetime.now() - exes2122df['dateclean'][0]\n",
        "#print the results of \n",
        "print(timesincethen)"
      ],
      "execution_count": null,
      "outputs": [
        {
          "output_type": "stream",
          "name": "stdout",
          "text": [
            "2021-10-20 18:47:04.137400\n",
            "2021-02-25 00:00:00\n",
            "237 days 18:47:04.142209\n"
          ]
        }
      ]
    },
    {
      "cell_type": "markdown",
      "metadata": {
        "id": "0KYr1FeXB1VF"
      },
      "source": [
        "Here's what that object looks like without a print command"
      ]
    },
    {
      "cell_type": "code",
      "metadata": {
        "colab": {
          "base_uri": "https://localhost:8080/"
        },
        "id": "O2clvxl0B5NI",
        "outputId": "8a7c025e-da60-4e22-8fe6-d4b388c32bc2"
      },
      "source": [
        "timesincethen"
      ],
      "execution_count": null,
      "outputs": [
        {
          "output_type": "execute_result",
          "data": {
            "text/plain": [
              "Timedelta('237 days 18:47:04.142209')"
            ]
          },
          "metadata": {},
          "execution_count": 18
        }
      ]
    },
    {
      "cell_type": "markdown",
      "metadata": {
        "id": "1gUcUaplCB3f"
      },
      "source": [
        "This is a `timedelta` object. It is used to represent a **period of time** - it is different to a `datetime` object which is used to represent a specific **point in time**.\n",
        "\n",
        "Now let's create that column by repeating the calculation for all claim dates."
      ]
    },
    {
      "cell_type": "code",
      "metadata": {
        "colab": {
          "base_uri": "https://localhost:8080/"
        },
        "id": "eoI30jS7CUZV",
        "outputId": "ab9a4f10-84a0-4f70-ace2-61559f323e73"
      },
      "source": [
        "#calculate the time elapsed between each claim and now and create a column for that data\n",
        "exes2122df['ageofclaim'] = [datetime.now() - i for i in exes2122df['dateclean']]\n",
        "#check the first few results\n",
        "exes2122df['ageofclaim'][:5]"
      ],
      "execution_count": null,
      "outputs": [
        {
          "output_type": "execute_result",
          "data": {
            "text/plain": [
              "0   237 days 18:50:17.601550\n",
              "1   230 days 18:50:17.601659\n",
              "2   162 days 18:50:17.601679\n",
              "3   226 days 18:50:17.601694\n",
              "4   210 days 18:50:17.601722\n",
              "Name: ageofclaim, dtype: timedelta64[ns]"
            ]
          },
          "metadata": {},
          "execution_count": 20
        }
      ]
    },
    {
      "cell_type": "markdown",
      "metadata": {
        "id": "9c7CwTkcC413"
      },
      "source": [
        "Once we've created those objects we can identify the oldest and most recent claims."
      ]
    },
    {
      "cell_type": "code",
      "metadata": {
        "colab": {
          "base_uri": "https://localhost:8080/"
        },
        "id": "6C1w7_bnCwDt",
        "outputId": "c792dba0-092d-4287-bad5-039365dd0eeb"
      },
      "source": [
        "#what is the oldest claim?\n",
        "exes2122df['ageofclaim'].max()"
      ],
      "execution_count": null,
      "outputs": [
        {
          "output_type": "execute_result",
          "data": {
            "text/plain": [
              "Timedelta('933 days 18:50:17.792636')"
            ]
          },
          "metadata": {},
          "execution_count": 21
        }
      ]
    },
    {
      "cell_type": "code",
      "metadata": {
        "colab": {
          "base_uri": "https://localhost:8080/"
        },
        "id": "c94NSbpcC1ul",
        "outputId": "55b007aa-f387-4a0b-a744-cabaef8a673f"
      },
      "source": [
        "#what is the most recent claim?\n",
        "exes2122df['ageofclaim'].min()"
      ],
      "execution_count": null,
      "outputs": [
        {
          "output_type": "execute_result",
          "data": {
            "text/plain": [
              "Timedelta('126 days 18:50:17.697271')"
            ]
          },
          "metadata": {},
          "execution_count": 22
        }
      ]
    },
    {
      "cell_type": "markdown",
      "metadata": {
        "id": "4mabWi01DNny"
      },
      "source": [
        "We can also do that with datetime objects - but notice that `max` and `min` create the opposite results: the oldest date is the smallest because dates are stored as the amount of time since a certain point (typically Jan 1 1900), and the most recent date is the largest number."
      ]
    },
    {
      "cell_type": "code",
      "metadata": {
        "colab": {
          "base_uri": "https://localhost:8080/"
        },
        "id": "pzMsie9nDIdC",
        "outputId": "2c8dae70-0f14-4869-b7f3-6abb6bd659d8"
      },
      "source": [
        "#what is the oldest claim?\n",
        "exes2122df['dateclean'].min()"
      ],
      "execution_count": null,
      "outputs": [
        {
          "output_type": "execute_result",
          "data": {
            "text/plain": [
              "Timestamp('2019-04-01 00:00:00')"
            ]
          },
          "metadata": {},
          "execution_count": 24
        }
      ]
    },
    {
      "cell_type": "code",
      "metadata": {
        "colab": {
          "base_uri": "https://localhost:8080/"
        },
        "id": "QobN3ichDRoG",
        "outputId": "abda0c3e-8dab-4633-afc1-e5d1bbb1f56c"
      },
      "source": [
        "#what is the most recent claim?\n",
        "exes2122df['dateclean'].max()"
      ],
      "execution_count": null,
      "outputs": [
        {
          "output_type": "execute_result",
          "data": {
            "text/plain": [
              "Timestamp('2021-06-16 00:00:00')"
            ]
          },
          "metadata": {},
          "execution_count": 25
        }
      ]
    },
    {
      "cell_type": "markdown",
      "metadata": {
        "id": "Av9GbkjpDpAj"
      },
      "source": [
        "## Sorting by time\n",
        "\n",
        "We can sort by these columns too, using the `pandas` function `sort_values()`. By default this sorts ascending (from smallest to largest), so with the age of claim this will bring the most recent (i.e. those with the least time elapsed) to the top."
      ]
    },
    {
      "cell_type": "code",
      "metadata": {
        "colab": {
          "base_uri": "https://localhost:8080/",
          "height": 635
        },
        "id": "T93lSpS-Dso6",
        "outputId": "41a8f8ed-9df2-4aa8-8b7d-bd96498df88a"
      },
      "source": [
        "#sort dataframe by age of claim\n",
        "exes2122df = exes2122df.sort_values('ageofclaim')\n",
        "#show it\n",
        "exes2122df"
      ],
      "execution_count": null,
      "outputs": [
        {
          "output_type": "execute_result",
          "data": {
            "text/html": [
              "<div>\n",
              "<style scoped>\n",
              "    .dataframe tbody tr th:only-of-type {\n",
              "        vertical-align: middle;\n",
              "    }\n",
              "\n",
              "    .dataframe tbody tr th {\n",
              "        vertical-align: top;\n",
              "    }\n",
              "\n",
              "    .dataframe thead th {\n",
              "        text-align: right;\n",
              "    }\n",
              "</style>\n",
              "<table border=\"1\" class=\"dataframe\">\n",
              "  <thead>\n",
              "    <tr style=\"text-align: right;\">\n",
              "      <th></th>\n",
              "      <th>memberId</th>\n",
              "      <th>year</th>\n",
              "      <th>date</th>\n",
              "      <th>claimNumber</th>\n",
              "      <th>mpName</th>\n",
              "      <th>mpConstituency</th>\n",
              "      <th>category</th>\n",
              "      <th>expenseType</th>\n",
              "      <th>shortDescription</th>\n",
              "      <th>details</th>\n",
              "      <th>journeyType</th>\n",
              "      <th>journeyFrom</th>\n",
              "      <th>journeyTo</th>\n",
              "      <th>travel</th>\n",
              "      <th>nights</th>\n",
              "      <th>mileage</th>\n",
              "      <th>amountClaimed</th>\n",
              "      <th>amountPaid</th>\n",
              "      <th>amountNotPaid</th>\n",
              "      <th>amountRepaid</th>\n",
              "      <th>status</th>\n",
              "      <th>reasonIfNotPaid</th>\n",
              "      <th>supplyMonth</th>\n",
              "      <th>supplyPeriod</th>\n",
              "      <th>dateclean</th>\n",
              "      <th>ageofclaim</th>\n",
              "    </tr>\n",
              "  </thead>\n",
              "  <tbody>\n",
              "    <tr>\n",
              "      <th>7466</th>\n",
              "      <td>4825</td>\n",
              "      <td>21_22</td>\n",
              "      <td>16/06/2021</td>\n",
              "      <td>60084088-4</td>\n",
              "      <td>Jacob Young</td>\n",
              "      <td>Redcar BC</td>\n",
              "      <td>Office Costs</td>\n",
              "      <td>Utilities</td>\n",
              "      <td>Water</td>\n",
              "      <td>NaN</td>\n",
              "      <td>NaN</td>\n",
              "      <td>NaN</td>\n",
              "      <td>NaN</td>\n",
              "      <td>NaN</td>\n",
              "      <td>0</td>\n",
              "      <td>0.0</td>\n",
              "      <td>41.42</td>\n",
              "      <td>41.42</td>\n",
              "      <td>0.0</td>\n",
              "      <td>0.0</td>\n",
              "      <td>paid</td>\n",
              "      <td>NaN</td>\n",
              "      <td>NaN</td>\n",
              "      <td>0</td>\n",
              "      <td>2021-06-16</td>\n",
              "      <td>126 days 18:50:17.697271</td>\n",
              "    </tr>\n",
              "    <tr>\n",
              "      <th>14801</th>\n",
              "      <td>4818</td>\n",
              "      <td>21_22</td>\n",
              "      <td>08/06/2021</td>\n",
              "      <td>60085152-1</td>\n",
              "      <td>Saqib Bhatti</td>\n",
              "      <td>Meriden CC</td>\n",
              "      <td>Staff Travel</td>\n",
              "      <td>Rail</td>\n",
              "      <td>NaN</td>\n",
              "      <td>NaN</td>\n",
              "      <td>London-constituency MP &amp; Staff</td>\n",
              "      <td>NaN</td>\n",
              "      <td>NaN</td>\n",
              "      <td>Standard Single</td>\n",
              "      <td>0</td>\n",
              "      <td>0.0</td>\n",
              "      <td>25.05</td>\n",
              "      <td>25.05</td>\n",
              "      <td>0.0</td>\n",
              "      <td>0.0</td>\n",
              "      <td>paid</td>\n",
              "      <td>NaN</td>\n",
              "      <td>NaN</td>\n",
              "      <td>0</td>\n",
              "      <td>2021-06-08</td>\n",
              "      <td>134 days 18:50:17.796828</td>\n",
              "    </tr>\n",
              "    <tr>\n",
              "      <th>488</th>\n",
              "      <td>529</td>\n",
              "      <td>21_22</td>\n",
              "      <td>05/06/2021</td>\n",
              "      <td>60084754-1</td>\n",
              "      <td>Alan Campbell</td>\n",
              "      <td>Tynemouth BC</td>\n",
              "      <td>Accommodation</td>\n",
              "      <td>Council tax</td>\n",
              "      <td>NaN</td>\n",
              "      <td>NaN</td>\n",
              "      <td>NaN</td>\n",
              "      <td>NaN</td>\n",
              "      <td>NaN</td>\n",
              "      <td>NaN</td>\n",
              "      <td>0</td>\n",
              "      <td>0.0</td>\n",
              "      <td>195.00</td>\n",
              "      <td>195.00</td>\n",
              "      <td>0.0</td>\n",
              "      <td>0.0</td>\n",
              "      <td>paid</td>\n",
              "      <td>NaN</td>\n",
              "      <td>NaN</td>\n",
              "      <td>0</td>\n",
              "      <td>2021-06-05</td>\n",
              "      <td>137 days 18:50:17.607964</td>\n",
              "    </tr>\n",
              "    <tr>\n",
              "      <th>224</th>\n",
              "      <td>529</td>\n",
              "      <td>21_22</td>\n",
              "      <td>01/06/2021</td>\n",
              "      <td>60084754-2</td>\n",
              "      <td>Alan Campbell</td>\n",
              "      <td>Tynemouth BC</td>\n",
              "      <td>Accommodation</td>\n",
              "      <td>Utilities</td>\n",
              "      <td>Electricity</td>\n",
              "      <td>NaN</td>\n",
              "      <td>NaN</td>\n",
              "      <td>NaN</td>\n",
              "      <td>NaN</td>\n",
              "      <td>NaN</td>\n",
              "      <td>0</td>\n",
              "      <td>0.0</td>\n",
              "      <td>40.00</td>\n",
              "      <td>40.00</td>\n",
              "      <td>0.0</td>\n",
              "      <td>0.0</td>\n",
              "      <td>paid</td>\n",
              "      <td>NaN</td>\n",
              "      <td>NaN</td>\n",
              "      <td>0</td>\n",
              "      <td>2021-06-01</td>\n",
              "      <td>141 days 18:50:17.604546</td>\n",
              "    </tr>\n",
              "    <tr>\n",
              "      <th>7576</th>\n",
              "      <td>261</td>\n",
              "      <td>21_22</td>\n",
              "      <td>01/06/2021</td>\n",
              "      <td>60084241-2</td>\n",
              "      <td>James Gray</td>\n",
              "      <td>North Wiltshire CC</td>\n",
              "      <td>Office Costs</td>\n",
              "      <td>Rent</td>\n",
              "      <td>NaN</td>\n",
              "      <td>NaN</td>\n",
              "      <td>NaN</td>\n",
              "      <td>NaN</td>\n",
              "      <td>NaN</td>\n",
              "      <td>NaN</td>\n",
              "      <td>0</td>\n",
              "      <td>0.0</td>\n",
              "      <td>400.00</td>\n",
              "      <td>400.00</td>\n",
              "      <td>0.0</td>\n",
              "      <td>0.0</td>\n",
              "      <td>paid</td>\n",
              "      <td>NaN</td>\n",
              "      <td>NaN</td>\n",
              "      <td>0</td>\n",
              "      <td>2021-06-01</td>\n",
              "      <td>141 days 18:50:17.698611</td>\n",
              "    </tr>\n",
              "    <tr>\n",
              "      <th>...</th>\n",
              "      <td>...</td>\n",
              "      <td>...</td>\n",
              "      <td>...</td>\n",
              "      <td>...</td>\n",
              "      <td>...</td>\n",
              "      <td>...</td>\n",
              "      <td>...</td>\n",
              "      <td>...</td>\n",
              "      <td>...</td>\n",
              "      <td>...</td>\n",
              "      <td>...</td>\n",
              "      <td>...</td>\n",
              "      <td>...</td>\n",
              "      <td>...</td>\n",
              "      <td>...</td>\n",
              "      <td>...</td>\n",
              "      <td>...</td>\n",
              "      <td>...</td>\n",
              "      <td>...</td>\n",
              "      <td>...</td>\n",
              "      <td>...</td>\n",
              "      <td>...</td>\n",
              "      <td>...</td>\n",
              "      <td>...</td>\n",
              "      <td>...</td>\n",
              "      <td>...</td>\n",
              "    </tr>\n",
              "    <tr>\n",
              "      <th>12151</th>\n",
              "      <td>4368</td>\n",
              "      <td>21_22</td>\n",
              "      <td>29/09/2019</td>\n",
              "      <td>60078418-1</td>\n",
              "      <td>Neil Coyle</td>\n",
              "      <td>Bermondsey and Old Southwark BC</td>\n",
              "      <td>Office Costs</td>\n",
              "      <td>Rent</td>\n",
              "      <td>NaN</td>\n",
              "      <td>NaN</td>\n",
              "      <td>NaN</td>\n",
              "      <td>NaN</td>\n",
              "      <td>NaN</td>\n",
              "      <td>NaN</td>\n",
              "      <td>0</td>\n",
              "      <td>0.0</td>\n",
              "      <td>2000.00</td>\n",
              "      <td>2000.00</td>\n",
              "      <td>0.0</td>\n",
              "      <td>0.0</td>\n",
              "      <td>paid</td>\n",
              "      <td>NaN</td>\n",
              "      <td>NaN</td>\n",
              "      <td>0</td>\n",
              "      <td>2019-09-29</td>\n",
              "      <td>752 days 18:50:17.762929</td>\n",
              "    </tr>\n",
              "    <tr>\n",
              "      <th>14310</th>\n",
              "      <td>87</td>\n",
              "      <td>21_22</td>\n",
              "      <td>01/04/2019</td>\n",
              "      <td>60081854-4</td>\n",
              "      <td>Roger Gale</td>\n",
              "      <td>North Thanet CC</td>\n",
              "      <td>Office Costs</td>\n",
              "      <td>Utilities</td>\n",
              "      <td>Water</td>\n",
              "      <td>NaN</td>\n",
              "      <td>NaN</td>\n",
              "      <td>NaN</td>\n",
              "      <td>NaN</td>\n",
              "      <td>NaN</td>\n",
              "      <td>0</td>\n",
              "      <td>0.0</td>\n",
              "      <td>53.15</td>\n",
              "      <td>53.15</td>\n",
              "      <td>0.0</td>\n",
              "      <td>0.0</td>\n",
              "      <td>paid</td>\n",
              "      <td>NaN</td>\n",
              "      <td>NaN</td>\n",
              "      <td>0</td>\n",
              "      <td>2019-04-01</td>\n",
              "      <td>933 days 18:50:17.790697</td>\n",
              "    </tr>\n",
              "    <tr>\n",
              "      <th>14349</th>\n",
              "      <td>87</td>\n",
              "      <td>21_22</td>\n",
              "      <td>01/04/2019</td>\n",
              "      <td>60081854-1</td>\n",
              "      <td>Roger Gale</td>\n",
              "      <td>North Thanet CC</td>\n",
              "      <td>Office Costs</td>\n",
              "      <td>Utilities</td>\n",
              "      <td>Water</td>\n",
              "      <td>NaN</td>\n",
              "      <td>NaN</td>\n",
              "      <td>NaN</td>\n",
              "      <td>NaN</td>\n",
              "      <td>NaN</td>\n",
              "      <td>0</td>\n",
              "      <td>0.0</td>\n",
              "      <td>59.87</td>\n",
              "      <td>59.87</td>\n",
              "      <td>0.0</td>\n",
              "      <td>0.0</td>\n",
              "      <td>paid</td>\n",
              "      <td>NaN</td>\n",
              "      <td>NaN</td>\n",
              "      <td>0</td>\n",
              "      <td>2019-04-01</td>\n",
              "      <td>933 days 18:50:17.791188</td>\n",
              "    </tr>\n",
              "    <tr>\n",
              "      <th>14363</th>\n",
              "      <td>87</td>\n",
              "      <td>21_22</td>\n",
              "      <td>01/04/2019</td>\n",
              "      <td>60081854-2</td>\n",
              "      <td>Roger Gale</td>\n",
              "      <td>North Thanet CC</td>\n",
              "      <td>Office Costs</td>\n",
              "      <td>Utilities</td>\n",
              "      <td>Electricity</td>\n",
              "      <td>NaN</td>\n",
              "      <td>NaN</td>\n",
              "      <td>NaN</td>\n",
              "      <td>NaN</td>\n",
              "      <td>NaN</td>\n",
              "      <td>0</td>\n",
              "      <td>0.0</td>\n",
              "      <td>150.38</td>\n",
              "      <td>150.38</td>\n",
              "      <td>0.0</td>\n",
              "      <td>0.0</td>\n",
              "      <td>paid</td>\n",
              "      <td>NaN</td>\n",
              "      <td>NaN</td>\n",
              "      <td>0</td>\n",
              "      <td>2019-04-01</td>\n",
              "      <td>933 days 18:50:17.791361</td>\n",
              "    </tr>\n",
              "    <tr>\n",
              "      <th>14464</th>\n",
              "      <td>87</td>\n",
              "      <td>21_22</td>\n",
              "      <td>01/04/2019</td>\n",
              "      <td>60081854-3</td>\n",
              "      <td>Roger Gale</td>\n",
              "      <td>North Thanet CC</td>\n",
              "      <td>Office Costs</td>\n",
              "      <td>Utilities</td>\n",
              "      <td>Gas</td>\n",
              "      <td>NaN</td>\n",
              "      <td>NaN</td>\n",
              "      <td>NaN</td>\n",
              "      <td>NaN</td>\n",
              "      <td>NaN</td>\n",
              "      <td>0</td>\n",
              "      <td>0.0</td>\n",
              "      <td>176.55</td>\n",
              "      <td>176.55</td>\n",
              "      <td>0.0</td>\n",
              "      <td>0.0</td>\n",
              "      <td>paid</td>\n",
              "      <td>NaN</td>\n",
              "      <td>NaN</td>\n",
              "      <td>0</td>\n",
              "      <td>2019-04-01</td>\n",
              "      <td>933 days 18:50:17.792636</td>\n",
              "    </tr>\n",
              "  </tbody>\n",
              "</table>\n",
              "<p>17058 rows × 26 columns</p>\n",
              "</div>"
            ],
            "text/plain": [
              "       memberId   year  ...  dateclean               ageofclaim\n",
              "7466       4825  21_22  ... 2021-06-16 126 days 18:50:17.697271\n",
              "14801      4818  21_22  ... 2021-06-08 134 days 18:50:17.796828\n",
              "488         529  21_22  ... 2021-06-05 137 days 18:50:17.607964\n",
              "224         529  21_22  ... 2021-06-01 141 days 18:50:17.604546\n",
              "7576        261  21_22  ... 2021-06-01 141 days 18:50:17.698611\n",
              "...         ...    ...  ...        ...                      ...\n",
              "12151      4368  21_22  ... 2019-09-29 752 days 18:50:17.762929\n",
              "14310        87  21_22  ... 2019-04-01 933 days 18:50:17.790697\n",
              "14349        87  21_22  ... 2019-04-01 933 days 18:50:17.791188\n",
              "14363        87  21_22  ... 2019-04-01 933 days 18:50:17.791361\n",
              "14464        87  21_22  ... 2019-04-01 933 days 18:50:17.792636\n",
              "\n",
              "[17058 rows x 26 columns]"
            ]
          },
          "metadata": {},
          "execution_count": 27
        }
      ]
    },
    {
      "cell_type": "markdown",
      "metadata": {
        "id": "4Wboc_wxEIe2"
      },
      "source": [
        "And again, if you're doing this with date, the default ascending order means it will start with the earliest dates."
      ]
    },
    {
      "cell_type": "code",
      "metadata": {
        "colab": {
          "base_uri": "https://localhost:8080/",
          "height": 635
        },
        "id": "4poWXvYQENW9",
        "outputId": "8def999a-f994-4d46-c330-ce3d313c68b3"
      },
      "source": [
        "#sort dataframe by age of claim\n",
        "exes2122df = exes2122df.sort_values('dateclean')\n",
        "#show it\n",
        "exes2122df"
      ],
      "execution_count": null,
      "outputs": [
        {
          "output_type": "execute_result",
          "data": {
            "text/html": [
              "<div>\n",
              "<style scoped>\n",
              "    .dataframe tbody tr th:only-of-type {\n",
              "        vertical-align: middle;\n",
              "    }\n",
              "\n",
              "    .dataframe tbody tr th {\n",
              "        vertical-align: top;\n",
              "    }\n",
              "\n",
              "    .dataframe thead th {\n",
              "        text-align: right;\n",
              "    }\n",
              "</style>\n",
              "<table border=\"1\" class=\"dataframe\">\n",
              "  <thead>\n",
              "    <tr style=\"text-align: right;\">\n",
              "      <th></th>\n",
              "      <th>memberId</th>\n",
              "      <th>year</th>\n",
              "      <th>date</th>\n",
              "      <th>claimNumber</th>\n",
              "      <th>mpName</th>\n",
              "      <th>mpConstituency</th>\n",
              "      <th>category</th>\n",
              "      <th>expenseType</th>\n",
              "      <th>shortDescription</th>\n",
              "      <th>details</th>\n",
              "      <th>journeyType</th>\n",
              "      <th>journeyFrom</th>\n",
              "      <th>journeyTo</th>\n",
              "      <th>travel</th>\n",
              "      <th>nights</th>\n",
              "      <th>mileage</th>\n",
              "      <th>amountClaimed</th>\n",
              "      <th>amountPaid</th>\n",
              "      <th>amountNotPaid</th>\n",
              "      <th>amountRepaid</th>\n",
              "      <th>status</th>\n",
              "      <th>reasonIfNotPaid</th>\n",
              "      <th>supplyMonth</th>\n",
              "      <th>supplyPeriod</th>\n",
              "      <th>dateclean</th>\n",
              "      <th>ageofclaim</th>\n",
              "    </tr>\n",
              "  </thead>\n",
              "  <tbody>\n",
              "    <tr>\n",
              "      <th>14464</th>\n",
              "      <td>87</td>\n",
              "      <td>21_22</td>\n",
              "      <td>01/04/2019</td>\n",
              "      <td>60081854-3</td>\n",
              "      <td>Roger Gale</td>\n",
              "      <td>North Thanet CC</td>\n",
              "      <td>Office Costs</td>\n",
              "      <td>Utilities</td>\n",
              "      <td>Gas</td>\n",
              "      <td>NaN</td>\n",
              "      <td>NaN</td>\n",
              "      <td>NaN</td>\n",
              "      <td>NaN</td>\n",
              "      <td>NaN</td>\n",
              "      <td>0</td>\n",
              "      <td>0.0</td>\n",
              "      <td>176.55</td>\n",
              "      <td>176.55</td>\n",
              "      <td>0.0</td>\n",
              "      <td>0.0</td>\n",
              "      <td>paid</td>\n",
              "      <td>NaN</td>\n",
              "      <td>NaN</td>\n",
              "      <td>0</td>\n",
              "      <td>2019-04-01</td>\n",
              "      <td>933 days 18:50:17.792636</td>\n",
              "    </tr>\n",
              "    <tr>\n",
              "      <th>14310</th>\n",
              "      <td>87</td>\n",
              "      <td>21_22</td>\n",
              "      <td>01/04/2019</td>\n",
              "      <td>60081854-4</td>\n",
              "      <td>Roger Gale</td>\n",
              "      <td>North Thanet CC</td>\n",
              "      <td>Office Costs</td>\n",
              "      <td>Utilities</td>\n",
              "      <td>Water</td>\n",
              "      <td>NaN</td>\n",
              "      <td>NaN</td>\n",
              "      <td>NaN</td>\n",
              "      <td>NaN</td>\n",
              "      <td>NaN</td>\n",
              "      <td>0</td>\n",
              "      <td>0.0</td>\n",
              "      <td>53.15</td>\n",
              "      <td>53.15</td>\n",
              "      <td>0.0</td>\n",
              "      <td>0.0</td>\n",
              "      <td>paid</td>\n",
              "      <td>NaN</td>\n",
              "      <td>NaN</td>\n",
              "      <td>0</td>\n",
              "      <td>2019-04-01</td>\n",
              "      <td>933 days 18:50:17.790697</td>\n",
              "    </tr>\n",
              "    <tr>\n",
              "      <th>14363</th>\n",
              "      <td>87</td>\n",
              "      <td>21_22</td>\n",
              "      <td>01/04/2019</td>\n",
              "      <td>60081854-2</td>\n",
              "      <td>Roger Gale</td>\n",
              "      <td>North Thanet CC</td>\n",
              "      <td>Office Costs</td>\n",
              "      <td>Utilities</td>\n",
              "      <td>Electricity</td>\n",
              "      <td>NaN</td>\n",
              "      <td>NaN</td>\n",
              "      <td>NaN</td>\n",
              "      <td>NaN</td>\n",
              "      <td>NaN</td>\n",
              "      <td>0</td>\n",
              "      <td>0.0</td>\n",
              "      <td>150.38</td>\n",
              "      <td>150.38</td>\n",
              "      <td>0.0</td>\n",
              "      <td>0.0</td>\n",
              "      <td>paid</td>\n",
              "      <td>NaN</td>\n",
              "      <td>NaN</td>\n",
              "      <td>0</td>\n",
              "      <td>2019-04-01</td>\n",
              "      <td>933 days 18:50:17.791361</td>\n",
              "    </tr>\n",
              "    <tr>\n",
              "      <th>14349</th>\n",
              "      <td>87</td>\n",
              "      <td>21_22</td>\n",
              "      <td>01/04/2019</td>\n",
              "      <td>60081854-1</td>\n",
              "      <td>Roger Gale</td>\n",
              "      <td>North Thanet CC</td>\n",
              "      <td>Office Costs</td>\n",
              "      <td>Utilities</td>\n",
              "      <td>Water</td>\n",
              "      <td>NaN</td>\n",
              "      <td>NaN</td>\n",
              "      <td>NaN</td>\n",
              "      <td>NaN</td>\n",
              "      <td>NaN</td>\n",
              "      <td>0</td>\n",
              "      <td>0.0</td>\n",
              "      <td>59.87</td>\n",
              "      <td>59.87</td>\n",
              "      <td>0.0</td>\n",
              "      <td>0.0</td>\n",
              "      <td>paid</td>\n",
              "      <td>NaN</td>\n",
              "      <td>NaN</td>\n",
              "      <td>0</td>\n",
              "      <td>2019-04-01</td>\n",
              "      <td>933 days 18:50:17.791188</td>\n",
              "    </tr>\n",
              "    <tr>\n",
              "      <th>12151</th>\n",
              "      <td>4368</td>\n",
              "      <td>21_22</td>\n",
              "      <td>29/09/2019</td>\n",
              "      <td>60078418-1</td>\n",
              "      <td>Neil Coyle</td>\n",
              "      <td>Bermondsey and Old Southwark BC</td>\n",
              "      <td>Office Costs</td>\n",
              "      <td>Rent</td>\n",
              "      <td>NaN</td>\n",
              "      <td>NaN</td>\n",
              "      <td>NaN</td>\n",
              "      <td>NaN</td>\n",
              "      <td>NaN</td>\n",
              "      <td>NaN</td>\n",
              "      <td>0</td>\n",
              "      <td>0.0</td>\n",
              "      <td>2000.00</td>\n",
              "      <td>2000.00</td>\n",
              "      <td>0.0</td>\n",
              "      <td>0.0</td>\n",
              "      <td>paid</td>\n",
              "      <td>NaN</td>\n",
              "      <td>NaN</td>\n",
              "      <td>0</td>\n",
              "      <td>2019-09-29</td>\n",
              "      <td>752 days 18:50:17.762929</td>\n",
              "    </tr>\n",
              "    <tr>\n",
              "      <th>...</th>\n",
              "      <td>...</td>\n",
              "      <td>...</td>\n",
              "      <td>...</td>\n",
              "      <td>...</td>\n",
              "      <td>...</td>\n",
              "      <td>...</td>\n",
              "      <td>...</td>\n",
              "      <td>...</td>\n",
              "      <td>...</td>\n",
              "      <td>...</td>\n",
              "      <td>...</td>\n",
              "      <td>...</td>\n",
              "      <td>...</td>\n",
              "      <td>...</td>\n",
              "      <td>...</td>\n",
              "      <td>...</td>\n",
              "      <td>...</td>\n",
              "      <td>...</td>\n",
              "      <td>...</td>\n",
              "      <td>...</td>\n",
              "      <td>...</td>\n",
              "      <td>...</td>\n",
              "      <td>...</td>\n",
              "      <td>...</td>\n",
              "      <td>...</td>\n",
              "      <td>...</td>\n",
              "    </tr>\n",
              "    <tr>\n",
              "      <th>7576</th>\n",
              "      <td>261</td>\n",
              "      <td>21_22</td>\n",
              "      <td>01/06/2021</td>\n",
              "      <td>60084241-2</td>\n",
              "      <td>James Gray</td>\n",
              "      <td>North Wiltshire CC</td>\n",
              "      <td>Office Costs</td>\n",
              "      <td>Rent</td>\n",
              "      <td>NaN</td>\n",
              "      <td>NaN</td>\n",
              "      <td>NaN</td>\n",
              "      <td>NaN</td>\n",
              "      <td>NaN</td>\n",
              "      <td>NaN</td>\n",
              "      <td>0</td>\n",
              "      <td>0.0</td>\n",
              "      <td>400.00</td>\n",
              "      <td>400.00</td>\n",
              "      <td>0.0</td>\n",
              "      <td>0.0</td>\n",
              "      <td>paid</td>\n",
              "      <td>NaN</td>\n",
              "      <td>NaN</td>\n",
              "      <td>0</td>\n",
              "      <td>2021-06-01</td>\n",
              "      <td>141 days 18:50:17.698611</td>\n",
              "    </tr>\n",
              "    <tr>\n",
              "      <th>224</th>\n",
              "      <td>529</td>\n",
              "      <td>21_22</td>\n",
              "      <td>01/06/2021</td>\n",
              "      <td>60084754-2</td>\n",
              "      <td>Alan Campbell</td>\n",
              "      <td>Tynemouth BC</td>\n",
              "      <td>Accommodation</td>\n",
              "      <td>Utilities</td>\n",
              "      <td>Electricity</td>\n",
              "      <td>NaN</td>\n",
              "      <td>NaN</td>\n",
              "      <td>NaN</td>\n",
              "      <td>NaN</td>\n",
              "      <td>NaN</td>\n",
              "      <td>0</td>\n",
              "      <td>0.0</td>\n",
              "      <td>40.00</td>\n",
              "      <td>40.00</td>\n",
              "      <td>0.0</td>\n",
              "      <td>0.0</td>\n",
              "      <td>paid</td>\n",
              "      <td>NaN</td>\n",
              "      <td>NaN</td>\n",
              "      <td>0</td>\n",
              "      <td>2021-06-01</td>\n",
              "      <td>141 days 18:50:17.604546</td>\n",
              "    </tr>\n",
              "    <tr>\n",
              "      <th>488</th>\n",
              "      <td>529</td>\n",
              "      <td>21_22</td>\n",
              "      <td>05/06/2021</td>\n",
              "      <td>60084754-1</td>\n",
              "      <td>Alan Campbell</td>\n",
              "      <td>Tynemouth BC</td>\n",
              "      <td>Accommodation</td>\n",
              "      <td>Council tax</td>\n",
              "      <td>NaN</td>\n",
              "      <td>NaN</td>\n",
              "      <td>NaN</td>\n",
              "      <td>NaN</td>\n",
              "      <td>NaN</td>\n",
              "      <td>NaN</td>\n",
              "      <td>0</td>\n",
              "      <td>0.0</td>\n",
              "      <td>195.00</td>\n",
              "      <td>195.00</td>\n",
              "      <td>0.0</td>\n",
              "      <td>0.0</td>\n",
              "      <td>paid</td>\n",
              "      <td>NaN</td>\n",
              "      <td>NaN</td>\n",
              "      <td>0</td>\n",
              "      <td>2021-06-05</td>\n",
              "      <td>137 days 18:50:17.607964</td>\n",
              "    </tr>\n",
              "    <tr>\n",
              "      <th>14801</th>\n",
              "      <td>4818</td>\n",
              "      <td>21_22</td>\n",
              "      <td>08/06/2021</td>\n",
              "      <td>60085152-1</td>\n",
              "      <td>Saqib Bhatti</td>\n",
              "      <td>Meriden CC</td>\n",
              "      <td>Staff Travel</td>\n",
              "      <td>Rail</td>\n",
              "      <td>NaN</td>\n",
              "      <td>NaN</td>\n",
              "      <td>London-constituency MP &amp; Staff</td>\n",
              "      <td>NaN</td>\n",
              "      <td>NaN</td>\n",
              "      <td>Standard Single</td>\n",
              "      <td>0</td>\n",
              "      <td>0.0</td>\n",
              "      <td>25.05</td>\n",
              "      <td>25.05</td>\n",
              "      <td>0.0</td>\n",
              "      <td>0.0</td>\n",
              "      <td>paid</td>\n",
              "      <td>NaN</td>\n",
              "      <td>NaN</td>\n",
              "      <td>0</td>\n",
              "      <td>2021-06-08</td>\n",
              "      <td>134 days 18:50:17.796828</td>\n",
              "    </tr>\n",
              "    <tr>\n",
              "      <th>7466</th>\n",
              "      <td>4825</td>\n",
              "      <td>21_22</td>\n",
              "      <td>16/06/2021</td>\n",
              "      <td>60084088-4</td>\n",
              "      <td>Jacob Young</td>\n",
              "      <td>Redcar BC</td>\n",
              "      <td>Office Costs</td>\n",
              "      <td>Utilities</td>\n",
              "      <td>Water</td>\n",
              "      <td>NaN</td>\n",
              "      <td>NaN</td>\n",
              "      <td>NaN</td>\n",
              "      <td>NaN</td>\n",
              "      <td>NaN</td>\n",
              "      <td>0</td>\n",
              "      <td>0.0</td>\n",
              "      <td>41.42</td>\n",
              "      <td>41.42</td>\n",
              "      <td>0.0</td>\n",
              "      <td>0.0</td>\n",
              "      <td>paid</td>\n",
              "      <td>NaN</td>\n",
              "      <td>NaN</td>\n",
              "      <td>0</td>\n",
              "      <td>2021-06-16</td>\n",
              "      <td>126 days 18:50:17.697271</td>\n",
              "    </tr>\n",
              "  </tbody>\n",
              "</table>\n",
              "<p>17058 rows × 26 columns</p>\n",
              "</div>"
            ],
            "text/plain": [
              "       memberId   year  ...  dateclean               ageofclaim\n",
              "14464        87  21_22  ... 2019-04-01 933 days 18:50:17.792636\n",
              "14310        87  21_22  ... 2019-04-01 933 days 18:50:17.790697\n",
              "14363        87  21_22  ... 2019-04-01 933 days 18:50:17.791361\n",
              "14349        87  21_22  ... 2019-04-01 933 days 18:50:17.791188\n",
              "12151      4368  21_22  ... 2019-09-29 752 days 18:50:17.762929\n",
              "...         ...    ...  ...        ...                      ...\n",
              "7576        261  21_22  ... 2021-06-01 141 days 18:50:17.698611\n",
              "224         529  21_22  ... 2021-06-01 141 days 18:50:17.604546\n",
              "488         529  21_22  ... 2021-06-05 137 days 18:50:17.607964\n",
              "14801      4818  21_22  ... 2021-06-08 134 days 18:50:17.796828\n",
              "7466       4825  21_22  ... 2021-06-16 126 days 18:50:17.697271\n",
              "\n",
              "[17058 rows x 26 columns]"
            ]
          },
          "metadata": {},
          "execution_count": 28
        }
      ]
    },
    {
      "cell_type": "markdown",
      "metadata": {
        "id": "saYILFr3EQLx"
      },
      "source": [
        "You can specify you want to order it from largest to smallest number by adding the `ascending=` parameter and setting it to `False`."
      ]
    },
    {
      "cell_type": "code",
      "metadata": {
        "id": "MOe48eT8EXeU",
        "colab": {
          "base_uri": "https://localhost:8080/",
          "height": 635
        },
        "outputId": "9d2c6c3e-68c0-4652-8d7f-11395057d4ba"
      },
      "source": [
        "#sort dataframe by age of claim\n",
        "exes2122df = exes2122df.sort_values('dateclean', ascending=False)\n",
        "#show it\n",
        "exes2122df"
      ],
      "execution_count": null,
      "outputs": [
        {
          "output_type": "execute_result",
          "data": {
            "text/html": [
              "<div>\n",
              "<style scoped>\n",
              "    .dataframe tbody tr th:only-of-type {\n",
              "        vertical-align: middle;\n",
              "    }\n",
              "\n",
              "    .dataframe tbody tr th {\n",
              "        vertical-align: top;\n",
              "    }\n",
              "\n",
              "    .dataframe thead th {\n",
              "        text-align: right;\n",
              "    }\n",
              "</style>\n",
              "<table border=\"1\" class=\"dataframe\">\n",
              "  <thead>\n",
              "    <tr style=\"text-align: right;\">\n",
              "      <th></th>\n",
              "      <th>memberId</th>\n",
              "      <th>year</th>\n",
              "      <th>date</th>\n",
              "      <th>claimNumber</th>\n",
              "      <th>mpName</th>\n",
              "      <th>mpConstituency</th>\n",
              "      <th>category</th>\n",
              "      <th>expenseType</th>\n",
              "      <th>shortDescription</th>\n",
              "      <th>details</th>\n",
              "      <th>journeyType</th>\n",
              "      <th>journeyFrom</th>\n",
              "      <th>journeyTo</th>\n",
              "      <th>travel</th>\n",
              "      <th>nights</th>\n",
              "      <th>mileage</th>\n",
              "      <th>amountClaimed</th>\n",
              "      <th>amountPaid</th>\n",
              "      <th>amountNotPaid</th>\n",
              "      <th>amountRepaid</th>\n",
              "      <th>status</th>\n",
              "      <th>reasonIfNotPaid</th>\n",
              "      <th>supplyMonth</th>\n",
              "      <th>supplyPeriod</th>\n",
              "      <th>dateclean</th>\n",
              "      <th>ageofclaim</th>\n",
              "    </tr>\n",
              "  </thead>\n",
              "  <tbody>\n",
              "    <tr>\n",
              "      <th>7466</th>\n",
              "      <td>4825</td>\n",
              "      <td>21_22</td>\n",
              "      <td>16/06/2021</td>\n",
              "      <td>60084088-4</td>\n",
              "      <td>Jacob Young</td>\n",
              "      <td>Redcar BC</td>\n",
              "      <td>Office Costs</td>\n",
              "      <td>Utilities</td>\n",
              "      <td>Water</td>\n",
              "      <td>NaN</td>\n",
              "      <td>NaN</td>\n",
              "      <td>NaN</td>\n",
              "      <td>NaN</td>\n",
              "      <td>NaN</td>\n",
              "      <td>0</td>\n",
              "      <td>0.0</td>\n",
              "      <td>41.42</td>\n",
              "      <td>41.42</td>\n",
              "      <td>0.0</td>\n",
              "      <td>0.0</td>\n",
              "      <td>paid</td>\n",
              "      <td>NaN</td>\n",
              "      <td>NaN</td>\n",
              "      <td>0</td>\n",
              "      <td>2021-06-16</td>\n",
              "      <td>126 days 18:50:17.697271</td>\n",
              "    </tr>\n",
              "    <tr>\n",
              "      <th>14801</th>\n",
              "      <td>4818</td>\n",
              "      <td>21_22</td>\n",
              "      <td>08/06/2021</td>\n",
              "      <td>60085152-1</td>\n",
              "      <td>Saqib Bhatti</td>\n",
              "      <td>Meriden CC</td>\n",
              "      <td>Staff Travel</td>\n",
              "      <td>Rail</td>\n",
              "      <td>NaN</td>\n",
              "      <td>NaN</td>\n",
              "      <td>London-constituency MP &amp; Staff</td>\n",
              "      <td>NaN</td>\n",
              "      <td>NaN</td>\n",
              "      <td>Standard Single</td>\n",
              "      <td>0</td>\n",
              "      <td>0.0</td>\n",
              "      <td>25.05</td>\n",
              "      <td>25.05</td>\n",
              "      <td>0.0</td>\n",
              "      <td>0.0</td>\n",
              "      <td>paid</td>\n",
              "      <td>NaN</td>\n",
              "      <td>NaN</td>\n",
              "      <td>0</td>\n",
              "      <td>2021-06-08</td>\n",
              "      <td>134 days 18:50:17.796828</td>\n",
              "    </tr>\n",
              "    <tr>\n",
              "      <th>488</th>\n",
              "      <td>529</td>\n",
              "      <td>21_22</td>\n",
              "      <td>05/06/2021</td>\n",
              "      <td>60084754-1</td>\n",
              "      <td>Alan Campbell</td>\n",
              "      <td>Tynemouth BC</td>\n",
              "      <td>Accommodation</td>\n",
              "      <td>Council tax</td>\n",
              "      <td>NaN</td>\n",
              "      <td>NaN</td>\n",
              "      <td>NaN</td>\n",
              "      <td>NaN</td>\n",
              "      <td>NaN</td>\n",
              "      <td>NaN</td>\n",
              "      <td>0</td>\n",
              "      <td>0.0</td>\n",
              "      <td>195.00</td>\n",
              "      <td>195.00</td>\n",
              "      <td>0.0</td>\n",
              "      <td>0.0</td>\n",
              "      <td>paid</td>\n",
              "      <td>NaN</td>\n",
              "      <td>NaN</td>\n",
              "      <td>0</td>\n",
              "      <td>2021-06-05</td>\n",
              "      <td>137 days 18:50:17.607964</td>\n",
              "    </tr>\n",
              "    <tr>\n",
              "      <th>224</th>\n",
              "      <td>529</td>\n",
              "      <td>21_22</td>\n",
              "      <td>01/06/2021</td>\n",
              "      <td>60084754-2</td>\n",
              "      <td>Alan Campbell</td>\n",
              "      <td>Tynemouth BC</td>\n",
              "      <td>Accommodation</td>\n",
              "      <td>Utilities</td>\n",
              "      <td>Electricity</td>\n",
              "      <td>NaN</td>\n",
              "      <td>NaN</td>\n",
              "      <td>NaN</td>\n",
              "      <td>NaN</td>\n",
              "      <td>NaN</td>\n",
              "      <td>0</td>\n",
              "      <td>0.0</td>\n",
              "      <td>40.00</td>\n",
              "      <td>40.00</td>\n",
              "      <td>0.0</td>\n",
              "      <td>0.0</td>\n",
              "      <td>paid</td>\n",
              "      <td>NaN</td>\n",
              "      <td>NaN</td>\n",
              "      <td>0</td>\n",
              "      <td>2021-06-01</td>\n",
              "      <td>141 days 18:50:17.604546</td>\n",
              "    </tr>\n",
              "    <tr>\n",
              "      <th>7576</th>\n",
              "      <td>261</td>\n",
              "      <td>21_22</td>\n",
              "      <td>01/06/2021</td>\n",
              "      <td>60084241-2</td>\n",
              "      <td>James Gray</td>\n",
              "      <td>North Wiltshire CC</td>\n",
              "      <td>Office Costs</td>\n",
              "      <td>Rent</td>\n",
              "      <td>NaN</td>\n",
              "      <td>NaN</td>\n",
              "      <td>NaN</td>\n",
              "      <td>NaN</td>\n",
              "      <td>NaN</td>\n",
              "      <td>NaN</td>\n",
              "      <td>0</td>\n",
              "      <td>0.0</td>\n",
              "      <td>400.00</td>\n",
              "      <td>400.00</td>\n",
              "      <td>0.0</td>\n",
              "      <td>0.0</td>\n",
              "      <td>paid</td>\n",
              "      <td>NaN</td>\n",
              "      <td>NaN</td>\n",
              "      <td>0</td>\n",
              "      <td>2021-06-01</td>\n",
              "      <td>141 days 18:50:17.698611</td>\n",
              "    </tr>\n",
              "    <tr>\n",
              "      <th>...</th>\n",
              "      <td>...</td>\n",
              "      <td>...</td>\n",
              "      <td>...</td>\n",
              "      <td>...</td>\n",
              "      <td>...</td>\n",
              "      <td>...</td>\n",
              "      <td>...</td>\n",
              "      <td>...</td>\n",
              "      <td>...</td>\n",
              "      <td>...</td>\n",
              "      <td>...</td>\n",
              "      <td>...</td>\n",
              "      <td>...</td>\n",
              "      <td>...</td>\n",
              "      <td>...</td>\n",
              "      <td>...</td>\n",
              "      <td>...</td>\n",
              "      <td>...</td>\n",
              "      <td>...</td>\n",
              "      <td>...</td>\n",
              "      <td>...</td>\n",
              "      <td>...</td>\n",
              "      <td>...</td>\n",
              "      <td>...</td>\n",
              "      <td>...</td>\n",
              "      <td>...</td>\n",
              "    </tr>\n",
              "    <tr>\n",
              "      <th>12151</th>\n",
              "      <td>4368</td>\n",
              "      <td>21_22</td>\n",
              "      <td>29/09/2019</td>\n",
              "      <td>60078418-1</td>\n",
              "      <td>Neil Coyle</td>\n",
              "      <td>Bermondsey and Old Southwark BC</td>\n",
              "      <td>Office Costs</td>\n",
              "      <td>Rent</td>\n",
              "      <td>NaN</td>\n",
              "      <td>NaN</td>\n",
              "      <td>NaN</td>\n",
              "      <td>NaN</td>\n",
              "      <td>NaN</td>\n",
              "      <td>NaN</td>\n",
              "      <td>0</td>\n",
              "      <td>0.0</td>\n",
              "      <td>2000.00</td>\n",
              "      <td>2000.00</td>\n",
              "      <td>0.0</td>\n",
              "      <td>0.0</td>\n",
              "      <td>paid</td>\n",
              "      <td>NaN</td>\n",
              "      <td>NaN</td>\n",
              "      <td>0</td>\n",
              "      <td>2019-09-29</td>\n",
              "      <td>752 days 18:50:17.762929</td>\n",
              "    </tr>\n",
              "    <tr>\n",
              "      <th>14363</th>\n",
              "      <td>87</td>\n",
              "      <td>21_22</td>\n",
              "      <td>01/04/2019</td>\n",
              "      <td>60081854-2</td>\n",
              "      <td>Roger Gale</td>\n",
              "      <td>North Thanet CC</td>\n",
              "      <td>Office Costs</td>\n",
              "      <td>Utilities</td>\n",
              "      <td>Electricity</td>\n",
              "      <td>NaN</td>\n",
              "      <td>NaN</td>\n",
              "      <td>NaN</td>\n",
              "      <td>NaN</td>\n",
              "      <td>NaN</td>\n",
              "      <td>0</td>\n",
              "      <td>0.0</td>\n",
              "      <td>150.38</td>\n",
              "      <td>150.38</td>\n",
              "      <td>0.0</td>\n",
              "      <td>0.0</td>\n",
              "      <td>paid</td>\n",
              "      <td>NaN</td>\n",
              "      <td>NaN</td>\n",
              "      <td>0</td>\n",
              "      <td>2019-04-01</td>\n",
              "      <td>933 days 18:50:17.791361</td>\n",
              "    </tr>\n",
              "    <tr>\n",
              "      <th>14310</th>\n",
              "      <td>87</td>\n",
              "      <td>21_22</td>\n",
              "      <td>01/04/2019</td>\n",
              "      <td>60081854-4</td>\n",
              "      <td>Roger Gale</td>\n",
              "      <td>North Thanet CC</td>\n",
              "      <td>Office Costs</td>\n",
              "      <td>Utilities</td>\n",
              "      <td>Water</td>\n",
              "      <td>NaN</td>\n",
              "      <td>NaN</td>\n",
              "      <td>NaN</td>\n",
              "      <td>NaN</td>\n",
              "      <td>NaN</td>\n",
              "      <td>0</td>\n",
              "      <td>0.0</td>\n",
              "      <td>53.15</td>\n",
              "      <td>53.15</td>\n",
              "      <td>0.0</td>\n",
              "      <td>0.0</td>\n",
              "      <td>paid</td>\n",
              "      <td>NaN</td>\n",
              "      <td>NaN</td>\n",
              "      <td>0</td>\n",
              "      <td>2019-04-01</td>\n",
              "      <td>933 days 18:50:17.790697</td>\n",
              "    </tr>\n",
              "    <tr>\n",
              "      <th>14349</th>\n",
              "      <td>87</td>\n",
              "      <td>21_22</td>\n",
              "      <td>01/04/2019</td>\n",
              "      <td>60081854-1</td>\n",
              "      <td>Roger Gale</td>\n",
              "      <td>North Thanet CC</td>\n",
              "      <td>Office Costs</td>\n",
              "      <td>Utilities</td>\n",
              "      <td>Water</td>\n",
              "      <td>NaN</td>\n",
              "      <td>NaN</td>\n",
              "      <td>NaN</td>\n",
              "      <td>NaN</td>\n",
              "      <td>NaN</td>\n",
              "      <td>0</td>\n",
              "      <td>0.0</td>\n",
              "      <td>59.87</td>\n",
              "      <td>59.87</td>\n",
              "      <td>0.0</td>\n",
              "      <td>0.0</td>\n",
              "      <td>paid</td>\n",
              "      <td>NaN</td>\n",
              "      <td>NaN</td>\n",
              "      <td>0</td>\n",
              "      <td>2019-04-01</td>\n",
              "      <td>933 days 18:50:17.791188</td>\n",
              "    </tr>\n",
              "    <tr>\n",
              "      <th>14464</th>\n",
              "      <td>87</td>\n",
              "      <td>21_22</td>\n",
              "      <td>01/04/2019</td>\n",
              "      <td>60081854-3</td>\n",
              "      <td>Roger Gale</td>\n",
              "      <td>North Thanet CC</td>\n",
              "      <td>Office Costs</td>\n",
              "      <td>Utilities</td>\n",
              "      <td>Gas</td>\n",
              "      <td>NaN</td>\n",
              "      <td>NaN</td>\n",
              "      <td>NaN</td>\n",
              "      <td>NaN</td>\n",
              "      <td>NaN</td>\n",
              "      <td>0</td>\n",
              "      <td>0.0</td>\n",
              "      <td>176.55</td>\n",
              "      <td>176.55</td>\n",
              "      <td>0.0</td>\n",
              "      <td>0.0</td>\n",
              "      <td>paid</td>\n",
              "      <td>NaN</td>\n",
              "      <td>NaN</td>\n",
              "      <td>0</td>\n",
              "      <td>2019-04-01</td>\n",
              "      <td>933 days 18:50:17.792636</td>\n",
              "    </tr>\n",
              "  </tbody>\n",
              "</table>\n",
              "<p>17058 rows × 26 columns</p>\n",
              "</div>"
            ],
            "text/plain": [
              "       memberId   year  ...  dateclean               ageofclaim\n",
              "7466       4825  21_22  ... 2021-06-16 126 days 18:50:17.697271\n",
              "14801      4818  21_22  ... 2021-06-08 134 days 18:50:17.796828\n",
              "488         529  21_22  ... 2021-06-05 137 days 18:50:17.607964\n",
              "224         529  21_22  ... 2021-06-01 141 days 18:50:17.604546\n",
              "7576        261  21_22  ... 2021-06-01 141 days 18:50:17.698611\n",
              "...         ...    ...  ...        ...                      ...\n",
              "12151      4368  21_22  ... 2019-09-29 752 days 18:50:17.762929\n",
              "14363        87  21_22  ... 2019-04-01 933 days 18:50:17.791361\n",
              "14310        87  21_22  ... 2019-04-01 933 days 18:50:17.790697\n",
              "14349        87  21_22  ... 2019-04-01 933 days 18:50:17.791188\n",
              "14464        87  21_22  ... 2019-04-01 933 days 18:50:17.792636\n",
              "\n",
              "[17058 rows x 26 columns]"
            ]
          },
          "metadata": {},
          "execution_count": 29
        }
      ]
    }
  ]
}