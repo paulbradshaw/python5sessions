{
  "nbformat": 4,
  "nbformat_minor": 0,
  "metadata": {
    "colab": {
      "name": "fuzzup_clustering.ipynb",
      "provenance": [],
      "collapsed_sections": []
    },
    "kernelspec": {
      "name": "python3",
      "display_name": "Python 3"
    },
    "language_info": {
      "name": "python"
    }
  },
  "cells": [
    {
      "cell_type": "markdown",
      "metadata": {
        "id": "H4YadnPQYB9w"
      },
      "source": [
        "# Using `fuzzup`\n",
        "\n",
        "From https://pypi.org/project/fuzzup/\n",
        "\n",
        "See also https://towardsdatascience.com/fuzzy-string-matching-in-python-68f240d910fe "
      ]
    },
    {
      "cell_type": "code",
      "metadata": {
        "colab": {
          "base_uri": "https://localhost:8080/"
        },
        "id": "NWb58ZKmX10Z",
        "outputId": "19ae433c-7e25-41c3-a29a-b554c741b834"
      },
      "source": [
        "#install fuzzup\n",
        "!pip install fuzzup\n",
        "import fuzzup"
      ],
      "execution_count": null,
      "outputs": [
        {
          "output_type": "stream",
          "name": "stdout",
          "text": [
            "Collecting fuzzup\n",
            "  Downloading fuzzup-0.0.15-py3-none-any.whl (6.3 kB)\n",
            "Collecting fuzzywuzzy\n",
            "  Downloading fuzzywuzzy-0.18.0-py2.py3-none-any.whl (18 kB)\n",
            "Requirement already satisfied: scipy in /usr/local/lib/python3.7/dist-packages (from fuzzup) (1.4.1)\n",
            "Requirement already satisfied: pandas in /usr/local/lib/python3.7/dist-packages (from fuzzup) (1.1.5)\n",
            "Requirement already satisfied: numpy in /usr/local/lib/python3.7/dist-packages (from fuzzup) (1.19.5)\n",
            "Requirement already satisfied: pytz>=2017.2 in /usr/local/lib/python3.7/dist-packages (from pandas->fuzzup) (2018.9)\n",
            "Requirement already satisfied: python-dateutil>=2.7.3 in /usr/local/lib/python3.7/dist-packages (from pandas->fuzzup) (2.8.2)\n",
            "Requirement already satisfied: six>=1.5 in /usr/local/lib/python3.7/dist-packages (from python-dateutil>=2.7.3->pandas->fuzzup) (1.15.0)\n",
            "Installing collected packages: fuzzywuzzy, fuzzup\n",
            "Successfully installed fuzzup-0.0.15 fuzzywuzzy-0.18.0\n"
          ]
        }
      ]
    },
    {
      "cell_type": "code",
      "metadata": {
        "colab": {
          "base_uri": "https://localhost:8080/"
        },
        "id": "yzQbU4rGYI2L",
        "outputId": "4170234f-9cab-4731-a95c-573802ea88c7"
      },
      "source": [
        "# strings we want to cluster\n",
        "person_names = ['Donald Trump', 'Donald Trump', \n",
        "                    'J. biden', 'joe biden', 'Biden', \n",
        "                    'Bide', 'mark esper', 'Christopher c . miller', \n",
        "                    'jim mattis', 'Nancy Pelosi', 'trumps',\n",
        "                    'Trump', 'Donald', 'miller']\n",
        "\n",
        "from fuzzup.gear import form_clusters_and_rank\n",
        "form_clusters_and_rank(person_names)"
      ],
      "execution_count": null,
      "outputs": [
        {
          "output_type": "stream",
          "name": "stderr",
          "text": [
            "/usr/local/lib/python3.7/dist-packages/fuzzywuzzy/fuzz.py:11: UserWarning: Using slow pure-python SequenceMatcher. Install python-Levenshtein to remove this warning\n",
            "  warnings.warn('Using slow pure-python SequenceMatcher. Install python-Levenshtein to remove this warning')\n"
          ]
        },
        {
          "output_type": "execute_result",
          "data": {
            "text/plain": [
              "[{'COUNT': 4,\n",
              "  'PROMOTED_STRING': 'joe biden',\n",
              "  'RANK': 2,\n",
              "  'STRINGS': ['Bide', 'Biden', 'J. biden', 'joe biden']},\n",
              " {'COUNT': 2,\n",
              "  'PROMOTED_STRING': 'Christopher c . miller',\n",
              "  'RANK': 3,\n",
              "  'STRINGS': ['Christopher c . miller', 'miller']},\n",
              " {'COUNT': 5,\n",
              "  'PROMOTED_STRING': 'Donald Trump',\n",
              "  'RANK': 1,\n",
              "  'STRINGS': ['Donald', 'Donald Trump', 'Trump', 'trumps']},\n",
              " {'COUNT': 1,\n",
              "  'PROMOTED_STRING': 'Nancy Pelosi',\n",
              "  'RANK': 6,\n",
              "  'STRINGS': ['Nancy Pelosi']},\n",
              " {'COUNT': 1,\n",
              "  'PROMOTED_STRING': 'jim mattis',\n",
              "  'RANK': 6,\n",
              "  'STRINGS': ['jim mattis']},\n",
              " {'COUNT': 1,\n",
              "  'PROMOTED_STRING': 'mark esper',\n",
              "  'RANK': 6,\n",
              "  'STRINGS': ['mark esper']}]"
            ]
          },
          "metadata": {},
          "execution_count": 3
        }
      ]
    },
    {
      "cell_type": "code",
      "metadata": {
        "id": "_XN4dA_0YN6D"
      },
      "source": [
        "#store that list of dictionaries\n",
        "rankdict = form_clusters_and_rank(person_names)"
      ],
      "execution_count": null,
      "outputs": []
    },
    {
      "cell_type": "code",
      "metadata": {
        "colab": {
          "base_uri": "https://localhost:8080/"
        },
        "id": "d8jvyqOtYRTE",
        "outputId": "8d1ba3ca-a7fc-48d6-840c-fdfa2cfe3afc"
      },
      "source": [
        "print(type(rankdict))\n",
        "print(len(rankdict))\n",
        "print(rankdict[0]['STRINGS'])"
      ],
      "execution_count": null,
      "outputs": [
        {
          "output_type": "stream",
          "name": "stdout",
          "text": [
            "<class 'list'>\n",
            "6\n",
            "['Bide', 'Biden', 'J. biden', 'joe biden']\n"
          ]
        }
      ]
    },
    {
      "cell_type": "markdown",
      "metadata": {
        "id": "C9j6ZxAaY9nN"
      },
      "source": [
        "## Assigning the preferred string from the cluster\n",
        "\n",
        "To grab the 'promoted' string' for each word, we can loop like this."
      ]
    },
    {
      "cell_type": "code",
      "metadata": {
        "colab": {
          "base_uri": "https://localhost:8080/",
          "height": 465
        },
        "id": "xArY-V2IYjeh",
        "outputId": "2b9120d1-e5dd-44e0-ebb7-35519c3e1afd"
      },
      "source": [
        "#create empty list\n",
        "prefstrings = []\n",
        "\n",
        "#loop through original names\n",
        "for i in person_names:\n",
        "  #loop through dicts of clusters of names\n",
        "  for d in rankdict:\n",
        "    #if the original name is in the list of strings\n",
        "    if i in d['STRINGS']:\n",
        "      #print that and the 'promoted' (preferred) one\n",
        "      print(i, \"=\", d['PROMOTED_STRING'])\n",
        "      #add promoted one to list\n",
        "      prefstrings.append(d['PROMOTED_STRING'])\n",
        "\n"
      ],
      "execution_count": null,
      "outputs": [
        {
          "output_type": "stream",
          "name": "stdout",
          "text": [
            "Donald Trump = Donald Trump\n",
            "Donald Trump = Donald Trump\n",
            "J. biden = joe biden\n",
            "joe biden = joe biden\n",
            "Biden = joe biden\n",
            "Bide = joe biden\n",
            "mark esper = mark esper\n",
            "Christopher c . miller = Christopher c . miller\n",
            "jim mattis = jim mattis\n",
            "Nancy Pelosi = Nancy Pelosi\n",
            "trumps = Donald Trump\n",
            "Trump = Donald Trump\n",
            "Donald = Donald Trump\n",
            "miller = Christopher c . miller\n"
          ]
        },
        {
          "output_type": "error",
          "ename": "NameError",
          "evalue": "ignored",
          "traceback": [
            "\u001b[0;31m---------------------------------------------------------------------------\u001b[0m",
            "\u001b[0;31mNameError\u001b[0m                                 Traceback (most recent call last)",
            "\u001b[0;32m<ipython-input-14-d1bc9715eb8b>\u001b[0m in \u001b[0;36m<module>\u001b[0;34m()\u001b[0m\n\u001b[1;32m     14\u001b[0m \u001b[0;34m\u001b[0m\u001b[0m\n\u001b[1;32m     15\u001b[0m \u001b[0;31m#create a dataframe from the two lists\u001b[0m\u001b[0;34m\u001b[0m\u001b[0;34m\u001b[0m\u001b[0;34m\u001b[0m\u001b[0m\n\u001b[0;32m---> 16\u001b[0;31m \u001b[0mpd\u001b[0m\u001b[0;34m.\u001b[0m\u001b[0mDataFrame\u001b[0m\u001b[0;34m(\u001b[0m\u001b[0mperson_names\u001b[0m\u001b[0;34m,\u001b[0m \u001b[0mprefstrings\u001b[0m\u001b[0;34m)\u001b[0m\u001b[0;34m\u001b[0m\u001b[0;34m\u001b[0m\u001b[0m\n\u001b[0m",
            "\u001b[0;31mNameError\u001b[0m: name 'pd' is not defined"
          ]
        }
      ]
    },
    {
      "cell_type": "code",
      "metadata": {
        "id": "vB8btlWpZtyz"
      },
      "source": [
        "import pandas as pd"
      ],
      "execution_count": null,
      "outputs": []
    },
    {
      "cell_type": "code",
      "metadata": {
        "id": "QT_IkaaUZvBj",
        "colab": {
          "base_uri": "https://localhost:8080/",
          "height": 489
        },
        "outputId": "b6a0a7b6-8452-4ad6-fa89-d136c8e54d45"
      },
      "source": [
        "#create a dataframe from the two lists\n",
        "pd.DataFrame({'originaldata':person_names, 'cleandata': prefstrings})"
      ],
      "execution_count": null,
      "outputs": [
        {
          "output_type": "execute_result",
          "data": {
            "text/html": [
              "<div>\n",
              "<style scoped>\n",
              "    .dataframe tbody tr th:only-of-type {\n",
              "        vertical-align: middle;\n",
              "    }\n",
              "\n",
              "    .dataframe tbody tr th {\n",
              "        vertical-align: top;\n",
              "    }\n",
              "\n",
              "    .dataframe thead th {\n",
              "        text-align: right;\n",
              "    }\n",
              "</style>\n",
              "<table border=\"1\" class=\"dataframe\">\n",
              "  <thead>\n",
              "    <tr style=\"text-align: right;\">\n",
              "      <th></th>\n",
              "      <th>originaldata</th>\n",
              "      <th>cleandata</th>\n",
              "    </tr>\n",
              "  </thead>\n",
              "  <tbody>\n",
              "    <tr>\n",
              "      <th>0</th>\n",
              "      <td>Donald Trump</td>\n",
              "      <td>Donald Trump</td>\n",
              "    </tr>\n",
              "    <tr>\n",
              "      <th>1</th>\n",
              "      <td>Donald Trump</td>\n",
              "      <td>Donald Trump</td>\n",
              "    </tr>\n",
              "    <tr>\n",
              "      <th>2</th>\n",
              "      <td>J. biden</td>\n",
              "      <td>joe biden</td>\n",
              "    </tr>\n",
              "    <tr>\n",
              "      <th>3</th>\n",
              "      <td>joe biden</td>\n",
              "      <td>joe biden</td>\n",
              "    </tr>\n",
              "    <tr>\n",
              "      <th>4</th>\n",
              "      <td>Biden</td>\n",
              "      <td>joe biden</td>\n",
              "    </tr>\n",
              "    <tr>\n",
              "      <th>5</th>\n",
              "      <td>Bide</td>\n",
              "      <td>joe biden</td>\n",
              "    </tr>\n",
              "    <tr>\n",
              "      <th>6</th>\n",
              "      <td>mark esper</td>\n",
              "      <td>mark esper</td>\n",
              "    </tr>\n",
              "    <tr>\n",
              "      <th>7</th>\n",
              "      <td>Christopher c . miller</td>\n",
              "      <td>Christopher c . miller</td>\n",
              "    </tr>\n",
              "    <tr>\n",
              "      <th>8</th>\n",
              "      <td>jim mattis</td>\n",
              "      <td>jim mattis</td>\n",
              "    </tr>\n",
              "    <tr>\n",
              "      <th>9</th>\n",
              "      <td>Nancy Pelosi</td>\n",
              "      <td>Nancy Pelosi</td>\n",
              "    </tr>\n",
              "    <tr>\n",
              "      <th>10</th>\n",
              "      <td>trumps</td>\n",
              "      <td>Donald Trump</td>\n",
              "    </tr>\n",
              "    <tr>\n",
              "      <th>11</th>\n",
              "      <td>Trump</td>\n",
              "      <td>Donald Trump</td>\n",
              "    </tr>\n",
              "    <tr>\n",
              "      <th>12</th>\n",
              "      <td>Donald</td>\n",
              "      <td>Donald Trump</td>\n",
              "    </tr>\n",
              "    <tr>\n",
              "      <th>13</th>\n",
              "      <td>miller</td>\n",
              "      <td>Christopher c . miller</td>\n",
              "    </tr>\n",
              "  </tbody>\n",
              "</table>\n",
              "</div>"
            ],
            "text/plain": [
              "              originaldata               cleandata\n",
              "0             Donald Trump            Donald Trump\n",
              "1             Donald Trump            Donald Trump\n",
              "2                 J. biden               joe biden\n",
              "3                joe biden               joe biden\n",
              "4                    Biden               joe biden\n",
              "5                     Bide               joe biden\n",
              "6               mark esper              mark esper\n",
              "7   Christopher c . miller  Christopher c . miller\n",
              "8               jim mattis              jim mattis\n",
              "9             Nancy Pelosi            Nancy Pelosi\n",
              "10                  trumps            Donald Trump\n",
              "11                   Trump            Donald Trump\n",
              "12                  Donald            Donald Trump\n",
              "13                  miller  Christopher c . miller"
            ]
          },
          "metadata": {},
          "execution_count": 18
        }
      ]
    }
  ]
}