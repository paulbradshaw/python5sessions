{
  "nbformat": 4,
  "nbformat_minor": 0,
  "metadata": {
    "colab": {
      "name": "fuzzup_clustering.ipynb",
      "provenance": [],
      "collapsed_sections": []
    },
    "kernelspec": {
      "name": "python3",
      "display_name": "Python 3"
    },
    "language_info": {
      "name": "python"
    }
  },
  "cells": [
    {
      "cell_type": "markdown",
      "metadata": {
        "id": "H4YadnPQYB9w"
      },
      "source": [
        "# Using `fuzzup`\n",
        "\n",
        "The `fuzzup` library can be used for clustering text where it's spelt very similarly but with variations, such as names. \n",
        "\n",
        "From https://pypi.org/project/fuzzup/\n",
        "\n",
        "See also https://towardsdatascience.com/fuzzy-string-matching-in-python-68f240d910fe \n",
        "\n",
        "It's not installed in Colab so we have to install it first using `!pip`"
      ]
    },
    {
      "cell_type": "code",
      "metadata": {
        "id": "NWb58ZKmX10Z"
      },
      "source": [
        "#install fuzzup\n",
        "!pip install fuzzup\n",
        "import fuzzup\n",
        "#import a particular function\n",
        "from fuzzup.gear import form_clusters_and_rank"
      ],
      "execution_count": null,
      "outputs": []
    },
    {
      "cell_type": "markdown",
      "metadata": {
        "id": "oV2B_hTQ5ATa"
      },
      "source": [
        "A classic use case for this sort of algorithm is where you have a column full of names (e.g. organisations or people) that haven't been entered consistently. \n",
        "\n",
        "Below we create a list of such names to test the algorithm."
      ]
    },
    {
      "cell_type": "code",
      "metadata": {
        "id": "yzQbU4rGYI2L"
      },
      "source": [
        "# strings we want to cluster\n",
        "person_names = ['Donald Trump', 'Donald Trump', \n",
        "                    'J. biden', 'joe biden', 'Biden', \n",
        "                    'Bide', 'mark esper', 'Christopher c . miller', \n",
        "                    'jim mattis', 'Nancy Pelosi', 'trumps',\n",
        "                    'Trump', 'Donald', 'miller']\n"
      ],
      "execution_count": 7,
      "outputs": []
    },
    {
      "cell_type": "markdown",
      "metadata": {
        "id": "7jUrFvr05ZDN"
      },
      "source": [
        "## Using the 'form clusters' function\n",
        "\n",
        "We can now run the `form_clusters_and_rank()` function on that list. This returns a *list* of *dictionaries*."
      ]
    },
    {
      "cell_type": "code",
      "metadata": {
        "colab": {
          "base_uri": "https://localhost:8080/"
        },
        "id": "VQW_hMmn5YAQ",
        "outputId": "77d285c5-165c-42d9-abcc-3dd8169b0318"
      },
      "source": [
        "\n",
        "#use the function on that list\n",
        "form_clusters_and_rank(person_names)"
      ],
      "execution_count": 8,
      "outputs": [
        {
          "output_type": "execute_result",
          "data": {
            "text/plain": [
              "[{'COUNT': 4,\n",
              "  'PROMOTED_STRING': 'joe biden',\n",
              "  'RANK': 2,\n",
              "  'STRINGS': ['Bide', 'Biden', 'J. biden', 'joe biden']},\n",
              " {'COUNT': 2,\n",
              "  'PROMOTED_STRING': 'Christopher c . miller',\n",
              "  'RANK': 3,\n",
              "  'STRINGS': ['Christopher c . miller', 'miller']},\n",
              " {'COUNT': 5,\n",
              "  'PROMOTED_STRING': 'Donald Trump',\n",
              "  'RANK': 1,\n",
              "  'STRINGS': ['Donald', 'Donald Trump', 'Trump', 'trumps']},\n",
              " {'COUNT': 1,\n",
              "  'PROMOTED_STRING': 'Nancy Pelosi',\n",
              "  'RANK': 6,\n",
              "  'STRINGS': ['Nancy Pelosi']},\n",
              " {'COUNT': 1,\n",
              "  'PROMOTED_STRING': 'jim mattis',\n",
              "  'RANK': 6,\n",
              "  'STRINGS': ['jim mattis']},\n",
              " {'COUNT': 1,\n",
              "  'PROMOTED_STRING': 'mark esper',\n",
              "  'RANK': 6,\n",
              "  'STRINGS': ['mark esper']}]"
            ]
          },
          "metadata": {},
          "execution_count": 8
        }
      ]
    },
    {
      "cell_type": "code",
      "metadata": {
        "id": "_XN4dA_0YN6D"
      },
      "source": [
        "#store that list of dictionaries\n",
        "rankdict = form_clusters_and_rank(person_names)"
      ],
      "execution_count": null,
      "outputs": []
    },
    {
      "cell_type": "code",
      "metadata": {
        "colab": {
          "base_uri": "https://localhost:8080/"
        },
        "id": "d8jvyqOtYRTE",
        "outputId": "8d1ba3ca-a7fc-48d6-840c-fdfa2cfe3afc"
      },
      "source": [
        "#check the type of object we've created\n",
        "print(type(rankdict))\n",
        "#check how many items it has\n",
        "print(len(rankdict))\n",
        "#check if we can drill down into the first item, and access the value paired with the key 'STRINGS'\n",
        "print(rankdict[0]['STRINGS'])"
      ],
      "execution_count": null,
      "outputs": [
        {
          "output_type": "stream",
          "name": "stdout",
          "text": [
            "<class 'list'>\n",
            "6\n",
            "['Bide', 'Biden', 'J. biden', 'joe biden']\n"
          ]
        }
      ]
    },
    {
      "cell_type": "markdown",
      "metadata": {
        "id": "C9j6ZxAaY9nN"
      },
      "source": [
        "## Assigning the preferred string from the cluster\n",
        "\n",
        "To grab the 'promoted' string' for each word, we can loop like this."
      ]
    },
    {
      "cell_type": "code",
      "metadata": {
        "colab": {
          "base_uri": "https://localhost:8080/"
        },
        "id": "xArY-V2IYjeh",
        "outputId": "e7f9d6e9-c06c-494c-9ac4-607d0e029abf"
      },
      "source": [
        "#create empty list\n",
        "prefstrings = []\n",
        "\n",
        "#loop through original names\n",
        "for i in person_names:\n",
        "  #loop through dicts of clusters of names\n",
        "  for d in rankdict:\n",
        "    #if the original name is in the list of strings\n",
        "    if i in d['STRINGS']:\n",
        "      #print that and the 'promoted' (preferred) one\n",
        "      print(i, \"=\", d['PROMOTED_STRING'])\n",
        "      #add promoted one to list\n",
        "      prefstrings.append(d['PROMOTED_STRING'])\n",
        "\n"
      ],
      "execution_count": null,
      "outputs": [
        {
          "output_type": "stream",
          "name": "stdout",
          "text": [
            "Donald Trump = Donald Trump\n",
            "Donald Trump = Donald Trump\n",
            "J. biden = joe biden\n",
            "joe biden = joe biden\n",
            "Biden = joe biden\n",
            "Bide = joe biden\n",
            "mark esper = mark esper\n",
            "Christopher c . miller = Christopher c . miller\n",
            "jim mattis = jim mattis\n",
            "Nancy Pelosi = Nancy Pelosi\n",
            "trumps = Donald Trump\n",
            "Trump = Donald Trump\n",
            "Donald = Donald Trump\n",
            "miller = Christopher c . miller\n"
          ]
        }
      ]
    },
    {
      "cell_type": "markdown",
      "metadata": {
        "id": "1u-9Gp3g5xRE"
      },
      "source": [
        "## Creating a dataframe to store the results\n",
        "\n",
        "Now let's create a dataframe to store both the original list of names, and the list of the 'preferred' version (i.e. the consistent version) that is going to be used instead.\n",
        "\n",
        "It's always a good idea to store both, because you can then move on to a further stage of checking the results in various ways (using code and manually)."
      ]
    },
    {
      "cell_type": "code",
      "metadata": {
        "id": "vB8btlWpZtyz"
      },
      "source": [
        "import pandas as pd"
      ],
      "execution_count": null,
      "outputs": []
    },
    {
      "cell_type": "code",
      "metadata": {
        "id": "QT_IkaaUZvBj",
        "colab": {
          "base_uri": "https://localhost:8080/",
          "height": 489
        },
        "outputId": "b6a0a7b6-8452-4ad6-fa89-d136c8e54d45"
      },
      "source": [
        "#create a dataframe from the two lists\n",
        "pd.DataFrame({'originaldata':person_names, 'cleandata': prefstrings})"
      ],
      "execution_count": null,
      "outputs": [
        {
          "output_type": "execute_result",
          "data": {
            "text/html": [
              "<div>\n",
              "<style scoped>\n",
              "    .dataframe tbody tr th:only-of-type {\n",
              "        vertical-align: middle;\n",
              "    }\n",
              "\n",
              "    .dataframe tbody tr th {\n",
              "        vertical-align: top;\n",
              "    }\n",
              "\n",
              "    .dataframe thead th {\n",
              "        text-align: right;\n",
              "    }\n",
              "</style>\n",
              "<table border=\"1\" class=\"dataframe\">\n",
              "  <thead>\n",
              "    <tr style=\"text-align: right;\">\n",
              "      <th></th>\n",
              "      <th>originaldata</th>\n",
              "      <th>cleandata</th>\n",
              "    </tr>\n",
              "  </thead>\n",
              "  <tbody>\n",
              "    <tr>\n",
              "      <th>0</th>\n",
              "      <td>Donald Trump</td>\n",
              "      <td>Donald Trump</td>\n",
              "    </tr>\n",
              "    <tr>\n",
              "      <th>1</th>\n",
              "      <td>Donald Trump</td>\n",
              "      <td>Donald Trump</td>\n",
              "    </tr>\n",
              "    <tr>\n",
              "      <th>2</th>\n",
              "      <td>J. biden</td>\n",
              "      <td>joe biden</td>\n",
              "    </tr>\n",
              "    <tr>\n",
              "      <th>3</th>\n",
              "      <td>joe biden</td>\n",
              "      <td>joe biden</td>\n",
              "    </tr>\n",
              "    <tr>\n",
              "      <th>4</th>\n",
              "      <td>Biden</td>\n",
              "      <td>joe biden</td>\n",
              "    </tr>\n",
              "    <tr>\n",
              "      <th>5</th>\n",
              "      <td>Bide</td>\n",
              "      <td>joe biden</td>\n",
              "    </tr>\n",
              "    <tr>\n",
              "      <th>6</th>\n",
              "      <td>mark esper</td>\n",
              "      <td>mark esper</td>\n",
              "    </tr>\n",
              "    <tr>\n",
              "      <th>7</th>\n",
              "      <td>Christopher c . miller</td>\n",
              "      <td>Christopher c . miller</td>\n",
              "    </tr>\n",
              "    <tr>\n",
              "      <th>8</th>\n",
              "      <td>jim mattis</td>\n",
              "      <td>jim mattis</td>\n",
              "    </tr>\n",
              "    <tr>\n",
              "      <th>9</th>\n",
              "      <td>Nancy Pelosi</td>\n",
              "      <td>Nancy Pelosi</td>\n",
              "    </tr>\n",
              "    <tr>\n",
              "      <th>10</th>\n",
              "      <td>trumps</td>\n",
              "      <td>Donald Trump</td>\n",
              "    </tr>\n",
              "    <tr>\n",
              "      <th>11</th>\n",
              "      <td>Trump</td>\n",
              "      <td>Donald Trump</td>\n",
              "    </tr>\n",
              "    <tr>\n",
              "      <th>12</th>\n",
              "      <td>Donald</td>\n",
              "      <td>Donald Trump</td>\n",
              "    </tr>\n",
              "    <tr>\n",
              "      <th>13</th>\n",
              "      <td>miller</td>\n",
              "      <td>Christopher c . miller</td>\n",
              "    </tr>\n",
              "  </tbody>\n",
              "</table>\n",
              "</div>"
            ],
            "text/plain": [
              "              originaldata               cleandata\n",
              "0             Donald Trump            Donald Trump\n",
              "1             Donald Trump            Donald Trump\n",
              "2                 J. biden               joe biden\n",
              "3                joe biden               joe biden\n",
              "4                    Biden               joe biden\n",
              "5                     Bide               joe biden\n",
              "6               mark esper              mark esper\n",
              "7   Christopher c . miller  Christopher c . miller\n",
              "8               jim mattis              jim mattis\n",
              "9             Nancy Pelosi            Nancy Pelosi\n",
              "10                  trumps            Donald Trump\n",
              "11                   Trump            Donald Trump\n",
              "12                  Donald            Donald Trump\n",
              "13                  miller  Christopher c . miller"
            ]
          },
          "metadata": {},
          "execution_count": 18
        }
      ]
    }
  ]
}