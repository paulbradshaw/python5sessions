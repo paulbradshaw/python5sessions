{
  "nbformat": 4,
  "nbformat_minor": 0,
  "metadata": {
    "colab": {
      "name": "04cleaning_criminaljusticeODS.ipynb",
      "provenance": [],
      "collapsed_sections": [],
      "toc_visible": true
    },
    "kernelspec": {
      "name": "python3",
      "display_name": "Python 3"
    },
    "language_info": {
      "name": "python"
    }
  },
  "cells": [
    {
      "cell_type": "markdown",
      "metadata": {
        "id": "s58PBnTuBZIt"
      },
      "source": [
        "# Cleaning an .ods file in pandas\n",
        "\n",
        "We are going to import some data from [Criminal Justice System statistics quarterly: March 2021](https://www.gov.uk/government/statistics/criminal-justice-system-statistics-quarterly-march-2021)."
      ]
    },
    {
      "cell_type": "code",
      "metadata": {
        "id": "ynzTQH6rvGUT"
      },
      "source": [
        "import pandas as pd"
      ],
      "execution_count": null,
      "outputs": []
    },
    {
      "cell_type": "code",
      "metadata": {
        "id": "Xd_-vgFtvHx4"
      },
      "source": [
        "overview21mar = \"https://assets.publishing.service.gov.uk/government/uploads/system/uploads/attachment_data/file/1011767/overview-tables-march-2021.ods\""
      ],
      "execution_count": null,
      "outputs": []
    },
    {
      "cell_type": "markdown",
      "metadata": {
        "id": "aSv-G-5zvSeJ"
      },
      "source": [
        "## Dealing with the ods spreadsheet format\n",
        "\n",
        "The first problem we have is that this isn't a CSV or XLS file.\n",
        "\n",
        "How do we import an .ods file? [Off to Google](https://stackoverflow.com/questions/17834995/how-to-convert-opendocument-spreadsheets-to-a-pandas-dataframe):\n",
        "\n",
        "> \"This is available natively in pandas 0.25. So long as you have odfpy installed (conda install odfpy OR pip install odfpy) you can do\n",
        ">\n",
        "> `pd.read_excel(\"the_document.ods\", engine=\"odf\")`\n",
        "\n",
        "First, then we need to install `odfpy`.\n"
      ]
    },
    {
      "cell_type": "code",
      "metadata": {
        "colab": {
          "base_uri": "https://localhost:8080/"
        },
        "id": "avW-3iV4vmue",
        "outputId": "6287d456-aba6-455f-fd57-8081dbe75ed9"
      },
      "source": [
        "!pip install odfpy"
      ],
      "execution_count": null,
      "outputs": [
        {
          "output_type": "stream",
          "name": "stdout",
          "text": [
            "Collecting odfpy\n",
            "  Downloading odfpy-1.4.1.tar.gz (717 kB)\n",
            "\u001b[?25l\r\u001b[K     |▌                               | 10 kB 20.7 MB/s eta 0:00:01\r\u001b[K     |█                               | 20 kB 20.7 MB/s eta 0:00:01\r\u001b[K     |█▍                              | 30 kB 11.8 MB/s eta 0:00:01\r\u001b[K     |█▉                              | 40 kB 9.7 MB/s eta 0:00:01\r\u001b[K     |██▎                             | 51 kB 5.1 MB/s eta 0:00:01\r\u001b[K     |██▊                             | 61 kB 5.4 MB/s eta 0:00:01\r\u001b[K     |███▏                            | 71 kB 5.8 MB/s eta 0:00:01\r\u001b[K     |███▋                            | 81 kB 6.6 MB/s eta 0:00:01\r\u001b[K     |████▏                           | 92 kB 6.7 MB/s eta 0:00:01\r\u001b[K     |████▋                           | 102 kB 5.2 MB/s eta 0:00:01\r\u001b[K     |█████                           | 112 kB 5.2 MB/s eta 0:00:01\r\u001b[K     |█████▌                          | 122 kB 5.2 MB/s eta 0:00:01\r\u001b[K     |██████                          | 133 kB 5.2 MB/s eta 0:00:01\r\u001b[K     |██████▍                         | 143 kB 5.2 MB/s eta 0:00:01\r\u001b[K     |██████▉                         | 153 kB 5.2 MB/s eta 0:00:01\r\u001b[K     |███████▎                        | 163 kB 5.2 MB/s eta 0:00:01\r\u001b[K     |███████▊                        | 174 kB 5.2 MB/s eta 0:00:01\r\u001b[K     |████████▎                       | 184 kB 5.2 MB/s eta 0:00:01\r\u001b[K     |████████▊                       | 194 kB 5.2 MB/s eta 0:00:01\r\u001b[K     |█████████▏                      | 204 kB 5.2 MB/s eta 0:00:01\r\u001b[K     |█████████▋                      | 215 kB 5.2 MB/s eta 0:00:01\r\u001b[K     |██████████                      | 225 kB 5.2 MB/s eta 0:00:01\r\u001b[K     |██████████▌                     | 235 kB 5.2 MB/s eta 0:00:01\r\u001b[K     |███████████                     | 245 kB 5.2 MB/s eta 0:00:01\r\u001b[K     |███████████▍                    | 256 kB 5.2 MB/s eta 0:00:01\r\u001b[K     |███████████▉                    | 266 kB 5.2 MB/s eta 0:00:01\r\u001b[K     |████████████▍                   | 276 kB 5.2 MB/s eta 0:00:01\r\u001b[K     |████████████▉                   | 286 kB 5.2 MB/s eta 0:00:01\r\u001b[K     |█████████████▎                  | 296 kB 5.2 MB/s eta 0:00:01\r\u001b[K     |█████████████▊                  | 307 kB 5.2 MB/s eta 0:00:01\r\u001b[K     |██████████████▏                 | 317 kB 5.2 MB/s eta 0:00:01\r\u001b[K     |██████████████▋                 | 327 kB 5.2 MB/s eta 0:00:01\r\u001b[K     |███████████████                 | 337 kB 5.2 MB/s eta 0:00:01\r\u001b[K     |███████████████▌                | 348 kB 5.2 MB/s eta 0:00:01\r\u001b[K     |████████████████                | 358 kB 5.2 MB/s eta 0:00:01\r\u001b[K     |████████████████▌               | 368 kB 5.2 MB/s eta 0:00:01\r\u001b[K     |█████████████████               | 378 kB 5.2 MB/s eta 0:00:01\r\u001b[K     |█████████████████▍              | 389 kB 5.2 MB/s eta 0:00:01\r\u001b[K     |█████████████████▉              | 399 kB 5.2 MB/s eta 0:00:01\r\u001b[K     |██████████████████▎             | 409 kB 5.2 MB/s eta 0:00:01\r\u001b[K     |██████████████████▊             | 419 kB 5.2 MB/s eta 0:00:01\r\u001b[K     |███████████████████▏            | 430 kB 5.2 MB/s eta 0:00:01\r\u001b[K     |███████████████████▋            | 440 kB 5.2 MB/s eta 0:00:01\r\u001b[K     |████████████████████            | 450 kB 5.2 MB/s eta 0:00:01\r\u001b[K     |████████████████████▋           | 460 kB 5.2 MB/s eta 0:00:01\r\u001b[K     |█████████████████████           | 471 kB 5.2 MB/s eta 0:00:01\r\u001b[K     |█████████████████████▌          | 481 kB 5.2 MB/s eta 0:00:01\r\u001b[K     |██████████████████████          | 491 kB 5.2 MB/s eta 0:00:01\r\u001b[K     |██████████████████████▍         | 501 kB 5.2 MB/s eta 0:00:01\r\u001b[K     |██████████████████████▉         | 512 kB 5.2 MB/s eta 0:00:01\r\u001b[K     |███████████████████████▎        | 522 kB 5.2 MB/s eta 0:00:01\r\u001b[K     |███████████████████████▊        | 532 kB 5.2 MB/s eta 0:00:01\r\u001b[K     |████████████████████████▏       | 542 kB 5.2 MB/s eta 0:00:01\r\u001b[K     |████████████████████████▊       | 552 kB 5.2 MB/s eta 0:00:01\r\u001b[K     |█████████████████████████▏      | 563 kB 5.2 MB/s eta 0:00:01\r\u001b[K     |█████████████████████████▋      | 573 kB 5.2 MB/s eta 0:00:01\r\u001b[K     |██████████████████████████      | 583 kB 5.2 MB/s eta 0:00:01\r\u001b[K     |██████████████████████████▌     | 593 kB 5.2 MB/s eta 0:00:01\r\u001b[K     |███████████████████████████     | 604 kB 5.2 MB/s eta 0:00:01\r\u001b[K     |███████████████████████████▍    | 614 kB 5.2 MB/s eta 0:00:01\r\u001b[K     |███████████████████████████▉    | 624 kB 5.2 MB/s eta 0:00:01\r\u001b[K     |████████████████████████████▎   | 634 kB 5.2 MB/s eta 0:00:01\r\u001b[K     |████████████████████████████▉   | 645 kB 5.2 MB/s eta 0:00:01\r\u001b[K     |█████████████████████████████▎  | 655 kB 5.2 MB/s eta 0:00:01\r\u001b[K     |█████████████████████████████▊  | 665 kB 5.2 MB/s eta 0:00:01\r\u001b[K     |██████████████████████████████▏ | 675 kB 5.2 MB/s eta 0:00:01\r\u001b[K     |██████████████████████████████▋ | 686 kB 5.2 MB/s eta 0:00:01\r\u001b[K     |███████████████████████████████ | 696 kB 5.2 MB/s eta 0:00:01\r\u001b[K     |███████████████████████████████▌| 706 kB 5.2 MB/s eta 0:00:01\r\u001b[K     |████████████████████████████████| 716 kB 5.2 MB/s eta 0:00:01\r\u001b[K     |████████████████████████████████| 717 kB 5.2 MB/s \n",
            "\u001b[?25hRequirement already satisfied: defusedxml in /usr/local/lib/python3.7/dist-packages (from odfpy) (0.7.1)\n",
            "Building wheels for collected packages: odfpy\n",
            "  Building wheel for odfpy (setup.py) ... \u001b[?25l\u001b[?25hdone\n",
            "  Created wheel for odfpy: filename=odfpy-1.4.1-py2.py3-none-any.whl size=160693 sha256=8a825ba50cf3d34a6c2def698e951987c5599e217878f8031e27f94ebd9e04ff\n",
            "  Stored in directory: /root/.cache/pip/wheels/e2/f4/5d/a68c656235d33455a1d0f78e877acddfa006907a6d52d7e6ee\n",
            "Successfully built odfpy\n",
            "Installing collected packages: odfpy\n",
            "Successfully installed odfpy-1.4.1\n"
          ]
        }
      ]
    },
    {
      "cell_type": "markdown",
      "metadata": {
        "id": "dRCVt-P-Bzz6"
      },
      "source": [
        "Once installed, we can use the `read_excel` function from `pandas`, but specify `engine=\"odf\"`.\n",
        "\n",
        "The [documentation](https://pandas.pydata.org/pandas-docs/stable/reference/api/pandas.read_excel.html) explains that the `engine=` argument supports the following 'engines':\n",
        "\n",
        "> \"“xlrd”, “openpyxl”, “odf”, “pyxlsb”..... “odf” supports OpenDocument file formats (.odf, .ods, .odt).\n",
        "\n",
        "We can also specify which sheet we want, and get it to skip the first 4 rows before the heading row."
      ]
    },
    {
      "cell_type": "code",
      "metadata": {
        "id": "VWx1LSAqvK0R"
      },
      "source": [
        "#import the data specifying the 'engine' Docs say \"Supported engines: “xlrd”, “openpyxl”, “odf”, “pyxlsb”\"\n",
        "#and specifying the name of the sheet\n",
        "#and asking to skip the first 4 rows before the headings\n",
        "overview21mardf = pd.read_excel(overview21mar, \n",
        "                                engine=\"odf\", \n",
        "                                sheet_name=\"Q5_1\",\n",
        "                                skiprows=4)"
      ],
      "execution_count": null,
      "outputs": []
    },
    {
      "cell_type": "markdown",
      "metadata": {
        "id": "NUyZo2B9UqvJ"
      },
      "source": [
        "In the first 4 rows we have '12 months ending March' above the years, and 'Number of offenders' above the last column."
      ]
    },
    {
      "cell_type": "code",
      "metadata": {
        "colab": {
          "base_uri": "https://localhost:8080/",
          "height": 310
        },
        "id": "GnvbmcWRvsFg",
        "outputId": "f0f50263-f57d-4c97-84ce-a1c4db24a842"
      },
      "source": [
        "overview21mardf.head()"
      ],
      "execution_count": null,
      "outputs": [
        {
          "output_type": "execute_result",
          "data": {
            "text/html": [
              "<div>\n",
              "<style scoped>\n",
              "    .dataframe tbody tr th:only-of-type {\n",
              "        vertical-align: middle;\n",
              "    }\n",
              "\n",
              "    .dataframe tbody tr th {\n",
              "        vertical-align: top;\n",
              "    }\n",
              "\n",
              "    .dataframe thead th {\n",
              "        text-align: right;\n",
              "    }\n",
              "</style>\n",
              "<table border=\"1\" class=\"dataframe\">\n",
              "  <thead>\n",
              "    <tr style=\"text-align: right;\">\n",
              "      <th></th>\n",
              "      <th>Offence type</th>\n",
              "      <th>Type of sentence</th>\n",
              "      <th>2011</th>\n",
              "      <th>2012</th>\n",
              "      <th>2013</th>\n",
              "      <th>2014</th>\n",
              "      <th>2015</th>\n",
              "      <th>2016</th>\n",
              "      <th>2017</th>\n",
              "      <th>2018</th>\n",
              "      <th>2019</th>\n",
              "      <th>2020</th>\n",
              "      <th>2021</th>\n",
              "    </tr>\n",
              "  </thead>\n",
              "  <tbody>\n",
              "    <tr>\n",
              "      <th>0</th>\n",
              "      <td>Indictable only offences</td>\n",
              "      <td>Total sentenced</td>\n",
              "      <td>19976</td>\n",
              "      <td>19330.0</td>\n",
              "      <td>17144.0</td>\n",
              "      <td>15681.0</td>\n",
              "      <td>14597.0</td>\n",
              "      <td>14050.0</td>\n",
              "      <td>13731.0</td>\n",
              "      <td>13263.0</td>\n",
              "      <td>12006.0</td>\n",
              "      <td>12718.0</td>\n",
              "      <td>10573</td>\n",
              "    </tr>\n",
              "    <tr>\n",
              "      <th>1</th>\n",
              "      <td>NaN</td>\n",
              "      <td>NaN</td>\n",
              "      <td>NaN</td>\n",
              "      <td>NaN</td>\n",
              "      <td>NaN</td>\n",
              "      <td>NaN</td>\n",
              "      <td>NaN</td>\n",
              "      <td>NaN</td>\n",
              "      <td>NaN</td>\n",
              "      <td>NaN</td>\n",
              "      <td>NaN</td>\n",
              "      <td>NaN</td>\n",
              "      <td>NaN</td>\n",
              "    </tr>\n",
              "    <tr>\n",
              "      <th>2</th>\n",
              "      <td>NaN</td>\n",
              "      <td>Immediate custody</td>\n",
              "      <td>13868</td>\n",
              "      <td>13664.0</td>\n",
              "      <td>12377.0</td>\n",
              "      <td>11450.0</td>\n",
              "      <td>10752.0</td>\n",
              "      <td>10393.0</td>\n",
              "      <td>10138.0</td>\n",
              "      <td>9762.0</td>\n",
              "      <td>8796.0</td>\n",
              "      <td>9023.0</td>\n",
              "      <td>6945</td>\n",
              "    </tr>\n",
              "    <tr>\n",
              "      <th>3</th>\n",
              "      <td>NaN</td>\n",
              "      <td>Suspended sentence</td>\n",
              "      <td>1699</td>\n",
              "      <td>1509.0</td>\n",
              "      <td>1517.0</td>\n",
              "      <td>1579.0</td>\n",
              "      <td>1683.0</td>\n",
              "      <td>1667.0</td>\n",
              "      <td>1539.0</td>\n",
              "      <td>1470.0</td>\n",
              "      <td>1155.0</td>\n",
              "      <td>1276.0</td>\n",
              "      <td>1414</td>\n",
              "    </tr>\n",
              "    <tr>\n",
              "      <th>4</th>\n",
              "      <td>NaN</td>\n",
              "      <td>Community sentence</td>\n",
              "      <td>3724</td>\n",
              "      <td>3589.0</td>\n",
              "      <td>2901.0</td>\n",
              "      <td>2254.0</td>\n",
              "      <td>1682.0</td>\n",
              "      <td>1472.0</td>\n",
              "      <td>1392.0</td>\n",
              "      <td>1382.0</td>\n",
              "      <td>1402.0</td>\n",
              "      <td>1804.0</td>\n",
              "      <td>1770</td>\n",
              "    </tr>\n",
              "  </tbody>\n",
              "</table>\n",
              "</div>"
            ],
            "text/plain": [
              "               Offence type   Type of sentence    2011  ...     2019     2020   2021\n",
              "0  Indictable only offences     Total sentenced  19976  ...  12006.0  12718.0  10573\n",
              "1                       NaN                 NaN    NaN  ...      NaN      NaN    NaN\n",
              "2                       NaN   Immediate custody  13868  ...   8796.0   9023.0   6945\n",
              "3                       NaN  Suspended sentence   1699  ...   1155.0   1276.0   1414\n",
              "4                       NaN  Community sentence   3724  ...   1402.0   1804.0   1770\n",
              "\n",
              "[5 rows x 13 columns]"
            ]
          },
          "metadata": {},
          "execution_count": 10
        }
      ]
    },
    {
      "cell_type": "markdown",
      "metadata": {
        "id": "IsPQrCPl6Juz"
      },
      "source": [
        "## Cleaning while importing\n",
        "\n",
        "There are other ways of achieving the same or similar results. [See the documentation](https://pandas.pydata.org/pandas-docs/stable/reference/api/pandas.read_excel.html) for the arguments you can use with `read_excel()`."
      ]
    },
    {
      "cell_type": "code",
      "metadata": {
        "colab": {
          "base_uri": "https://localhost:8080/",
          "height": 206
        },
        "id": "gf1tsUhf6P_6",
        "outputId": "41b21995-db49-4bce-d280-5e1701f0473a"
      },
      "source": [
        "#import the data specifying the header row is row 5\n",
        "overview21mardf = pd.read_excel(overview21mar, \n",
        "                                engine=\"odf\", \n",
        "                                sheet_name=\"Q5_1\", \n",
        "                                header=4)\n",
        "#show first few rows\n",
        "overview21mardf.head()"
      ],
      "execution_count": null,
      "outputs": [
        {
          "output_type": "execute_result",
          "data": {
            "text/html": [
              "<div>\n",
              "<style scoped>\n",
              "    .dataframe tbody tr th:only-of-type {\n",
              "        vertical-align: middle;\n",
              "    }\n",
              "\n",
              "    .dataframe tbody tr th {\n",
              "        vertical-align: top;\n",
              "    }\n",
              "\n",
              "    .dataframe thead th {\n",
              "        text-align: right;\n",
              "    }\n",
              "</style>\n",
              "<table border=\"1\" class=\"dataframe\">\n",
              "  <thead>\n",
              "    <tr style=\"text-align: right;\">\n",
              "      <th></th>\n",
              "      <th>Offence type</th>\n",
              "      <th>Type of sentence</th>\n",
              "      <th>2011</th>\n",
              "      <th>2012</th>\n",
              "      <th>2013</th>\n",
              "      <th>2014</th>\n",
              "      <th>2015</th>\n",
              "      <th>2016</th>\n",
              "      <th>2017</th>\n",
              "      <th>2018</th>\n",
              "      <th>2019</th>\n",
              "      <th>2020</th>\n",
              "      <th>2021</th>\n",
              "    </tr>\n",
              "  </thead>\n",
              "  <tbody>\n",
              "    <tr>\n",
              "      <th>0</th>\n",
              "      <td>Indictable only offences</td>\n",
              "      <td>Total sentenced</td>\n",
              "      <td>19976</td>\n",
              "      <td>19330.0</td>\n",
              "      <td>17144.0</td>\n",
              "      <td>15681.0</td>\n",
              "      <td>14597.0</td>\n",
              "      <td>14050.0</td>\n",
              "      <td>13731.0</td>\n",
              "      <td>13263.0</td>\n",
              "      <td>12006.0</td>\n",
              "      <td>12718.0</td>\n",
              "      <td>10573</td>\n",
              "    </tr>\n",
              "    <tr>\n",
              "      <th>1</th>\n",
              "      <td>NaN</td>\n",
              "      <td>NaN</td>\n",
              "      <td>NaN</td>\n",
              "      <td>NaN</td>\n",
              "      <td>NaN</td>\n",
              "      <td>NaN</td>\n",
              "      <td>NaN</td>\n",
              "      <td>NaN</td>\n",
              "      <td>NaN</td>\n",
              "      <td>NaN</td>\n",
              "      <td>NaN</td>\n",
              "      <td>NaN</td>\n",
              "      <td>NaN</td>\n",
              "    </tr>\n",
              "    <tr>\n",
              "      <th>2</th>\n",
              "      <td>NaN</td>\n",
              "      <td>Immediate custody</td>\n",
              "      <td>13868</td>\n",
              "      <td>13664.0</td>\n",
              "      <td>12377.0</td>\n",
              "      <td>11450.0</td>\n",
              "      <td>10752.0</td>\n",
              "      <td>10393.0</td>\n",
              "      <td>10138.0</td>\n",
              "      <td>9762.0</td>\n",
              "      <td>8796.0</td>\n",
              "      <td>9023.0</td>\n",
              "      <td>6945</td>\n",
              "    </tr>\n",
              "    <tr>\n",
              "      <th>3</th>\n",
              "      <td>NaN</td>\n",
              "      <td>Suspended sentence</td>\n",
              "      <td>1699</td>\n",
              "      <td>1509.0</td>\n",
              "      <td>1517.0</td>\n",
              "      <td>1579.0</td>\n",
              "      <td>1683.0</td>\n",
              "      <td>1667.0</td>\n",
              "      <td>1539.0</td>\n",
              "      <td>1470.0</td>\n",
              "      <td>1155.0</td>\n",
              "      <td>1276.0</td>\n",
              "      <td>1414</td>\n",
              "    </tr>\n",
              "    <tr>\n",
              "      <th>4</th>\n",
              "      <td>NaN</td>\n",
              "      <td>Community sentence</td>\n",
              "      <td>3724</td>\n",
              "      <td>3589.0</td>\n",
              "      <td>2901.0</td>\n",
              "      <td>2254.0</td>\n",
              "      <td>1682.0</td>\n",
              "      <td>1472.0</td>\n",
              "      <td>1392.0</td>\n",
              "      <td>1382.0</td>\n",
              "      <td>1402.0</td>\n",
              "      <td>1804.0</td>\n",
              "      <td>1770</td>\n",
              "    </tr>\n",
              "  </tbody>\n",
              "</table>\n",
              "</div>"
            ],
            "text/plain": [
              "               Offence type   Type of sentence    2011  ...     2019     2020   2021\n",
              "0  Indictable only offences     Total sentenced  19976  ...  12006.0  12718.0  10573\n",
              "1                       NaN                 NaN    NaN  ...      NaN      NaN    NaN\n",
              "2                       NaN   Immediate custody  13868  ...   8796.0   9023.0   6945\n",
              "3                       NaN  Suspended sentence   1699  ...   1155.0   1276.0   1414\n",
              "4                       NaN  Community sentence   3724  ...   1402.0   1804.0   1770\n",
              "\n",
              "[5 rows x 13 columns]"
            ]
          },
          "metadata": {},
          "execution_count": 7
        }
      ]
    },
    {
      "cell_type": "markdown",
      "metadata": {
        "id": "FDrMmbOZ8a0f"
      },
      "source": [
        "### Specifying column names\n",
        "\n",
        "We can also specify things like column names and data types rather than leave it to `read_excel()` to figure out.\n",
        "\n",
        "In the code below we create a list of column names that we can then use when importing the data, with the `names=` argument."
      ]
    },
    {
      "cell_type": "code",
      "metadata": {
        "colab": {
          "base_uri": "https://localhost:8080/"
        },
        "id": "eiJ6R607Y6qG",
        "outputId": "ea00baaf-3c08-4d4b-bde9-eaea1ff9a548"
      },
      "source": [
        "#create list to store our new column headers in\n",
        "#it's already got the first two, but we can easily create the rest and add them on\n",
        "newcolumnheaders = ['offence','sentencetype']\n",
        "\n",
        "#loop through a range of numbers from 2011 to 2021\n",
        "for i in range(2011,2022):\n",
        "  #add a string version of that number to the list\n",
        "  newcolumnheaders.append(str(i))\n",
        "\n",
        "newcolumnheaders"
      ],
      "execution_count": 1,
      "outputs": [
        {
          "output_type": "execute_result",
          "data": {
            "text/plain": [
              "['offence',\n",
              " 'sentencetype',\n",
              " '2011',\n",
              " '2012',\n",
              " '2013',\n",
              " '2014',\n",
              " '2015',\n",
              " '2016',\n",
              " '2017',\n",
              " '2018',\n",
              " '2019',\n",
              " '2020',\n",
              " '2021']"
            ]
          },
          "metadata": {},
          "execution_count": 1
        }
      ]
    },
    {
      "cell_type": "markdown",
      "metadata": {
        "id": "lGpWb0kP3R-v"
      },
      "source": [
        "Here's an alternative way of doing it: creating two lists and then joining them together"
      ]
    },
    {
      "cell_type": "code",
      "metadata": {
        "colab": {
          "base_uri": "https://localhost:8080/"
        },
        "id": "AhnVssuL9IRv",
        "outputId": "66bcfe33-df9e-47ce-db36-9b341670d26e"
      },
      "source": [
        "#create a list of years as strings \n",
        "yrstrings = [str(i) for i in range(2011,2022)]\n",
        "#create a list with the first two column names\n",
        "newcols =['offence','sentencetype']\n",
        "#add the two lists together to overwrite the second list\n",
        "newcols= newcols+yrstrings\n",
        "print(newcols)"
      ],
      "execution_count": 2,
      "outputs": [
        {
          "output_type": "stream",
          "name": "stdout",
          "text": [
            "['offence', 'sentencetype', '2011', '2012', '2013', '2014', '2015', '2016', '2017', '2018', '2019', '2020', '2021']\n"
          ]
        }
      ]
    },
    {
      "cell_type": "markdown",
      "metadata": {
        "id": "zOWewYmM3ant"
      },
      "source": [
        "And here's how to use that list when importing the data, with the `names=` argument."
      ]
    },
    {
      "cell_type": "code",
      "metadata": {
        "id": "WXw1TQvp3Yie"
      },
      "source": [
        "\n",
        "#import the data specifying the header row is row 5 and the names of columns\n",
        "overview21mardf = pd.read_excel(overview21mar, \n",
        "                                engine=\"odf\", \n",
        "                                sheet_name=\"Q5_1\", \n",
        "                                header=4,\n",
        "                                names=newcols) #use that list to specify the column names\n",
        "#show first few rows\n",
        "overview21mardf.head()"
      ],
      "execution_count": null,
      "outputs": []
    },
    {
      "cell_type": "markdown",
      "metadata": {
        "id": "lfcDw0LeAGMf"
      },
      "source": [
        "### Specifying data types\n",
        "\n",
        "Another problem we can solve at import is the data types.\n",
        "\n",
        "Here are the data types as 'guessed' when importing."
      ]
    },
    {
      "cell_type": "code",
      "metadata": {
        "colab": {
          "base_uri": "https://localhost:8080/"
        },
        "id": "IWZaDK_48j_e",
        "outputId": "4efc3e3b-be81-4754-d511-e450eb103d28"
      },
      "source": [
        "#store data types of each column\n",
        "dftypes = overview21mardf.dtypes\n",
        "#show\n",
        "dftypes"
      ],
      "execution_count": null,
      "outputs": [
        {
          "output_type": "execute_result",
          "data": {
            "text/plain": [
              "offence          object\n",
              "sentencetype     object\n",
              "2011             object\n",
              "2012            float64\n",
              "2013            float64\n",
              "2014            float64\n",
              "2015            float64\n",
              "2016            float64\n",
              "2017            float64\n",
              "2018            float64\n",
              "2019            float64\n",
              "2020            float64\n",
              "2021             object\n",
              "dtype: object"
            ]
          },
          "metadata": {},
          "execution_count": 18
        }
      ]
    },
    {
      "cell_type": "markdown",
      "metadata": {
        "id": "SAXQtkGl9OSR"
      },
      "source": [
        "We can see the last column - 2021 - is an 'object' when it should be a number (float). The same applies to 2011.\n",
        "\n",
        "What is an 'object'? Well it's actually a type of data that retains the variation within Excel itself. For example, let's show the value in the first cell of that last column.\n",
        "\n",
        "(We use the `.iloc[]` function to specify a location by its row and column indices)"
      ]
    },
    {
      "cell_type": "code",
      "metadata": {
        "colab": {
          "base_uri": "https://localhost:8080/"
        },
        "id": "vm7Vbhp8Hzj_",
        "outputId": "261b9995-3cbd-4ff9-e536-a785a5edebde"
      },
      "source": [
        "#show the value of the 'cell' in row 0, column 12\n",
        "print(overview21mardf.iloc[0,12])\n",
        "#show the type\n",
        "print(type(overview21mardf.iloc[0,12]))\n",
        "#show the value of row 1, column 12\n",
        "print(overview21mardf.iloc[1,12])\n",
        "#show the type\n",
        "print(type(overview21mardf.iloc[1,12]))"
      ],
      "execution_count": null,
      "outputs": [
        {
          "output_type": "stream",
          "name": "stdout",
          "text": [
            "10573\n",
            "<class 'int'>\n",
            "nan\n",
            "<class 'float'>\n"
          ]
        }
      ]
    },
    {
      "cell_type": "markdown",
      "metadata": {
        "id": "8zXGtcmmIT3Q"
      },
      "source": [
        "We can specify we want the last column to be a float, but we will get an error because not all the cells contain values that can be converted."
      ]
    },
    {
      "cell_type": "code",
      "metadata": {
        "colab": {
          "base_uri": "https://localhost:8080/",
          "height": 575
        },
        "id": "jDLXdg9V-uRq",
        "outputId": "a1e87479-85a2-427d-e740-82ebacb4c5cc"
      },
      "source": [
        "#create a list of years as strings \n",
        "yrstrings = [str(i) for i in range(2011,2022)]\n",
        "#create a list with the first two column names\n",
        "newcols =['offence','sentencetype']\n",
        "#add the two lists together to overwrite the second list\n",
        "newcols= newcols+yrstrings\n",
        "print(newcols)\n",
        "#import the data specifying the header row is row 5 and the names of columns\n",
        "overview21mardf = pd.read_excel(overview21mar, \n",
        "                                engine=\"odf\", \n",
        "                                sheet_name=\"Q5_1\", \n",
        "                                header=4,\n",
        "                                names=newcols,\n",
        "                                converters={'2021':float}) #specify the data types\n",
        "#show first few rows\n",
        "overview21mardf.head()"
      ],
      "execution_count": null,
      "outputs": [
        {
          "output_type": "stream",
          "name": "stdout",
          "text": [
            "['offence', 'sentencetype', '2011', '2012', '2013', '2014', '2015', '2016', '2017', '2018', '2019', '2020', '2021']\n"
          ]
        },
        {
          "output_type": "error",
          "ename": "ValueError",
          "evalue": "ignored",
          "traceback": [
            "\u001b[0;31m---------------------------------------------------------------------------\u001b[0m",
            "\u001b[0;31mValueError\u001b[0m                                Traceback (most recent call last)",
            "\u001b[0;32m/usr/local/lib/python3.7/dist-packages/pandas/io/parsers.py\u001b[0m in \u001b[0;36m_convert_to_ndarrays\u001b[0;34m(self, dct, na_values, na_fvalues, verbose, converters, dtypes)\u001b[0m\n\u001b[1;32m   1811\u001b[0m                 \u001b[0;32mtry\u001b[0m\u001b[0;34m:\u001b[0m\u001b[0;34m\u001b[0m\u001b[0;34m\u001b[0m\u001b[0m\n\u001b[0;32m-> 1812\u001b[0;31m                     \u001b[0mvalues\u001b[0m \u001b[0;34m=\u001b[0m \u001b[0mlib\u001b[0m\u001b[0;34m.\u001b[0m\u001b[0mmap_infer\u001b[0m\u001b[0;34m(\u001b[0m\u001b[0mvalues\u001b[0m\u001b[0;34m,\u001b[0m \u001b[0mconv_f\u001b[0m\u001b[0;34m)\u001b[0m\u001b[0;34m\u001b[0m\u001b[0;34m\u001b[0m\u001b[0m\n\u001b[0m\u001b[1;32m   1813\u001b[0m                 \u001b[0;32mexcept\u001b[0m \u001b[0mValueError\u001b[0m\u001b[0;34m:\u001b[0m\u001b[0;34m\u001b[0m\u001b[0;34m\u001b[0m\u001b[0m\n",
            "\u001b[0;32mpandas/_libs/lib.pyx\u001b[0m in \u001b[0;36mpandas._libs.lib.map_infer\u001b[0;34m()\u001b[0m\n",
            "\u001b[0;31mValueError\u001b[0m: could not convert string to float: ",
            "\nDuring handling of the above exception, another exception occurred:\n",
            "\u001b[0;31mValueError\u001b[0m                                Traceback (most recent call last)",
            "\u001b[0;32m<ipython-input-11-9336eb42fad0>\u001b[0m in \u001b[0;36m<module>\u001b[0;34m()\u001b[0m\n\u001b[1;32m     12\u001b[0m                                 \u001b[0mheader\u001b[0m\u001b[0;34m=\u001b[0m\u001b[0;36m4\u001b[0m\u001b[0;34m,\u001b[0m\u001b[0;34m\u001b[0m\u001b[0;34m\u001b[0m\u001b[0m\n\u001b[1;32m     13\u001b[0m                                 \u001b[0mnames\u001b[0m\u001b[0;34m=\u001b[0m\u001b[0mnewcols\u001b[0m\u001b[0;34m,\u001b[0m\u001b[0;34m\u001b[0m\u001b[0;34m\u001b[0m\u001b[0m\n\u001b[0;32m---> 14\u001b[0;31m                                 converters={'2021':float}) #specify the data types\n\u001b[0m\u001b[1;32m     15\u001b[0m \u001b[0;31m#show first few rows\u001b[0m\u001b[0;34m\u001b[0m\u001b[0;34m\u001b[0m\u001b[0;34m\u001b[0m\u001b[0m\n\u001b[1;32m     16\u001b[0m \u001b[0moverview21mardf\u001b[0m\u001b[0;34m.\u001b[0m\u001b[0mhead\u001b[0m\u001b[0;34m(\u001b[0m\u001b[0;34m)\u001b[0m\u001b[0;34m\u001b[0m\u001b[0;34m\u001b[0m\u001b[0m\n",
            "\u001b[0;32m/usr/local/lib/python3.7/dist-packages/pandas/util/_decorators.py\u001b[0m in \u001b[0;36mwrapper\u001b[0;34m(*args, **kwargs)\u001b[0m\n\u001b[1;32m    294\u001b[0m                 )\n\u001b[1;32m    295\u001b[0m                 \u001b[0mwarnings\u001b[0m\u001b[0;34m.\u001b[0m\u001b[0mwarn\u001b[0m\u001b[0;34m(\u001b[0m\u001b[0mmsg\u001b[0m\u001b[0;34m,\u001b[0m \u001b[0mFutureWarning\u001b[0m\u001b[0;34m,\u001b[0m \u001b[0mstacklevel\u001b[0m\u001b[0;34m=\u001b[0m\u001b[0mstacklevel\u001b[0m\u001b[0;34m)\u001b[0m\u001b[0;34m\u001b[0m\u001b[0;34m\u001b[0m\u001b[0m\n\u001b[0;32m--> 296\u001b[0;31m             \u001b[0;32mreturn\u001b[0m \u001b[0mfunc\u001b[0m\u001b[0;34m(\u001b[0m\u001b[0;34m*\u001b[0m\u001b[0margs\u001b[0m\u001b[0;34m,\u001b[0m \u001b[0;34m**\u001b[0m\u001b[0mkwargs\u001b[0m\u001b[0;34m)\u001b[0m\u001b[0;34m\u001b[0m\u001b[0;34m\u001b[0m\u001b[0m\n\u001b[0m\u001b[1;32m    297\u001b[0m \u001b[0;34m\u001b[0m\u001b[0m\n\u001b[1;32m    298\u001b[0m         \u001b[0;32mreturn\u001b[0m \u001b[0mwrapper\u001b[0m\u001b[0;34m\u001b[0m\u001b[0;34m\u001b[0m\u001b[0m\n",
            "\u001b[0;32m/usr/local/lib/python3.7/dist-packages/pandas/io/excel/_base.py\u001b[0m in \u001b[0;36mread_excel\u001b[0;34m(io, sheet_name, header, names, index_col, usecols, squeeze, dtype, engine, converters, true_values, false_values, skiprows, nrows, na_values, keep_default_na, na_filter, verbose, parse_dates, date_parser, thousands, comment, skipfooter, convert_float, mangle_dupe_cols)\u001b[0m\n\u001b[1;32m    332\u001b[0m         \u001b[0mskipfooter\u001b[0m\u001b[0;34m=\u001b[0m\u001b[0mskipfooter\u001b[0m\u001b[0;34m,\u001b[0m\u001b[0;34m\u001b[0m\u001b[0;34m\u001b[0m\u001b[0m\n\u001b[1;32m    333\u001b[0m         \u001b[0mconvert_float\u001b[0m\u001b[0;34m=\u001b[0m\u001b[0mconvert_float\u001b[0m\u001b[0;34m,\u001b[0m\u001b[0;34m\u001b[0m\u001b[0;34m\u001b[0m\u001b[0m\n\u001b[0;32m--> 334\u001b[0;31m         \u001b[0mmangle_dupe_cols\u001b[0m\u001b[0;34m=\u001b[0m\u001b[0mmangle_dupe_cols\u001b[0m\u001b[0;34m,\u001b[0m\u001b[0;34m\u001b[0m\u001b[0;34m\u001b[0m\u001b[0m\n\u001b[0m\u001b[1;32m    335\u001b[0m     )\n\u001b[1;32m    336\u001b[0m \u001b[0;34m\u001b[0m\u001b[0m\n",
            "\u001b[0;32m/usr/local/lib/python3.7/dist-packages/pandas/io/excel/_base.py\u001b[0m in \u001b[0;36mparse\u001b[0;34m(self, sheet_name, header, names, index_col, usecols, squeeze, converters, true_values, false_values, skiprows, nrows, na_values, parse_dates, date_parser, thousands, comment, skipfooter, convert_float, mangle_dupe_cols, **kwds)\u001b[0m\n\u001b[1;32m    924\u001b[0m             \u001b[0mconvert_float\u001b[0m\u001b[0;34m=\u001b[0m\u001b[0mconvert_float\u001b[0m\u001b[0;34m,\u001b[0m\u001b[0;34m\u001b[0m\u001b[0;34m\u001b[0m\u001b[0m\n\u001b[1;32m    925\u001b[0m             \u001b[0mmangle_dupe_cols\u001b[0m\u001b[0;34m=\u001b[0m\u001b[0mmangle_dupe_cols\u001b[0m\u001b[0;34m,\u001b[0m\u001b[0;34m\u001b[0m\u001b[0;34m\u001b[0m\u001b[0m\n\u001b[0;32m--> 926\u001b[0;31m             \u001b[0;34m**\u001b[0m\u001b[0mkwds\u001b[0m\u001b[0;34m,\u001b[0m\u001b[0;34m\u001b[0m\u001b[0;34m\u001b[0m\u001b[0m\n\u001b[0m\u001b[1;32m    927\u001b[0m         )\n\u001b[1;32m    928\u001b[0m \u001b[0;34m\u001b[0m\u001b[0m\n",
            "\u001b[0;32m/usr/local/lib/python3.7/dist-packages/pandas/io/excel/_base.py\u001b[0m in \u001b[0;36mparse\u001b[0;34m(self, sheet_name, header, names, index_col, usecols, squeeze, dtype, true_values, false_values, skiprows, nrows, na_values, verbose, parse_dates, date_parser, thousands, comment, skipfooter, convert_float, mangle_dupe_cols, **kwds)\u001b[0m\n\u001b[1;32m    515\u001b[0m                 )\n\u001b[1;32m    516\u001b[0m \u001b[0;34m\u001b[0m\u001b[0m\n\u001b[0;32m--> 517\u001b[0;31m                 \u001b[0moutput\u001b[0m\u001b[0;34m[\u001b[0m\u001b[0masheetname\u001b[0m\u001b[0;34m]\u001b[0m \u001b[0;34m=\u001b[0m \u001b[0mparser\u001b[0m\u001b[0;34m.\u001b[0m\u001b[0mread\u001b[0m\u001b[0;34m(\u001b[0m\u001b[0mnrows\u001b[0m\u001b[0;34m=\u001b[0m\u001b[0mnrows\u001b[0m\u001b[0;34m)\u001b[0m\u001b[0;34m\u001b[0m\u001b[0;34m\u001b[0m\u001b[0m\n\u001b[0m\u001b[1;32m    518\u001b[0m \u001b[0;34m\u001b[0m\u001b[0m\n\u001b[1;32m    519\u001b[0m                 \u001b[0;32mif\u001b[0m \u001b[0;32mnot\u001b[0m \u001b[0msqueeze\u001b[0m \u001b[0;32mor\u001b[0m \u001b[0misinstance\u001b[0m\u001b[0;34m(\u001b[0m\u001b[0moutput\u001b[0m\u001b[0;34m[\u001b[0m\u001b[0masheetname\u001b[0m\u001b[0;34m]\u001b[0m\u001b[0;34m,\u001b[0m \u001b[0mDataFrame\u001b[0m\u001b[0;34m)\u001b[0m\u001b[0;34m:\u001b[0m\u001b[0;34m\u001b[0m\u001b[0;34m\u001b[0m\u001b[0m\n",
            "\u001b[0;32m/usr/local/lib/python3.7/dist-packages/pandas/io/parsers.py\u001b[0m in \u001b[0;36mread\u001b[0;34m(self, nrows)\u001b[0m\n\u001b[1;32m   1196\u001b[0m     \u001b[0;32mdef\u001b[0m \u001b[0mread\u001b[0m\u001b[0;34m(\u001b[0m\u001b[0mself\u001b[0m\u001b[0;34m,\u001b[0m \u001b[0mnrows\u001b[0m\u001b[0;34m=\u001b[0m\u001b[0;32mNone\u001b[0m\u001b[0;34m)\u001b[0m\u001b[0;34m:\u001b[0m\u001b[0;34m\u001b[0m\u001b[0;34m\u001b[0m\u001b[0m\n\u001b[1;32m   1197\u001b[0m         \u001b[0mnrows\u001b[0m \u001b[0;34m=\u001b[0m \u001b[0m_validate_integer\u001b[0m\u001b[0;34m(\u001b[0m\u001b[0;34m\"nrows\"\u001b[0m\u001b[0;34m,\u001b[0m \u001b[0mnrows\u001b[0m\u001b[0;34m)\u001b[0m\u001b[0;34m\u001b[0m\u001b[0;34m\u001b[0m\u001b[0m\n\u001b[0;32m-> 1198\u001b[0;31m         \u001b[0mret\u001b[0m \u001b[0;34m=\u001b[0m \u001b[0mself\u001b[0m\u001b[0;34m.\u001b[0m\u001b[0m_engine\u001b[0m\u001b[0;34m.\u001b[0m\u001b[0mread\u001b[0m\u001b[0;34m(\u001b[0m\u001b[0mnrows\u001b[0m\u001b[0;34m)\u001b[0m\u001b[0;34m\u001b[0m\u001b[0;34m\u001b[0m\u001b[0m\n\u001b[0m\u001b[1;32m   1199\u001b[0m \u001b[0;34m\u001b[0m\u001b[0m\n\u001b[1;32m   1200\u001b[0m         \u001b[0;31m# May alter columns / col_dict\u001b[0m\u001b[0;34m\u001b[0m\u001b[0;34m\u001b[0m\u001b[0;34m\u001b[0m\u001b[0m\n",
            "\u001b[0;32m/usr/local/lib/python3.7/dist-packages/pandas/io/parsers.py\u001b[0m in \u001b[0;36mread\u001b[0;34m(self, rows)\u001b[0m\n\u001b[1;32m   2589\u001b[0m         \u001b[0mcolumns\u001b[0m\u001b[0;34m,\u001b[0m \u001b[0mdata\u001b[0m \u001b[0;34m=\u001b[0m \u001b[0mself\u001b[0m\u001b[0;34m.\u001b[0m\u001b[0m_do_date_conversions\u001b[0m\u001b[0;34m(\u001b[0m\u001b[0mcolumns\u001b[0m\u001b[0;34m,\u001b[0m \u001b[0mdata\u001b[0m\u001b[0;34m)\u001b[0m\u001b[0;34m\u001b[0m\u001b[0;34m\u001b[0m\u001b[0m\n\u001b[1;32m   2590\u001b[0m \u001b[0;34m\u001b[0m\u001b[0m\n\u001b[0;32m-> 2591\u001b[0;31m         \u001b[0mdata\u001b[0m \u001b[0;34m=\u001b[0m \u001b[0mself\u001b[0m\u001b[0;34m.\u001b[0m\u001b[0m_convert_data\u001b[0m\u001b[0;34m(\u001b[0m\u001b[0mdata\u001b[0m\u001b[0;34m)\u001b[0m\u001b[0;34m\u001b[0m\u001b[0;34m\u001b[0m\u001b[0m\n\u001b[0m\u001b[1;32m   2592\u001b[0m         \u001b[0mindex\u001b[0m\u001b[0;34m,\u001b[0m \u001b[0mcolumns\u001b[0m \u001b[0;34m=\u001b[0m \u001b[0mself\u001b[0m\u001b[0;34m.\u001b[0m\u001b[0m_make_index\u001b[0m\u001b[0;34m(\u001b[0m\u001b[0mdata\u001b[0m\u001b[0;34m,\u001b[0m \u001b[0malldata\u001b[0m\u001b[0;34m,\u001b[0m \u001b[0mcolumns\u001b[0m\u001b[0;34m,\u001b[0m \u001b[0mindexnamerow\u001b[0m\u001b[0;34m)\u001b[0m\u001b[0;34m\u001b[0m\u001b[0;34m\u001b[0m\u001b[0m\n\u001b[1;32m   2593\u001b[0m \u001b[0;34m\u001b[0m\u001b[0m\n",
            "\u001b[0;32m/usr/local/lib/python3.7/dist-packages/pandas/io/parsers.py\u001b[0m in \u001b[0;36m_convert_data\u001b[0;34m(self, data)\u001b[0m\n\u001b[1;32m   2659\u001b[0m             \u001b[0mself\u001b[0m\u001b[0;34m.\u001b[0m\u001b[0mverbose\u001b[0m\u001b[0;34m,\u001b[0m\u001b[0;34m\u001b[0m\u001b[0;34m\u001b[0m\u001b[0m\n\u001b[1;32m   2660\u001b[0m             \u001b[0mclean_conv\u001b[0m\u001b[0;34m,\u001b[0m\u001b[0;34m\u001b[0m\u001b[0;34m\u001b[0m\u001b[0m\n\u001b[0;32m-> 2661\u001b[0;31m             \u001b[0mclean_dtypes\u001b[0m\u001b[0;34m,\u001b[0m\u001b[0;34m\u001b[0m\u001b[0;34m\u001b[0m\u001b[0m\n\u001b[0m\u001b[1;32m   2662\u001b[0m         )\n\u001b[1;32m   2663\u001b[0m \u001b[0;34m\u001b[0m\u001b[0m\n",
            "\u001b[0;32m/usr/local/lib/python3.7/dist-packages/pandas/io/parsers.py\u001b[0m in \u001b[0;36m_convert_to_ndarrays\u001b[0;34m(self, dct, na_values, na_fvalues, verbose, converters, dtypes)\u001b[0m\n\u001b[1;32m   1813\u001b[0m                 \u001b[0;32mexcept\u001b[0m \u001b[0mValueError\u001b[0m\u001b[0;34m:\u001b[0m\u001b[0;34m\u001b[0m\u001b[0;34m\u001b[0m\u001b[0m\n\u001b[1;32m   1814\u001b[0m                     \u001b[0mmask\u001b[0m \u001b[0;34m=\u001b[0m \u001b[0malgorithms\u001b[0m\u001b[0;34m.\u001b[0m\u001b[0misin\u001b[0m\u001b[0;34m(\u001b[0m\u001b[0mvalues\u001b[0m\u001b[0;34m,\u001b[0m \u001b[0mlist\u001b[0m\u001b[0;34m(\u001b[0m\u001b[0mna_values\u001b[0m\u001b[0;34m)\u001b[0m\u001b[0;34m)\u001b[0m\u001b[0;34m.\u001b[0m\u001b[0mview\u001b[0m\u001b[0;34m(\u001b[0m\u001b[0mnp\u001b[0m\u001b[0;34m.\u001b[0m\u001b[0muint8\u001b[0m\u001b[0;34m)\u001b[0m\u001b[0;34m\u001b[0m\u001b[0;34m\u001b[0m\u001b[0m\n\u001b[0;32m-> 1815\u001b[0;31m                     \u001b[0mvalues\u001b[0m \u001b[0;34m=\u001b[0m \u001b[0mlib\u001b[0m\u001b[0;34m.\u001b[0m\u001b[0mmap_infer_mask\u001b[0m\u001b[0;34m(\u001b[0m\u001b[0mvalues\u001b[0m\u001b[0;34m,\u001b[0m \u001b[0mconv_f\u001b[0m\u001b[0;34m,\u001b[0m \u001b[0mmask\u001b[0m\u001b[0;34m)\u001b[0m\u001b[0;34m\u001b[0m\u001b[0;34m\u001b[0m\u001b[0m\n\u001b[0m\u001b[1;32m   1816\u001b[0m \u001b[0;34m\u001b[0m\u001b[0m\n\u001b[1;32m   1817\u001b[0m                 cvals, na_count = self._infer_types(\n",
            "\u001b[0;32mpandas/_libs/lib.pyx\u001b[0m in \u001b[0;36mpandas._libs.lib.map_infer_mask\u001b[0;34m()\u001b[0m\n",
            "\u001b[0;31mValueError\u001b[0m: could not convert string to float: 'Number of persons'"
          ]
        }
      ]
    },
    {
      "cell_type": "markdown",
      "metadata": {
        "id": "WGK5e4jCJ40F"
      },
      "source": [
        "## Using the `collections` library to count frequency of values in a list\n",
        "\n",
        "We can check that by looping through the column, checking the type of each value, and creating a list of those types.\n",
        "\n",
        "Then, the `Counter()` function from the `collections` library can be used to count frequency in that list."
      ]
    },
    {
      "cell_type": "code",
      "metadata": {
        "id": "b7pcs7qKbQ0A"
      },
      "source": [
        "#create empty list\n",
        "listofdtypes = []\n",
        "\n",
        "#grab the column's values\n",
        "colvalues = overview21mardf['2021']\n",
        "\n",
        "#loop through that column\n",
        "for i in colvalues:\n",
        "  #add type of value to our list\n",
        "  listofdtypes.append(type(i))\n",
        "\n"
      ],
      "execution_count": null,
      "outputs": []
    },
    {
      "cell_type": "code",
      "metadata": {
        "colab": {
          "base_uri": "https://localhost:8080/"
        },
        "id": "Jj5SU5rjI9q8",
        "outputId": "0371edc3-844f-45bf-df19-137b4821d6f6"
      },
      "source": [
        "#create a list of the types of each value in that column\n",
        "typelist = [type(i) for i in overview21mardf.iloc[:,12]]\n",
        "#import a library to use the Counter function\n",
        "import collections\n",
        "#count the frequency of items in the list\n",
        "print(collections.Counter(typelist))"
      ],
      "execution_count": null,
      "outputs": [
        {
          "output_type": "stream",
          "name": "stdout",
          "text": [
            "Counter({<class 'int'>: 109, <class 'float'>: 73, <class 'str'>: 1})\n"
          ]
        }
      ]
    },
    {
      "cell_type": "markdown",
      "metadata": {
        "id": "N0UECUAKKUPJ"
      },
      "source": [
        "There's one string, which is the culprit. But we can deal with that later."
      ]
    },
    {
      "cell_type": "markdown",
      "metadata": {
        "id": "AqXRlQR0VjTi"
      },
      "source": [
        "## Get rid of empty rows using `dropna`\n",
        "\n",
        "Some rows are entirely empty. How can we get rid of those? Handily, `pandas` has a function that does that: `.dropna()`\n",
        "\n",
        "However, if used without any arguments, this drops all rows with an `NaN` value or empty cell *anywhere* (note the index column loses all rows from 1-12):"
      ]
    },
    {
      "cell_type": "code",
      "metadata": {
        "id": "OaqF3yJxN4PB"
      },
      "source": [
        "#import the data again\n",
        "overview21mardf = pd.read_excel(overview21mar, \n",
        "                                engine=\"odf\", \n",
        "                                sheet_name=\"Q5_1\", \n",
        "                                skiprows=4)"
      ],
      "execution_count": null,
      "outputs": []
    },
    {
      "cell_type": "code",
      "metadata": {
        "colab": {
          "base_uri": "https://localhost:8080/",
          "height": 894
        },
        "id": "NhSu0xPhV1H7",
        "outputId": "80c34fda-a6ee-4b34-ff4f-ffe0b918a437"
      },
      "source": [
        "overview21mardf.dropna()"
      ],
      "execution_count": null,
      "outputs": [
        {
          "output_type": "execute_result",
          "data": {
            "text/html": [
              "<div>\n",
              "<style scoped>\n",
              "    .dataframe tbody tr th:only-of-type {\n",
              "        vertical-align: middle;\n",
              "    }\n",
              "\n",
              "    .dataframe tbody tr th {\n",
              "        vertical-align: top;\n",
              "    }\n",
              "\n",
              "    .dataframe thead th {\n",
              "        text-align: right;\n",
              "    }\n",
              "</style>\n",
              "<table border=\"1\" class=\"dataframe\">\n",
              "  <thead>\n",
              "    <tr style=\"text-align: right;\">\n",
              "      <th></th>\n",
              "      <th>Offence type</th>\n",
              "      <th>Type of sentence</th>\n",
              "      <th>2011</th>\n",
              "      <th>2012</th>\n",
              "      <th>2013</th>\n",
              "      <th>2014</th>\n",
              "      <th>2015</th>\n",
              "      <th>2016</th>\n",
              "      <th>2017</th>\n",
              "      <th>2018</th>\n",
              "      <th>2019</th>\n",
              "      <th>2020</th>\n",
              "      <th>2021</th>\n",
              "    </tr>\n",
              "  </thead>\n",
              "  <tbody>\n",
              "    <tr>\n",
              "      <th>0</th>\n",
              "      <td>Indictable only offences</td>\n",
              "      <td>Total sentenced</td>\n",
              "      <td>19976</td>\n",
              "      <td>19330.0</td>\n",
              "      <td>17144.0</td>\n",
              "      <td>15681.0</td>\n",
              "      <td>14597.0</td>\n",
              "      <td>14050.0</td>\n",
              "      <td>13731.0</td>\n",
              "      <td>13263.0</td>\n",
              "      <td>12006.0</td>\n",
              "      <td>12718.0</td>\n",
              "      <td>10573</td>\n",
              "    </tr>\n",
              "    <tr>\n",
              "      <th>13</th>\n",
              "      <td>Triable either way offences</td>\n",
              "      <td>Total sentenced</td>\n",
              "      <td>331344</td>\n",
              "      <td>318666.0</td>\n",
              "      <td>278796.0</td>\n",
              "      <td>277009.0</td>\n",
              "      <td>263120.0</td>\n",
              "      <td>244535.0</td>\n",
              "      <td>227700.0</td>\n",
              "      <td>202037.0</td>\n",
              "      <td>186242.0</td>\n",
              "      <td>184452.0</td>\n",
              "      <td>144916</td>\n",
              "    </tr>\n",
              "    <tr>\n",
              "      <th>26</th>\n",
              "      <td>Summary non-motoring</td>\n",
              "      <td>Total sentenced</td>\n",
              "      <td>495156</td>\n",
              "      <td>493826.0</td>\n",
              "      <td>456005.0</td>\n",
              "      <td>438850.0</td>\n",
              "      <td>463750.0</td>\n",
              "      <td>483856.0</td>\n",
              "      <td>470528.0</td>\n",
              "      <td>474189.0</td>\n",
              "      <td>460116.0</td>\n",
              "      <td>429662.0</td>\n",
              "      <td>188861</td>\n",
              "    </tr>\n",
              "    <tr>\n",
              "      <th>39</th>\n",
              "      <td>Summary motoring</td>\n",
              "      <td>Total sentenced</td>\n",
              "      <td>514207</td>\n",
              "      <td>462995.0</td>\n",
              "      <td>452644.0</td>\n",
              "      <td>450133.0</td>\n",
              "      <td>483453.0</td>\n",
              "      <td>510480.0</td>\n",
              "      <td>531615.0</td>\n",
              "      <td>510461.0</td>\n",
              "      <td>533451.0</td>\n",
              "      <td>531365.0</td>\n",
              "      <td>421399</td>\n",
              "    </tr>\n",
              "    <tr>\n",
              "      <th>52</th>\n",
              "      <td>Offence not known(7)</td>\n",
              "      <td>Total sentenced</td>\n",
              "      <td>0</td>\n",
              "      <td>0.0</td>\n",
              "      <td>0.0</td>\n",
              "      <td>0.0</td>\n",
              "      <td>0.0</td>\n",
              "      <td>0.0</td>\n",
              "      <td>0.0</td>\n",
              "      <td>62.0</td>\n",
              "      <td>266.0</td>\n",
              "      <td>741.0</td>\n",
              "      <td>499</td>\n",
              "    </tr>\n",
              "    <tr>\n",
              "      <th>65</th>\n",
              "      <td>All offences</td>\n",
              "      <td>Total sentenced</td>\n",
              "      <td>1360683</td>\n",
              "      <td>1294817.0</td>\n",
              "      <td>1204589.0</td>\n",
              "      <td>1181673.0</td>\n",
              "      <td>1224920.0</td>\n",
              "      <td>1252921.0</td>\n",
              "      <td>1243574.0</td>\n",
              "      <td>1200012.0</td>\n",
              "      <td>1192081.0</td>\n",
              "      <td>1158938.0</td>\n",
              "      <td>766248</td>\n",
              "    </tr>\n",
              "    <tr>\n",
              "      <th>84</th>\n",
              "      <td>Offence type</td>\n",
              "      <td>Type of sentence</td>\n",
              "      <td>2011</td>\n",
              "      <td>2012.0</td>\n",
              "      <td>2013.0</td>\n",
              "      <td>2014.0</td>\n",
              "      <td>2015.0</td>\n",
              "      <td>2016.0</td>\n",
              "      <td>2017.0</td>\n",
              "      <td>2018.0</td>\n",
              "      <td>2019.0</td>\n",
              "      <td>2020.0</td>\n",
              "      <td>2021</td>\n",
              "    </tr>\n",
              "    <tr>\n",
              "      <th>85</th>\n",
              "      <td>Indictable only offences</td>\n",
              "      <td>Total sentenced</td>\n",
              "      <td>19976</td>\n",
              "      <td>19330.0</td>\n",
              "      <td>17143.0</td>\n",
              "      <td>15680.0</td>\n",
              "      <td>14594.0</td>\n",
              "      <td>14043.0</td>\n",
              "      <td>13728.0</td>\n",
              "      <td>13260.0</td>\n",
              "      <td>12006.0</td>\n",
              "      <td>12717.0</td>\n",
              "      <td>10571</td>\n",
              "    </tr>\n",
              "    <tr>\n",
              "      <th>98</th>\n",
              "      <td>Triable either way offences</td>\n",
              "      <td>Total sentenced</td>\n",
              "      <td>330513</td>\n",
              "      <td>317867.0</td>\n",
              "      <td>277989.0</td>\n",
              "      <td>276243.0</td>\n",
              "      <td>262318.0</td>\n",
              "      <td>243600.0</td>\n",
              "      <td>226862.0</td>\n",
              "      <td>201117.0</td>\n",
              "      <td>185318.0</td>\n",
              "      <td>183651.0</td>\n",
              "      <td>144565</td>\n",
              "    </tr>\n",
              "    <tr>\n",
              "      <th>111</th>\n",
              "      <td>Summary non-motoring</td>\n",
              "      <td>Total sentenced</td>\n",
              "      <td>493832</td>\n",
              "      <td>492718.0</td>\n",
              "      <td>455139.0</td>\n",
              "      <td>437869.0</td>\n",
              "      <td>462715.0</td>\n",
              "      <td>482200.0</td>\n",
              "      <td>468705.0</td>\n",
              "      <td>471679.0</td>\n",
              "      <td>457825.0</td>\n",
              "      <td>427706.0</td>\n",
              "      <td>188496</td>\n",
              "    </tr>\n",
              "    <tr>\n",
              "      <th>124</th>\n",
              "      <td>Summary motoring</td>\n",
              "      <td>Total sentenced</td>\n",
              "      <td>508526</td>\n",
              "      <td>458176.0</td>\n",
              "      <td>447926.0</td>\n",
              "      <td>445392.0</td>\n",
              "      <td>478512.0</td>\n",
              "      <td>504651.0</td>\n",
              "      <td>525538.0</td>\n",
              "      <td>504365.0</td>\n",
              "      <td>527886.0</td>\n",
              "      <td>525416.0</td>\n",
              "      <td>417926</td>\n",
              "    </tr>\n",
              "    <tr>\n",
              "      <th>137</th>\n",
              "      <td>Offence not known(7)</td>\n",
              "      <td>Total sentenced</td>\n",
              "      <td>0</td>\n",
              "      <td>0.0</td>\n",
              "      <td>0.0</td>\n",
              "      <td>0.0</td>\n",
              "      <td>0.0</td>\n",
              "      <td>0.0</td>\n",
              "      <td>0.0</td>\n",
              "      <td>62.0</td>\n",
              "      <td>263.0</td>\n",
              "      <td>726.0</td>\n",
              "      <td>491</td>\n",
              "    </tr>\n",
              "    <tr>\n",
              "      <th>150</th>\n",
              "      <td>All offences</td>\n",
              "      <td>Total sentenced</td>\n",
              "      <td>1352847</td>\n",
              "      <td>1288091.0</td>\n",
              "      <td>1198197.0</td>\n",
              "      <td>1175184.0</td>\n",
              "      <td>1218139.0</td>\n",
              "      <td>1244494.0</td>\n",
              "      <td>1234833.0</td>\n",
              "      <td>1190483.0</td>\n",
              "      <td>1183298.0</td>\n",
              "      <td>1150216.0</td>\n",
              "      <td>762049</td>\n",
              "    </tr>\n",
              "  </tbody>\n",
              "</table>\n",
              "</div>"
            ],
            "text/plain": [
              "                    Offence type  Type of sentence   ...       2020    2021\n",
              "0       Indictable only offences    Total sentenced  ...    12718.0   10573\n",
              "13   Triable either way offences    Total sentenced  ...   184452.0  144916\n",
              "26          Summary non-motoring    Total sentenced  ...   429662.0  188861\n",
              "39              Summary motoring    Total sentenced  ...   531365.0  421399\n",
              "52          Offence not known(7)    Total sentenced  ...      741.0     499\n",
              "65                  All offences    Total sentenced  ...  1158938.0  766248\n",
              "84                  Offence type  Type of sentence   ...     2020.0    2021\n",
              "85      Indictable only offences    Total sentenced  ...    12717.0   10571\n",
              "98   Triable either way offences    Total sentenced  ...   183651.0  144565\n",
              "111         Summary non-motoring    Total sentenced  ...   427706.0  188496\n",
              "124             Summary motoring    Total sentenced  ...   525416.0  417926\n",
              "137         Offence not known(7)    Total sentenced  ...      726.0     491\n",
              "150                 All offences    Total sentenced  ...  1150216.0  762049\n",
              "\n",
              "[13 rows x 13 columns]"
            ]
          },
          "metadata": {},
          "execution_count": 33
        }
      ]
    },
    {
      "cell_type": "markdown",
      "metadata": {
        "id": "JFWUWvDWWcAy"
      },
      "source": [
        "If we don't want that to happen we have to include an argument which specifies *which* columns we want to filter on."
      ]
    },
    {
      "cell_type": "code",
      "metadata": {
        "colab": {
          "base_uri": "https://localhost:8080/",
          "height": 635
        },
        "id": "DjKpXwBBWhFr",
        "outputId": "17acf023-3754-4eb4-80e4-a3404a48ed35"
      },
      "source": [
        "overview21mardf.dropna(subset=[\"2011\"], inplace=True)\n",
        "overview21mardf"
      ],
      "execution_count": null,
      "outputs": [
        {
          "output_type": "execute_result",
          "data": {
            "text/html": [
              "<div>\n",
              "<style scoped>\n",
              "    .dataframe tbody tr th:only-of-type {\n",
              "        vertical-align: middle;\n",
              "    }\n",
              "\n",
              "    .dataframe tbody tr th {\n",
              "        vertical-align: top;\n",
              "    }\n",
              "\n",
              "    .dataframe thead th {\n",
              "        text-align: right;\n",
              "    }\n",
              "</style>\n",
              "<table border=\"1\" class=\"dataframe\">\n",
              "  <thead>\n",
              "    <tr style=\"text-align: right;\">\n",
              "      <th></th>\n",
              "      <th>offence</th>\n",
              "      <th>sentencetype</th>\n",
              "      <th>2011</th>\n",
              "      <th>2012</th>\n",
              "      <th>2013</th>\n",
              "      <th>2014</th>\n",
              "      <th>2015</th>\n",
              "      <th>2016</th>\n",
              "      <th>2017</th>\n",
              "      <th>2018</th>\n",
              "      <th>2019</th>\n",
              "      <th>2020</th>\n",
              "      <th>2021</th>\n",
              "    </tr>\n",
              "  </thead>\n",
              "  <tbody>\n",
              "    <tr>\n",
              "      <th>0</th>\n",
              "      <td>Indictable only offences</td>\n",
              "      <td>Total sentenced</td>\n",
              "      <td>19976</td>\n",
              "      <td>19330.000</td>\n",
              "      <td>17144.0000</td>\n",
              "      <td>15681.0000</td>\n",
              "      <td>14597.0000</td>\n",
              "      <td>14050.0000</td>\n",
              "      <td>13731.0000</td>\n",
              "      <td>13263.0000</td>\n",
              "      <td>12006.0000</td>\n",
              "      <td>12718.0000</td>\n",
              "      <td>10573</td>\n",
              "    </tr>\n",
              "    <tr>\n",
              "      <th>2</th>\n",
              "      <td>NaN</td>\n",
              "      <td>Immediate custody</td>\n",
              "      <td>13868</td>\n",
              "      <td>13664.000</td>\n",
              "      <td>12377.0000</td>\n",
              "      <td>11450.0000</td>\n",
              "      <td>10752.0000</td>\n",
              "      <td>10393.0000</td>\n",
              "      <td>10138.0000</td>\n",
              "      <td>9762.0000</td>\n",
              "      <td>8796.0000</td>\n",
              "      <td>9023.0000</td>\n",
              "      <td>6945</td>\n",
              "    </tr>\n",
              "    <tr>\n",
              "      <th>3</th>\n",
              "      <td>NaN</td>\n",
              "      <td>Suspended sentence</td>\n",
              "      <td>1699</td>\n",
              "      <td>1509.000</td>\n",
              "      <td>1517.0000</td>\n",
              "      <td>1579.0000</td>\n",
              "      <td>1683.0000</td>\n",
              "      <td>1667.0000</td>\n",
              "      <td>1539.0000</td>\n",
              "      <td>1470.0000</td>\n",
              "      <td>1155.0000</td>\n",
              "      <td>1276.0000</td>\n",
              "      <td>1414</td>\n",
              "    </tr>\n",
              "    <tr>\n",
              "      <th>4</th>\n",
              "      <td>NaN</td>\n",
              "      <td>Community sentence</td>\n",
              "      <td>3724</td>\n",
              "      <td>3589.000</td>\n",
              "      <td>2901.0000</td>\n",
              "      <td>2254.0000</td>\n",
              "      <td>1682.0000</td>\n",
              "      <td>1472.0000</td>\n",
              "      <td>1392.0000</td>\n",
              "      <td>1382.0000</td>\n",
              "      <td>1402.0000</td>\n",
              "      <td>1804.0000</td>\n",
              "      <td>1770</td>\n",
              "    </tr>\n",
              "    <tr>\n",
              "      <th>5</th>\n",
              "      <td>NaN</td>\n",
              "      <td>Fine</td>\n",
              "      <td>45</td>\n",
              "      <td>21.000</td>\n",
              "      <td>23.0000</td>\n",
              "      <td>51.0000</td>\n",
              "      <td>29.0000</td>\n",
              "      <td>47.0000</td>\n",
              "      <td>95.0000</td>\n",
              "      <td>75.0000</td>\n",
              "      <td>72.0000</td>\n",
              "      <td>79.0000</td>\n",
              "      <td>84</td>\n",
              "    </tr>\n",
              "    <tr>\n",
              "      <th>...</th>\n",
              "      <td>...</td>\n",
              "      <td>...</td>\n",
              "      <td>...</td>\n",
              "      <td>...</td>\n",
              "      <td>...</td>\n",
              "      <td>...</td>\n",
              "      <td>...</td>\n",
              "      <td>...</td>\n",
              "      <td>...</td>\n",
              "      <td>...</td>\n",
              "      <td>...</td>\n",
              "      <td>...</td>\n",
              "      <td>...</td>\n",
              "    </tr>\n",
              "    <tr>\n",
              "      <th>156</th>\n",
              "      <td>NaN</td>\n",
              "      <td>Absolute discharge</td>\n",
              "      <td>8572</td>\n",
              "      <td>8013.000</td>\n",
              "      <td>7287.0000</td>\n",
              "      <td>6768.0000</td>\n",
              "      <td>5530.0000</td>\n",
              "      <td>8928.0000</td>\n",
              "      <td>4457.0000</td>\n",
              "      <td>5332.0000</td>\n",
              "      <td>4026.0000</td>\n",
              "      <td>4048.0000</td>\n",
              "      <td>1749</td>\n",
              "    </tr>\n",
              "    <tr>\n",
              "      <th>157</th>\n",
              "      <td>NaN</td>\n",
              "      <td>Conditional discharge</td>\n",
              "      <td>90457</td>\n",
              "      <td>85148.000</td>\n",
              "      <td>78064.0000</td>\n",
              "      <td>75049.0000</td>\n",
              "      <td>71312.0000</td>\n",
              "      <td>63623.0000</td>\n",
              "      <td>53718.0000</td>\n",
              "      <td>45476.0000</td>\n",
              "      <td>39848.0000</td>\n",
              "      <td>35803.0000</td>\n",
              "      <td>24198</td>\n",
              "    </tr>\n",
              "    <tr>\n",
              "      <th>158</th>\n",
              "      <td>NaN</td>\n",
              "      <td>Compensation</td>\n",
              "      <td>7790</td>\n",
              "      <td>6550.000</td>\n",
              "      <td>7940.0000</td>\n",
              "      <td>8487.0000</td>\n",
              "      <td>6180.0000</td>\n",
              "      <td>4886.0000</td>\n",
              "      <td>4870.0000</td>\n",
              "      <td>4955.0000</td>\n",
              "      <td>4850.0000</td>\n",
              "      <td>4506.0000</td>\n",
              "      <td>3539</td>\n",
              "    </tr>\n",
              "    <tr>\n",
              "      <th>159</th>\n",
              "      <td>NaN</td>\n",
              "      <td>Otherwise dealt with(5)</td>\n",
              "      <td>24655</td>\n",
              "      <td>21997.000</td>\n",
              "      <td>16609.0000</td>\n",
              "      <td>18626.0000</td>\n",
              "      <td>19747.0000</td>\n",
              "      <td>11804.0000</td>\n",
              "      <td>13228.0000</td>\n",
              "      <td>12475.0000</td>\n",
              "      <td>11570.0000</td>\n",
              "      <td>11970.0000</td>\n",
              "      <td>8507</td>\n",
              "    </tr>\n",
              "    <tr>\n",
              "      <th>161</th>\n",
              "      <td>NaN</td>\n",
              "      <td>Average custodial sentence (months)(6)</td>\n",
              "      <td>13.8627</td>\n",
              "      <td>14.314</td>\n",
              "      <td>14.7467</td>\n",
              "      <td>15.3663</td>\n",
              "      <td>15.9286</td>\n",
              "      <td>16.2178</td>\n",
              "      <td>16.4791</td>\n",
              "      <td>17.0967</td>\n",
              "      <td>17.2974</td>\n",
              "      <td>19.5226</td>\n",
              "      <td>18.5872</td>\n",
              "    </tr>\n",
              "  </tbody>\n",
              "</table>\n",
              "<p>122 rows × 13 columns</p>\n",
              "</div>"
            ],
            "text/plain": [
              "                      offence  ...     2021\n",
              "0    Indictable only offences  ...    10573\n",
              "2                         NaN  ...     6945\n",
              "3                         NaN  ...     1414\n",
              "4                         NaN  ...     1770\n",
              "5                         NaN  ...       84\n",
              "..                        ...  ...      ...\n",
              "156                       NaN  ...     1749\n",
              "157                       NaN  ...    24198\n",
              "158                       NaN  ...     3539\n",
              "159                       NaN  ...     8507\n",
              "161                       NaN  ...  18.5872\n",
              "\n",
              "[122 rows x 13 columns]"
            ]
          },
          "metadata": {},
          "execution_count": 23
        }
      ]
    },
    {
      "cell_type": "markdown",
      "metadata": {
        "id": "Ecs-XayuXJvq"
      },
      "source": [
        "## Dealing with `KeyError` due to numeric column headers\n",
        "\n",
        "If we hadn't converted those column names from numbers to strings we would have hit an error here. This is because we shouldn't have numbers (integers) as column headings because that confuses pandas (which also uses integers as indices for columns). So `2011` would have been interpreted as 'column index 2011'.\n"
      ]
    },
    {
      "cell_type": "markdown",
      "metadata": {
        "id": "s-nqQsRRtNjH"
      },
      "source": [
        "Another way of fixing the column names would have been to loop through the existing column names and converting them to strings like so:"
      ]
    },
    {
      "cell_type": "code",
      "metadata": {
        "colab": {
          "base_uri": "https://localhost:8080/"
        },
        "id": "OJYyx8dLtJQ6",
        "outputId": "baba20ee-b7c2-4749-e18d-d39f9cc7512a"
      },
      "source": [
        "#create an empty list\n",
        "newcolnames = []\n",
        "#loop through the columns\n",
        "for i in overview21mardf.columns:\n",
        "  #convert to string\n",
        "  strversion = str(i)\n",
        "  #add to previously empty list\n",
        "  newcolnames.append(strversion)\n",
        "print(newcolnames)\n",
        "#replace the old column names with the new ones\n",
        "overview21mardf.columns = newcolnames"
      ],
      "execution_count": null,
      "outputs": [
        {
          "output_type": "stream",
          "name": "stdout",
          "text": [
            "['Offence type', 'Type of sentence ', '2011', '2012', '2013', '2014', '2015', '2016', '2017', '2018', '2019', '2020', '2021']\n"
          ]
        }
      ]
    },
    {
      "cell_type": "markdown",
      "metadata": {
        "id": "dbeyjJcgtGl-"
      },
      "source": [
        "### Using the `map` function to apply a function to all items in a list\n",
        "\n",
        "Another approach is to use [the `.map()` function](https://realpython.com/python-map-function/), which basically saves us having to loop.\n",
        "\n",
        "This applies the specified function (`str` in this case) to each item in the list, in order to create a new one:"
      ]
    },
    {
      "cell_type": "code",
      "metadata": {
        "colab": {
          "base_uri": "https://localhost:8080/"
        },
        "id": "rT60rJDXXeE2",
        "outputId": "0ce9c8a5-dc2f-4b05-d19c-90cea0860242"
      },
      "source": [
        "overview21mardf.columns = overview21mardf.columns.map(str)\n",
        "overview21mardf.columns"
      ],
      "execution_count": null,
      "outputs": [
        {
          "output_type": "execute_result",
          "data": {
            "text/plain": [
              "Index(['Offence type', 'Type of sentence ', '2011', '2012', '2013', '2014',\n",
              "       '2015', '2016', '2017', '2018', '2019', '2020', '2021'],\n",
              "      dtype='object')"
            ]
          },
          "metadata": {},
          "execution_count": 8
        }
      ]
    },
    {
      "cell_type": "markdown",
      "metadata": {
        "id": "oMEychxJwwiu"
      },
      "source": [
        "## Fill down using `ffill`\n",
        "\n",
        "The `ffill` function will fill down when given `axis=0` (to fill across use `axis=1`).\n",
        "\n",
        "Note that this fills row index 1 with the values from row 0, too. So it's a good thing we removed that row first."
      ]
    },
    {
      "cell_type": "code",
      "metadata": {
        "colab": {
          "base_uri": "https://localhost:8080/",
          "height": 756
        },
        "id": "Pq_1YRrIwqwh",
        "outputId": "d46e9f61-9914-4ec0-9909-d7210c26ea7b"
      },
      "source": [
        "#fill down into empty cells (axis 0 means columns)\n",
        "overview21mardf = overview21mardf.ffill(axis=0)\n",
        "#show the results\n",
        "overview21mardf"
      ],
      "execution_count": null,
      "outputs": [
        {
          "output_type": "execute_result",
          "data": {
            "text/html": [
              "<div>\n",
              "<style scoped>\n",
              "    .dataframe tbody tr th:only-of-type {\n",
              "        vertical-align: middle;\n",
              "    }\n",
              "\n",
              "    .dataframe tbody tr th {\n",
              "        vertical-align: top;\n",
              "    }\n",
              "\n",
              "    .dataframe thead th {\n",
              "        text-align: right;\n",
              "    }\n",
              "</style>\n",
              "<table border=\"1\" class=\"dataframe\">\n",
              "  <thead>\n",
              "    <tr style=\"text-align: right;\">\n",
              "      <th></th>\n",
              "      <th>Offence type</th>\n",
              "      <th>Type of sentence</th>\n",
              "      <th>2011</th>\n",
              "      <th>2012</th>\n",
              "      <th>2013</th>\n",
              "      <th>2014</th>\n",
              "      <th>2015</th>\n",
              "      <th>2016</th>\n",
              "      <th>2017</th>\n",
              "      <th>2018</th>\n",
              "      <th>2019</th>\n",
              "      <th>2020</th>\n",
              "      <th>2021</th>\n",
              "    </tr>\n",
              "  </thead>\n",
              "  <tbody>\n",
              "    <tr>\n",
              "      <th>0</th>\n",
              "      <td>Indictable only offences</td>\n",
              "      <td>Total sentenced</td>\n",
              "      <td>19976</td>\n",
              "      <td>19330.000</td>\n",
              "      <td>17144.0000</td>\n",
              "      <td>15681.0000</td>\n",
              "      <td>14597.0000</td>\n",
              "      <td>14050.0000</td>\n",
              "      <td>13731.0000</td>\n",
              "      <td>13263.0000</td>\n",
              "      <td>12006.0000</td>\n",
              "      <td>12718.0000</td>\n",
              "      <td>10573.0000</td>\n",
              "    </tr>\n",
              "    <tr>\n",
              "      <th>2</th>\n",
              "      <td>Indictable only offences</td>\n",
              "      <td>Immediate custody</td>\n",
              "      <td>13868</td>\n",
              "      <td>13664.000</td>\n",
              "      <td>12377.0000</td>\n",
              "      <td>11450.0000</td>\n",
              "      <td>10752.0000</td>\n",
              "      <td>10393.0000</td>\n",
              "      <td>10138.0000</td>\n",
              "      <td>9762.0000</td>\n",
              "      <td>8796.0000</td>\n",
              "      <td>9023.0000</td>\n",
              "      <td>6945.0000</td>\n",
              "    </tr>\n",
              "    <tr>\n",
              "      <th>3</th>\n",
              "      <td>Indictable only offences</td>\n",
              "      <td>Suspended sentence</td>\n",
              "      <td>1699</td>\n",
              "      <td>1509.000</td>\n",
              "      <td>1517.0000</td>\n",
              "      <td>1579.0000</td>\n",
              "      <td>1683.0000</td>\n",
              "      <td>1667.0000</td>\n",
              "      <td>1539.0000</td>\n",
              "      <td>1470.0000</td>\n",
              "      <td>1155.0000</td>\n",
              "      <td>1276.0000</td>\n",
              "      <td>1414.0000</td>\n",
              "    </tr>\n",
              "    <tr>\n",
              "      <th>4</th>\n",
              "      <td>Indictable only offences</td>\n",
              "      <td>Community sentence</td>\n",
              "      <td>3724</td>\n",
              "      <td>3589.000</td>\n",
              "      <td>2901.0000</td>\n",
              "      <td>2254.0000</td>\n",
              "      <td>1682.0000</td>\n",
              "      <td>1472.0000</td>\n",
              "      <td>1392.0000</td>\n",
              "      <td>1382.0000</td>\n",
              "      <td>1402.0000</td>\n",
              "      <td>1804.0000</td>\n",
              "      <td>1770.0000</td>\n",
              "    </tr>\n",
              "    <tr>\n",
              "      <th>5</th>\n",
              "      <td>Indictable only offences</td>\n",
              "      <td>Fine</td>\n",
              "      <td>45</td>\n",
              "      <td>21.000</td>\n",
              "      <td>23.0000</td>\n",
              "      <td>51.0000</td>\n",
              "      <td>29.0000</td>\n",
              "      <td>47.0000</td>\n",
              "      <td>95.0000</td>\n",
              "      <td>75.0000</td>\n",
              "      <td>72.0000</td>\n",
              "      <td>79.0000</td>\n",
              "      <td>84.0000</td>\n",
              "    </tr>\n",
              "    <tr>\n",
              "      <th>...</th>\n",
              "      <td>...</td>\n",
              "      <td>...</td>\n",
              "      <td>...</td>\n",
              "      <td>...</td>\n",
              "      <td>...</td>\n",
              "      <td>...</td>\n",
              "      <td>...</td>\n",
              "      <td>...</td>\n",
              "      <td>...</td>\n",
              "      <td>...</td>\n",
              "      <td>...</td>\n",
              "      <td>...</td>\n",
              "      <td>...</td>\n",
              "    </tr>\n",
              "    <tr>\n",
              "      <th>156</th>\n",
              "      <td>All offences</td>\n",
              "      <td>Absolute discharge</td>\n",
              "      <td>8572</td>\n",
              "      <td>8013.000</td>\n",
              "      <td>7287.0000</td>\n",
              "      <td>6768.0000</td>\n",
              "      <td>5530.0000</td>\n",
              "      <td>8928.0000</td>\n",
              "      <td>4457.0000</td>\n",
              "      <td>5332.0000</td>\n",
              "      <td>4026.0000</td>\n",
              "      <td>4048.0000</td>\n",
              "      <td>1749.0000</td>\n",
              "    </tr>\n",
              "    <tr>\n",
              "      <th>157</th>\n",
              "      <td>All offences</td>\n",
              "      <td>Conditional discharge</td>\n",
              "      <td>90457</td>\n",
              "      <td>85148.000</td>\n",
              "      <td>78064.0000</td>\n",
              "      <td>75049.0000</td>\n",
              "      <td>71312.0000</td>\n",
              "      <td>63623.0000</td>\n",
              "      <td>53718.0000</td>\n",
              "      <td>45476.0000</td>\n",
              "      <td>39848.0000</td>\n",
              "      <td>35803.0000</td>\n",
              "      <td>24198.0000</td>\n",
              "    </tr>\n",
              "    <tr>\n",
              "      <th>158</th>\n",
              "      <td>All offences</td>\n",
              "      <td>Compensation</td>\n",
              "      <td>7790</td>\n",
              "      <td>6550.000</td>\n",
              "      <td>7940.0000</td>\n",
              "      <td>8487.0000</td>\n",
              "      <td>6180.0000</td>\n",
              "      <td>4886.0000</td>\n",
              "      <td>4870.0000</td>\n",
              "      <td>4955.0000</td>\n",
              "      <td>4850.0000</td>\n",
              "      <td>4506.0000</td>\n",
              "      <td>3539.0000</td>\n",
              "    </tr>\n",
              "    <tr>\n",
              "      <th>159</th>\n",
              "      <td>All offences</td>\n",
              "      <td>Otherwise dealt with(5)</td>\n",
              "      <td>24655</td>\n",
              "      <td>21997.000</td>\n",
              "      <td>16609.0000</td>\n",
              "      <td>18626.0000</td>\n",
              "      <td>19747.0000</td>\n",
              "      <td>11804.0000</td>\n",
              "      <td>13228.0000</td>\n",
              "      <td>12475.0000</td>\n",
              "      <td>11570.0000</td>\n",
              "      <td>11970.0000</td>\n",
              "      <td>8507.0000</td>\n",
              "    </tr>\n",
              "    <tr>\n",
              "      <th>161</th>\n",
              "      <td>All offences</td>\n",
              "      <td>Average custodial sentence (months)(6)</td>\n",
              "      <td>13.8627</td>\n",
              "      <td>14.314</td>\n",
              "      <td>14.7467</td>\n",
              "      <td>15.3663</td>\n",
              "      <td>15.9286</td>\n",
              "      <td>16.2178</td>\n",
              "      <td>16.4791</td>\n",
              "      <td>17.0967</td>\n",
              "      <td>17.2974</td>\n",
              "      <td>19.5226</td>\n",
              "      <td>18.5872</td>\n",
              "    </tr>\n",
              "  </tbody>\n",
              "</table>\n",
              "<p>122 rows × 13 columns</p>\n",
              "</div>"
            ],
            "text/plain": [
              "                 Offence type  ...        2021\n",
              "0    Indictable only offences  ...  10573.0000\n",
              "2    Indictable only offences  ...   6945.0000\n",
              "3    Indictable only offences  ...   1414.0000\n",
              "4    Indictable only offences  ...   1770.0000\n",
              "5    Indictable only offences  ...     84.0000\n",
              "..                        ...  ...         ...\n",
              "156              All offences  ...   1749.0000\n",
              "157              All offences  ...  24198.0000\n",
              "158              All offences  ...   3539.0000\n",
              "159              All offences  ...   8507.0000\n",
              "161              All offences  ...     18.5872\n",
              "\n",
              "[122 rows x 13 columns]"
            ]
          },
          "metadata": {},
          "execution_count": 10
        }
      ]
    },
    {
      "cell_type": "markdown",
      "metadata": {
        "id": "rM3dQcnwKm6h"
      },
      "source": [
        "## Reshape wide to long\n",
        "\n",
        "We have a column for each year but that's not ideal for data analysis. What we really want is a 'year' column.\n",
        "\n",
        "To do this we need to [reshape the data from 'wide to long'](https://towardsdatascience.com/wide-to-long-data-how-and-when-to-use-pandas-melt-stack-and-wide-to-long-7c1e0f462a98). \n",
        "\n",
        "The `melt()` function is great for this. First, we need to know what the columns are called..."
      ]
    },
    {
      "cell_type": "code",
      "metadata": {
        "colab": {
          "base_uri": "https://localhost:8080/"
        },
        "id": "j7SEDkWCL8eR",
        "outputId": "9d0c1b10-bd93-4cbc-9aa7-6990b264846b"
      },
      "source": [
        "#remind ourselves what the columns are\n",
        "#we can also copy directly from this\n",
        "overview21mardf.columns"
      ],
      "execution_count": null,
      "outputs": [
        {
          "output_type": "execute_result",
          "data": {
            "text/plain": [
              "Index(['Offence type', 'Type of sentence ', '2011', '2012', '2013', '2014',\n",
              "       '2015', '2016', '2017', '2018', '2019', '2020', '2021'],\n",
              "      dtype='object')"
            ]
          },
          "metadata": {},
          "execution_count": 14
        }
      ]
    },
    {
      "cell_type": "markdown",
      "metadata": {
        "id": "I56Bctb0M6Pa"
      },
      "source": [
        "We use those in the ingredients of the `melt()` function: \n",
        "\n",
        "* `id_vars=` specifies which columns we want to keep as they were. This needs to be a list\n",
        "* `value_vars` specifies which ones we want to reshape, using them as values instead of labels ('2011' is the value that will fill in a new column for the 'year')\n",
        "* `var_name` specifies what we want to call this new column ('year')\n",
        "* `value_name` specifies what we want to call the column which is going to contain all the values which were associated with the columns we're getting rid of. In this case it's 'total', indicating the total cases in each year and category."
      ]
    },
    {
      "cell_type": "code",
      "metadata": {
        "colab": {
          "base_uri": "https://localhost:8080/",
          "height": 424
        },
        "id": "dBGoVakYLzEw",
        "outputId": "e286cc55-68ee-4b79-c533-b29c1c338df6"
      },
      "source": [
        "#use melt to convert the year column headings into a single column\n",
        "overview21mardf.melt(id_vars=['Offence type', 'Type of sentence '], value_vars=['2011', '2012', '2013', '2014',\n",
        "       '2015', '2016', '2017', '2018', '2019', '2020', '2021'], var_name='year', value_name='total')"
      ],
      "execution_count": null,
      "outputs": [
        {
          "output_type": "execute_result",
          "data": {
            "text/html": [
              "<div>\n",
              "<style scoped>\n",
              "    .dataframe tbody tr th:only-of-type {\n",
              "        vertical-align: middle;\n",
              "    }\n",
              "\n",
              "    .dataframe tbody tr th {\n",
              "        vertical-align: top;\n",
              "    }\n",
              "\n",
              "    .dataframe thead th {\n",
              "        text-align: right;\n",
              "    }\n",
              "</style>\n",
              "<table border=\"1\" class=\"dataframe\">\n",
              "  <thead>\n",
              "    <tr style=\"text-align: right;\">\n",
              "      <th></th>\n",
              "      <th>Offence type</th>\n",
              "      <th>Type of sentence</th>\n",
              "      <th>year</th>\n",
              "      <th>total</th>\n",
              "    </tr>\n",
              "  </thead>\n",
              "  <tbody>\n",
              "    <tr>\n",
              "      <th>0</th>\n",
              "      <td>Indictable only offences</td>\n",
              "      <td>Total sentenced</td>\n",
              "      <td>2011</td>\n",
              "      <td>19976</td>\n",
              "    </tr>\n",
              "    <tr>\n",
              "      <th>1</th>\n",
              "      <td>Indictable only offences</td>\n",
              "      <td>Immediate custody</td>\n",
              "      <td>2011</td>\n",
              "      <td>13868</td>\n",
              "    </tr>\n",
              "    <tr>\n",
              "      <th>2</th>\n",
              "      <td>Indictable only offences</td>\n",
              "      <td>Suspended sentence</td>\n",
              "      <td>2011</td>\n",
              "      <td>1699</td>\n",
              "    </tr>\n",
              "    <tr>\n",
              "      <th>3</th>\n",
              "      <td>Indictable only offences</td>\n",
              "      <td>Community sentence</td>\n",
              "      <td>2011</td>\n",
              "      <td>3724</td>\n",
              "    </tr>\n",
              "    <tr>\n",
              "      <th>4</th>\n",
              "      <td>Indictable only offences</td>\n",
              "      <td>Fine</td>\n",
              "      <td>2011</td>\n",
              "      <td>45</td>\n",
              "    </tr>\n",
              "    <tr>\n",
              "      <th>...</th>\n",
              "      <td>...</td>\n",
              "      <td>...</td>\n",
              "      <td>...</td>\n",
              "      <td>...</td>\n",
              "    </tr>\n",
              "    <tr>\n",
              "      <th>1337</th>\n",
              "      <td>All offences</td>\n",
              "      <td>Absolute discharge</td>\n",
              "      <td>2021</td>\n",
              "      <td>1749</td>\n",
              "    </tr>\n",
              "    <tr>\n",
              "      <th>1338</th>\n",
              "      <td>All offences</td>\n",
              "      <td>Conditional discharge</td>\n",
              "      <td>2021</td>\n",
              "      <td>24198</td>\n",
              "    </tr>\n",
              "    <tr>\n",
              "      <th>1339</th>\n",
              "      <td>All offences</td>\n",
              "      <td>Compensation</td>\n",
              "      <td>2021</td>\n",
              "      <td>3539</td>\n",
              "    </tr>\n",
              "    <tr>\n",
              "      <th>1340</th>\n",
              "      <td>All offences</td>\n",
              "      <td>Otherwise dealt with(5)</td>\n",
              "      <td>2021</td>\n",
              "      <td>8507</td>\n",
              "    </tr>\n",
              "    <tr>\n",
              "      <th>1341</th>\n",
              "      <td>All offences</td>\n",
              "      <td>Average custodial sentence (months)(6)</td>\n",
              "      <td>2021</td>\n",
              "      <td>18.5872</td>\n",
              "    </tr>\n",
              "  </tbody>\n",
              "</table>\n",
              "<p>1342 rows × 4 columns</p>\n",
              "</div>"
            ],
            "text/plain": [
              "                  Offence type  ...    total\n",
              "0     Indictable only offences  ...    19976\n",
              "1     Indictable only offences  ...    13868\n",
              "2     Indictable only offences  ...     1699\n",
              "3     Indictable only offences  ...     3724\n",
              "4     Indictable only offences  ...       45\n",
              "...                        ...  ...      ...\n",
              "1337              All offences  ...     1749\n",
              "1338              All offences  ...    24198\n",
              "1339              All offences  ...     3539\n",
              "1340              All offences  ...     8507\n",
              "1341              All offences  ...  18.5872\n",
              "\n",
              "[1342 rows x 4 columns]"
            ]
          },
          "metadata": {},
          "execution_count": 11
        }
      ]
    },
    {
      "cell_type": "code",
      "metadata": {
        "id": "5CkNppssaGSQ"
      },
      "source": [
        "#store those results permanently\n",
        "overview21mardf = overview21mardf.melt(id_vars=['Offence type', 'Type of sentence '], value_vars=['2011', '2012', '2013', '2014',\n",
        "       '2015', '2016', '2017', '2018', '2019', '2020', '2021'], var_name='year', value_name='total')"
      ],
      "execution_count": null,
      "outputs": []
    },
    {
      "cell_type": "code",
      "metadata": {
        "id": "v8ysMNM7Z5Br"
      },
      "source": [
        "overview21mardf.to_csv(\"cleaneddata.csv\")"
      ],
      "execution_count": null,
      "outputs": []
    },
    {
      "cell_type": "markdown",
      "metadata": {
        "id": "qIblfspD0Wmp"
      },
      "source": [
        "## Creating a pivot table and format the numbers properly\n",
        "\n",
        "We can use that data to create a pivot table. Note that the results are presented in scientific notation."
      ]
    },
    {
      "cell_type": "code",
      "metadata": {
        "colab": {
          "base_uri": "https://localhost:8080/",
          "height": 654
        },
        "id": "3bSRENW20ZP0",
        "outputId": "e4a1f240-bc60-43d5-b071-cd2b94857ec9"
      },
      "source": [
        "pivot12 = overview21mardf.pivot_table(index=\"Type of sentence \", \n",
        "                        values=\"total\",\n",
        "                        columns=\"year\", \n",
        "                        aggfunc=\"sum\")\n",
        "pivot12"
      ],
      "execution_count": null,
      "outputs": [
        {
          "output_type": "execute_result",
          "data": {
            "text/html": [
              "<div>\n",
              "<style scoped>\n",
              "    .dataframe tbody tr th:only-of-type {\n",
              "        vertical-align: middle;\n",
              "    }\n",
              "\n",
              "    .dataframe tbody tr th {\n",
              "        vertical-align: top;\n",
              "    }\n",
              "\n",
              "    .dataframe thead th {\n",
              "        text-align: right;\n",
              "    }\n",
              "</style>\n",
              "<table border=\"1\" class=\"dataframe\">\n",
              "  <thead>\n",
              "    <tr style=\"text-align: right;\">\n",
              "      <th></th>\n",
              "      <th>year</th>\n",
              "      <th>2011</th>\n",
              "      <th>2012</th>\n",
              "      <th>2013</th>\n",
              "      <th>2014</th>\n",
              "      <th>2015</th>\n",
              "      <th>2016</th>\n",
              "      <th>2017</th>\n",
              "      <th>2018</th>\n",
              "      <th>2019</th>\n",
              "      <th>2020</th>\n",
              "      <th>2021</th>\n",
              "    </tr>\n",
              "    <tr>\n",
              "      <th>Type of sentence</th>\n",
              "      <th></th>\n",
              "      <th></th>\n",
              "      <th></th>\n",
              "      <th></th>\n",
              "      <th></th>\n",
              "      <th></th>\n",
              "      <th></th>\n",
              "      <th></th>\n",
              "      <th></th>\n",
              "      <th></th>\n",
              "      <th></th>\n",
              "      <th></th>\n",
              "    </tr>\n",
              "  </thead>\n",
              "  <tbody>\n",
              "    <tr>\n",
              "      <th>Absolute discharge</th>\n",
              "      <th>total</th>\n",
              "      <td>34374.0</td>\n",
              "      <td>3.210800e+04</td>\n",
              "      <td>2.924000e+04</td>\n",
              "      <td>2.711200e+04</td>\n",
              "      <td>22176.000</td>\n",
              "      <td>3.578000e+04</td>\n",
              "      <td>1.785000e+04</td>\n",
              "      <td>2.137400e+04</td>\n",
              "      <td>1.612800e+04</td>\n",
              "      <td>1.622600e+04</td>\n",
              "      <td>7.012000e+03</td>\n",
              "    </tr>\n",
              "    <tr>\n",
              "      <th>Average custodial sentence (months)(6)</th>\n",
              "      <th>total</th>\n",
              "      <td>NaN</td>\n",
              "      <td>1.649658e+02</td>\n",
              "      <td>1.730099e+02</td>\n",
              "      <td>1.826475e+02</td>\n",
              "      <td>192.405</td>\n",
              "      <td>1.974078e+02</td>\n",
              "      <td>2.012571e+02</td>\n",
              "      <td>3.309403e+02</td>\n",
              "      <td>3.101586e+02</td>\n",
              "      <td>3.162768e+02</td>\n",
              "      <td>2.961874e+02</td>\n",
              "    </tr>\n",
              "    <tr>\n",
              "      <th>Community sentence</th>\n",
              "      <th>total</th>\n",
              "      <td>755320.0</td>\n",
              "      <td>6.965400e+05</td>\n",
              "      <td>5.654080e+05</td>\n",
              "      <td>4.960400e+05</td>\n",
              "      <td>444416.000</td>\n",
              "      <td>4.520040e+05</td>\n",
              "      <td>4.092280e+05</td>\n",
              "      <td>3.686600e+05</td>\n",
              "      <td>3.679260e+05</td>\n",
              "      <td>3.330000e+05</td>\n",
              "      <td>2.378520e+05</td>\n",
              "    </tr>\n",
              "    <tr>\n",
              "      <th>Compensation</th>\n",
              "      <th>total</th>\n",
              "      <td>31170.0</td>\n",
              "      <td>2.620200e+04</td>\n",
              "      <td>3.177400e+04</td>\n",
              "      <td>3.395000e+04</td>\n",
              "      <td>24724.000</td>\n",
              "      <td>1.955400e+04</td>\n",
              "      <td>1.948800e+04</td>\n",
              "      <td>1.983400e+04</td>\n",
              "      <td>1.941000e+04</td>\n",
              "      <td>1.803400e+04</td>\n",
              "      <td>1.416000e+04</td>\n",
              "    </tr>\n",
              "    <tr>\n",
              "      <th>Conditional discharge</th>\n",
              "      <th>total</th>\n",
              "      <td>361958.0</td>\n",
              "      <td>3.406680e+05</td>\n",
              "      <td>3.123440e+05</td>\n",
              "      <td>3.002700e+05</td>\n",
              "      <td>285340.000</td>\n",
              "      <td>2.545440e+05</td>\n",
              "      <td>2.149400e+05</td>\n",
              "      <td>1.819260e+05</td>\n",
              "      <td>1.594260e+05</td>\n",
              "      <td>1.432380e+05</td>\n",
              "      <td>9.680800e+04</td>\n",
              "    </tr>\n",
              "    <tr>\n",
              "      <th>Fine</th>\n",
              "      <th>total</th>\n",
              "      <td>3538968.0</td>\n",
              "      <td>3.369884e+06</td>\n",
              "      <td>3.243524e+06</td>\n",
              "      <td>3.207376e+06</td>\n",
              "      <td>3451232.000</td>\n",
              "      <td>3.593686e+06</td>\n",
              "      <td>3.658198e+06</td>\n",
              "      <td>3.596642e+06</td>\n",
              "      <td>3.673930e+06</td>\n",
              "      <td>3.598430e+06</td>\n",
              "      <td>2.280840e+06</td>\n",
              "    </tr>\n",
              "    <tr>\n",
              "      <th>Immediate custody</th>\n",
              "      <th>total</th>\n",
              "      <td>411348.0</td>\n",
              "      <td>4.218080e+05</td>\n",
              "      <td>3.805880e+05</td>\n",
              "      <td>3.724480e+05</td>\n",
              "      <td>363560.000</td>\n",
              "      <td>3.630080e+05</td>\n",
              "      <td>3.575240e+05</td>\n",
              "      <td>3.367240e+05</td>\n",
              "      <td>3.077360e+05</td>\n",
              "      <td>3.022360e+05</td>\n",
              "      <td>2.377440e+05</td>\n",
              "    </tr>\n",
              "    <tr>\n",
              "      <th>Otherwise dealt with(5)</th>\n",
              "      <th>total</th>\n",
              "      <td>98650.0</td>\n",
              "      <td>8.803400e+04</td>\n",
              "      <td>6.647800e+04</td>\n",
              "      <td>7.455000e+04</td>\n",
              "      <td>79082.000</td>\n",
              "      <td>4.730200e+04</td>\n",
              "      <td>5.301800e+04</td>\n",
              "      <td>5.001600e+04</td>\n",
              "      <td>4.638800e+04</td>\n",
              "      <td>4.800600e+04</td>\n",
              "      <td>3.407600e+04</td>\n",
              "    </tr>\n",
              "    <tr>\n",
              "      <th>Suspended sentence</th>\n",
              "      <th>total</th>\n",
              "      <td>195272.0</td>\n",
              "      <td>1.905720e+05</td>\n",
              "      <td>1.762160e+05</td>\n",
              "      <td>2.019680e+05</td>\n",
              "      <td>215588.000</td>\n",
              "      <td>2.289520e+05</td>\n",
              "      <td>2.265680e+05</td>\n",
              "      <td>2.058140e+05</td>\n",
              "      <td>1.598140e+05</td>\n",
              "      <td>1.591380e+05</td>\n",
              "      <td>1.481020e+05</td>\n",
              "    </tr>\n",
              "    <tr>\n",
              "      <th>Total sentenced</th>\n",
              "      <th>total</th>\n",
              "      <td>5427060.0</td>\n",
              "      <td>5.165816e+06</td>\n",
              "      <td>4.805572e+06</td>\n",
              "      <td>4.713714e+06</td>\n",
              "      <td>4886118.000</td>\n",
              "      <td>4.994830e+06</td>\n",
              "      <td>4.956814e+06</td>\n",
              "      <td>4.780990e+06</td>\n",
              "      <td>4.750758e+06</td>\n",
              "      <td>4.618308e+06</td>\n",
              "      <td>3.056594e+06</td>\n",
              "    </tr>\n",
              "    <tr>\n",
              "      <th>Type of sentence</th>\n",
              "      <th>total</th>\n",
              "      <td>2011.0</td>\n",
              "      <td>2.012000e+03</td>\n",
              "      <td>2.013000e+03</td>\n",
              "      <td>2.014000e+03</td>\n",
              "      <td>2015.000</td>\n",
              "      <td>2.016000e+03</td>\n",
              "      <td>2.017000e+03</td>\n",
              "      <td>2.018000e+03</td>\n",
              "      <td>2.019000e+03</td>\n",
              "      <td>2.020000e+03</td>\n",
              "      <td>2.021000e+03</td>\n",
              "    </tr>\n",
              "  </tbody>\n",
              "</table>\n",
              "</div>"
            ],
            "text/plain": [
              "year                                                2011  ...          2021\n",
              "Type of sentence                                          ...              \n",
              "Absolute discharge                      total    34374.0  ...  7.012000e+03\n",
              "Average custodial sentence (months)(6)  total        NaN  ...  2.961874e+02\n",
              "Community sentence                      total   755320.0  ...  2.378520e+05\n",
              "Compensation                            total    31170.0  ...  1.416000e+04\n",
              "Conditional discharge                   total   361958.0  ...  9.680800e+04\n",
              "Fine                                    total  3538968.0  ...  2.280840e+06\n",
              "Immediate custody                       total   411348.0  ...  2.377440e+05\n",
              "Otherwise dealt with(5)                 total    98650.0  ...  3.407600e+04\n",
              "Suspended sentence                      total   195272.0  ...  1.481020e+05\n",
              "Total sentenced                         total  5427060.0  ...  3.056594e+06\n",
              "Type of sentence                        total     2011.0  ...  2.021000e+03\n",
              "\n",
              "[11 rows x 11 columns]"
            ]
          },
          "metadata": {},
          "execution_count": 36
        }
      ]
    },
    {
      "cell_type": "markdown",
      "metadata": {
        "id": "i7YXrWKb2wOA"
      },
      "source": [
        "To fix that we just need to add `.astype()` to the end of the `pivot_table()` function to format any numbers in the results as integers - the text is ignored."
      ]
    },
    {
      "cell_type": "code",
      "metadata": {
        "colab": {
          "base_uri": "https://localhost:8080/",
          "height": 426
        },
        "id": "9F8P_8Ab2kuP",
        "outputId": "2c22fe52-f455-4d4e-e7fd-540ccb32cef1"
      },
      "source": [
        "pivot12 = overview21mardf[overview21mardf.year == '2012'].pivot_table(index=\"Type of sentence \", \n",
        "                        values=\"total\",\n",
        "                        columns=\"year\", \n",
        "                        aggfunc=\"sum\").astype(int)\n",
        "pivot12"
      ],
      "execution_count": null,
      "outputs": [
        {
          "output_type": "execute_result",
          "data": {
            "text/html": [
              "<div>\n",
              "<style scoped>\n",
              "    .dataframe tbody tr th:only-of-type {\n",
              "        vertical-align: middle;\n",
              "    }\n",
              "\n",
              "    .dataframe tbody tr th {\n",
              "        vertical-align: top;\n",
              "    }\n",
              "\n",
              "    .dataframe thead th {\n",
              "        text-align: right;\n",
              "    }\n",
              "</style>\n",
              "<table border=\"1\" class=\"dataframe\">\n",
              "  <thead>\n",
              "    <tr style=\"text-align: right;\">\n",
              "      <th>year</th>\n",
              "      <th>2012</th>\n",
              "    </tr>\n",
              "    <tr>\n",
              "      <th>Type of sentence</th>\n",
              "      <th></th>\n",
              "    </tr>\n",
              "  </thead>\n",
              "  <tbody>\n",
              "    <tr>\n",
              "      <th>Absolute discharge</th>\n",
              "      <td>32108</td>\n",
              "    </tr>\n",
              "    <tr>\n",
              "      <th>Average custodial sentence (months)(6)</th>\n",
              "      <td>164</td>\n",
              "    </tr>\n",
              "    <tr>\n",
              "      <th>Community sentence</th>\n",
              "      <td>696540</td>\n",
              "    </tr>\n",
              "    <tr>\n",
              "      <th>Compensation</th>\n",
              "      <td>26202</td>\n",
              "    </tr>\n",
              "    <tr>\n",
              "      <th>Conditional discharge</th>\n",
              "      <td>340668</td>\n",
              "    </tr>\n",
              "    <tr>\n",
              "      <th>Fine</th>\n",
              "      <td>3369884</td>\n",
              "    </tr>\n",
              "    <tr>\n",
              "      <th>Immediate custody</th>\n",
              "      <td>421808</td>\n",
              "    </tr>\n",
              "    <tr>\n",
              "      <th>Otherwise dealt with(5)</th>\n",
              "      <td>88034</td>\n",
              "    </tr>\n",
              "    <tr>\n",
              "      <th>Suspended sentence</th>\n",
              "      <td>190572</td>\n",
              "    </tr>\n",
              "    <tr>\n",
              "      <th>Total sentenced</th>\n",
              "      <td>5165816</td>\n",
              "    </tr>\n",
              "    <tr>\n",
              "      <th>Type of sentence</th>\n",
              "      <td>2012</td>\n",
              "    </tr>\n",
              "  </tbody>\n",
              "</table>\n",
              "</div>"
            ],
            "text/plain": [
              "year                                        2012\n",
              "Type of sentence                                \n",
              "Absolute discharge                         32108\n",
              "Average custodial sentence (months)(6)       164\n",
              "Community sentence                        696540\n",
              "Compensation                               26202\n",
              "Conditional discharge                     340668\n",
              "Fine                                     3369884\n",
              "Immediate custody                         421808\n",
              "Otherwise dealt with(5)                    88034\n",
              "Suspended sentence                        190572\n",
              "Total sentenced                          5165816\n",
              "Type of sentence                            2012"
            ]
          },
          "metadata": {},
          "execution_count": 40
        }
      ]
    },
    {
      "cell_type": "code",
      "metadata": {
        "colab": {
          "base_uri": "https://localhost:8080/",
          "height": 394
        },
        "id": "DyzLOjhG3HS2",
        "outputId": "1e49b140-73c3-4d6d-f6ac-2017ce1a9636"
      },
      "source": [
        "pivot12 = overview21mardf[overview21mardf.year == '2011'].pivot_table(index=\"Type of sentence \", \n",
        "                        values=\"total\",\n",
        "                        columns=\"year\", \n",
        "                        aggfunc=\"sum\").astype(int)\n",
        "pivot12"
      ],
      "execution_count": null,
      "outputs": [
        {
          "output_type": "execute_result",
          "data": {
            "text/html": [
              "<div>\n",
              "<style scoped>\n",
              "    .dataframe tbody tr th:only-of-type {\n",
              "        vertical-align: middle;\n",
              "    }\n",
              "\n",
              "    .dataframe tbody tr th {\n",
              "        vertical-align: top;\n",
              "    }\n",
              "\n",
              "    .dataframe thead th {\n",
              "        text-align: right;\n",
              "    }\n",
              "</style>\n",
              "<table border=\"1\" class=\"dataframe\">\n",
              "  <thead>\n",
              "    <tr style=\"text-align: right;\">\n",
              "      <th></th>\n",
              "      <th>year</th>\n",
              "      <th>2011</th>\n",
              "    </tr>\n",
              "    <tr>\n",
              "      <th>Type of sentence</th>\n",
              "      <th></th>\n",
              "      <th></th>\n",
              "    </tr>\n",
              "  </thead>\n",
              "  <tbody>\n",
              "    <tr>\n",
              "      <th>Absolute discharge</th>\n",
              "      <th>total</th>\n",
              "      <td>34374</td>\n",
              "    </tr>\n",
              "    <tr>\n",
              "      <th>Community sentence</th>\n",
              "      <th>total</th>\n",
              "      <td>755320</td>\n",
              "    </tr>\n",
              "    <tr>\n",
              "      <th>Compensation</th>\n",
              "      <th>total</th>\n",
              "      <td>31170</td>\n",
              "    </tr>\n",
              "    <tr>\n",
              "      <th>Conditional discharge</th>\n",
              "      <th>total</th>\n",
              "      <td>361958</td>\n",
              "    </tr>\n",
              "    <tr>\n",
              "      <th>Fine</th>\n",
              "      <th>total</th>\n",
              "      <td>3538968</td>\n",
              "    </tr>\n",
              "    <tr>\n",
              "      <th>Immediate custody</th>\n",
              "      <th>total</th>\n",
              "      <td>411348</td>\n",
              "    </tr>\n",
              "    <tr>\n",
              "      <th>Otherwise dealt with(5)</th>\n",
              "      <th>total</th>\n",
              "      <td>98650</td>\n",
              "    </tr>\n",
              "    <tr>\n",
              "      <th>Suspended sentence</th>\n",
              "      <th>total</th>\n",
              "      <td>195272</td>\n",
              "    </tr>\n",
              "    <tr>\n",
              "      <th>Total sentenced</th>\n",
              "      <th>total</th>\n",
              "      <td>5427060</td>\n",
              "    </tr>\n",
              "    <tr>\n",
              "      <th>Type of sentence</th>\n",
              "      <th>total</th>\n",
              "      <td>2011</td>\n",
              "    </tr>\n",
              "  </tbody>\n",
              "</table>\n",
              "</div>"
            ],
            "text/plain": [
              "year                              2011\n",
              "Type of sentence                      \n",
              "Absolute discharge      total    34374\n",
              "Community sentence      total   755320\n",
              "Compensation            total    31170\n",
              "Conditional discharge   total   361958\n",
              "Fine                    total  3538968\n",
              "Immediate custody       total   411348\n",
              "Otherwise dealt with(5) total    98650\n",
              "Suspended sentence      total   195272\n",
              "Total sentenced         total  5427060\n",
              "Type of sentence        total     2011"
            ]
          },
          "metadata": {},
          "execution_count": 55
        }
      ]
    },
    {
      "cell_type": "markdown",
      "metadata": {
        "id": "FifaZtrV3xpc"
      },
      "source": [
        "## Using SQL-style functions `where`, `isin` etc.\n",
        "\n",
        "We can also use SQL-style functions to filter a dataframe [such as `isin`](https://pandas.pydata.org/docs/reference/api/pandas.DataFrame.isin.html)."
      ]
    },
    {
      "cell_type": "code",
      "metadata": {
        "colab": {
          "base_uri": "https://localhost:8080/",
          "height": 599
        },
        "id": "HDI3L5_LL5w7",
        "outputId": "4ea4f7b2-f10b-444b-c9af-b343a124e586"
      },
      "source": [
        "#having called the column 'Type of sentence' we then use the .isin() function to ask if the specified string(s) are in it\n",
        "overview21mardf['Type of sentence'].isin(['Total sentenced'])"
      ],
      "execution_count": null,
      "outputs": [
        {
          "output_type": "error",
          "ename": "KeyError",
          "evalue": "ignored",
          "traceback": [
            "\u001b[0;31m---------------------------------------------------------------------------\u001b[0m",
            "\u001b[0;31mKeyError\u001b[0m                                  Traceback (most recent call last)",
            "\u001b[0;32m/usr/local/lib/python3.7/dist-packages/pandas/core/indexes/base.py\u001b[0m in \u001b[0;36mget_loc\u001b[0;34m(self, key, method, tolerance)\u001b[0m\n\u001b[1;32m   2897\u001b[0m             \u001b[0;32mtry\u001b[0m\u001b[0;34m:\u001b[0m\u001b[0;34m\u001b[0m\u001b[0;34m\u001b[0m\u001b[0m\n\u001b[0;32m-> 2898\u001b[0;31m                 \u001b[0;32mreturn\u001b[0m \u001b[0mself\u001b[0m\u001b[0;34m.\u001b[0m\u001b[0m_engine\u001b[0m\u001b[0;34m.\u001b[0m\u001b[0mget_loc\u001b[0m\u001b[0;34m(\u001b[0m\u001b[0mcasted_key\u001b[0m\u001b[0;34m)\u001b[0m\u001b[0;34m\u001b[0m\u001b[0;34m\u001b[0m\u001b[0m\n\u001b[0m\u001b[1;32m   2899\u001b[0m             \u001b[0;32mexcept\u001b[0m \u001b[0mKeyError\u001b[0m \u001b[0;32mas\u001b[0m \u001b[0merr\u001b[0m\u001b[0;34m:\u001b[0m\u001b[0;34m\u001b[0m\u001b[0;34m\u001b[0m\u001b[0m\n",
            "\u001b[0;32mpandas/_libs/index.pyx\u001b[0m in \u001b[0;36mpandas._libs.index.IndexEngine.get_loc\u001b[0;34m()\u001b[0m\n",
            "\u001b[0;32mpandas/_libs/index.pyx\u001b[0m in \u001b[0;36mpandas._libs.index.IndexEngine.get_loc\u001b[0;34m()\u001b[0m\n",
            "\u001b[0;32mpandas/_libs/hashtable_class_helper.pxi\u001b[0m in \u001b[0;36mpandas._libs.hashtable.PyObjectHashTable.get_item\u001b[0;34m()\u001b[0m\n",
            "\u001b[0;32mpandas/_libs/hashtable_class_helper.pxi\u001b[0m in \u001b[0;36mpandas._libs.hashtable.PyObjectHashTable.get_item\u001b[0;34m()\u001b[0m\n",
            "\u001b[0;31mKeyError\u001b[0m: 'Type of sentence'",
            "\nThe above exception was the direct cause of the following exception:\n",
            "\u001b[0;31mKeyError\u001b[0m                                  Traceback (most recent call last)",
            "\u001b[0;32m<ipython-input-37-d1d29cfcc04c>\u001b[0m in \u001b[0;36m<module>\u001b[0;34m()\u001b[0m\n\u001b[1;32m      1\u001b[0m \u001b[0;31m#having called the column 'sentencetype' we then use the .isin() function to ask if the specified string(s) are in it\u001b[0m\u001b[0;34m\u001b[0m\u001b[0;34m\u001b[0m\u001b[0;34m\u001b[0m\u001b[0m\n\u001b[1;32m      2\u001b[0m \u001b[0;31m#show which values in 'sentencetype' column have the\u001b[0m\u001b[0;34m\u001b[0m\u001b[0;34m\u001b[0m\u001b[0;34m\u001b[0m\u001b[0m\n\u001b[0;32m----> 3\u001b[0;31m \u001b[0moverview21mardf\u001b[0m\u001b[0;34m[\u001b[0m\u001b[0;34m'Type of sentence'\u001b[0m\u001b[0;34m]\u001b[0m\u001b[0;34m.\u001b[0m\u001b[0misin\u001b[0m\u001b[0;34m(\u001b[0m\u001b[0;34m[\u001b[0m\u001b[0;34m'Total sentenced'\u001b[0m\u001b[0;34m]\u001b[0m\u001b[0;34m)\u001b[0m\u001b[0;34m\u001b[0m\u001b[0;34m\u001b[0m\u001b[0m\n\u001b[0m",
            "\u001b[0;32m/usr/local/lib/python3.7/dist-packages/pandas/core/frame.py\u001b[0m in \u001b[0;36m__getitem__\u001b[0;34m(self, key)\u001b[0m\n\u001b[1;32m   2904\u001b[0m             \u001b[0;32mif\u001b[0m \u001b[0mself\u001b[0m\u001b[0;34m.\u001b[0m\u001b[0mcolumns\u001b[0m\u001b[0;34m.\u001b[0m\u001b[0mnlevels\u001b[0m \u001b[0;34m>\u001b[0m \u001b[0;36m1\u001b[0m\u001b[0;34m:\u001b[0m\u001b[0;34m\u001b[0m\u001b[0;34m\u001b[0m\u001b[0m\n\u001b[1;32m   2905\u001b[0m                 \u001b[0;32mreturn\u001b[0m \u001b[0mself\u001b[0m\u001b[0;34m.\u001b[0m\u001b[0m_getitem_multilevel\u001b[0m\u001b[0;34m(\u001b[0m\u001b[0mkey\u001b[0m\u001b[0;34m)\u001b[0m\u001b[0;34m\u001b[0m\u001b[0;34m\u001b[0m\u001b[0m\n\u001b[0;32m-> 2906\u001b[0;31m             \u001b[0mindexer\u001b[0m \u001b[0;34m=\u001b[0m \u001b[0mself\u001b[0m\u001b[0;34m.\u001b[0m\u001b[0mcolumns\u001b[0m\u001b[0;34m.\u001b[0m\u001b[0mget_loc\u001b[0m\u001b[0;34m(\u001b[0m\u001b[0mkey\u001b[0m\u001b[0;34m)\u001b[0m\u001b[0;34m\u001b[0m\u001b[0;34m\u001b[0m\u001b[0m\n\u001b[0m\u001b[1;32m   2907\u001b[0m             \u001b[0;32mif\u001b[0m \u001b[0mis_integer\u001b[0m\u001b[0;34m(\u001b[0m\u001b[0mindexer\u001b[0m\u001b[0;34m)\u001b[0m\u001b[0;34m:\u001b[0m\u001b[0;34m\u001b[0m\u001b[0;34m\u001b[0m\u001b[0m\n\u001b[1;32m   2908\u001b[0m                 \u001b[0mindexer\u001b[0m \u001b[0;34m=\u001b[0m \u001b[0;34m[\u001b[0m\u001b[0mindexer\u001b[0m\u001b[0;34m]\u001b[0m\u001b[0;34m\u001b[0m\u001b[0;34m\u001b[0m\u001b[0m\n",
            "\u001b[0;32m/usr/local/lib/python3.7/dist-packages/pandas/core/indexes/base.py\u001b[0m in \u001b[0;36mget_loc\u001b[0;34m(self, key, method, tolerance)\u001b[0m\n\u001b[1;32m   2898\u001b[0m                 \u001b[0;32mreturn\u001b[0m \u001b[0mself\u001b[0m\u001b[0;34m.\u001b[0m\u001b[0m_engine\u001b[0m\u001b[0;34m.\u001b[0m\u001b[0mget_loc\u001b[0m\u001b[0;34m(\u001b[0m\u001b[0mcasted_key\u001b[0m\u001b[0;34m)\u001b[0m\u001b[0;34m\u001b[0m\u001b[0;34m\u001b[0m\u001b[0m\n\u001b[1;32m   2899\u001b[0m             \u001b[0;32mexcept\u001b[0m \u001b[0mKeyError\u001b[0m \u001b[0;32mas\u001b[0m \u001b[0merr\u001b[0m\u001b[0;34m:\u001b[0m\u001b[0;34m\u001b[0m\u001b[0;34m\u001b[0m\u001b[0m\n\u001b[0;32m-> 2900\u001b[0;31m                 \u001b[0;32mraise\u001b[0m \u001b[0mKeyError\u001b[0m\u001b[0;34m(\u001b[0m\u001b[0mkey\u001b[0m\u001b[0;34m)\u001b[0m \u001b[0;32mfrom\u001b[0m \u001b[0merr\u001b[0m\u001b[0;34m\u001b[0m\u001b[0;34m\u001b[0m\u001b[0m\n\u001b[0m\u001b[1;32m   2901\u001b[0m \u001b[0;34m\u001b[0m\u001b[0m\n\u001b[1;32m   2902\u001b[0m         \u001b[0;32mif\u001b[0m \u001b[0mtolerance\u001b[0m \u001b[0;32mis\u001b[0m \u001b[0;32mnot\u001b[0m \u001b[0;32mNone\u001b[0m\u001b[0;34m:\u001b[0m\u001b[0;34m\u001b[0m\u001b[0;34m\u001b[0m\u001b[0m\n",
            "\u001b[0;31mKeyError\u001b[0m: 'Type of sentence'"
          ]
        }
      ]
    },
    {
      "cell_type": "markdown",
      "metadata": {
        "id": "dywM4a06OrMg"
      },
      "source": [
        "What happened there? Check the column name. "
      ]
    },
    {
      "cell_type": "code",
      "metadata": {
        "colab": {
          "base_uri": "https://localhost:8080/"
        },
        "id": "od47NwYOOx3I",
        "outputId": "1fc66e5f-99bd-46af-ea6e-7a21862e1898"
      },
      "source": [
        "overview21mardf.columns"
      ],
      "execution_count": null,
      "outputs": [
        {
          "output_type": "execute_result",
          "data": {
            "text/plain": [
              "Index([     'Offence type', 'Type of sentence ',                2011,\n",
              "                      2012,                2013,                2014,\n",
              "                      2015,                2016,                2017,\n",
              "                      2018,                2019,                2020,\n",
              "                      2021],\n",
              "      dtype='object')"
            ]
          },
          "metadata": {},
          "execution_count": 39
        }
      ]
    },
    {
      "cell_type": "markdown",
      "metadata": {
        "id": "Pfh7RrmIOwOk"
      },
      "source": [
        "It actually has a space in it."
      ]
    },
    {
      "cell_type": "code",
      "metadata": {
        "colab": {
          "base_uri": "https://localhost:8080/"
        },
        "id": "TiMeirNTOt1N",
        "outputId": "0777542f-d86c-4097-879f-625dd4260f99"
      },
      "source": [
        "#having called the column 'Type of sentence ' we then use the .isin() function to ask if the specified string(s) are in it\n",
        "overview21mardf['Type of sentence '].isin(['Total sentenced'])"
      ],
      "execution_count": null,
      "outputs": [
        {
          "output_type": "execute_result",
          "data": {
            "text/plain": [
              "0       True\n",
              "1      False\n",
              "2      False\n",
              "3      False\n",
              "4      False\n",
              "       ...  \n",
              "178    False\n",
              "179    False\n",
              "180    False\n",
              "181    False\n",
              "182    False\n",
              "Name: Type of sentence , Length: 183, dtype: bool"
            ]
          },
          "metadata": {},
          "execution_count": 38
        }
      ]
    },
    {
      "cell_type": "markdown",
      "metadata": {
        "id": "X4CjM0UmO95b"
      },
      "source": [
        "This can be used as a filter by adding it in square brackets after the name of the dataframe, like this..."
      ]
    },
    {
      "cell_type": "code",
      "metadata": {
        "colab": {
          "base_uri": "https://localhost:8080/",
          "height": 845
        },
        "id": "zZ7YAcSnPAYX",
        "outputId": "036564f6-2098-4c38-c2a3-67937ac47261"
      },
      "source": [
        "#filter the dataframe on the True/False list created in square brackets\n",
        "overview21mardf[overview21mardf['Type of sentence '].isin(['Total sentenced'])]"
      ],
      "execution_count": null,
      "outputs": [
        {
          "output_type": "execute_result",
          "data": {
            "text/html": [
              "<div>\n",
              "<style scoped>\n",
              "    .dataframe tbody tr th:only-of-type {\n",
              "        vertical-align: middle;\n",
              "    }\n",
              "\n",
              "    .dataframe tbody tr th {\n",
              "        vertical-align: top;\n",
              "    }\n",
              "\n",
              "    .dataframe thead th {\n",
              "        text-align: right;\n",
              "    }\n",
              "</style>\n",
              "<table border=\"1\" class=\"dataframe\">\n",
              "  <thead>\n",
              "    <tr style=\"text-align: right;\">\n",
              "      <th></th>\n",
              "      <th>Offence type</th>\n",
              "      <th>Type of sentence</th>\n",
              "      <th>2011</th>\n",
              "      <th>2012</th>\n",
              "      <th>2013</th>\n",
              "      <th>2014</th>\n",
              "      <th>2015</th>\n",
              "      <th>2016</th>\n",
              "      <th>2017</th>\n",
              "      <th>2018</th>\n",
              "      <th>2019</th>\n",
              "      <th>2020</th>\n",
              "      <th>2021</th>\n",
              "    </tr>\n",
              "  </thead>\n",
              "  <tbody>\n",
              "    <tr>\n",
              "      <th>0</th>\n",
              "      <td>Indictable only offences</td>\n",
              "      <td>Total sentenced</td>\n",
              "      <td>19976</td>\n",
              "      <td>19330.0</td>\n",
              "      <td>17144.0</td>\n",
              "      <td>15681.0</td>\n",
              "      <td>14597.0</td>\n",
              "      <td>14050.0</td>\n",
              "      <td>13731.0</td>\n",
              "      <td>13263.0</td>\n",
              "      <td>12006.0</td>\n",
              "      <td>12718.0</td>\n",
              "      <td>10573</td>\n",
              "    </tr>\n",
              "    <tr>\n",
              "      <th>13</th>\n",
              "      <td>Triable either way offences</td>\n",
              "      <td>Total sentenced</td>\n",
              "      <td>331344</td>\n",
              "      <td>318666.0</td>\n",
              "      <td>278796.0</td>\n",
              "      <td>277009.0</td>\n",
              "      <td>263120.0</td>\n",
              "      <td>244535.0</td>\n",
              "      <td>227700.0</td>\n",
              "      <td>202037.0</td>\n",
              "      <td>186242.0</td>\n",
              "      <td>184452.0</td>\n",
              "      <td>144916</td>\n",
              "    </tr>\n",
              "    <tr>\n",
              "      <th>26</th>\n",
              "      <td>Summary non-motoring</td>\n",
              "      <td>Total sentenced</td>\n",
              "      <td>495156</td>\n",
              "      <td>493826.0</td>\n",
              "      <td>456005.0</td>\n",
              "      <td>438850.0</td>\n",
              "      <td>463750.0</td>\n",
              "      <td>483856.0</td>\n",
              "      <td>470528.0</td>\n",
              "      <td>474189.0</td>\n",
              "      <td>460116.0</td>\n",
              "      <td>429662.0</td>\n",
              "      <td>188861</td>\n",
              "    </tr>\n",
              "    <tr>\n",
              "      <th>39</th>\n",
              "      <td>Summary motoring</td>\n",
              "      <td>Total sentenced</td>\n",
              "      <td>514207</td>\n",
              "      <td>462995.0</td>\n",
              "      <td>452644.0</td>\n",
              "      <td>450133.0</td>\n",
              "      <td>483453.0</td>\n",
              "      <td>510480.0</td>\n",
              "      <td>531615.0</td>\n",
              "      <td>510461.0</td>\n",
              "      <td>533451.0</td>\n",
              "      <td>531365.0</td>\n",
              "      <td>421399</td>\n",
              "    </tr>\n",
              "    <tr>\n",
              "      <th>52</th>\n",
              "      <td>Offence not known(7)</td>\n",
              "      <td>Total sentenced</td>\n",
              "      <td>0</td>\n",
              "      <td>0.0</td>\n",
              "      <td>0.0</td>\n",
              "      <td>0.0</td>\n",
              "      <td>0.0</td>\n",
              "      <td>0.0</td>\n",
              "      <td>0.0</td>\n",
              "      <td>62.0</td>\n",
              "      <td>266.0</td>\n",
              "      <td>741.0</td>\n",
              "      <td>499</td>\n",
              "    </tr>\n",
              "    <tr>\n",
              "      <th>65</th>\n",
              "      <td>All offences</td>\n",
              "      <td>Total sentenced</td>\n",
              "      <td>1360683</td>\n",
              "      <td>1294817.0</td>\n",
              "      <td>1204589.0</td>\n",
              "      <td>1181673.0</td>\n",
              "      <td>1224920.0</td>\n",
              "      <td>1252921.0</td>\n",
              "      <td>1243574.0</td>\n",
              "      <td>1200012.0</td>\n",
              "      <td>1192081.0</td>\n",
              "      <td>1158938.0</td>\n",
              "      <td>766248</td>\n",
              "    </tr>\n",
              "    <tr>\n",
              "      <th>85</th>\n",
              "      <td>Indictable only offences</td>\n",
              "      <td>Total sentenced</td>\n",
              "      <td>19976</td>\n",
              "      <td>19330.0</td>\n",
              "      <td>17143.0</td>\n",
              "      <td>15680.0</td>\n",
              "      <td>14594.0</td>\n",
              "      <td>14043.0</td>\n",
              "      <td>13728.0</td>\n",
              "      <td>13260.0</td>\n",
              "      <td>12006.0</td>\n",
              "      <td>12717.0</td>\n",
              "      <td>10571</td>\n",
              "    </tr>\n",
              "    <tr>\n",
              "      <th>98</th>\n",
              "      <td>Triable either way offences</td>\n",
              "      <td>Total sentenced</td>\n",
              "      <td>330513</td>\n",
              "      <td>317867.0</td>\n",
              "      <td>277989.0</td>\n",
              "      <td>276243.0</td>\n",
              "      <td>262318.0</td>\n",
              "      <td>243600.0</td>\n",
              "      <td>226862.0</td>\n",
              "      <td>201117.0</td>\n",
              "      <td>185318.0</td>\n",
              "      <td>183651.0</td>\n",
              "      <td>144565</td>\n",
              "    </tr>\n",
              "    <tr>\n",
              "      <th>111</th>\n",
              "      <td>Summary non-motoring</td>\n",
              "      <td>Total sentenced</td>\n",
              "      <td>493832</td>\n",
              "      <td>492718.0</td>\n",
              "      <td>455139.0</td>\n",
              "      <td>437869.0</td>\n",
              "      <td>462715.0</td>\n",
              "      <td>482200.0</td>\n",
              "      <td>468705.0</td>\n",
              "      <td>471679.0</td>\n",
              "      <td>457825.0</td>\n",
              "      <td>427706.0</td>\n",
              "      <td>188496</td>\n",
              "    </tr>\n",
              "    <tr>\n",
              "      <th>124</th>\n",
              "      <td>Summary motoring</td>\n",
              "      <td>Total sentenced</td>\n",
              "      <td>508526</td>\n",
              "      <td>458176.0</td>\n",
              "      <td>447926.0</td>\n",
              "      <td>445392.0</td>\n",
              "      <td>478512.0</td>\n",
              "      <td>504651.0</td>\n",
              "      <td>525538.0</td>\n",
              "      <td>504365.0</td>\n",
              "      <td>527886.0</td>\n",
              "      <td>525416.0</td>\n",
              "      <td>417926</td>\n",
              "    </tr>\n",
              "    <tr>\n",
              "      <th>137</th>\n",
              "      <td>Offence not known(7)</td>\n",
              "      <td>Total sentenced</td>\n",
              "      <td>0</td>\n",
              "      <td>0.0</td>\n",
              "      <td>0.0</td>\n",
              "      <td>0.0</td>\n",
              "      <td>0.0</td>\n",
              "      <td>0.0</td>\n",
              "      <td>0.0</td>\n",
              "      <td>62.0</td>\n",
              "      <td>263.0</td>\n",
              "      <td>726.0</td>\n",
              "      <td>491</td>\n",
              "    </tr>\n",
              "    <tr>\n",
              "      <th>150</th>\n",
              "      <td>All offences</td>\n",
              "      <td>Total sentenced</td>\n",
              "      <td>1352847</td>\n",
              "      <td>1288091.0</td>\n",
              "      <td>1198197.0</td>\n",
              "      <td>1175184.0</td>\n",
              "      <td>1218139.0</td>\n",
              "      <td>1244494.0</td>\n",
              "      <td>1234833.0</td>\n",
              "      <td>1190483.0</td>\n",
              "      <td>1183298.0</td>\n",
              "      <td>1150216.0</td>\n",
              "      <td>762049</td>\n",
              "    </tr>\n",
              "  </tbody>\n",
              "</table>\n",
              "</div>"
            ],
            "text/plain": [
              "                    Offence type Type of sentence   ...       2020    2021\n",
              "0       Indictable only offences   Total sentenced  ...    12718.0   10573\n",
              "13   Triable either way offences   Total sentenced  ...   184452.0  144916\n",
              "26          Summary non-motoring   Total sentenced  ...   429662.0  188861\n",
              "39              Summary motoring   Total sentenced  ...   531365.0  421399\n",
              "52          Offence not known(7)   Total sentenced  ...      741.0     499\n",
              "65                  All offences   Total sentenced  ...  1158938.0  766248\n",
              "85      Indictable only offences   Total sentenced  ...    12717.0   10571\n",
              "98   Triable either way offences   Total sentenced  ...   183651.0  144565\n",
              "111         Summary non-motoring   Total sentenced  ...   427706.0  188496\n",
              "124             Summary motoring   Total sentenced  ...   525416.0  417926\n",
              "137         Offence not known(7)   Total sentenced  ...      726.0     491\n",
              "150                 All offences   Total sentenced  ...  1150216.0  762049\n",
              "\n",
              "[12 rows x 13 columns]"
            ]
          },
          "metadata": {},
          "execution_count": 40
        }
      ]
    },
    {
      "cell_type": "markdown",
      "metadata": {
        "id": "3776qqGIPj3F"
      },
      "source": [
        "The [`where` function](https://www.geeksforgeeks.org/python-pandas-dataframe-where/) provides similar filtering functionality."
      ]
    }
  ]
}