{
  "nbformat": 4,
  "nbformat_minor": 0,
  "metadata": {
    "colab": {
      "name": "pandas04questionAdvanced.ipynb",
      "provenance": [],
      "collapsed_sections": []
    },
    "kernelspec": {
      "name": "python3",
      "display_name": "Python 3"
    },
    "language_info": {
      "name": "python"
    }
  },
  "cells": [
    {
      "cell_type": "markdown",
      "metadata": {
        "id": "7BL8NNAafD8V"
      },
      "source": [
        "# Pivot tables and more questioning data with `pandas`\n",
        "\n",
        "This notebook details how to use the Python library `pandas` to ask more advanced questions of. First, let's import `pandas` - and some data to work with.\n",
        "\n",
        "Note that when reading data using `pandas`, the results are stored in a **dataframe** which can be used for further analysis."
      ]
    },
    {
      "cell_type": "code",
      "metadata": {
        "colab": {
          "base_uri": "https://localhost:8080/"
        },
        "id": "QFMzkAmmfAkI",
        "outputId": "f631d232-8a35-4e9f-bcd9-b19b39f032ae"
      },
      "source": [
        "import pandas as pd\n",
        "#read in some JSON from the UK police API - this should show stops near a particular location during January 2021\n",
        "policestops = pd.read_json(\"https://data.police.uk/api/stops-street?lat=52.629729&lng=-1.131592&date=2021-01\")\n",
        "#count how many in each age range\n",
        "policestops.info()"
      ],
      "execution_count": 1,
      "outputs": [
        {
          "output_type": "stream",
          "name": "stdout",
          "text": [
            "<class 'pandas.core.frame.DataFrame'>\n",
            "RangeIndex: 106 entries, 0 to 105\n",
            "Data columns (total 16 columns):\n",
            " #   Column                               Non-Null Count  Dtype              \n",
            "---  ------                               --------------  -----              \n",
            " 0   age_range                            102 non-null    object             \n",
            " 1   outcome                              106 non-null    object             \n",
            " 2   involved_person                      106 non-null    bool               \n",
            " 3   self_defined_ethnicity               106 non-null    object             \n",
            " 4   gender                               106 non-null    object             \n",
            " 5   legislation                          106 non-null    object             \n",
            " 6   outcome_linked_to_object_of_search   13 non-null     float64            \n",
            " 7   datetime                             106 non-null    datetime64[ns, UTC]\n",
            " 8   removal_of_more_than_outer_clothing  106 non-null    bool               \n",
            " 9   outcome_object                       106 non-null    object             \n",
            " 10  location                             106 non-null    object             \n",
            " 11  operation                            0 non-null      float64            \n",
            " 12  officer_defined_ethnicity            106 non-null    object             \n",
            " 13  type                                 106 non-null    object             \n",
            " 14  operation_name                       0 non-null      float64            \n",
            " 15  object_of_search                     106 non-null    object             \n",
            "dtypes: bool(2), datetime64[ns, UTC](1), float64(3), object(10)\n",
            "memory usage: 11.9+ KB\n"
          ]
        }
      ]
    },
    {
      "cell_type": "markdown",
      "metadata": {
        "id": "T_aNfJ5tjHv-"
      },
      "source": [
        "## Using the pivot_table function\n",
        "\n",
        "The `pivot_table` function allows you to create an Excel-like pivot table. It can be attached to the data frame with a period like so: \n",
        "\n",
        "`policestops.pivot_table()` \n",
        "\n",
        "...or you can name the data frame as a parameter like so:\n",
        "\n",
        "`pd.pivot_table(data = policestops)` \n",
        "\n",
        "Then, inside the parentheses, you specify the rows, columns, values and calculations you want to perform. "
      ]
    },
    {
      "cell_type": "code",
      "metadata": {
        "colab": {
          "base_uri": "https://localhost:8080/",
          "height": 258
        },
        "id": "W-4dJPfEorOS",
        "outputId": "f86a648c-b6c2-4c3b-cc3c-f07194d49298"
      },
      "source": [
        "policestops.pivot_table(index=\"age_range\", columns=\"gender\", aggfunc=\"count\")"
      ],
      "execution_count": 6,
      "outputs": [
        {
          "output_type": "execute_result",
          "data": {
            "text/html": [
              "<div>\n",
              "<style scoped>\n",
              "    .dataframe tbody tr th:only-of-type {\n",
              "        vertical-align: middle;\n",
              "    }\n",
              "\n",
              "    .dataframe tbody tr th {\n",
              "        vertical-align: top;\n",
              "    }\n",
              "\n",
              "    .dataframe thead tr th {\n",
              "        text-align: left;\n",
              "    }\n",
              "\n",
              "    .dataframe thead tr:last-of-type th {\n",
              "        text-align: right;\n",
              "    }\n",
              "</style>\n",
              "<table border=\"1\" class=\"dataframe\">\n",
              "  <thead>\n",
              "    <tr>\n",
              "      <th></th>\n",
              "      <th colspan=\"2\" halign=\"left\">datetime</th>\n",
              "      <th colspan=\"2\" halign=\"left\">involved_person</th>\n",
              "      <th colspan=\"2\" halign=\"left\">legislation</th>\n",
              "      <th colspan=\"2\" halign=\"left\">location</th>\n",
              "      <th colspan=\"2\" halign=\"left\">object_of_search</th>\n",
              "      <th colspan=\"2\" halign=\"left\">officer_defined_ethnicity</th>\n",
              "      <th colspan=\"2\" halign=\"left\">operation</th>\n",
              "      <th colspan=\"2\" halign=\"left\">operation_name</th>\n",
              "      <th colspan=\"2\" halign=\"left\">outcome</th>\n",
              "      <th colspan=\"2\" halign=\"left\">outcome_linked_to_object_of_search</th>\n",
              "      <th colspan=\"2\" halign=\"left\">outcome_object</th>\n",
              "      <th colspan=\"2\" halign=\"left\">removal_of_more_than_outer_clothing</th>\n",
              "      <th colspan=\"2\" halign=\"left\">self_defined_ethnicity</th>\n",
              "      <th colspan=\"2\" halign=\"left\">type</th>\n",
              "    </tr>\n",
              "    <tr>\n",
              "      <th>gender</th>\n",
              "      <th>Female</th>\n",
              "      <th>Male</th>\n",
              "      <th>Female</th>\n",
              "      <th>Male</th>\n",
              "      <th>Female</th>\n",
              "      <th>Male</th>\n",
              "      <th>Female</th>\n",
              "      <th>Male</th>\n",
              "      <th>Female</th>\n",
              "      <th>Male</th>\n",
              "      <th>Female</th>\n",
              "      <th>Male</th>\n",
              "      <th>Female</th>\n",
              "      <th>Male</th>\n",
              "      <th>Female</th>\n",
              "      <th>Male</th>\n",
              "      <th>Female</th>\n",
              "      <th>Male</th>\n",
              "      <th>Female</th>\n",
              "      <th>Male</th>\n",
              "      <th>Female</th>\n",
              "      <th>Male</th>\n",
              "      <th>Female</th>\n",
              "      <th>Male</th>\n",
              "      <th>Female</th>\n",
              "      <th>Male</th>\n",
              "      <th>Female</th>\n",
              "      <th>Male</th>\n",
              "    </tr>\n",
              "    <tr>\n",
              "      <th>age_range</th>\n",
              "      <th></th>\n",
              "      <th></th>\n",
              "      <th></th>\n",
              "      <th></th>\n",
              "      <th></th>\n",
              "      <th></th>\n",
              "      <th></th>\n",
              "      <th></th>\n",
              "      <th></th>\n",
              "      <th></th>\n",
              "      <th></th>\n",
              "      <th></th>\n",
              "      <th></th>\n",
              "      <th></th>\n",
              "      <th></th>\n",
              "      <th></th>\n",
              "      <th></th>\n",
              "      <th></th>\n",
              "      <th></th>\n",
              "      <th></th>\n",
              "      <th></th>\n",
              "      <th></th>\n",
              "      <th></th>\n",
              "      <th></th>\n",
              "      <th></th>\n",
              "      <th></th>\n",
              "      <th></th>\n",
              "      <th></th>\n",
              "    </tr>\n",
              "  </thead>\n",
              "  <tbody>\n",
              "    <tr>\n",
              "      <th>10-17</th>\n",
              "      <td>NaN</td>\n",
              "      <td>4.0</td>\n",
              "      <td>NaN</td>\n",
              "      <td>4.0</td>\n",
              "      <td>NaN</td>\n",
              "      <td>4.0</td>\n",
              "      <td>NaN</td>\n",
              "      <td>4.0</td>\n",
              "      <td>NaN</td>\n",
              "      <td>4.0</td>\n",
              "      <td>NaN</td>\n",
              "      <td>4.0</td>\n",
              "      <td>NaN</td>\n",
              "      <td>0.0</td>\n",
              "      <td>NaN</td>\n",
              "      <td>0.0</td>\n",
              "      <td>NaN</td>\n",
              "      <td>4.0</td>\n",
              "      <td>NaN</td>\n",
              "      <td>3.0</td>\n",
              "      <td>NaN</td>\n",
              "      <td>4.0</td>\n",
              "      <td>NaN</td>\n",
              "      <td>4.0</td>\n",
              "      <td>NaN</td>\n",
              "      <td>4.0</td>\n",
              "      <td>NaN</td>\n",
              "      <td>4.0</td>\n",
              "    </tr>\n",
              "    <tr>\n",
              "      <th>18-24</th>\n",
              "      <td>5.0</td>\n",
              "      <td>33.0</td>\n",
              "      <td>5.0</td>\n",
              "      <td>33.0</td>\n",
              "      <td>5.0</td>\n",
              "      <td>33.0</td>\n",
              "      <td>5.0</td>\n",
              "      <td>33.0</td>\n",
              "      <td>5.0</td>\n",
              "      <td>33.0</td>\n",
              "      <td>5.0</td>\n",
              "      <td>33.0</td>\n",
              "      <td>0.0</td>\n",
              "      <td>0.0</td>\n",
              "      <td>0.0</td>\n",
              "      <td>0.0</td>\n",
              "      <td>5.0</td>\n",
              "      <td>33.0</td>\n",
              "      <td>0.0</td>\n",
              "      <td>3.0</td>\n",
              "      <td>5.0</td>\n",
              "      <td>33.0</td>\n",
              "      <td>5.0</td>\n",
              "      <td>33.0</td>\n",
              "      <td>5.0</td>\n",
              "      <td>33.0</td>\n",
              "      <td>5.0</td>\n",
              "      <td>33.0</td>\n",
              "    </tr>\n",
              "    <tr>\n",
              "      <th>25-34</th>\n",
              "      <td>8.0</td>\n",
              "      <td>27.0</td>\n",
              "      <td>8.0</td>\n",
              "      <td>27.0</td>\n",
              "      <td>8.0</td>\n",
              "      <td>27.0</td>\n",
              "      <td>8.0</td>\n",
              "      <td>27.0</td>\n",
              "      <td>8.0</td>\n",
              "      <td>27.0</td>\n",
              "      <td>8.0</td>\n",
              "      <td>27.0</td>\n",
              "      <td>0.0</td>\n",
              "      <td>0.0</td>\n",
              "      <td>0.0</td>\n",
              "      <td>0.0</td>\n",
              "      <td>8.0</td>\n",
              "      <td>27.0</td>\n",
              "      <td>3.0</td>\n",
              "      <td>0.0</td>\n",
              "      <td>8.0</td>\n",
              "      <td>27.0</td>\n",
              "      <td>8.0</td>\n",
              "      <td>27.0</td>\n",
              "      <td>8.0</td>\n",
              "      <td>27.0</td>\n",
              "      <td>8.0</td>\n",
              "      <td>27.0</td>\n",
              "    </tr>\n",
              "    <tr>\n",
              "      <th>over 34</th>\n",
              "      <td>3.0</td>\n",
              "      <td>22.0</td>\n",
              "      <td>3.0</td>\n",
              "      <td>22.0</td>\n",
              "      <td>3.0</td>\n",
              "      <td>22.0</td>\n",
              "      <td>3.0</td>\n",
              "      <td>22.0</td>\n",
              "      <td>3.0</td>\n",
              "      <td>22.0</td>\n",
              "      <td>3.0</td>\n",
              "      <td>22.0</td>\n",
              "      <td>0.0</td>\n",
              "      <td>0.0</td>\n",
              "      <td>0.0</td>\n",
              "      <td>0.0</td>\n",
              "      <td>3.0</td>\n",
              "      <td>22.0</td>\n",
              "      <td>0.0</td>\n",
              "      <td>4.0</td>\n",
              "      <td>3.0</td>\n",
              "      <td>22.0</td>\n",
              "      <td>3.0</td>\n",
              "      <td>22.0</td>\n",
              "      <td>3.0</td>\n",
              "      <td>22.0</td>\n",
              "      <td>3.0</td>\n",
              "      <td>22.0</td>\n",
              "    </tr>\n",
              "  </tbody>\n",
              "</table>\n",
              "</div>"
            ],
            "text/plain": [
              "          datetime       involved_person  ... self_defined_ethnicity   type      \n",
              "gender      Female  Male          Female  ...                   Male Female  Male\n",
              "age_range                                 ...                                    \n",
              "10-17          NaN   4.0             NaN  ...                    4.0    NaN   4.0\n",
              "18-24          5.0  33.0             5.0  ...                   33.0    5.0  33.0\n",
              "25-34          8.0  27.0             8.0  ...                   27.0    8.0  27.0\n",
              "over 34        3.0  22.0             3.0  ...                   22.0    3.0  22.0\n",
              "\n",
              "[4 rows x 28 columns]"
            ]
          },
          "metadata": {},
          "execution_count": 6
        }
      ]
    },
    {
      "cell_type": "markdown",
      "metadata": {
        "id": "TeJz733GlDbG"
      },
      "source": [
        "Note that it repeats this for each column - datetime, involved_person and so on. \n",
        "\n",
        "To stop this, you need to specify the `values=` like so:"
      ]
    },
    {
      "cell_type": "code",
      "metadata": {
        "colab": {
          "base_uri": "https://localhost:8080/",
          "height": 206
        },
        "id": "eQz1s8e2BpGH",
        "outputId": "2a4aec71-2050-4b8f-9c59-6f027a65de94"
      },
      "source": [
        "policestops.pivot_table(index=\"age_range\", \n",
        "                        values=\"involved_person\",\n",
        "                        columns=\"gender\", \n",
        "                        aggfunc=\"count\")"
      ],
      "execution_count": 9,
      "outputs": [
        {
          "output_type": "execute_result",
          "data": {
            "text/html": [
              "<div>\n",
              "<style scoped>\n",
              "    .dataframe tbody tr th:only-of-type {\n",
              "        vertical-align: middle;\n",
              "    }\n",
              "\n",
              "    .dataframe tbody tr th {\n",
              "        vertical-align: top;\n",
              "    }\n",
              "\n",
              "    .dataframe thead th {\n",
              "        text-align: right;\n",
              "    }\n",
              "</style>\n",
              "<table border=\"1\" class=\"dataframe\">\n",
              "  <thead>\n",
              "    <tr style=\"text-align: right;\">\n",
              "      <th>gender</th>\n",
              "      <th>Female</th>\n",
              "      <th>Male</th>\n",
              "    </tr>\n",
              "    <tr>\n",
              "      <th>age_range</th>\n",
              "      <th></th>\n",
              "      <th></th>\n",
              "    </tr>\n",
              "  </thead>\n",
              "  <tbody>\n",
              "    <tr>\n",
              "      <th>10-17</th>\n",
              "      <td>NaN</td>\n",
              "      <td>4.0</td>\n",
              "    </tr>\n",
              "    <tr>\n",
              "      <th>18-24</th>\n",
              "      <td>5.0</td>\n",
              "      <td>33.0</td>\n",
              "    </tr>\n",
              "    <tr>\n",
              "      <th>25-34</th>\n",
              "      <td>8.0</td>\n",
              "      <td>27.0</td>\n",
              "    </tr>\n",
              "    <tr>\n",
              "      <th>over 34</th>\n",
              "      <td>3.0</td>\n",
              "      <td>22.0</td>\n",
              "    </tr>\n",
              "  </tbody>\n",
              "</table>\n",
              "</div>"
            ],
            "text/plain": [
              "gender     Female  Male\n",
              "age_range              \n",
              "10-17         NaN   4.0\n",
              "18-24         5.0  33.0\n",
              "25-34         8.0  27.0\n",
              "over 34       3.0  22.0"
            ]
          },
          "metadata": {},
          "execution_count": 9
        }
      ]
    },
    {
      "cell_type": "markdown",
      "metadata": {
        "id": "bB-esZ2jByH6"
      },
      "source": [
        "Note that it doesn't much matter which values you pick - it just stops it repeating for each field.\n",
        "\n",
        "However, if you pick the same column for values that you picked for index or columns, you'll get an error."
      ]
    },
    {
      "cell_type": "markdown",
      "metadata": {
        "id": "gumALY3p5sQg"
      },
      "source": [
        "## Replace `NaN` with zeroes\n",
        "\n",
        "We can also [add extra functions](https://pandas.pydata.org/pandas-docs/stable/reference/api/pandas.DataFrame.fillna.html) on the end to replace the `NaN` with a zero.\n",
        "\n",
        "The code below takes the results of the `pivot_table()` function and applies `.fillna()` to it."
      ]
    },
    {
      "cell_type": "code",
      "metadata": {
        "colab": {
          "base_uri": "https://localhost:8080/",
          "height": 206
        },
        "id": "rM7qP8CF5cyz",
        "outputId": "113eb5a9-c0e7-4f17-f837-45ecf5015dfd"
      },
      "source": [
        "policestops.pivot_table(index=\"age_range\", \n",
        "                        values=\"involved_person\",\n",
        "                        columns=\"gender\", \n",
        "                        aggfunc=\"count\").fillna(0)"
      ],
      "execution_count": 13,
      "outputs": [
        {
          "output_type": "execute_result",
          "data": {
            "text/html": [
              "<div>\n",
              "<style scoped>\n",
              "    .dataframe tbody tr th:only-of-type {\n",
              "        vertical-align: middle;\n",
              "    }\n",
              "\n",
              "    .dataframe tbody tr th {\n",
              "        vertical-align: top;\n",
              "    }\n",
              "\n",
              "    .dataframe thead th {\n",
              "        text-align: right;\n",
              "    }\n",
              "</style>\n",
              "<table border=\"1\" class=\"dataframe\">\n",
              "  <thead>\n",
              "    <tr style=\"text-align: right;\">\n",
              "      <th>gender</th>\n",
              "      <th>Female</th>\n",
              "      <th>Male</th>\n",
              "    </tr>\n",
              "    <tr>\n",
              "      <th>age_range</th>\n",
              "      <th></th>\n",
              "      <th></th>\n",
              "    </tr>\n",
              "  </thead>\n",
              "  <tbody>\n",
              "    <tr>\n",
              "      <th>10-17</th>\n",
              "      <td>0.0</td>\n",
              "      <td>4.0</td>\n",
              "    </tr>\n",
              "    <tr>\n",
              "      <th>18-24</th>\n",
              "      <td>5.0</td>\n",
              "      <td>33.0</td>\n",
              "    </tr>\n",
              "    <tr>\n",
              "      <th>25-34</th>\n",
              "      <td>8.0</td>\n",
              "      <td>27.0</td>\n",
              "    </tr>\n",
              "    <tr>\n",
              "      <th>over 34</th>\n",
              "      <td>3.0</td>\n",
              "      <td>22.0</td>\n",
              "    </tr>\n",
              "  </tbody>\n",
              "</table>\n",
              "</div>"
            ],
            "text/plain": [
              "gender     Female  Male\n",
              "age_range              \n",
              "10-17         0.0   4.0\n",
              "18-24         5.0  33.0\n",
              "25-34         8.0  27.0\n",
              "over 34       3.0  22.0"
            ]
          },
          "metadata": {},
          "execution_count": 13
        }
      ]
    },
    {
      "cell_type": "markdown",
      "metadata": {
        "id": "lqinBHwU6VT3"
      },
      "source": [
        "An alternative is to use the `fill_value=` parameter in the `pivot_table()` function, which specifies what to use to replace missing values."
      ]
    },
    {
      "cell_type": "code",
      "metadata": {
        "colab": {
          "base_uri": "https://localhost:8080/",
          "height": 206
        },
        "id": "5XQJnmgs6Yxn",
        "outputId": "35e1bb32-317b-4893-fd28-ebbd891c6f2c"
      },
      "source": [
        "policestops.pivot_table(index=\"age_range\", \n",
        "                        values=\"involved_person\",\n",
        "                        columns=\"gender\", \n",
        "                        aggfunc=\"count\",\n",
        "                        fill_value=0)"
      ],
      "execution_count": null,
      "outputs": [
        {
          "output_type": "execute_result",
          "data": {
            "text/html": [
              "<div>\n",
              "<style scoped>\n",
              "    .dataframe tbody tr th:only-of-type {\n",
              "        vertical-align: middle;\n",
              "    }\n",
              "\n",
              "    .dataframe tbody tr th {\n",
              "        vertical-align: top;\n",
              "    }\n",
              "\n",
              "    .dataframe thead th {\n",
              "        text-align: right;\n",
              "    }\n",
              "</style>\n",
              "<table border=\"1\" class=\"dataframe\">\n",
              "  <thead>\n",
              "    <tr style=\"text-align: right;\">\n",
              "      <th>gender</th>\n",
              "      <th>Female</th>\n",
              "      <th>Male</th>\n",
              "    </tr>\n",
              "    <tr>\n",
              "      <th>age_range</th>\n",
              "      <th></th>\n",
              "      <th></th>\n",
              "    </tr>\n",
              "  </thead>\n",
              "  <tbody>\n",
              "    <tr>\n",
              "      <th>10-17</th>\n",
              "      <td>0</td>\n",
              "      <td>4</td>\n",
              "    </tr>\n",
              "    <tr>\n",
              "      <th>18-24</th>\n",
              "      <td>5</td>\n",
              "      <td>33</td>\n",
              "    </tr>\n",
              "    <tr>\n",
              "      <th>25-34</th>\n",
              "      <td>8</td>\n",
              "      <td>27</td>\n",
              "    </tr>\n",
              "    <tr>\n",
              "      <th>over 34</th>\n",
              "      <td>3</td>\n",
              "      <td>22</td>\n",
              "    </tr>\n",
              "  </tbody>\n",
              "</table>\n",
              "</div>"
            ],
            "text/plain": [
              "gender     Female  Male\n",
              "age_range              \n",
              "10-17           0     4\n",
              "18-24           5    33\n",
              "25-34           8    27\n",
              "over 34         3    22"
            ]
          },
          "metadata": {},
          "execution_count": 14
        }
      ]
    },
    {
      "cell_type": "markdown",
      "metadata": {
        "id": "mzhMzHeD54ke"
      },
      "source": [
        "## Format numbers as integers, not floats\n",
        "\n",
        "And because we expect whole numbers here, we can add `.astype(int)` on the end to convert the floats."
      ]
    },
    {
      "cell_type": "code",
      "metadata": {
        "colab": {
          "base_uri": "https://localhost:8080/",
          "height": 206
        },
        "id": "j_Qnb4do5peE",
        "outputId": "bdaefd3b-df6f-448d-eca3-064b7f08f029"
      },
      "source": [
        "policestops.pivot_table(index=\"age_range\", \n",
        "                        values=\"involved_person\",\n",
        "                        columns=\"gender\", \n",
        "                        aggfunc=\"count\").fillna(0).astype(int)"
      ],
      "execution_count": null,
      "outputs": [
        {
          "output_type": "execute_result",
          "data": {
            "text/html": [
              "<div>\n",
              "<style scoped>\n",
              "    .dataframe tbody tr th:only-of-type {\n",
              "        vertical-align: middle;\n",
              "    }\n",
              "\n",
              "    .dataframe tbody tr th {\n",
              "        vertical-align: top;\n",
              "    }\n",
              "\n",
              "    .dataframe thead th {\n",
              "        text-align: right;\n",
              "    }\n",
              "</style>\n",
              "<table border=\"1\" class=\"dataframe\">\n",
              "  <thead>\n",
              "    <tr style=\"text-align: right;\">\n",
              "      <th>gender</th>\n",
              "      <th>Female</th>\n",
              "      <th>Male</th>\n",
              "    </tr>\n",
              "    <tr>\n",
              "      <th>age_range</th>\n",
              "      <th></th>\n",
              "      <th></th>\n",
              "    </tr>\n",
              "  </thead>\n",
              "  <tbody>\n",
              "    <tr>\n",
              "      <th>10-17</th>\n",
              "      <td>0</td>\n",
              "      <td>4</td>\n",
              "    </tr>\n",
              "    <tr>\n",
              "      <th>18-24</th>\n",
              "      <td>5</td>\n",
              "      <td>33</td>\n",
              "    </tr>\n",
              "    <tr>\n",
              "      <th>25-34</th>\n",
              "      <td>8</td>\n",
              "      <td>27</td>\n",
              "    </tr>\n",
              "    <tr>\n",
              "      <th>over 34</th>\n",
              "      <td>3</td>\n",
              "      <td>22</td>\n",
              "    </tr>\n",
              "  </tbody>\n",
              "</table>\n",
              "</div>"
            ],
            "text/plain": [
              "gender     Female  Male\n",
              "age_range              \n",
              "10-17           0     4\n",
              "18-24           5    33\n",
              "25-34           8    27\n",
              "over 34         3    22"
            ]
          },
          "metadata": {},
          "execution_count": 8
        }
      ]
    },
    {
      "cell_type": "markdown",
      "metadata": {
        "id": "QPSfrYk465mn"
      },
      "source": [
        "## Adding row and column totals\n",
        "\n",
        "The `margins=` parameter allows us to add totals if we want."
      ]
    },
    {
      "cell_type": "code",
      "metadata": {
        "colab": {
          "base_uri": "https://localhost:8080/",
          "height": 238
        },
        "id": "lmHyjTc56_lu",
        "outputId": "63c33177-7aa2-4ee5-cf59-e1e2fb11602d"
      },
      "source": [
        "policestops.pivot_table(index=\"age_range\", \n",
        "                        values=\"involved_person\",\n",
        "                        columns=\"gender\",\n",
        "                        margins=True,\n",
        "                        aggfunc=\"count\").fillna(0).astype(int)"
      ],
      "execution_count": null,
      "outputs": [
        {
          "output_type": "execute_result",
          "data": {
            "text/html": [
              "<div>\n",
              "<style scoped>\n",
              "    .dataframe tbody tr th:only-of-type {\n",
              "        vertical-align: middle;\n",
              "    }\n",
              "\n",
              "    .dataframe tbody tr th {\n",
              "        vertical-align: top;\n",
              "    }\n",
              "\n",
              "    .dataframe thead th {\n",
              "        text-align: right;\n",
              "    }\n",
              "</style>\n",
              "<table border=\"1\" class=\"dataframe\">\n",
              "  <thead>\n",
              "    <tr style=\"text-align: right;\">\n",
              "      <th>gender</th>\n",
              "      <th>Female</th>\n",
              "      <th>Male</th>\n",
              "      <th>All</th>\n",
              "    </tr>\n",
              "    <tr>\n",
              "      <th>age_range</th>\n",
              "      <th></th>\n",
              "      <th></th>\n",
              "      <th></th>\n",
              "    </tr>\n",
              "  </thead>\n",
              "  <tbody>\n",
              "    <tr>\n",
              "      <th>10-17</th>\n",
              "      <td>0</td>\n",
              "      <td>4</td>\n",
              "      <td>4</td>\n",
              "    </tr>\n",
              "    <tr>\n",
              "      <th>18-24</th>\n",
              "      <td>5</td>\n",
              "      <td>33</td>\n",
              "      <td>38</td>\n",
              "    </tr>\n",
              "    <tr>\n",
              "      <th>25-34</th>\n",
              "      <td>8</td>\n",
              "      <td>27</td>\n",
              "      <td>35</td>\n",
              "    </tr>\n",
              "    <tr>\n",
              "      <th>over 34</th>\n",
              "      <td>3</td>\n",
              "      <td>22</td>\n",
              "      <td>25</td>\n",
              "    </tr>\n",
              "    <tr>\n",
              "      <th>All</th>\n",
              "      <td>16</td>\n",
              "      <td>86</td>\n",
              "      <td>102</td>\n",
              "    </tr>\n",
              "  </tbody>\n",
              "</table>\n",
              "</div>"
            ],
            "text/plain": [
              "gender     Female  Male  All\n",
              "age_range                   \n",
              "10-17           0     4    4\n",
              "18-24           5    33   38\n",
              "25-34           8    27   35\n",
              "over 34         3    22   25\n",
              "All            16    86  102"
            ]
          },
          "metadata": {},
          "execution_count": 15
        }
      ]
    },
    {
      "cell_type": "markdown",
      "metadata": {
        "id": "Sf5U82YlwuZN"
      },
      "source": [
        "We can also specify the name of that new column/row with `margins_name=`"
      ]
    },
    {
      "cell_type": "code",
      "metadata": {
        "colab": {
          "base_uri": "https://localhost:8080/",
          "height": 238
        },
        "id": "-kAJHtD-7E3u",
        "outputId": "e31103f9-d668-4837-97c1-ebfdb8fc5eed"
      },
      "source": [
        "policestops.pivot_table(index=\"age_range\", \n",
        "                        values=\"involved_person\",\n",
        "                        columns=\"gender\",\n",
        "                        margins=True,\n",
        "                        margins_name=\"Total\",\n",
        "                        aggfunc=\"count\").fillna(0).astype(int)"
      ],
      "execution_count": null,
      "outputs": [
        {
          "output_type": "execute_result",
          "data": {
            "text/html": [
              "<div>\n",
              "<style scoped>\n",
              "    .dataframe tbody tr th:only-of-type {\n",
              "        vertical-align: middle;\n",
              "    }\n",
              "\n",
              "    .dataframe tbody tr th {\n",
              "        vertical-align: top;\n",
              "    }\n",
              "\n",
              "    .dataframe thead th {\n",
              "        text-align: right;\n",
              "    }\n",
              "</style>\n",
              "<table border=\"1\" class=\"dataframe\">\n",
              "  <thead>\n",
              "    <tr style=\"text-align: right;\">\n",
              "      <th>gender</th>\n",
              "      <th>Female</th>\n",
              "      <th>Male</th>\n",
              "      <th>Total</th>\n",
              "    </tr>\n",
              "    <tr>\n",
              "      <th>age_range</th>\n",
              "      <th></th>\n",
              "      <th></th>\n",
              "      <th></th>\n",
              "    </tr>\n",
              "  </thead>\n",
              "  <tbody>\n",
              "    <tr>\n",
              "      <th>10-17</th>\n",
              "      <td>0</td>\n",
              "      <td>4</td>\n",
              "      <td>4</td>\n",
              "    </tr>\n",
              "    <tr>\n",
              "      <th>18-24</th>\n",
              "      <td>5</td>\n",
              "      <td>33</td>\n",
              "      <td>38</td>\n",
              "    </tr>\n",
              "    <tr>\n",
              "      <th>25-34</th>\n",
              "      <td>8</td>\n",
              "      <td>27</td>\n",
              "      <td>35</td>\n",
              "    </tr>\n",
              "    <tr>\n",
              "      <th>over 34</th>\n",
              "      <td>3</td>\n",
              "      <td>22</td>\n",
              "      <td>25</td>\n",
              "    </tr>\n",
              "    <tr>\n",
              "      <th>Total</th>\n",
              "      <td>16</td>\n",
              "      <td>86</td>\n",
              "      <td>102</td>\n",
              "    </tr>\n",
              "  </tbody>\n",
              "</table>\n",
              "</div>"
            ],
            "text/plain": [
              "gender     Female  Male  Total\n",
              "age_range                     \n",
              "10-17           0     4      4\n",
              "18-24           5    33     38\n",
              "25-34           8    27     35\n",
              "over 34         3    22     25\n",
              "Total          16    86    102"
            ]
          },
          "metadata": {},
          "execution_count": 20
        }
      ]
    },
    {
      "cell_type": "markdown",
      "metadata": {
        "id": "zXj8Vj68hCIT"
      },
      "source": [
        "## Calculating averages\n",
        "\n",
        "A mean average can be calculated by using the `.mean()` function with a specified column:"
      ]
    },
    {
      "cell_type": "code",
      "metadata": {
        "colab": {
          "base_uri": "https://localhost:8080/"
        },
        "id": "mLnKy_o9hKur",
        "outputId": "e9dc2918-a6b7-4d5b-c78c-79df8ee3cf00"
      },
      "source": [
        "#calculate the mean average of the populations\n",
        "calhousing['population'].mean()"
      ],
      "execution_count": null,
      "outputs": [
        {
          "output_type": "execute_result",
          "data": {
            "text/plain": [
              "1402.7986666666666"
            ]
          },
          "metadata": {
            "tags": []
          },
          "execution_count": 7
        }
      ]
    },
    {
      "cell_type": "markdown",
      "metadata": {
        "id": "cT_uwyx6gtoY"
      },
      "source": [
        "A median average can be calculated using `.median()`:"
      ]
    },
    {
      "cell_type": "code",
      "metadata": {
        "colab": {
          "base_uri": "https://localhost:8080/"
        },
        "id": "TvoT-0VpgyeJ",
        "outputId": "f976ef3f-29a0-4312-c244-3702077245bf"
      },
      "source": [
        "#calculate the median average of the populations\n",
        "calhousing['population'].median()"
      ],
      "execution_count": null,
      "outputs": [
        {
          "output_type": "execute_result",
          "data": {
            "text/plain": [
              "1155.0"
            ]
          },
          "metadata": {
            "tags": []
          },
          "execution_count": 8
        }
      ]
    },
    {
      "cell_type": "markdown",
      "metadata": {
        "id": "C3AA0MDAh0p5"
      },
      "source": [
        "## Pivot table-like grouping\n",
        "\n",
        "You can also make pivot tables by adding the `.groupby()` function to your code and making sure your code follows this structure:\n",
        "\n",
        "* You name the data frame followed by **double square brackets** containing the names of the columns as strings, separated by commas e.g. `calhousing[['longitude','population']]`. (One to group by, the other to calculate on - equivalent to the 'rows' and 'values' boxes in a pivot table) \n",
        "* This is followed by the `.groupby()` function with the column you want to group by inside the parenthese, as a string\n",
        "* Then you add `.mean()` or another calculation onto the end of the code. If you want to, you can specify which column you want to average, i.e. `.mean('population')`, which might help make the code clearer, but it will work without that anyway."
      ]
    },
    {
      "cell_type": "code",
      "metadata": {
        "colab": {
          "base_uri": "https://localhost:8080/",
          "height": 450
        },
        "id": "08B4EyFnizCW",
        "outputId": "1dd237a1-1592-4467-a075-f95d81e44ae6"
      },
      "source": [
        "calhousing[['longitude','population']].groupby('longitude').mean()"
      ],
      "execution_count": null,
      "outputs": [
        {
          "output_type": "execute_result",
          "data": {
            "text/html": [
              "<div>\n",
              "<style scoped>\n",
              "    .dataframe tbody tr th:only-of-type {\n",
              "        vertical-align: middle;\n",
              "    }\n",
              "\n",
              "    .dataframe tbody tr th {\n",
              "        vertical-align: top;\n",
              "    }\n",
              "\n",
              "    .dataframe thead th {\n",
              "        text-align: right;\n",
              "    }\n",
              "</style>\n",
              "<table border=\"1\" class=\"dataframe\">\n",
              "  <thead>\n",
              "    <tr style=\"text-align: right;\">\n",
              "      <th></th>\n",
              "      <th>population</th>\n",
              "    </tr>\n",
              "    <tr>\n",
              "      <th>longitude</th>\n",
              "      <th></th>\n",
              "    </tr>\n",
              "  </thead>\n",
              "  <tbody>\n",
              "    <tr>\n",
              "      <th>-124.18</th>\n",
              "      <td>788.000000</td>\n",
              "    </tr>\n",
              "    <tr>\n",
              "      <th>-124.17</th>\n",
              "      <td>1259.000000</td>\n",
              "    </tr>\n",
              "    <tr>\n",
              "      <th>-124.16</th>\n",
              "      <td>1002.000000</td>\n",
              "    </tr>\n",
              "    <tr>\n",
              "      <th>-124.15</th>\n",
              "      <td>911.000000</td>\n",
              "    </tr>\n",
              "    <tr>\n",
              "      <th>-124.14</th>\n",
              "      <td>922.666667</td>\n",
              "    </tr>\n",
              "    <tr>\n",
              "      <th>...</th>\n",
              "      <td>...</td>\n",
              "    </tr>\n",
              "    <tr>\n",
              "      <th>-114.98</th>\n",
              "      <td>374.000000</td>\n",
              "    </tr>\n",
              "    <tr>\n",
              "      <th>-114.62</th>\n",
              "      <td>5.000000</td>\n",
              "    </tr>\n",
              "    <tr>\n",
              "      <th>-114.61</th>\n",
              "      <td>1115.000000</td>\n",
              "    </tr>\n",
              "    <tr>\n",
              "      <th>-114.55</th>\n",
              "      <td>1431.000000</td>\n",
              "    </tr>\n",
              "    <tr>\n",
              "      <th>-114.49</th>\n",
              "      <td>83.000000</td>\n",
              "    </tr>\n",
              "  </tbody>\n",
              "</table>\n",
              "<p>607 rows × 1 columns</p>\n",
              "</div>"
            ],
            "text/plain": [
              "            population\n",
              "longitude             \n",
              "-124.18     788.000000\n",
              "-124.17    1259.000000\n",
              "-124.16    1002.000000\n",
              "-124.15     911.000000\n",
              "-124.14     922.666667\n",
              "...                ...\n",
              "-114.98     374.000000\n",
              "-114.62       5.000000\n",
              "-114.61    1115.000000\n",
              "-114.55    1431.000000\n",
              "-114.49      83.000000\n",
              "\n",
              "[607 rows x 1 columns]"
            ]
          },
          "metadata": {
            "tags": []
          },
          "execution_count": 3
        }
      ]
    },
    {
      "cell_type": "markdown",
      "metadata": {
        "id": "dvA22QF9-CA_"
      },
      "source": [
        "To count rather than calculate mean averages or sums, etc. use `.value_counts()`.\n",
        "\n",
        "Note that this doesn't need double square brackets as before.\n",
        "\n"
      ]
    },
    {
      "cell_type": "code",
      "metadata": {
        "colab": {
          "base_uri": "https://localhost:8080/"
        },
        "id": "26FHQH6wJEDE",
        "outputId": "70b2279b-b5b6-4d5e-d654-5b0a1981f7d2"
      },
      "source": [
        "policestops['age_range'].value_counts()"
      ],
      "execution_count": 14,
      "outputs": [
        {
          "output_type": "execute_result",
          "data": {
            "text/plain": [
              "18-24      38\n",
              "25-34      35\n",
              "over 34    25\n",
              "10-17       4\n",
              "Name: age_range, dtype: int64"
            ]
          },
          "metadata": {},
          "execution_count": 14
        }
      ]
    },
    {
      "cell_type": "code",
      "metadata": {
        "colab": {
          "base_uri": "https://localhost:8080/"
        },
        "id": "sVJxz9on-Ftz",
        "outputId": "e386fd87-c637-48f4-a94b-a34ae97c83e8"
      },
      "source": [
        "calhousing['longitude'].value_counts()"
      ],
      "execution_count": null,
      "outputs": [
        {
          "output_type": "execute_result",
          "data": {
            "text/plain": [
              "-118.26    26\n",
              "-118.21    26\n",
              "-118.28    25\n",
              "-118.27    25\n",
              "-118.29    25\n",
              "           ..\n",
              "-123.39     1\n",
              "-116.66     1\n",
              "-120.59     1\n",
              "-119.61     1\n",
              "-120.10     1\n",
              "Name: longitude, Length: 607, dtype: int64"
            ]
          },
          "metadata": {
            "tags": []
          },
          "execution_count": 6
        }
      ]
    },
    {
      "cell_type": "code",
      "metadata": {
        "colab": {
          "base_uri": "https://localhost:8080/"
        },
        "id": "1kGiW1Yc1Hc2",
        "outputId": "86fd988f-ae93-496e-f5ba-12f323745220"
      },
      "source": [
        "#read in some JSON from the UK police API - this should show stops near a particular location during January 2021\n",
        "policestops = pd.read_json(\"https://data.police.uk/api/stops-street?lat=52.629729&lng=-1.131592&date=2021-01\")\n",
        "#count how many in each age range\n",
        "policestops['age_range'].value_counts()"
      ],
      "execution_count": null,
      "outputs": [
        {
          "output_type": "execute_result",
          "data": {
            "text/plain": [
              "18-24      38\n",
              "25-34      35\n",
              "over 34    25\n",
              "10-17       4\n",
              "Name: age_range, dtype: int64"
            ]
          },
          "metadata": {
            "tags": []
          },
          "execution_count": 7
        }
      ]
    },
    {
      "cell_type": "markdown",
      "metadata": {
        "id": "nmQmt5GRa8B0"
      },
      "source": [
        "## More calculations\n",
        "\n",
        "The [`pandas` documentation](https://pandas.pydata.org/docs/reference/frame.html) provides details on other functions that can be used for calculations, such as `.std()` for standard deviations, `.quantile()` to show quantiles, and `.nunique()` to count the number of distinct elements in a column."
      ]
    },
    {
      "cell_type": "markdown",
      "metadata": {
        "id": "QKBkfD2wd8AZ"
      },
      "source": [
        "## Creating new columns from calculations\n",
        "\n",
        "You can create new columns by using *whole* columns for calculations - for example subtracting one year's total from another to create a 'change' column.\n",
        "\n",
        "A classic example would be dividing events by population to get a 'per capita' amount. \n",
        "\n",
        "First, we create a data frame from scratch."
      ]
    },
    {
      "cell_type": "code",
      "metadata": {
        "colab": {
          "base_uri": "https://localhost:8080/"
        },
        "id": "YR-ELEGfd-5N",
        "outputId": "c2ccb4c7-3d4d-40fa-cb21-69459dbdf693"
      },
      "source": [
        "#create a dictionary containing lists (column values) against each keys (headings)\n",
        "mydict = {\"Police force\":[\"West Midlands\",\"Avon & Somerset\"],\"crimes\":[30,40],\"population\": [3000,8000]}\n",
        "#convert to a data frame\n",
        "mydf = pd.DataFrame(data = mydict, index=None)\n",
        "#print\n",
        "print(mydf)"
      ],
      "execution_count": null,
      "outputs": [
        {
          "output_type": "stream",
          "name": "stdout",
          "text": [
            "      Police force  crimes  population\n",
            "0    West Midlands      30        3000\n",
            "1  Avon & Somerset      40        8000\n"
          ]
        }
      ]
    },
    {
      "cell_type": "markdown",
      "metadata": {
        "id": "WSuvNeyBgsb9"
      },
      "source": [
        "Now we write a calculation that pulls two different columns from the data frame (by specifying the keys/column headings), and divides one by the other.\n",
        "\n",
        "The result is another list of numbers which is used to create a new column against the key 'crimespercapita'."
      ]
    },
    {
      "cell_type": "code",
      "metadata": {
        "colab": {
          "base_uri": "https://localhost:8080/",
          "height": 112
        },
        "id": "MzE2YUDCfiYn",
        "outputId": "a6d33c76-cb67-4ad9-e217-488194ca8798"
      },
      "source": [
        "mydf['crimespercapita'] = mydf['crimes']/mydf['population']\n",
        "mydf"
      ],
      "execution_count": null,
      "outputs": [
        {
          "output_type": "execute_result",
          "data": {
            "text/html": [
              "<div>\n",
              "<style scoped>\n",
              "    .dataframe tbody tr th:only-of-type {\n",
              "        vertical-align: middle;\n",
              "    }\n",
              "\n",
              "    .dataframe tbody tr th {\n",
              "        vertical-align: top;\n",
              "    }\n",
              "\n",
              "    .dataframe thead th {\n",
              "        text-align: right;\n",
              "    }\n",
              "</style>\n",
              "<table border=\"1\" class=\"dataframe\">\n",
              "  <thead>\n",
              "    <tr style=\"text-align: right;\">\n",
              "      <th></th>\n",
              "      <th>Police force</th>\n",
              "      <th>crimes</th>\n",
              "      <th>population</th>\n",
              "      <th>crimespercapita</th>\n",
              "    </tr>\n",
              "  </thead>\n",
              "  <tbody>\n",
              "    <tr>\n",
              "      <th>0</th>\n",
              "      <td>West Midlands</td>\n",
              "      <td>30</td>\n",
              "      <td>3000</td>\n",
              "      <td>0.010</td>\n",
              "    </tr>\n",
              "    <tr>\n",
              "      <th>1</th>\n",
              "      <td>Avon &amp; Somerset</td>\n",
              "      <td>40</td>\n",
              "      <td>8000</td>\n",
              "      <td>0.005</td>\n",
              "    </tr>\n",
              "  </tbody>\n",
              "</table>\n",
              "</div>"
            ],
            "text/plain": [
              "      Police force  crimes  population  crimespercapita\n",
              "0    West Midlands      30        3000            0.010\n",
              "1  Avon & Somerset      40        8000            0.005"
            ]
          },
          "metadata": {},
          "execution_count": 35
        }
      ]
    },
    {
      "cell_type": "markdown",
      "metadata": {
        "id": "vo67qtpehF3x"
      },
      "source": [
        "Equally we can multiply values in one column to get new values. A classic example would be multiplying our per capita figures by 1000 to get a 'per thousand people' amount instead."
      ]
    },
    {
      "cell_type": "code",
      "metadata": {
        "colab": {
          "base_uri": "https://localhost:8080/",
          "height": 112
        },
        "id": "0fKLJeryfun8",
        "outputId": "ea1b186c-b224-4340-e9e4-846d446e3316"
      },
      "source": [
        "mydf['crimesperthou'] = mydf['crimespercapita']*1000\n",
        "mydf"
      ],
      "execution_count": null,
      "outputs": [
        {
          "output_type": "execute_result",
          "data": {
            "text/html": [
              "<div>\n",
              "<style scoped>\n",
              "    .dataframe tbody tr th:only-of-type {\n",
              "        vertical-align: middle;\n",
              "    }\n",
              "\n",
              "    .dataframe tbody tr th {\n",
              "        vertical-align: top;\n",
              "    }\n",
              "\n",
              "    .dataframe thead th {\n",
              "        text-align: right;\n",
              "    }\n",
              "</style>\n",
              "<table border=\"1\" class=\"dataframe\">\n",
              "  <thead>\n",
              "    <tr style=\"text-align: right;\">\n",
              "      <th></th>\n",
              "      <th>Police force</th>\n",
              "      <th>crimes</th>\n",
              "      <th>population</th>\n",
              "      <th>crimespercapita</th>\n",
              "      <th>crimesperthou</th>\n",
              "    </tr>\n",
              "  </thead>\n",
              "  <tbody>\n",
              "    <tr>\n",
              "      <th>0</th>\n",
              "      <td>West Midlands</td>\n",
              "      <td>30</td>\n",
              "      <td>3000</td>\n",
              "      <td>0.010</td>\n",
              "      <td>10.0</td>\n",
              "    </tr>\n",
              "    <tr>\n",
              "      <th>1</th>\n",
              "      <td>Avon &amp; Somerset</td>\n",
              "      <td>40</td>\n",
              "      <td>8000</td>\n",
              "      <td>0.005</td>\n",
              "      <td>5.0</td>\n",
              "    </tr>\n",
              "  </tbody>\n",
              "</table>\n",
              "</div>"
            ],
            "text/plain": [
              "      Police force  crimes  population  crimespercapita  crimesperthou\n",
              "0    West Midlands      30        3000            0.010           10.0\n",
              "1  Avon & Somerset      40        8000            0.005            5.0"
            ]
          },
          "metadata": {},
          "execution_count": 36
        }
      ]
    },
    {
      "cell_type": "markdown",
      "metadata": {
        "id": "0Ko-MsEihTQz"
      },
      "source": [
        "This can be done with text values too."
      ]
    },
    {
      "cell_type": "code",
      "metadata": {
        "colab": {
          "base_uri": "https://localhost:8080/"
        },
        "id": "q9mTTcGnhUod",
        "outputId": "dbe0471e-43ed-4bd0-c8cb-c8aeee1549f4"
      },
      "source": [
        "#create an empty list to store our true/false values for 'west'\n",
        "west = []\n",
        "#loop through the column 'Police force'\n",
        "for i in mydf['Police force']:\n",
        "  #check if the string \"West\" is in each item, store the result (True/False) in 'tf'\n",
        "  tf = \"West\" in i\n",
        "  #add 'tf' to our previously empty list, which fills up as this loops\n",
        "  west.append(tf)\n",
        "\n",
        "#print the list once the loop has finished\n",
        "print(west)"
      ],
      "execution_count": null,
      "outputs": [
        {
          "output_type": "stream",
          "name": "stdout",
          "text": [
            "[True, False]\n"
          ]
        }
      ]
    },
    {
      "cell_type": "code",
      "metadata": {
        "colab": {
          "base_uri": "https://localhost:8080/"
        },
        "id": "iXwuBnZkh2qj",
        "outputId": "52b01a0a-27c9-4c55-f559-e7d9f73752bd"
      },
      "source": [
        "#create a new column in the data frame with the key 'West' and the values we stored in that list\n",
        "mydf['West'] = west\n",
        "#print the new data frame\n",
        "print(mydf)"
      ],
      "execution_count": null,
      "outputs": [
        {
          "output_type": "stream",
          "name": "stdout",
          "text": [
            "      Police force  crimes  population  crimespercapita  crimesperthou   West\n",
            "0    West Midlands      30        3000            0.010           10.0   True\n",
            "1  Avon & Somerset      40        8000            0.005            5.0  False\n"
          ]
        }
      ]
    },
    {
      "cell_type": "markdown",
      "metadata": {
        "id": "pOh06fu62GrL"
      },
      "source": [
        "## Filtering data\n",
        "\n",
        "Here's how to filter data stored in a dataframe. First, let's see how many rows there are in our dataset:"
      ]
    },
    {
      "cell_type": "code",
      "metadata": {
        "colab": {
          "base_uri": "https://localhost:8080/"
        },
        "id": "s9L26g9D2U37",
        "outputId": "5492575b-0369-4d8a-839b-8469c15170aa"
      },
      "source": [
        "policestops.shape"
      ],
      "execution_count": null,
      "outputs": [
        {
          "output_type": "execute_result",
          "data": {
            "text/plain": [
              "(106, 16)"
            ]
          },
          "metadata": {},
          "execution_count": 4
        }
      ]
    },
    {
      "cell_type": "markdown",
      "metadata": {
        "id": "Msoe0CEV2gyZ"
      },
      "source": [
        "So 106 rows.\n",
        "\n",
        "Next, here's how to filter that to just those rows where the 'gender' column contains the string 'Male':"
      ]
    },
    {
      "cell_type": "code",
      "metadata": {
        "colab": {
          "base_uri": "https://localhost:8080/"
        },
        "id": "vpLtIPhS2IYB",
        "outputId": "6505dcad-17e7-4098-ffe9-107efbfe9ad0"
      },
      "source": [
        "maleonly = policestops[policestops['gender'] == \"Male\"]\n",
        "print(maleonly)"
      ],
      "execution_count": null,
      "outputs": [
        {
          "output_type": "stream",
          "name": "stdout",
          "text": [
            "    age_range  ...          object_of_search\n",
            "1     over 34  ...              Stolen goods\n",
            "2        None  ...              Stolen goods\n",
            "4     over 34  ...              Stolen goods\n",
            "6     over 34  ...              Stolen goods\n",
            "7     over 34  ...          Controlled drugs\n",
            "..        ...  ...                       ...\n",
            "100     18-24  ...  Article for use in theft\n",
            "101     10-17  ...  Article for use in theft\n",
            "102     10-17  ...          Controlled drugs\n",
            "104   over 34  ...          Controlled drugs\n",
            "105     10-17  ...          Controlled drugs\n",
            "\n",
            "[90 rows x 16 columns]\n"
          ]
        }
      ]
    },
    {
      "cell_type": "markdown",
      "metadata": {
        "id": "-O7-tSAP2ukH"
      },
      "source": [
        "This new dataframe has only 90 rows - although the index column retains its original values, so the last row still has 105 in that column.\n",
        "\n",
        "How does this work? Well, first of all you are generating a list of `True/False` values with this code:"
      ]
    },
    {
      "cell_type": "code",
      "metadata": {
        "colab": {
          "base_uri": "https://localhost:8080/"
        },
        "id": "o3UJ_n_l2QgY",
        "outputId": "5befa934-59e5-4882-f915-f60420d05a63"
      },
      "source": [
        "policestops['gender'] == \"Male\""
      ],
      "execution_count": null,
      "outputs": [
        {
          "output_type": "execute_result",
          "data": {
            "text/plain": [
              "0      False\n",
              "1       True\n",
              "2       True\n",
              "3      False\n",
              "4       True\n",
              "       ...  \n",
              "101     True\n",
              "102     True\n",
              "103    False\n",
              "104     True\n",
              "105     True\n",
              "Name: gender, Length: 106, dtype: bool"
            ]
          },
          "metadata": {},
          "execution_count": 6
        }
      ]
    },
    {
      "cell_type": "markdown",
      "metadata": {
        "id": "WAuBY5512_mF"
      },
      "source": [
        "When placed inside square brackets after the name of the dataframe, this True/False list acts as a series of indices: where it is `True` the row is selected. \n",
        "\n",
        "Let's do the opposite, using `!=` (not equal to) to return `True` where the suspect is not male"
      ]
    },
    {
      "cell_type": "code",
      "metadata": {
        "colab": {
          "base_uri": "https://localhost:8080/"
        },
        "id": "1mPAm_R83RsW",
        "outputId": "cd5dc8a8-1e45-4aec-bdeb-5d92e89dc3df"
      },
      "source": [
        "notmale = policestops[policestops['gender'] != \"Male\"]\n",
        "print(notmale)"
      ],
      "execution_count": null,
      "outputs": [
        {
          "output_type": "stream",
          "name": "stdout",
          "text": [
            "    age_range                       outcome  ...  operation_name   object_of_search\n",
            "0       25-34  A no further action disposal  ...             NaN       Stolen goods\n",
            "3       25-34  A no further action disposal  ...             NaN       Stolen goods\n",
            "5       25-34  A no further action disposal  ...             NaN       Stolen goods\n",
            "9     over 34  A no further action disposal  ...             NaN   Controlled drugs\n",
            "25    over 34  A no further action disposal  ...             NaN   Controlled drugs\n",
            "40      18-24  A no further action disposal  ...             NaN   Controlled drugs\n",
            "50      18-24          Community resolution  ...             NaN   Controlled drugs\n",
            "52      25-34                        Arrest  ...             NaN   Controlled drugs\n",
            "61      18-24  A no further action disposal  ...             NaN   Controlled drugs\n",
            "62      18-24  A no further action disposal  ...             NaN   Controlled drugs\n",
            "82      25-34  A no further action disposal  ...             NaN   Controlled drugs\n",
            "85      25-34  A no further action disposal  ...             NaN   Controlled drugs\n",
            "87      18-24                        Arrest  ...             NaN  Offensive weapons\n",
            "95    over 34  A no further action disposal  ...             NaN  Offensive weapons\n",
            "96      25-34                        Arrest  ...             NaN  Offensive weapons\n",
            "103     25-34  A no further action disposal  ...             NaN   Controlled drugs\n",
            "\n",
            "[16 rows x 16 columns]\n"
          ]
        }
      ]
    },
    {
      "cell_type": "code",
      "metadata": {
        "colab": {
          "base_uri": "https://localhost:8080/"
        },
        "id": "6ACWZfzI3euM",
        "outputId": "07513670-0dd0-4c7f-fdec-7eacf0e566ff"
      },
      "source": [
        "print(notmale['gender'])"
      ],
      "execution_count": null,
      "outputs": [
        {
          "output_type": "stream",
          "name": "stdout",
          "text": [
            "0      Female\n",
            "3      Female\n",
            "5      Female\n",
            "9      Female\n",
            "25     Female\n",
            "40     Female\n",
            "50     Female\n",
            "52     Female\n",
            "61     Female\n",
            "62     Female\n",
            "82     Female\n",
            "85     Female\n",
            "87     Female\n",
            "95     Female\n",
            "96     Female\n",
            "103    Female\n",
            "Name: gender, dtype: object\n"
          ]
        }
      ]
    }
  ]
}