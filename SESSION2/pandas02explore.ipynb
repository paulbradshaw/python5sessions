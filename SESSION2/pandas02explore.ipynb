{
  "nbformat": 4,
  "nbformat_minor": 0,
  "metadata": {
    "colab": {
      "name": "pandas02explore.ipynb",
      "provenance": [],
      "collapsed_sections": [],
      "toc_visible": true
    },
    "kernelspec": {
      "name": "python3",
      "display_name": "Python 3"
    },
    "language_info": {
      "name": "python"
    }
  },
  "cells": [
    {
      "cell_type": "markdown",
      "metadata": {
        "id": "7BL8NNAafD8V"
      },
      "source": [
        "# Exploring data with `pandas`\n",
        "\n",
        "This notebook details how to use the Python library `pandas` to explore data once you've imported. First, let's import `pandas` - and some data to work with.\n",
        "\n",
        "Note that when reading data using `pandas`, the results are stored in a **dataframe** which can be used for further analysis."
      ]
    },
    {
      "cell_type": "code",
      "metadata": {
        "colab": {
          "base_uri": "https://localhost:8080/"
        },
        "id": "QFMzkAmmfAkI",
        "outputId": "e54be965-8562-48e8-98d6-005ad881a5e7"
      },
      "source": [
        "import pandas as pd\n",
        "#read in some JSON from the UK police API - this should show stops near a particular location during January 2021\n",
        "policestops = pd.read_json(\"https://data.police.uk/api/stops-street?lat=52.629729&lng=-1.131592&date=2021-01\")\n",
        "#show the new variable\n",
        "print(policestops)"
      ],
      "execution_count": null,
      "outputs": [
        {
          "output_type": "stream",
          "name": "stdout",
          "text": [
            "    age_range  ...          object_of_search\n",
            "0       25-34  ...              Stolen goods\n",
            "1     over 34  ...              Stolen goods\n",
            "2        None  ...              Stolen goods\n",
            "3       25-34  ...              Stolen goods\n",
            "4     over 34  ...              Stolen goods\n",
            "..        ...  ...                       ...\n",
            "101     10-17  ...  Article for use in theft\n",
            "102     10-17  ...          Controlled drugs\n",
            "103     25-34  ...          Controlled drugs\n",
            "104   over 34  ...          Controlled drugs\n",
            "105     10-17  ...          Controlled drugs\n",
            "\n",
            "[106 rows x 16 columns]\n"
          ]
        }
      ]
    },
    {
      "cell_type": "markdown",
      "metadata": {
        "id": "WmiPPk1y70Vf"
      },
      "source": [
        "Note that `pandas` inserts a new column at the front of the dataframe with the number of each row. This is the **index** for each row - a unique value that only appears once. "
      ]
    },
    {
      "cell_type": "markdown",
      "metadata": {
        "id": "zXj8Vj68hCIT"
      },
      "source": [
        "## Showing the head and tail\n",
        "\n",
        "As well as just printing the object (which shows the first and last 5 rows) we can ask to show a certain number of rows at the top or bottom.\n",
        "\n",
        "The functions here are `.head()` and `.tail()` - they need to be attached to the dataframe object, and if you don't want the default 5 rows to be shown, put the number of rows in the parentheses, e.g. `.head(9)`."
      ]
    },
    {
      "cell_type": "code",
      "metadata": {
        "colab": {
          "base_uri": "https://localhost:8080/"
        },
        "id": "mLnKy_o9hKur",
        "outputId": "845dd289-b438-4361-8850-8f958b3cf04f"
      },
      "source": [
        "#print the first 10 rows of policestops\n",
        "print(policestops.head(10))"
      ],
      "execution_count": null,
      "outputs": [
        {
          "output_type": "stream",
          "text": [
            "  age_range                       outcome  ...  operation_name  object_of_search\n",
            "0     18-24  A no further action disposal  ...             NaN  Controlled drugs\n",
            "1     25-34  A no further action disposal  ...             NaN  Controlled drugs\n",
            "2     25-34  A no further action disposal  ...             NaN  Controlled drugs\n",
            "3     25-34  A no further action disposal  ...             NaN      Stolen goods\n",
            "4   over 34  A no further action disposal  ...             NaN      Stolen goods\n",
            "5      None  A no further action disposal  ...             NaN      Stolen goods\n",
            "6     25-34  A no further action disposal  ...             NaN      Stolen goods\n",
            "7   over 34  A no further action disposal  ...             NaN      Stolen goods\n",
            "8     25-34  A no further action disposal  ...             NaN      Stolen goods\n",
            "9   over 34  A no further action disposal  ...             NaN      Stolen goods\n",
            "\n",
            "[10 rows x 16 columns]\n"
          ],
          "name": "stdout"
        }
      ]
    },
    {
      "cell_type": "code",
      "metadata": {
        "colab": {
          "base_uri": "https://localhost:8080/"
        },
        "id": "C7jOVL_chkAg",
        "outputId": "2f69e5ff-0e09-4d2a-f59f-8470d4b7d310"
      },
      "source": [
        "#print the last 10 rows of policestops\n",
        "print(policestops.tail(10))"
      ],
      "execution_count": null,
      "outputs": [
        {
          "output_type": "stream",
          "name": "stdout",
          "text": [
            "    age_range  ...          object_of_search\n",
            "96      25-34  ...         Offensive weapons\n",
            "97    over 34  ...         Offensive weapons\n",
            "98    over 34  ...  Article for use in theft\n",
            "99      25-34  ...  Article for use in theft\n",
            "100     18-24  ...  Article for use in theft\n",
            "101     10-17  ...  Article for use in theft\n",
            "102     10-17  ...          Controlled drugs\n",
            "103     25-34  ...          Controlled drugs\n",
            "104   over 34  ...          Controlled drugs\n",
            "105     10-17  ...          Controlled drugs\n",
            "\n",
            "[10 rows x 16 columns]\n"
          ]
        }
      ]
    },
    {
      "cell_type": "markdown",
      "metadata": {
        "id": "C3AA0MDAh0p5"
      },
      "source": [
        "## Showing the columns\n",
        "\n",
        "You can show the columns in a dataset by simply adding `.columns` like so:"
      ]
    },
    {
      "cell_type": "code",
      "metadata": {
        "colab": {
          "base_uri": "https://localhost:8080/"
        },
        "id": "08B4EyFnizCW",
        "outputId": "6a5e6daa-4251-4d34-b2e8-b7e46ad76935"
      },
      "source": [
        "policestops.columns"
      ],
      "execution_count": null,
      "outputs": [
        {
          "output_type": "execute_result",
          "data": {
            "text/plain": [
              "Index(['age_range', 'outcome', 'involved_person', 'self_defined_ethnicity',\n",
              "       'gender', 'legislation', 'outcome_linked_to_object_of_search',\n",
              "       'datetime', 'removal_of_more_than_outer_clothing', 'outcome_object',\n",
              "       'location', 'operation', 'officer_defined_ethnicity', 'type',\n",
              "       'operation_name', 'object_of_search'],\n",
              "      dtype='object')"
            ]
          },
          "metadata": {},
          "execution_count": 3
        }
      ]
    },
    {
      "cell_type": "markdown",
      "metadata": {
        "id": "3wAOYSL1i751"
      },
      "source": [
        "The `.dtypes` command can be used instead to show both the column names *and* the types (boolean, float, etc)"
      ]
    },
    {
      "cell_type": "code",
      "metadata": {
        "colab": {
          "base_uri": "https://localhost:8080/"
        },
        "id": "eYavVbfoh2uj",
        "outputId": "e41374e0-1dee-45c6-a729-77bd86365f21"
      },
      "source": [
        "policestops.dtypes"
      ],
      "execution_count": null,
      "outputs": [
        {
          "output_type": "execute_result",
          "data": {
            "text/plain": [
              "age_range                                           object\n",
              "outcome                                             object\n",
              "involved_person                                       bool\n",
              "self_defined_ethnicity                              object\n",
              "gender                                              object\n",
              "legislation                                         object\n",
              "outcome_linked_to_object_of_search                 float64\n",
              "datetime                               datetime64[ns, UTC]\n",
              "removal_of_more_than_outer_clothing                   bool\n",
              "outcome_object                                      object\n",
              "location                                            object\n",
              "operation                                          float64\n",
              "officer_defined_ethnicity                           object\n",
              "type                                                object\n",
              "operation_name                                     float64\n",
              "object_of_search                                    object\n",
              "dtype: object"
            ]
          },
          "metadata": {},
          "execution_count": 4
        }
      ]
    },
    {
      "cell_type": "markdown",
      "metadata": {
        "id": "VtgH95Jocbb_"
      },
      "source": [
        "Alternatively, the `.info()` function not only lists the columns and the type of data in each, but it also provides a 'Non-Null Count' (how many values aren't `null`)"
      ]
    },
    {
      "cell_type": "code",
      "metadata": {
        "colab": {
          "base_uri": "https://localhost:8080/"
        },
        "id": "01I3L9rUb9Ez",
        "outputId": "aaef82db-2991-4bad-e762-4285c88ab27e"
      },
      "source": [
        "policestops.info()"
      ],
      "execution_count": null,
      "outputs": [
        {
          "output_type": "stream",
          "name": "stdout",
          "text": [
            "<class 'pandas.core.frame.DataFrame'>\n",
            "RangeIndex: 106 entries, 0 to 105\n",
            "Data columns (total 16 columns):\n",
            " #   Column                               Non-Null Count  Dtype              \n",
            "---  ------                               --------------  -----              \n",
            " 0   age_range                            102 non-null    object             \n",
            " 1   outcome                              106 non-null    object             \n",
            " 2   involved_person                      106 non-null    bool               \n",
            " 3   self_defined_ethnicity               106 non-null    object             \n",
            " 4   gender                               106 non-null    object             \n",
            " 5   legislation                          106 non-null    object             \n",
            " 6   outcome_linked_to_object_of_search   13 non-null     float64            \n",
            " 7   datetime                             106 non-null    datetime64[ns, UTC]\n",
            " 8   removal_of_more_than_outer_clothing  106 non-null    bool               \n",
            " 9   outcome_object                       106 non-null    object             \n",
            " 10  location                             106 non-null    object             \n",
            " 11  operation                            0 non-null      float64            \n",
            " 12  officer_defined_ethnicity            106 non-null    object             \n",
            " 13  type                                 106 non-null    object             \n",
            " 14  operation_name                       0 non-null      float64            \n",
            " 15  object_of_search                     106 non-null    object             \n",
            "dtypes: bool(2), datetime64[ns, UTC](1), float64(3), object(10)\n",
            "memory usage: 11.9+ KB\n"
          ]
        }
      ]
    },
    {
      "cell_type": "markdown",
      "metadata": {
        "id": "b5GAGs1J27Vs"
      },
      "source": [
        "You can change the type of column by using `astype()`"
      ]
    },
    {
      "cell_type": "code",
      "metadata": {
        "colab": {
          "base_uri": "https://localhost:8080/"
        },
        "id": "HkGgbBc-2-Qe",
        "outputId": "e76895b2-a7a8-4fde-b5d8-041de130167e"
      },
      "source": [
        "policestops['datetime'] = policestops['datetime'].astype('str')\n",
        "policestops['datetime'][:4]"
      ],
      "execution_count": null,
      "outputs": [
        {
          "output_type": "execute_result",
          "data": {
            "text/plain": [
              "0    2021-01-11 07:05:00+00:00\n",
              "1    2021-01-30 16:12:00+00:00\n",
              "2    2021-01-25 13:10:00+00:00\n",
              "3    2021-01-15 08:55:00+00:00\n",
              "Name: datetime, dtype: object"
            ]
          },
          "metadata": {},
          "execution_count": 10
        }
      ]
    },
    {
      "cell_type": "markdown",
      "metadata": {
        "id": "iA8HxcBh3jxC"
      },
      "source": [
        "This might be useful if you want to do something with the column which requires it to be a particular data type. Below, for example, we create a function to extract the first four characters from a string, and then apply that to a column of dates. In order for that to work the dates need to be strings to begin with."
      ]
    },
    {
      "cell_type": "code",
      "metadata": {
        "colab": {
          "base_uri": "https://localhost:8080/"
        },
        "id": "-3kHUMS23PxE",
        "outputId": "9fa1ebfc-536a-4a5a-9fc6-2d34c6ca513c"
      },
      "source": [
        "#define a function we call 'firstfour'. It has one parameter we name 'date'\n",
        "def firstfour(date):\n",
        "  #grab the first four characters and store in 'chars0to3'\n",
        "  chars0to3 = date[:4]\n",
        "  #return to whatever called the function\n",
        "  return(chars0to3)\n",
        "\n",
        "#apply that function to all items in the specified column (a list)\n",
        "years = policestops['datetime'].apply(firstfour)\n",
        "print(years)\n",
        "#assign back to the dataframe\n",
        "policestops['year'] = years"
      ],
      "execution_count": null,
      "outputs": [
        {
          "output_type": "stream",
          "name": "stdout",
          "text": [
            "0      2021\n",
            "1      2021\n",
            "2      2021\n",
            "3      2021\n",
            "4      2021\n",
            "       ... \n",
            "101    2021\n",
            "102    2021\n",
            "103    2021\n",
            "104    2021\n",
            "105    2021\n",
            "Name: datetime, Length: 106, dtype: object\n"
          ]
        }
      ]
    },
    {
      "cell_type": "markdown",
      "metadata": {
        "id": "G0oyYfkpjbOd"
      },
      "source": [
        "The `shape` method can be used to see the dimensions (how many rows and columns) the dataframe has. Note that this does not have parentheses."
      ]
    },
    {
      "cell_type": "code",
      "metadata": {
        "colab": {
          "base_uri": "https://localhost:8080/"
        },
        "id": "heY_aOJjjXq-",
        "outputId": "48ae82e2-70d7-4aee-d46a-306c5bbfc0a9"
      },
      "source": [
        "policestops.shape"
      ],
      "execution_count": null,
      "outputs": [
        {
          "output_type": "execute_result",
          "data": {
            "text/plain": [
              "(106, 16)"
            ]
          },
          "metadata": {},
          "execution_count": 11
        }
      ]
    },
    {
      "cell_type": "markdown",
      "metadata": {
        "id": "vGlEHK87jtJ2"
      },
      "source": [
        "Similarly, `size` shows you how many cells it has."
      ]
    },
    {
      "cell_type": "code",
      "metadata": {
        "colab": {
          "base_uri": "https://localhost:8080/"
        },
        "id": "WfAz57VRjrC6",
        "outputId": "f6aa4465-4ce8-422b-d99b-b69e35ea961a"
      },
      "source": [
        "policestops.size"
      ],
      "execution_count": null,
      "outputs": [
        {
          "output_type": "execute_result",
          "data": {
            "text/plain": [
              "1696"
            ]
          },
          "metadata": {},
          "execution_count": 12
        }
      ]
    },
    {
      "cell_type": "markdown",
      "metadata": {
        "id": "F53534CXmbQP"
      },
      "source": [
        "The `count()` function is slightly different: it tells you how many non-NA values (in other words, non-blank) each column has. The results below, for example, tell you that 'outcome' and 'involved_person' both have 106 values, meaning there are no `NA` cells - but 'age_range' only has 102 values, meaning there are 4 cells which contain `NA`. Some columns, such as 'operation_name', are entirely empty."
      ]
    },
    {
      "cell_type": "code",
      "metadata": {
        "colab": {
          "base_uri": "https://localhost:8080/"
        },
        "id": "SGgX9LCKmWgY",
        "outputId": "9df0c1f7-ffa6-4662-c4ad-2eb7d8a86e23"
      },
      "source": [
        "policestops.count()"
      ],
      "execution_count": null,
      "outputs": [
        {
          "output_type": "execute_result",
          "data": {
            "text/plain": [
              "age_range                              102\n",
              "outcome                                106\n",
              "involved_person                        106\n",
              "self_defined_ethnicity                 106\n",
              "gender                                 106\n",
              "legislation                            106\n",
              "outcome_linked_to_object_of_search      13\n",
              "datetime                               106\n",
              "removal_of_more_than_outer_clothing    106\n",
              "outcome_object                         106\n",
              "location                               106\n",
              "operation                                0\n",
              "officer_defined_ethnicity              106\n",
              "type                                   106\n",
              "operation_name                           0\n",
              "object_of_search                       106\n",
              "dtype: int64"
            ]
          },
          "metadata": {},
          "execution_count": 5
        }
      ]
    },
    {
      "cell_type": "markdown",
      "metadata": {
        "id": "7rKr7PRwmGVb"
      },
      "source": [
        "The `index` function describes the index which is added when importing data into a pandas dataframe. In this case, it's a **range** which starts at 0 and ends at 106, with a 'step' of 1 (meaning a gap of 1 between each number)."
      ]
    },
    {
      "cell_type": "code",
      "metadata": {
        "colab": {
          "base_uri": "https://localhost:8080/"
        },
        "id": "LIUcCkF7l7We",
        "outputId": "4e18862e-70d4-4e53-fa60-5858c83b10e4"
      },
      "source": [
        "policestops.index"
      ],
      "execution_count": null,
      "outputs": [
        {
          "output_type": "execute_result",
          "data": {
            "text/plain": [
              "RangeIndex(start=0, stop=106, step=1)"
            ]
          },
          "metadata": {},
          "execution_count": 4
        }
      ]
    },
    {
      "cell_type": "markdown",
      "metadata": {
        "id": "T_aNfJ5tjHv-"
      },
      "source": [
        "## Accessing columns\n",
        "\n",
        "Columns can be accessed by naming the dataframe variable and then, in square brackets, naming the column as a string like so:"
      ]
    },
    {
      "cell_type": "code",
      "metadata": {
        "colab": {
          "base_uri": "https://localhost:8080/"
        },
        "id": "qKFQX_WVjOyE",
        "outputId": "27d122e2-f360-4fe2-dc1f-9fef67de3ab6"
      },
      "source": [
        "policestops['age_range']"
      ],
      "execution_count": null,
      "outputs": [
        {
          "output_type": "execute_result",
          "data": {
            "text/plain": [
              "0        25-34\n",
              "1      over 34\n",
              "2         None\n",
              "3        25-34\n",
              "4      over 34\n",
              "        ...   \n",
              "101      10-17\n",
              "102      10-17\n",
              "103      25-34\n",
              "104    over 34\n",
              "105      10-17\n",
              "Name: age_range, Length: 106, dtype: object"
            ]
          },
          "metadata": {},
          "execution_count": 6
        }
      ]
    },
    {
      "cell_type": "markdown",
      "metadata": {
        "id": "pepcSG99ipgZ"
      },
      "source": [
        "A different approach which produces the same result is to name the dataframe, followed by a period, then the name of the field you want to see. Of course this only works if the field name doesn't contain any spaces:"
      ]
    },
    {
      "cell_type": "code",
      "metadata": {
        "colab": {
          "base_uri": "https://localhost:8080/"
        },
        "id": "pOgZjeamijVi",
        "outputId": "1178a09c-297c-480c-de08-f351f8d74904"
      },
      "source": [
        "policestops.age_range"
      ],
      "execution_count": null,
      "outputs": [
        {
          "output_type": "execute_result",
          "data": {
            "text/plain": [
              "0        25-34\n",
              "1      over 34\n",
              "2         None\n",
              "3        25-34\n",
              "4      over 34\n",
              "        ...   \n",
              "101      10-17\n",
              "102      10-17\n",
              "103      25-34\n",
              "104    over 34\n",
              "105      10-17\n",
              "Name: age_range, Length: 106, dtype: object"
            ]
          },
          "metadata": {},
          "execution_count": 7
        }
      ]
    },
    {
      "cell_type": "markdown",
      "metadata": {
        "id": "aefN6cEQ6s4S"
      },
      "source": [
        "You can also access columns with the row index/indices inside `[]` as follows:"
      ]
    },
    {
      "cell_type": "code",
      "metadata": {
        "colab": {
          "base_uri": "https://localhost:8080/",
          "height": 366
        },
        "id": "iqWDohDeu6Vp",
        "outputId": "527a3be5-d3bf-4151-c642-19d976c5b9f0"
      },
      "source": [
        "policestops[5:8]"
      ],
      "execution_count": null,
      "outputs": [
        {
          "output_type": "execute_result",
          "data": {
            "text/html": [
              "<div>\n",
              "<style scoped>\n",
              "    .dataframe tbody tr th:only-of-type {\n",
              "        vertical-align: middle;\n",
              "    }\n",
              "\n",
              "    .dataframe tbody tr th {\n",
              "        vertical-align: top;\n",
              "    }\n",
              "\n",
              "    .dataframe thead th {\n",
              "        text-align: right;\n",
              "    }\n",
              "</style>\n",
              "<table border=\"1\" class=\"dataframe\">\n",
              "  <thead>\n",
              "    <tr style=\"text-align: right;\">\n",
              "      <th></th>\n",
              "      <th>age_range</th>\n",
              "      <th>outcome</th>\n",
              "      <th>involved_person</th>\n",
              "      <th>self_defined_ethnicity</th>\n",
              "      <th>gender</th>\n",
              "      <th>legislation</th>\n",
              "      <th>outcome_linked_to_object_of_search</th>\n",
              "      <th>datetime</th>\n",
              "      <th>removal_of_more_than_outer_clothing</th>\n",
              "      <th>outcome_object</th>\n",
              "      <th>location</th>\n",
              "      <th>operation</th>\n",
              "      <th>officer_defined_ethnicity</th>\n",
              "      <th>type</th>\n",
              "      <th>operation_name</th>\n",
              "      <th>object_of_search</th>\n",
              "    </tr>\n",
              "  </thead>\n",
              "  <tbody>\n",
              "    <tr>\n",
              "      <th>5</th>\n",
              "      <td>None</td>\n",
              "      <td>A no further action disposal</td>\n",
              "      <td>True</td>\n",
              "      <td>Other ethnic group - Not stated</td>\n",
              "      <td>Male</td>\n",
              "      <td>Police and Criminal Evidence Act 1984 (section 1)</td>\n",
              "      <td>NaN</td>\n",
              "      <td>2021-01-25 13:10:00+00:00</td>\n",
              "      <td>False</td>\n",
              "      <td>{'id': 'bu-no-further-action', 'name': 'A no f...</td>\n",
              "      <td>{'latitude': '52.634407', 'street': {'id': 883...</td>\n",
              "      <td>NaN</td>\n",
              "      <td>White</td>\n",
              "      <td>Person search</td>\n",
              "      <td>NaN</td>\n",
              "      <td>Stolen goods</td>\n",
              "    </tr>\n",
              "    <tr>\n",
              "      <th>6</th>\n",
              "      <td>25-34</td>\n",
              "      <td>A no further action disposal</td>\n",
              "      <td>True</td>\n",
              "      <td>Other ethnic group - Any other ethnic group</td>\n",
              "      <td>Female</td>\n",
              "      <td>Police and Criminal Evidence Act 1984 (section 1)</td>\n",
              "      <td>NaN</td>\n",
              "      <td>2021-01-15 08:55:00+00:00</td>\n",
              "      <td>False</td>\n",
              "      <td>{'id': 'bu-no-further-action', 'name': 'A no f...</td>\n",
              "      <td>{'latitude': '52.642971', 'street': {'id': 884...</td>\n",
              "      <td>NaN</td>\n",
              "      <td>White</td>\n",
              "      <td>Person search</td>\n",
              "      <td>NaN</td>\n",
              "      <td>Stolen goods</td>\n",
              "    </tr>\n",
              "    <tr>\n",
              "      <th>7</th>\n",
              "      <td>over 34</td>\n",
              "      <td>A no further action disposal</td>\n",
              "      <td>True</td>\n",
              "      <td>Other ethnic group - Not stated</td>\n",
              "      <td>Male</td>\n",
              "      <td>Police and Criminal Evidence Act 1984 (section 1)</td>\n",
              "      <td>NaN</td>\n",
              "      <td>2021-01-21 11:43:00+00:00</td>\n",
              "      <td>False</td>\n",
              "      <td>{'id': 'bu-no-further-action', 'name': 'A no f...</td>\n",
              "      <td>{'latitude': '52.641197', 'street': {'id': 884...</td>\n",
              "      <td>NaN</td>\n",
              "      <td>White</td>\n",
              "      <td>Person search</td>\n",
              "      <td>NaN</td>\n",
              "      <td>Stolen goods</td>\n",
              "    </tr>\n",
              "  </tbody>\n",
              "</table>\n",
              "</div>"
            ],
            "text/plain": [
              "  age_range                       outcome  ...  operation_name object_of_search\n",
              "5      None  A no further action disposal  ...             NaN     Stolen goods\n",
              "6     25-34  A no further action disposal  ...             NaN     Stolen goods\n",
              "7   over 34  A no further action disposal  ...             NaN     Stolen goods\n",
              "\n",
              "[3 rows x 16 columns]"
            ]
          },
          "metadata": {
            "tags": []
          },
          "execution_count": 7
        }
      ]
    },
    {
      "cell_type": "markdown",
      "metadata": {
        "id": "JZi7zBtgfkzy"
      },
      "source": [
        "## Accessing rows and individual cells with `iloc[]`\n",
        "\n",
        "Rows, and row-column cell references, can be accessed using `iloc[]` "
      ]
    },
    {
      "cell_type": "code",
      "metadata": {
        "colab": {
          "base_uri": "https://localhost:8080/"
        },
        "id": "UEl9doaGfzdl",
        "outputId": "f44c421b-1f0d-48d7-de60-055afb33ff21"
      },
      "source": [
        "#row 1\n",
        "policestops.iloc[0]"
      ],
      "execution_count": null,
      "outputs": [
        {
          "output_type": "execute_result",
          "data": {
            "text/plain": [
              "age_range                                                                          25-34\n",
              "outcome                                                     A no further action disposal\n",
              "involved_person                                                                     True\n",
              "self_defined_ethnicity                 White - English/Welsh/Scottish/Northern Irish/...\n",
              "gender                                                                            Female\n",
              "legislation                            Police and Criminal Evidence Act 1984 (section 1)\n",
              "outcome_linked_to_object_of_search                                                   NaN\n",
              "datetime                                                       2021-01-11 07:05:00+00:00\n",
              "removal_of_more_than_outer_clothing                                                False\n",
              "outcome_object                         {'id': 'bu-no-further-action', 'name': 'A no f...\n",
              "location                               {'latitude': '52.631954', 'street': {'id': 131...\n",
              "operation                                                                            NaN\n",
              "officer_defined_ethnicity                                                          White\n",
              "type                                                                       Person search\n",
              "operation_name                                                                       NaN\n",
              "object_of_search                                                            Stolen goods\n",
              "Name: 0, dtype: object"
            ]
          },
          "metadata": {},
          "execution_count": 5
        }
      ]
    },
    {
      "cell_type": "code",
      "metadata": {
        "colab": {
          "base_uri": "https://localhost:8080/",
          "height": 36
        },
        "id": "NJNKsCHCgDCg",
        "outputId": "e7b41b16-6619-4aa8-eaac-869d79e3d820"
      },
      "source": [
        "#row 1, cell 1\n",
        "policestops.iloc[0,0]"
      ],
      "execution_count": null,
      "outputs": [
        {
          "output_type": "execute_result",
          "data": {
            "application/vnd.google.colaboratory.intrinsic+json": {
              "type": "string"
            },
            "text/plain": [
              "'25-34'"
            ]
          },
          "metadata": {},
          "execution_count": 6
        }
      ]
    },
    {
      "cell_type": "markdown",
      "metadata": {
        "id": "7oziBno72brA"
      },
      "source": [
        "An alternative to `iloc` is the `loc` function - the main difference is that index ranges in `loc` include the last index. For example:"
      ]
    },
    {
      "cell_type": "code",
      "metadata": {
        "colab": {
          "base_uri": "https://localhost:8080/"
        },
        "id": "oHtrlzsR2kDB",
        "outputId": "645d1da9-477a-40f6-df80-9613ffc9a441"
      },
      "source": [
        "#show rows with index 0 to 3 - but not including 4\n",
        "print(policestops.iloc[0:4])\n",
        "#show rows with index 0 to 4 inclusive\n",
        "print(policestops.loc[0:4])"
      ],
      "execution_count": null,
      "outputs": [
        {
          "output_type": "stream",
          "name": "stdout",
          "text": [
            "  age_range                       outcome  ...  operation_name object_of_search\n",
            "0     25-34  A no further action disposal  ...             NaN     Stolen goods\n",
            "1   over 34  A no further action disposal  ...             NaN     Stolen goods\n",
            "2      None  A no further action disposal  ...             NaN     Stolen goods\n",
            "3     25-34  A no further action disposal  ...             NaN     Stolen goods\n",
            "\n",
            "[4 rows x 16 columns]\n",
            "  age_range                       outcome  ...  operation_name object_of_search\n",
            "0     25-34  A no further action disposal  ...             NaN     Stolen goods\n",
            "1   over 34  A no further action disposal  ...             NaN     Stolen goods\n",
            "2      None  A no further action disposal  ...             NaN     Stolen goods\n",
            "3     25-34  A no further action disposal  ...             NaN     Stolen goods\n",
            "4   over 34  A no further action disposal  ...             NaN     Stolen goods\n",
            "\n",
            "[5 rows x 16 columns]\n"
          ]
        }
      ]
    },
    {
      "cell_type": "markdown",
      "metadata": {
        "id": "nmQmt5GRa8B0"
      },
      "source": [
        "## Summarise the data with descriptive statistics\n",
        "\n",
        "The `.describe()` function can be used to provide an overview of *numerical* columns in the dataframe (note below that it only provides results for 3 of the 16 columns in our dataframe).\n",
        "\n",
        "That overview shows how many numbers there are (count), the mean average, standard deviation, minimum and maximum values, and quartiles (25, 50 and 75% dividing points). "
      ]
    },
    {
      "cell_type": "code",
      "metadata": {
        "colab": {
          "base_uri": "https://localhost:8080/",
          "height": 297
        },
        "id": "KTw54azUa_5B",
        "outputId": "e289e45c-4a48-4a33-ea99-ce8e2fabe28b"
      },
      "source": [
        "policestops.describe()"
      ],
      "execution_count": null,
      "outputs": [
        {
          "output_type": "execute_result",
          "data": {
            "text/html": [
              "<div>\n",
              "<style scoped>\n",
              "    .dataframe tbody tr th:only-of-type {\n",
              "        vertical-align: middle;\n",
              "    }\n",
              "\n",
              "    .dataframe tbody tr th {\n",
              "        vertical-align: top;\n",
              "    }\n",
              "\n",
              "    .dataframe thead th {\n",
              "        text-align: right;\n",
              "    }\n",
              "</style>\n",
              "<table border=\"1\" class=\"dataframe\">\n",
              "  <thead>\n",
              "    <tr style=\"text-align: right;\">\n",
              "      <th></th>\n",
              "      <th>outcome_linked_to_object_of_search</th>\n",
              "      <th>operation</th>\n",
              "      <th>operation_name</th>\n",
              "    </tr>\n",
              "  </thead>\n",
              "  <tbody>\n",
              "    <tr>\n",
              "      <th>count</th>\n",
              "      <td>13.000000</td>\n",
              "      <td>0.0</td>\n",
              "      <td>0.0</td>\n",
              "    </tr>\n",
              "    <tr>\n",
              "      <th>mean</th>\n",
              "      <td>0.076923</td>\n",
              "      <td>NaN</td>\n",
              "      <td>NaN</td>\n",
              "    </tr>\n",
              "    <tr>\n",
              "      <th>std</th>\n",
              "      <td>0.277350</td>\n",
              "      <td>NaN</td>\n",
              "      <td>NaN</td>\n",
              "    </tr>\n",
              "    <tr>\n",
              "      <th>min</th>\n",
              "      <td>0.000000</td>\n",
              "      <td>NaN</td>\n",
              "      <td>NaN</td>\n",
              "    </tr>\n",
              "    <tr>\n",
              "      <th>25%</th>\n",
              "      <td>0.000000</td>\n",
              "      <td>NaN</td>\n",
              "      <td>NaN</td>\n",
              "    </tr>\n",
              "    <tr>\n",
              "      <th>50%</th>\n",
              "      <td>0.000000</td>\n",
              "      <td>NaN</td>\n",
              "      <td>NaN</td>\n",
              "    </tr>\n",
              "    <tr>\n",
              "      <th>75%</th>\n",
              "      <td>0.000000</td>\n",
              "      <td>NaN</td>\n",
              "      <td>NaN</td>\n",
              "    </tr>\n",
              "    <tr>\n",
              "      <th>max</th>\n",
              "      <td>1.000000</td>\n",
              "      <td>NaN</td>\n",
              "      <td>NaN</td>\n",
              "    </tr>\n",
              "  </tbody>\n",
              "</table>\n",
              "</div>"
            ],
            "text/plain": [
              "       outcome_linked_to_object_of_search  operation  operation_name\n",
              "count                           13.000000        0.0             0.0\n",
              "mean                             0.076923        NaN             NaN\n",
              "std                              0.277350        NaN             NaN\n",
              "min                              0.000000        NaN             NaN\n",
              "25%                              0.000000        NaN             NaN\n",
              "50%                              0.000000        NaN             NaN\n",
              "75%                              0.000000        NaN             NaN\n",
              "max                              1.000000        NaN             NaN"
            ]
          },
          "metadata": {
            "tags": []
          },
          "execution_count": 18
        }
      ]
    },
    {
      "cell_type": "markdown",
      "metadata": {
        "id": "Su96mwClcUqZ"
      },
      "source": [
        "The `.describe()` function has [a number of parameters](https://pandas.pydata.org/docs/reference/api/pandas.DataFrame.describe.html) which allow to, for example, specify which percentiles you want to see (The default is `[.25, .5, .75]`)\n",
        "\n",
        "One of those parameters is `include=`. If you want to look at non-numeric data as well then you can set this to `\"all\"` like so: "
      ]
    },
    {
      "cell_type": "code",
      "metadata": {
        "colab": {
          "base_uri": "https://localhost:8080/",
          "height": 591
        },
        "id": "Toq45fW0dd05",
        "outputId": "affd1e4d-7f66-4b84-91b0-7efb22a76393"
      },
      "source": [
        "policestops.describe(include = \"all\")"
      ],
      "execution_count": null,
      "outputs": [
        {
          "output_type": "stream",
          "text": [
            "/usr/local/lib/python3.7/dist-packages/ipykernel_launcher.py:1: FutureWarning: Treating datetime data as categorical rather than numeric in `.describe` is deprecated and will be removed in a future version of pandas. Specify `datetime_is_numeric=True` to silence this warning and adopt the future behavior now.\n",
            "  \"\"\"Entry point for launching an IPython kernel.\n"
          ],
          "name": "stderr"
        },
        {
          "output_type": "execute_result",
          "data": {
            "text/html": [
              "<div>\n",
              "<style scoped>\n",
              "    .dataframe tbody tr th:only-of-type {\n",
              "        vertical-align: middle;\n",
              "    }\n",
              "\n",
              "    .dataframe tbody tr th {\n",
              "        vertical-align: top;\n",
              "    }\n",
              "\n",
              "    .dataframe thead th {\n",
              "        text-align: right;\n",
              "    }\n",
              "</style>\n",
              "<table border=\"1\" class=\"dataframe\">\n",
              "  <thead>\n",
              "    <tr style=\"text-align: right;\">\n",
              "      <th></th>\n",
              "      <th>age_range</th>\n",
              "      <th>outcome</th>\n",
              "      <th>involved_person</th>\n",
              "      <th>self_defined_ethnicity</th>\n",
              "      <th>gender</th>\n",
              "      <th>legislation</th>\n",
              "      <th>outcome_linked_to_object_of_search</th>\n",
              "      <th>datetime</th>\n",
              "      <th>removal_of_more_than_outer_clothing</th>\n",
              "      <th>outcome_object</th>\n",
              "      <th>location</th>\n",
              "      <th>operation</th>\n",
              "      <th>officer_defined_ethnicity</th>\n",
              "      <th>type</th>\n",
              "      <th>operation_name</th>\n",
              "      <th>object_of_search</th>\n",
              "    </tr>\n",
              "  </thead>\n",
              "  <tbody>\n",
              "    <tr>\n",
              "      <th>count</th>\n",
              "      <td>102</td>\n",
              "      <td>106</td>\n",
              "      <td>106</td>\n",
              "      <td>106</td>\n",
              "      <td>106</td>\n",
              "      <td>106</td>\n",
              "      <td>13.000000</td>\n",
              "      <td>106</td>\n",
              "      <td>106</td>\n",
              "      <td>106</td>\n",
              "      <td>106</td>\n",
              "      <td>0.0</td>\n",
              "      <td>106</td>\n",
              "      <td>106</td>\n",
              "      <td>0.0</td>\n",
              "      <td>106</td>\n",
              "    </tr>\n",
              "    <tr>\n",
              "      <th>unique</th>\n",
              "      <td>4</td>\n",
              "      <td>3</td>\n",
              "      <td>1</td>\n",
              "      <td>13</td>\n",
              "      <td>2</td>\n",
              "      <td>2</td>\n",
              "      <td>NaN</td>\n",
              "      <td>92</td>\n",
              "      <td>2</td>\n",
              "      <td>3</td>\n",
              "      <td>61</td>\n",
              "      <td>NaN</td>\n",
              "      <td>4</td>\n",
              "      <td>2</td>\n",
              "      <td>NaN</td>\n",
              "      <td>4</td>\n",
              "    </tr>\n",
              "    <tr>\n",
              "      <th>top</th>\n",
              "      <td>18-24</td>\n",
              "      <td>A no further action disposal</td>\n",
              "      <td>True</td>\n",
              "      <td>White - English/Welsh/Scottish/Northern Irish/...</td>\n",
              "      <td>Male</td>\n",
              "      <td>Misuse of Drugs Act 1971 (section 23)</td>\n",
              "      <td>NaN</td>\n",
              "      <td>2021-01-09 18:10:00+00:00</td>\n",
              "      <td>False</td>\n",
              "      <td>{'id': 'bu-no-further-action', 'name': 'A no f...</td>\n",
              "      <td>{'latitude': '52.637354', 'street': {'id': 883...</td>\n",
              "      <td>NaN</td>\n",
              "      <td>White</td>\n",
              "      <td>Person search</td>\n",
              "      <td>NaN</td>\n",
              "      <td>Controlled drugs</td>\n",
              "    </tr>\n",
              "    <tr>\n",
              "      <th>freq</th>\n",
              "      <td>38</td>\n",
              "      <td>78</td>\n",
              "      <td>106</td>\n",
              "      <td>30</td>\n",
              "      <td>90</td>\n",
              "      <td>83</td>\n",
              "      <td>NaN</td>\n",
              "      <td>4</td>\n",
              "      <td>100</td>\n",
              "      <td>78</td>\n",
              "      <td>7</td>\n",
              "      <td>NaN</td>\n",
              "      <td>51</td>\n",
              "      <td>83</td>\n",
              "      <td>NaN</td>\n",
              "      <td>84</td>\n",
              "    </tr>\n",
              "    <tr>\n",
              "      <th>first</th>\n",
              "      <td>NaN</td>\n",
              "      <td>NaN</td>\n",
              "      <td>NaN</td>\n",
              "      <td>NaN</td>\n",
              "      <td>NaN</td>\n",
              "      <td>NaN</td>\n",
              "      <td>NaN</td>\n",
              "      <td>2021-01-01 01:30:00+00:00</td>\n",
              "      <td>NaN</td>\n",
              "      <td>NaN</td>\n",
              "      <td>NaN</td>\n",
              "      <td>NaN</td>\n",
              "      <td>NaN</td>\n",
              "      <td>NaN</td>\n",
              "      <td>NaN</td>\n",
              "      <td>NaN</td>\n",
              "    </tr>\n",
              "    <tr>\n",
              "      <th>last</th>\n",
              "      <td>NaN</td>\n",
              "      <td>NaN</td>\n",
              "      <td>NaN</td>\n",
              "      <td>NaN</td>\n",
              "      <td>NaN</td>\n",
              "      <td>NaN</td>\n",
              "      <td>NaN</td>\n",
              "      <td>2021-01-31 23:49:00+00:00</td>\n",
              "      <td>NaN</td>\n",
              "      <td>NaN</td>\n",
              "      <td>NaN</td>\n",
              "      <td>NaN</td>\n",
              "      <td>NaN</td>\n",
              "      <td>NaN</td>\n",
              "      <td>NaN</td>\n",
              "      <td>NaN</td>\n",
              "    </tr>\n",
              "    <tr>\n",
              "      <th>mean</th>\n",
              "      <td>NaN</td>\n",
              "      <td>NaN</td>\n",
              "      <td>NaN</td>\n",
              "      <td>NaN</td>\n",
              "      <td>NaN</td>\n",
              "      <td>NaN</td>\n",
              "      <td>0.076923</td>\n",
              "      <td>NaN</td>\n",
              "      <td>NaN</td>\n",
              "      <td>NaN</td>\n",
              "      <td>NaN</td>\n",
              "      <td>NaN</td>\n",
              "      <td>NaN</td>\n",
              "      <td>NaN</td>\n",
              "      <td>NaN</td>\n",
              "      <td>NaN</td>\n",
              "    </tr>\n",
              "    <tr>\n",
              "      <th>std</th>\n",
              "      <td>NaN</td>\n",
              "      <td>NaN</td>\n",
              "      <td>NaN</td>\n",
              "      <td>NaN</td>\n",
              "      <td>NaN</td>\n",
              "      <td>NaN</td>\n",
              "      <td>0.277350</td>\n",
              "      <td>NaN</td>\n",
              "      <td>NaN</td>\n",
              "      <td>NaN</td>\n",
              "      <td>NaN</td>\n",
              "      <td>NaN</td>\n",
              "      <td>NaN</td>\n",
              "      <td>NaN</td>\n",
              "      <td>NaN</td>\n",
              "      <td>NaN</td>\n",
              "    </tr>\n",
              "    <tr>\n",
              "      <th>min</th>\n",
              "      <td>NaN</td>\n",
              "      <td>NaN</td>\n",
              "      <td>NaN</td>\n",
              "      <td>NaN</td>\n",
              "      <td>NaN</td>\n",
              "      <td>NaN</td>\n",
              "      <td>0.000000</td>\n",
              "      <td>NaN</td>\n",
              "      <td>NaN</td>\n",
              "      <td>NaN</td>\n",
              "      <td>NaN</td>\n",
              "      <td>NaN</td>\n",
              "      <td>NaN</td>\n",
              "      <td>NaN</td>\n",
              "      <td>NaN</td>\n",
              "      <td>NaN</td>\n",
              "    </tr>\n",
              "    <tr>\n",
              "      <th>25%</th>\n",
              "      <td>NaN</td>\n",
              "      <td>NaN</td>\n",
              "      <td>NaN</td>\n",
              "      <td>NaN</td>\n",
              "      <td>NaN</td>\n",
              "      <td>NaN</td>\n",
              "      <td>0.000000</td>\n",
              "      <td>NaN</td>\n",
              "      <td>NaN</td>\n",
              "      <td>NaN</td>\n",
              "      <td>NaN</td>\n",
              "      <td>NaN</td>\n",
              "      <td>NaN</td>\n",
              "      <td>NaN</td>\n",
              "      <td>NaN</td>\n",
              "      <td>NaN</td>\n",
              "    </tr>\n",
              "    <tr>\n",
              "      <th>50%</th>\n",
              "      <td>NaN</td>\n",
              "      <td>NaN</td>\n",
              "      <td>NaN</td>\n",
              "      <td>NaN</td>\n",
              "      <td>NaN</td>\n",
              "      <td>NaN</td>\n",
              "      <td>0.000000</td>\n",
              "      <td>NaN</td>\n",
              "      <td>NaN</td>\n",
              "      <td>NaN</td>\n",
              "      <td>NaN</td>\n",
              "      <td>NaN</td>\n",
              "      <td>NaN</td>\n",
              "      <td>NaN</td>\n",
              "      <td>NaN</td>\n",
              "      <td>NaN</td>\n",
              "    </tr>\n",
              "    <tr>\n",
              "      <th>75%</th>\n",
              "      <td>NaN</td>\n",
              "      <td>NaN</td>\n",
              "      <td>NaN</td>\n",
              "      <td>NaN</td>\n",
              "      <td>NaN</td>\n",
              "      <td>NaN</td>\n",
              "      <td>0.000000</td>\n",
              "      <td>NaN</td>\n",
              "      <td>NaN</td>\n",
              "      <td>NaN</td>\n",
              "      <td>NaN</td>\n",
              "      <td>NaN</td>\n",
              "      <td>NaN</td>\n",
              "      <td>NaN</td>\n",
              "      <td>NaN</td>\n",
              "      <td>NaN</td>\n",
              "    </tr>\n",
              "    <tr>\n",
              "      <th>max</th>\n",
              "      <td>NaN</td>\n",
              "      <td>NaN</td>\n",
              "      <td>NaN</td>\n",
              "      <td>NaN</td>\n",
              "      <td>NaN</td>\n",
              "      <td>NaN</td>\n",
              "      <td>1.000000</td>\n",
              "      <td>NaN</td>\n",
              "      <td>NaN</td>\n",
              "      <td>NaN</td>\n",
              "      <td>NaN</td>\n",
              "      <td>NaN</td>\n",
              "      <td>NaN</td>\n",
              "      <td>NaN</td>\n",
              "      <td>NaN</td>\n",
              "      <td>NaN</td>\n",
              "    </tr>\n",
              "  </tbody>\n",
              "</table>\n",
              "</div>"
            ],
            "text/plain": [
              "       age_range  ...  object_of_search\n",
              "count        102  ...               106\n",
              "unique         4  ...                 4\n",
              "top        18-24  ...  Controlled drugs\n",
              "freq          38  ...                84\n",
              "first        NaN  ...               NaN\n",
              "last         NaN  ...               NaN\n",
              "mean         NaN  ...               NaN\n",
              "std          NaN  ...               NaN\n",
              "min          NaN  ...               NaN\n",
              "25%          NaN  ...               NaN\n",
              "50%          NaN  ...               NaN\n",
              "75%          NaN  ...               NaN\n",
              "max          NaN  ...               NaN\n",
              "\n",
              "[13 rows x 16 columns]"
            ]
          },
          "metadata": {
            "tags": []
          },
          "execution_count": 21
        }
      ]
    },
    {
      "cell_type": "markdown",
      "metadata": {
        "id": "nOxquMiBdyvX"
      },
      "source": [
        "Note that info on non-numeric data adds extra rows such as the first and last value, the top value and its frequency, and how many unique values there are (e.g. the Gender column has two unique values: male and female."
      ]
    },
    {
      "cell_type": "markdown",
      "metadata": {
        "id": "__otzPH8ee5j"
      },
      "source": [
        "## Storing and exporting results\n",
        "\n",
        "Note that these summaries can be saved in a separate variable and exported like any other data."
      ]
    },
    {
      "cell_type": "code",
      "metadata": {
        "colab": {
          "base_uri": "https://localhost:8080/"
        },
        "id": "4KIQFlOBekYd",
        "outputId": "09d642d0-584c-46b8-9298-89f229bf06da"
      },
      "source": [
        "first50 = policestops.head(50)\n",
        "last50 = policestops.tail(50)\n",
        "agerangeonly = policestops['age_range']\n",
        "rows5to10 = policestops[4:10]\n",
        "datainfo = policestops.describe(include = \"all\")\n",
        "\n",
        "datainfo.to_csv(\"datainfo.csv\")\n",
        "rows5to10.to_csv(\"rows5to10.csv\")\n",
        "agerangeonly.to_csv(\"agerangeonly.csv\")"
      ],
      "execution_count": null,
      "outputs": [
        {
          "output_type": "stream",
          "text": [
            "/usr/local/lib/python3.7/dist-packages/ipykernel_launcher.py:5: FutureWarning: Treating datetime data as categorical rather than numeric in `.describe` is deprecated and will be removed in a future version of pandas. Specify `datetime_is_numeric=True` to silence this warning and adopt the future behavior now.\n",
            "  \"\"\"\n"
          ],
          "name": "stderr"
        }
      ]
    }
  ]
}